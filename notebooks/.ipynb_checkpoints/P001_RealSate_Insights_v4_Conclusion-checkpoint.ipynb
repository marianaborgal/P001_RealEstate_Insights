{
 "cells": [
  {
   "cell_type": "markdown",
   "id": "assisted-bikini",
   "metadata": {},
   "source": [
    "# Imports"
   ]
  },
  {
   "cell_type": "code",
   "execution_count": 68,
   "id": "early-spain",
   "metadata": {
    "ExecuteTime": {
     "end_time": "2021-06-15T15:22:36.779551Z",
     "start_time": "2021-06-15T15:22:36.763537Z"
    }
   },
   "outputs": [],
   "source": [
    "import numpy             as np\n",
    "import pandas            as pd\n",
    "import seaborn           as sns\n",
    "import plotly.express    as px\n",
    "import matplotlib.pyplot as plt\n",
    "\n",
    "from matplotlib.pyplot     import figure\n",
    "from matplotlib.pyplot     import plot\n",
    "from IPython.core.display  import HTML\n",
    "from geopy.geocoders       import Nominatim\n",
    "from tabulate              import tabulate\n",
    "from geopy                 import distance\n",
    "from geopy.distance        import great_circle\n"
   ]
  },
  {
   "cell_type": "markdown",
   "id": "fabulous-yorkshire",
   "metadata": {},
   "source": [
    "## Helper Functions"
   ]
  },
  {
   "cell_type": "code",
   "execution_count": 85,
   "id": "material-bench",
   "metadata": {
    "ExecuteTime": {
     "end_time": "2021-06-15T15:25:23.863678Z",
     "start_time": "2021-06-15T15:25:23.853669Z"
    }
   },
   "outputs": [],
   "source": [
    "def jupyter_settings():\n",
    "    %matplotlib inline\n",
    "        \n",
    "    plt.style.use( 'bmh' )\n",
    "    plt.rcParams['figure.figsize'] = (20,15)\n",
    "    plt.rcParams['font.size'] = 20\n",
    "        \n",
    "    display( HTML( '<style>.container { width:90% !important; }</style>') )\n",
    "    pd.options.display.max_columns = None\n",
    "    pd.options.display.max_rows = None\n",
    "    pd.options.display.float_format = '{:,.2f}'.format\n",
    "    pd.set_option( 'display.expand_frame_repr', False)        \n",
    "            \n",
    "    sns.set()\n",
    "    sns.set_theme(style = 'darkgrid', font_scale = 2)\n",
    "    sns.set_style(\"darkgrid\")\n"
   ]
  },
  {
   "cell_type": "code",
   "execution_count": 86,
   "id": "utility-likelihood",
   "metadata": {
    "ExecuteTime": {
     "end_time": "2021-06-15T15:25:24.023823Z",
     "start_time": "2021-06-15T15:25:24.012813Z"
    }
   },
   "outputs": [
    {
     "data": {
      "text/html": [
       "<style>.container { width:90% !important; }</style>"
      ],
      "text/plain": [
       "<IPython.core.display.HTML object>"
      ]
     },
     "metadata": {},
     "output_type": "display_data"
    }
   ],
   "source": [
    "jupyter_settings()"
   ]
  },
  {
   "cell_type": "markdown",
   "id": "flush-article",
   "metadata": {},
   "source": [
    "## Loading Data"
   ]
  },
  {
   "cell_type": "code",
   "execution_count": 71,
   "id": "simple-oxford",
   "metadata": {
    "ExecuteTime": {
     "end_time": "2021-06-15T15:22:37.609305Z",
     "start_time": "2021-06-15T15:22:37.570270Z"
    }
   },
   "outputs": [],
   "source": [
    "df_raw = pd.read_csv(r'../datasets/raw/kc_house_data.csv')"
   ]
  },
  {
   "cell_type": "markdown",
   "id": "collaborative-prior",
   "metadata": {
    "heading_collapsed": true
   },
   "source": [
    "# Data Description"
   ]
  },
  {
   "cell_type": "code",
   "execution_count": 72,
   "id": "considerable-ministry",
   "metadata": {
    "ExecuteTime": {
     "end_time": "2021-06-15T15:22:37.897567Z",
     "start_time": "2021-06-15T15:22:37.889560Z"
    },
    "hidden": true
   },
   "outputs": [],
   "source": [
    "df1=df_raw.copy()"
   ]
  },
  {
   "cell_type": "markdown",
   "id": "public-guide",
   "metadata": {
    "hidden": true
   },
   "source": [
    "## Rename Columns"
   ]
  },
  {
   "cell_type": "code",
   "execution_count": 73,
   "id": "necessary-emperor",
   "metadata": {
    "ExecuteTime": {
     "end_time": "2021-06-15T15:22:38.200842Z",
     "start_time": "2021-06-15T15:22:38.193836Z"
    },
    "hidden": true
   },
   "outputs": [
    {
     "data": {
      "text/plain": [
       "Index(['id', 'date', 'price', 'bedrooms', 'bathrooms', 'sqft_living',\n",
       "       'sqft_lot', 'floors', 'waterfront', 'view', 'condition', 'grade',\n",
       "       'sqft_above', 'sqft_basement', 'yr_built', 'yr_renovated', 'zipcode',\n",
       "       'lat', 'long', 'sqft_living15', 'sqft_lot15'],\n",
       "      dtype='object')"
      ]
     },
     "execution_count": 73,
     "metadata": {},
     "output_type": "execute_result"
    }
   ],
   "source": [
    "# checking columns names\n",
    "df1.columns # nothing to rename"
   ]
  },
  {
   "cell_type": "markdown",
   "id": "paperback-compound",
   "metadata": {
    "ExecuteTime": {
     "end_time": "2021-05-17T15:46:25.849652Z",
     "start_time": "2021-05-17T15:46:25.840643Z"
    },
    "hidden": true
   },
   "source": [
    "## Data Dimension"
   ]
  },
  {
   "cell_type": "code",
   "execution_count": 74,
   "id": "distant-money",
   "metadata": {
    "ExecuteTime": {
     "end_time": "2021-06-15T15:22:38.520132Z",
     "start_time": "2021-06-15T15:22:38.513126Z"
    },
    "hidden": true
   },
   "outputs": [
    {
     "name": "stdout",
     "output_type": "stream",
     "text": [
      "Number of rows: 21613\n",
      "Number of columns: 21\n"
     ]
    }
   ],
   "source": [
    "print('Number of rows: {}' .format (df1.shape[0]))\n",
    "print('Number of columns: {}' .format (df1.shape[1]))"
   ]
  },
  {
   "cell_type": "markdown",
   "id": "ordinary-poultry",
   "metadata": {
    "hidden": true
   },
   "source": [
    "## Data Types"
   ]
  },
  {
   "cell_type": "code",
   "execution_count": 75,
   "id": "auburn-executive",
   "metadata": {
    "ExecuteTime": {
     "end_time": "2021-06-15T15:22:38.872453Z",
     "start_time": "2021-06-15T15:22:38.862443Z"
    },
    "hidden": true
   },
   "outputs": [
    {
     "data": {
      "text/html": [
       "<div>\n",
       "<style scoped>\n",
       "    .dataframe tbody tr th:only-of-type {\n",
       "        vertical-align: middle;\n",
       "    }\n",
       "\n",
       "    .dataframe tbody tr th {\n",
       "        vertical-align: top;\n",
       "    }\n",
       "\n",
       "    .dataframe thead th {\n",
       "        text-align: right;\n",
       "    }\n",
       "</style>\n",
       "<table border=\"1\" class=\"dataframe\">\n",
       "  <thead>\n",
       "    <tr style=\"text-align: right;\">\n",
       "      <th></th>\n",
       "      <th>id</th>\n",
       "      <th>date</th>\n",
       "      <th>price</th>\n",
       "      <th>bedrooms</th>\n",
       "      <th>bathrooms</th>\n",
       "      <th>sqft_living</th>\n",
       "      <th>sqft_lot</th>\n",
       "      <th>floors</th>\n",
       "      <th>waterfront</th>\n",
       "      <th>view</th>\n",
       "      <th>condition</th>\n",
       "      <th>grade</th>\n",
       "      <th>sqft_above</th>\n",
       "      <th>sqft_basement</th>\n",
       "      <th>yr_built</th>\n",
       "      <th>yr_renovated</th>\n",
       "      <th>zipcode</th>\n",
       "      <th>lat</th>\n",
       "      <th>long</th>\n",
       "      <th>sqft_living15</th>\n",
       "      <th>sqft_lot15</th>\n",
       "    </tr>\n",
       "  </thead>\n",
       "  <tbody>\n",
       "    <tr>\n",
       "      <th>0</th>\n",
       "      <td>7129300520</td>\n",
       "      <td>20141013T000000</td>\n",
       "      <td>221,900.00</td>\n",
       "      <td>3</td>\n",
       "      <td>1.00</td>\n",
       "      <td>1180</td>\n",
       "      <td>5650</td>\n",
       "      <td>1.00</td>\n",
       "      <td>0</td>\n",
       "      <td>0</td>\n",
       "      <td>3</td>\n",
       "      <td>7</td>\n",
       "      <td>1180</td>\n",
       "      <td>0</td>\n",
       "      <td>1955</td>\n",
       "      <td>0</td>\n",
       "      <td>98178</td>\n",
       "      <td>47.51</td>\n",
       "      <td>-122.26</td>\n",
       "      <td>1340</td>\n",
       "      <td>5650</td>\n",
       "    </tr>\n",
       "    <tr>\n",
       "      <th>1</th>\n",
       "      <td>6414100192</td>\n",
       "      <td>20141209T000000</td>\n",
       "      <td>538,000.00</td>\n",
       "      <td>3</td>\n",
       "      <td>2.25</td>\n",
       "      <td>2570</td>\n",
       "      <td>7242</td>\n",
       "      <td>2.00</td>\n",
       "      <td>0</td>\n",
       "      <td>0</td>\n",
       "      <td>3</td>\n",
       "      <td>7</td>\n",
       "      <td>2170</td>\n",
       "      <td>400</td>\n",
       "      <td>1951</td>\n",
       "      <td>1991</td>\n",
       "      <td>98125</td>\n",
       "      <td>47.72</td>\n",
       "      <td>-122.32</td>\n",
       "      <td>1690</td>\n",
       "      <td>7639</td>\n",
       "    </tr>\n",
       "    <tr>\n",
       "      <th>2</th>\n",
       "      <td>5631500400</td>\n",
       "      <td>20150225T000000</td>\n",
       "      <td>180,000.00</td>\n",
       "      <td>2</td>\n",
       "      <td>1.00</td>\n",
       "      <td>770</td>\n",
       "      <td>10000</td>\n",
       "      <td>1.00</td>\n",
       "      <td>0</td>\n",
       "      <td>0</td>\n",
       "      <td>3</td>\n",
       "      <td>6</td>\n",
       "      <td>770</td>\n",
       "      <td>0</td>\n",
       "      <td>1933</td>\n",
       "      <td>0</td>\n",
       "      <td>98028</td>\n",
       "      <td>47.74</td>\n",
       "      <td>-122.23</td>\n",
       "      <td>2720</td>\n",
       "      <td>8062</td>\n",
       "    </tr>\n",
       "    <tr>\n",
       "      <th>3</th>\n",
       "      <td>2487200875</td>\n",
       "      <td>20141209T000000</td>\n",
       "      <td>604,000.00</td>\n",
       "      <td>4</td>\n",
       "      <td>3.00</td>\n",
       "      <td>1960</td>\n",
       "      <td>5000</td>\n",
       "      <td>1.00</td>\n",
       "      <td>0</td>\n",
       "      <td>0</td>\n",
       "      <td>5</td>\n",
       "      <td>7</td>\n",
       "      <td>1050</td>\n",
       "      <td>910</td>\n",
       "      <td>1965</td>\n",
       "      <td>0</td>\n",
       "      <td>98136</td>\n",
       "      <td>47.52</td>\n",
       "      <td>-122.39</td>\n",
       "      <td>1360</td>\n",
       "      <td>5000</td>\n",
       "    </tr>\n",
       "    <tr>\n",
       "      <th>4</th>\n",
       "      <td>1954400510</td>\n",
       "      <td>20150218T000000</td>\n",
       "      <td>510,000.00</td>\n",
       "      <td>3</td>\n",
       "      <td>2.00</td>\n",
       "      <td>1680</td>\n",
       "      <td>8080</td>\n",
       "      <td>1.00</td>\n",
       "      <td>0</td>\n",
       "      <td>0</td>\n",
       "      <td>3</td>\n",
       "      <td>8</td>\n",
       "      <td>1680</td>\n",
       "      <td>0</td>\n",
       "      <td>1987</td>\n",
       "      <td>0</td>\n",
       "      <td>98074</td>\n",
       "      <td>47.62</td>\n",
       "      <td>-122.05</td>\n",
       "      <td>1800</td>\n",
       "      <td>7503</td>\n",
       "    </tr>\n",
       "  </tbody>\n",
       "</table>\n",
       "</div>"
      ],
      "text/plain": [
       "           id             date      price  bedrooms  bathrooms  sqft_living  sqft_lot  floors  waterfront  view  condition  grade  sqft_above  sqft_basement  yr_built  yr_renovated  zipcode   lat    long  sqft_living15  sqft_lot15\n",
       "0  7129300520  20141013T000000 221,900.00         3       1.00         1180      5650    1.00           0     0          3      7        1180              0      1955             0    98178 47.51 -122.26           1340        5650\n",
       "1  6414100192  20141209T000000 538,000.00         3       2.25         2570      7242    2.00           0     0          3      7        2170            400      1951          1991    98125 47.72 -122.32           1690        7639\n",
       "2  5631500400  20150225T000000 180,000.00         2       1.00          770     10000    1.00           0     0          3      6         770              0      1933             0    98028 47.74 -122.23           2720        8062\n",
       "3  2487200875  20141209T000000 604,000.00         4       3.00         1960      5000    1.00           0     0          5      7        1050            910      1965             0    98136 47.52 -122.39           1360        5000\n",
       "4  1954400510  20150218T000000 510,000.00         3       2.00         1680      8080    1.00           0     0          3      8        1680              0      1987             0    98074 47.62 -122.05           1800        7503"
      ]
     },
     "execution_count": 75,
     "metadata": {},
     "output_type": "execute_result"
    }
   ],
   "source": [
    "df1.head()"
   ]
  },
  {
   "cell_type": "code",
   "execution_count": 76,
   "id": "wicked-canal",
   "metadata": {
    "ExecuteTime": {
     "end_time": "2021-06-15T15:22:39.048612Z",
     "start_time": "2021-06-15T15:22:39.031597Z"
    },
    "hidden": true
   },
   "outputs": [
    {
     "data": {
      "text/plain": [
       "id                 int64\n",
       "date              object\n",
       "price            float64\n",
       "bedrooms           int64\n",
       "bathrooms        float64\n",
       "sqft_living        int64\n",
       "sqft_lot           int64\n",
       "floors           float64\n",
       "waterfront         int64\n",
       "view               int64\n",
       "condition          int64\n",
       "grade              int64\n",
       "sqft_above         int64\n",
       "sqft_basement      int64\n",
       "yr_built           int64\n",
       "yr_renovated       int64\n",
       "zipcode            int64\n",
       "lat              float64\n",
       "long             float64\n",
       "sqft_living15      int64\n",
       "sqft_lot15         int64\n",
       "dtype: object"
      ]
     },
     "execution_count": 76,
     "metadata": {},
     "output_type": "execute_result"
    }
   ],
   "source": [
    "df1.dtypes"
   ]
  },
  {
   "cell_type": "markdown",
   "id": "natural-quebec",
   "metadata": {
    "hidden": true
   },
   "source": [
    "## Check NA"
   ]
  },
  {
   "cell_type": "code",
   "execution_count": 77,
   "id": "introductory-dylan",
   "metadata": {
    "ExecuteTime": {
     "end_time": "2021-06-15T15:22:39.383917Z",
     "start_time": "2021-06-15T15:22:39.373908Z"
    },
    "hidden": true
   },
   "outputs": [
    {
     "data": {
      "text/plain": [
       "id               0\n",
       "date             0\n",
       "price            0\n",
       "bedrooms         0\n",
       "bathrooms        0\n",
       "sqft_living      0\n",
       "sqft_lot         0\n",
       "floors           0\n",
       "waterfront       0\n",
       "view             0\n",
       "condition        0\n",
       "grade            0\n",
       "sqft_above       0\n",
       "sqft_basement    0\n",
       "yr_built         0\n",
       "yr_renovated     0\n",
       "zipcode          0\n",
       "lat              0\n",
       "long             0\n",
       "sqft_living15    0\n",
       "sqft_lot15       0\n",
       "dtype: int64"
      ]
     },
     "execution_count": 77,
     "metadata": {},
     "output_type": "execute_result"
    }
   ],
   "source": [
    "df1.isna().sum()"
   ]
  },
  {
   "cell_type": "markdown",
   "id": "thousand-massage",
   "metadata": {
    "hidden": true
   },
   "source": [
    "## Fill out NA"
   ]
  },
  {
   "cell_type": "code",
   "execution_count": null,
   "id": "failing-registration",
   "metadata": {
    "hidden": true
   },
   "outputs": [],
   "source": []
  },
  {
   "cell_type": "markdown",
   "id": "adapted-wheel",
   "metadata": {
    "hidden": true
   },
   "source": [
    "## Change Variables Types"
   ]
  },
  {
   "cell_type": "code",
   "execution_count": 78,
   "id": "productive-private",
   "metadata": {
    "ExecuteTime": {
     "end_time": "2021-06-15T15:22:40.688102Z",
     "start_time": "2021-06-15T15:22:40.659075Z"
    },
    "hidden": true
   },
   "outputs": [
    {
     "name": "stdout",
     "output_type": "stream",
     "text": [
      "              date  yr_built  yr_renovated\n",
      "0  20141013T000000      1955             0\n",
      "1  20141209T000000      1951          1991\n",
      "2  20150225T000000      1933             0\n",
      "3  20141209T000000      1965             0\n",
      "4  20150218T000000      1987             0 \n",
      "\n",
      "date            object\n",
      "yr_built         int64\n",
      "yr_renovated     int64\n",
      "dtype: object\n",
      "\n",
      "date            datetime64[ns]\n",
      "yr_built                 int64\n",
      "yr_renovated             int64\n",
      "dtype: object\n"
     ]
    },
    {
     "data": {
      "text/html": [
       "<div>\n",
       "<style scoped>\n",
       "    .dataframe tbody tr th:only-of-type {\n",
       "        vertical-align: middle;\n",
       "    }\n",
       "\n",
       "    .dataframe tbody tr th {\n",
       "        vertical-align: top;\n",
       "    }\n",
       "\n",
       "    .dataframe thead th {\n",
       "        text-align: right;\n",
       "    }\n",
       "</style>\n",
       "<table border=\"1\" class=\"dataframe\">\n",
       "  <thead>\n",
       "    <tr style=\"text-align: right;\">\n",
       "      <th></th>\n",
       "      <th>date</th>\n",
       "      <th>yr_built</th>\n",
       "      <th>yr_renovated</th>\n",
       "    </tr>\n",
       "  </thead>\n",
       "  <tbody>\n",
       "    <tr>\n",
       "      <th>0</th>\n",
       "      <td>2014-10-13</td>\n",
       "      <td>1955</td>\n",
       "      <td>0</td>\n",
       "    </tr>\n",
       "    <tr>\n",
       "      <th>1</th>\n",
       "      <td>2014-12-09</td>\n",
       "      <td>1951</td>\n",
       "      <td>1991</td>\n",
       "    </tr>\n",
       "    <tr>\n",
       "      <th>2</th>\n",
       "      <td>2015-02-25</td>\n",
       "      <td>1933</td>\n",
       "      <td>0</td>\n",
       "    </tr>\n",
       "    <tr>\n",
       "      <th>3</th>\n",
       "      <td>2014-12-09</td>\n",
       "      <td>1965</td>\n",
       "      <td>0</td>\n",
       "    </tr>\n",
       "    <tr>\n",
       "      <th>4</th>\n",
       "      <td>2015-02-18</td>\n",
       "      <td>1987</td>\n",
       "      <td>0</td>\n",
       "    </tr>\n",
       "  </tbody>\n",
       "</table>\n",
       "</div>"
      ],
      "text/plain": [
       "        date  yr_built  yr_renovated\n",
       "0 2014-10-13      1955             0\n",
       "1 2014-12-09      1951          1991\n",
       "2 2015-02-25      1933             0\n",
       "3 2014-12-09      1965             0\n",
       "4 2015-02-18      1987             0"
      ]
     },
     "execution_count": 78,
     "metadata": {},
     "output_type": "execute_result"
    }
   ],
   "source": [
    "# changing 'date' type from OBJECT to DATE\n",
    "\n",
    "# checking DATES types\n",
    "print(df1[['date','yr_built','yr_renovated']].head(),'\\n')\n",
    "print(df1[['date','yr_built','yr_renovated']].dtypes)\n",
    "\n",
    "# changing dtypes\n",
    "df1['date']         = pd.to_datetime(df1['date'],         format='%Y-%m-%d')\n",
    "# df1['yr_built']     = pd.to_datetime(df1['yr_built'],     format='%Y-%m-%d')\n",
    "# df1['yr_renovated'] = pd.to_datetime(df1['yr_renovated'], format='%Y-%m-%d')\n",
    "\n",
    "# checking DATES types\n",
    "print(\"\")\n",
    "print(df1[['date','yr_built','yr_renovated']].dtypes)\n",
    "df1[['date','yr_built','yr_renovated']].head()"
   ]
  },
  {
   "cell_type": "markdown",
   "id": "fourth-australian",
   "metadata": {
    "hidden": true
   },
   "source": [
    "## Dropping Duplicates"
   ]
  },
  {
   "cell_type": "code",
   "execution_count": 79,
   "id": "optical-spring",
   "metadata": {
    "ExecuteTime": {
     "end_time": "2021-06-15T15:23:01.835318Z",
     "start_time": "2021-06-15T15:23:01.830313Z"
    },
    "hidden": true
   },
   "outputs": [
    {
     "name": "stdout",
     "output_type": "stream",
     "text": [
      "21613 number of rows\n",
      "21436 uniques ids\n",
      "177   number of duplicated ids\n"
     ]
    }
   ],
   "source": [
    "print(df1.shape[0], 'number of rows')\n",
    "print(df1['id'].unique().shape[0], 'uniques ids')\n",
    "print(df1.shape[0] - df1['id'].unique().shape[0], '  number of duplicated ids')"
   ]
  },
  {
   "cell_type": "code",
   "execution_count": 80,
   "id": "quantitative-fetish",
   "metadata": {
    "ExecuteTime": {
     "end_time": "2021-06-15T15:23:02.027492Z",
     "start_time": "2021-06-15T15:23:02.003471Z"
    },
    "hidden": true
   },
   "outputs": [
    {
     "name": "stdout",
     "output_type": "stream",
     "text": [
      "new shape: (21436, 21)\n"
     ]
    }
   ],
   "source": [
    "# sorting dataframe by date\n",
    "df1 = df1.sort_values('date', ascending=True)\n",
    "\n",
    "# deleting ids that appears first\n",
    "df1 = df1.drop_duplicates(subset='id', keep='last')\n",
    "\n",
    "print('new shape:', df1.shape)"
   ]
  },
  {
   "cell_type": "markdown",
   "id": "disciplinary-evans",
   "metadata": {
    "hidden": true
   },
   "source": [
    "## Descriptive Statistics"
   ]
  },
  {
   "cell_type": "code",
   "execution_count": 81,
   "id": "generous-curtis",
   "metadata": {
    "ExecuteTime": {
     "end_time": "2021-06-15T15:23:02.602014Z",
     "start_time": "2021-06-15T15:23:02.596009Z"
    },
    "hidden": true
   },
   "outputs": [],
   "source": [
    "num_df1 = df1.select_dtypes(include=['int64','float64'])\n",
    "cat_df1 = df1.select_dtypes(exclude=['int64','float64','datetime64[ns]'])"
   ]
  },
  {
   "cell_type": "markdown",
   "id": "coordinated-cargo",
   "metadata": {
    "ExecuteTime": {
     "end_time": "2021-05-17T16:04:47.487696Z",
     "start_time": "2021-05-17T16:04:47.477688Z"
    },
    "hidden": true
   },
   "source": [
    "### Numerical Attributes"
   ]
  },
  {
   "cell_type": "code",
   "execution_count": 82,
   "id": "olympic-thanks",
   "metadata": {
    "ExecuteTime": {
     "end_time": "2021-06-15T15:23:02.938320Z",
     "start_time": "2021-06-15T15:23:02.931314Z"
    },
    "hidden": true
   },
   "outputs": [
    {
     "data": {
      "text/plain": [
       "(21436, 20)"
      ]
     },
     "execution_count": 82,
     "metadata": {},
     "output_type": "execute_result"
    }
   ],
   "source": [
    "num_df1.shape"
   ]
  },
  {
   "cell_type": "code",
   "execution_count": 83,
   "id": "biblical-memphis",
   "metadata": {
    "ExecuteTime": {
     "end_time": "2021-06-15T15:23:06.578428Z",
     "start_time": "2021-06-15T15:23:03.286636Z"
    },
    "hidden": true
   },
   "outputs": [
    {
     "data": {
      "text/html": [
       "<div>\n",
       "<style scoped>\n",
       "    .dataframe tbody tr th:only-of-type {\n",
       "        vertical-align: middle;\n",
       "    }\n",
       "\n",
       "    .dataframe tbody tr th {\n",
       "        vertical-align: top;\n",
       "    }\n",
       "\n",
       "    .dataframe thead th {\n",
       "        text-align: right;\n",
       "    }\n",
       "</style>\n",
       "<table border=\"1\" class=\"dataframe\">\n",
       "  <thead>\n",
       "    <tr style=\"text-align: right;\">\n",
       "      <th></th>\n",
       "      <th>attributes</th>\n",
       "      <th>min</th>\n",
       "      <th>max</th>\n",
       "      <th>range</th>\n",
       "      <th>mean</th>\n",
       "      <th>median</th>\n",
       "      <th>std</th>\n",
       "      <th>skew</th>\n",
       "      <th>kurtosis</th>\n",
       "    </tr>\n",
       "  </thead>\n",
       "  <tbody>\n",
       "    <tr>\n",
       "      <th>0</th>\n",
       "      <td>id</td>\n",
       "      <td>1,000,102.0</td>\n",
       "      <td>9,900,000,190.0</td>\n",
       "      <td>9,899,000,088.0</td>\n",
       "      <td>4,580,765,328.18</td>\n",
       "      <td>3,904,921,185.0</td>\n",
       "      <td>2,876,522,535.73</td>\n",
       "      <td>0.24</td>\n",
       "      <td>&lt;bound method NDFrame._add_numeric_operations....</td>\n",
       "    </tr>\n",
       "    <tr>\n",
       "      <th>1</th>\n",
       "      <td>price</td>\n",
       "      <td>75,000.0</td>\n",
       "      <td>7,700,000.0</td>\n",
       "      <td>7,625,000.0</td>\n",
       "      <td>541,649.96</td>\n",
       "      <td>450,000.0</td>\n",
       "      <td>367,306.36</td>\n",
       "      <td>4.04</td>\n",
       "      <td>&lt;bound method NDFrame._add_numeric_operations....</td>\n",
       "    </tr>\n",
       "    <tr>\n",
       "      <th>2</th>\n",
       "      <td>bedrooms</td>\n",
       "      <td>0.0</td>\n",
       "      <td>33.0</td>\n",
       "      <td>33.0</td>\n",
       "      <td>3.37</td>\n",
       "      <td>3.0</td>\n",
       "      <td>0.93</td>\n",
       "      <td>1.99</td>\n",
       "      <td>&lt;bound method NDFrame._add_numeric_operations....</td>\n",
       "    </tr>\n",
       "    <tr>\n",
       "      <th>3</th>\n",
       "      <td>bathrooms</td>\n",
       "      <td>0.0</td>\n",
       "      <td>8.0</td>\n",
       "      <td>8.0</td>\n",
       "      <td>2.12</td>\n",
       "      <td>2.25</td>\n",
       "      <td>0.77</td>\n",
       "      <td>0.51</td>\n",
       "      <td>&lt;bound method NDFrame._add_numeric_operations....</td>\n",
       "    </tr>\n",
       "    <tr>\n",
       "      <th>4</th>\n",
       "      <td>sqft_living</td>\n",
       "      <td>290.0</td>\n",
       "      <td>13,540.0</td>\n",
       "      <td>13,250.0</td>\n",
       "      <td>2,082.7</td>\n",
       "      <td>1,920.0</td>\n",
       "      <td>919.13</td>\n",
       "      <td>1.47</td>\n",
       "      <td>&lt;bound method NDFrame._add_numeric_operations....</td>\n",
       "    </tr>\n",
       "    <tr>\n",
       "      <th>5</th>\n",
       "      <td>sqft_lot</td>\n",
       "      <td>520.0</td>\n",
       "      <td>1,651,359.0</td>\n",
       "      <td>1,650,839.0</td>\n",
       "      <td>15,135.64</td>\n",
       "      <td>7,614.0</td>\n",
       "      <td>41,537.65</td>\n",
       "      <td>13.04</td>\n",
       "      <td>&lt;bound method NDFrame._add_numeric_operations....</td>\n",
       "    </tr>\n",
       "    <tr>\n",
       "      <th>6</th>\n",
       "      <td>floors</td>\n",
       "      <td>1.0</td>\n",
       "      <td>3.5</td>\n",
       "      <td>2.5</td>\n",
       "      <td>1.5</td>\n",
       "      <td>1.5</td>\n",
       "      <td>0.54</td>\n",
       "      <td>0.61</td>\n",
       "      <td>&lt;bound method NDFrame._add_numeric_operations....</td>\n",
       "    </tr>\n",
       "    <tr>\n",
       "      <th>7</th>\n",
       "      <td>waterfront</td>\n",
       "      <td>0.0</td>\n",
       "      <td>1.0</td>\n",
       "      <td>1.0</td>\n",
       "      <td>0.01</td>\n",
       "      <td>0.0</td>\n",
       "      <td>0.09</td>\n",
       "      <td>11.34</td>\n",
       "      <td>&lt;bound method NDFrame._add_numeric_operations....</td>\n",
       "    </tr>\n",
       "    <tr>\n",
       "      <th>8</th>\n",
       "      <td>view</td>\n",
       "      <td>0.0</td>\n",
       "      <td>4.0</td>\n",
       "      <td>4.0</td>\n",
       "      <td>0.24</td>\n",
       "      <td>0.0</td>\n",
       "      <td>0.77</td>\n",
       "      <td>3.39</td>\n",
       "      <td>&lt;bound method NDFrame._add_numeric_operations....</td>\n",
       "    </tr>\n",
       "    <tr>\n",
       "      <th>9</th>\n",
       "      <td>condition</td>\n",
       "      <td>1.0</td>\n",
       "      <td>5.0</td>\n",
       "      <td>4.0</td>\n",
       "      <td>3.41</td>\n",
       "      <td>3.0</td>\n",
       "      <td>0.65</td>\n",
       "      <td>1.04</td>\n",
       "      <td>&lt;bound method NDFrame._add_numeric_operations....</td>\n",
       "    </tr>\n",
       "    <tr>\n",
       "      <th>10</th>\n",
       "      <td>grade</td>\n",
       "      <td>1.0</td>\n",
       "      <td>13.0</td>\n",
       "      <td>12.0</td>\n",
       "      <td>7.66</td>\n",
       "      <td>7.0</td>\n",
       "      <td>1.17</td>\n",
       "      <td>0.77</td>\n",
       "      <td>&lt;bound method NDFrame._add_numeric_operations....</td>\n",
       "    </tr>\n",
       "    <tr>\n",
       "      <th>11</th>\n",
       "      <td>sqft_above</td>\n",
       "      <td>290.0</td>\n",
       "      <td>9,410.0</td>\n",
       "      <td>9,120.0</td>\n",
       "      <td>1,790.96</td>\n",
       "      <td>1,560.0</td>\n",
       "      <td>829.01</td>\n",
       "      <td>1.44</td>\n",
       "      <td>&lt;bound method NDFrame._add_numeric_operations....</td>\n",
       "    </tr>\n",
       "    <tr>\n",
       "      <th>12</th>\n",
       "      <td>sqft_basement</td>\n",
       "      <td>0.0</td>\n",
       "      <td>4,820.0</td>\n",
       "      <td>4,820.0</td>\n",
       "      <td>291.74</td>\n",
       "      <td>0.0</td>\n",
       "      <td>442.77</td>\n",
       "      <td>1.58</td>\n",
       "      <td>&lt;bound method NDFrame._add_numeric_operations....</td>\n",
       "    </tr>\n",
       "    <tr>\n",
       "      <th>13</th>\n",
       "      <td>yr_built</td>\n",
       "      <td>1,900.0</td>\n",
       "      <td>2,015.0</td>\n",
       "      <td>115.0</td>\n",
       "      <td>1,971.1</td>\n",
       "      <td>1,975.0</td>\n",
       "      <td>29.38</td>\n",
       "      <td>-0.47</td>\n",
       "      <td>&lt;bound method NDFrame._add_numeric_operations....</td>\n",
       "    </tr>\n",
       "    <tr>\n",
       "      <th>14</th>\n",
       "      <td>yr_renovated</td>\n",
       "      <td>0.0</td>\n",
       "      <td>2,015.0</td>\n",
       "      <td>2,015.0</td>\n",
       "      <td>84.73</td>\n",
       "      <td>0.0</td>\n",
       "      <td>402.42</td>\n",
       "      <td>4.54</td>\n",
       "      <td>&lt;bound method NDFrame._add_numeric_operations....</td>\n",
       "    </tr>\n",
       "    <tr>\n",
       "      <th>15</th>\n",
       "      <td>zipcode</td>\n",
       "      <td>98,001.0</td>\n",
       "      <td>98,199.0</td>\n",
       "      <td>198.0</td>\n",
       "      <td>98,077.86</td>\n",
       "      <td>98,065.0</td>\n",
       "      <td>53.47</td>\n",
       "      <td>0.41</td>\n",
       "      <td>&lt;bound method NDFrame._add_numeric_operations....</td>\n",
       "    </tr>\n",
       "    <tr>\n",
       "      <th>16</th>\n",
       "      <td>lat</td>\n",
       "      <td>47.16</td>\n",
       "      <td>47.78</td>\n",
       "      <td>0.62</td>\n",
       "      <td>47.56</td>\n",
       "      <td>47.57</td>\n",
       "      <td>0.14</td>\n",
       "      <td>-0.49</td>\n",
       "      <td>&lt;bound method NDFrame._add_numeric_operations....</td>\n",
       "    </tr>\n",
       "    <tr>\n",
       "      <th>17</th>\n",
       "      <td>long</td>\n",
       "      <td>-122.52</td>\n",
       "      <td>-121.31</td>\n",
       "      <td>1.2</td>\n",
       "      <td>-122.21</td>\n",
       "      <td>-122.23</td>\n",
       "      <td>0.14</td>\n",
       "      <td>0.88</td>\n",
       "      <td>&lt;bound method NDFrame._add_numeric_operations....</td>\n",
       "    </tr>\n",
       "    <tr>\n",
       "      <th>18</th>\n",
       "      <td>sqft_living15</td>\n",
       "      <td>399.0</td>\n",
       "      <td>6,210.0</td>\n",
       "      <td>5,811.0</td>\n",
       "      <td>1,988.31</td>\n",
       "      <td>1,840.0</td>\n",
       "      <td>685.68</td>\n",
       "      <td>1.11</td>\n",
       "      <td>&lt;bound method NDFrame._add_numeric_operations....</td>\n",
       "    </tr>\n",
       "    <tr>\n",
       "      <th>19</th>\n",
       "      <td>sqft_lot15</td>\n",
       "      <td>651.0</td>\n",
       "      <td>871,200.0</td>\n",
       "      <td>870,549.0</td>\n",
       "      <td>12,785.96</td>\n",
       "      <td>7,620.0</td>\n",
       "      <td>27,374.83</td>\n",
       "      <td>9.5</td>\n",
       "      <td>&lt;bound method NDFrame._add_numeric_operations....</td>\n",
       "    </tr>\n",
       "  </tbody>\n",
       "</table>\n",
       "</div>"
      ],
      "text/plain": [
       "       attributes         min             max           range             mean          median              std  skew                                           kurtosis\n",
       "0              id 1,000,102.0 9,900,000,190.0 9,899,000,088.0 4,580,765,328.18 3,904,921,185.0 2,876,522,535.73  0.24  <bound method NDFrame._add_numeric_operations....\n",
       "1           price    75,000.0     7,700,000.0     7,625,000.0       541,649.96       450,000.0       367,306.36  4.04  <bound method NDFrame._add_numeric_operations....\n",
       "2        bedrooms         0.0            33.0            33.0             3.37             3.0             0.93  1.99  <bound method NDFrame._add_numeric_operations....\n",
       "3       bathrooms         0.0             8.0             8.0             2.12            2.25             0.77  0.51  <bound method NDFrame._add_numeric_operations....\n",
       "4     sqft_living       290.0        13,540.0        13,250.0          2,082.7         1,920.0           919.13  1.47  <bound method NDFrame._add_numeric_operations....\n",
       "5        sqft_lot       520.0     1,651,359.0     1,650,839.0        15,135.64         7,614.0        41,537.65 13.04  <bound method NDFrame._add_numeric_operations....\n",
       "6          floors         1.0             3.5             2.5              1.5             1.5             0.54  0.61  <bound method NDFrame._add_numeric_operations....\n",
       "7      waterfront         0.0             1.0             1.0             0.01             0.0             0.09 11.34  <bound method NDFrame._add_numeric_operations....\n",
       "8            view         0.0             4.0             4.0             0.24             0.0             0.77  3.39  <bound method NDFrame._add_numeric_operations....\n",
       "9       condition         1.0             5.0             4.0             3.41             3.0             0.65  1.04  <bound method NDFrame._add_numeric_operations....\n",
       "10          grade         1.0            13.0            12.0             7.66             7.0             1.17  0.77  <bound method NDFrame._add_numeric_operations....\n",
       "11     sqft_above       290.0         9,410.0         9,120.0         1,790.96         1,560.0           829.01  1.44  <bound method NDFrame._add_numeric_operations....\n",
       "12  sqft_basement         0.0         4,820.0         4,820.0           291.74             0.0           442.77  1.58  <bound method NDFrame._add_numeric_operations....\n",
       "13       yr_built     1,900.0         2,015.0           115.0          1,971.1         1,975.0            29.38 -0.47  <bound method NDFrame._add_numeric_operations....\n",
       "14   yr_renovated         0.0         2,015.0         2,015.0            84.73             0.0           402.42  4.54  <bound method NDFrame._add_numeric_operations....\n",
       "15        zipcode    98,001.0        98,199.0           198.0        98,077.86        98,065.0            53.47  0.41  <bound method NDFrame._add_numeric_operations....\n",
       "16            lat       47.16           47.78            0.62            47.56           47.57             0.14 -0.49  <bound method NDFrame._add_numeric_operations....\n",
       "17           long     -122.52         -121.31             1.2          -122.21         -122.23             0.14  0.88  <bound method NDFrame._add_numeric_operations....\n",
       "18  sqft_living15       399.0         6,210.0         5,811.0         1,988.31         1,840.0           685.68  1.11  <bound method NDFrame._add_numeric_operations....\n",
       "19     sqft_lot15       651.0       871,200.0       870,549.0        12,785.96         7,620.0        27,374.83   9.5  <bound method NDFrame._add_numeric_operations...."
      ]
     },
     "execution_count": 83,
     "metadata": {},
     "output_type": "execute_result"
    }
   ],
   "source": [
    "# central tendendy - mean, median\n",
    "ct1 = pd.DataFrame(num_df1.apply(np.mean)).T\n",
    "ct2 = pd.DataFrame(num_df1.apply(np.median)).T\n",
    "\n",
    "# dispersion - std, min, max, range, skew, kurtosis\n",
    "d1 = pd.DataFrame(num_df1.apply(np.std)).T\n",
    "d2 = pd.DataFrame(num_df1.apply(min)).T\n",
    "d3 = pd.DataFrame(num_df1.apply(max)).T\n",
    "d4 = pd.DataFrame(num_df1.apply(lambda x: x.max() - x.min())).T\n",
    "d5 = pd.DataFrame(num_df1.apply(lambda x: x.skew())).T\n",
    "d6 = pd.DataFrame(num_df1.apply(lambda x: x.kurtosis)).T\n",
    "\n",
    "# concatenate \n",
    "m = pd.concat([d2,d3,d4,ct1,ct2,d1,d5,d6]).T.reset_index()\n",
    "m.columns = ['attributes','min','max','range','mean','median','std','skew','kurtosis']\n",
    "m"
   ]
  },
  {
   "cell_type": "markdown",
   "id": "nuclear-amsterdam",
   "metadata": {
    "hidden": true
   },
   "source": [
    "### Categorical Attributes"
   ]
  },
  {
   "cell_type": "code",
   "execution_count": 84,
   "id": "narrative-railway",
   "metadata": {
    "ExecuteTime": {
     "end_time": "2021-06-15T15:23:06.594442Z",
     "start_time": "2021-06-15T15:23:06.579428Z"
    },
    "hidden": true
   },
   "outputs": [
    {
     "data": {
      "text/plain": [
       "(21436, 0)"
      ]
     },
     "execution_count": 84,
     "metadata": {},
     "output_type": "execute_result"
    }
   ],
   "source": [
    "cat_df1.shape # no attributes"
   ]
  },
  {
   "cell_type": "markdown",
   "id": "flush-phenomenon",
   "metadata": {
    "heading_collapsed": true
   },
   "source": [
    "# Variable Filtering "
   ]
  },
  {
   "cell_type": "code",
   "execution_count": 16,
   "id": "humanitarian-healing",
   "metadata": {
    "ExecuteTime": {
     "end_time": "2021-06-15T14:16:20.700014Z",
     "start_time": "2021-06-15T14:16:20.685000Z"
    },
    "hidden": true
   },
   "outputs": [],
   "source": [
    "df2=df1.copy()"
   ]
  },
  {
   "cell_type": "code",
   "execution_count": 17,
   "id": "quiet-secretariat",
   "metadata": {
    "ExecuteTime": {
     "end_time": "2021-06-15T14:16:20.716028Z",
     "start_time": "2021-06-15T14:16:20.701015Z"
    },
    "hidden": true
   },
   "outputs": [],
   "source": [
    "df2 = df2.drop (['view', 'sqft_living15','sqft_lot15'], axis=1)\n",
    "\n",
    "\n",
    "# view          \tAn index from 0 to 4 of how good the view of the property was\n",
    "\n",
    "# sqft_living15 \tThe square footage of interior housing living space for the nearest 15 neighbors\n",
    "# sqft_lot15    \tThe square footage of the land lots of the nearest 15 neighbors"
   ]
  },
  {
   "cell_type": "code",
   "execution_count": 18,
   "id": "acceptable-reward",
   "metadata": {
    "ExecuteTime": {
     "end_time": "2021-06-15T14:16:20.732043Z",
     "start_time": "2021-06-15T14:16:20.717029Z"
    },
    "hidden": true
   },
   "outputs": [
    {
     "name": "stdout",
     "output_type": "stream",
     "text": [
      "          sqft_living\n",
      "bedrooms             \n",
      "1              884.61\n",
      "2            1,239.75\n",
      "33           1,620.00\n",
      "0            1,707.85\n",
      "3            1,805.84\n",
      "4            2,554.65\n",
      "11           3,000.00\n",
      "5            3,047.55\n",
      "6            3,284.34\n",
      "10           3,706.67\n",
      "9            3,775.00\n",
      "8            3,800.00\n",
      "7            3,974.21\n",
      "            id\n",
      "bedrooms      \n",
      "0           13\n",
      "1          199\n",
      "2         2760\n",
      "3         9824\n",
      "4         6882\n",
      "5         1601\n",
      "6          272\n",
      "7           38\n",
      "8           13\n",
      "9            6\n",
      "10           3\n",
      "11           1\n",
      "33           1 \n",
      "\n"
     ]
    }
   ],
   "source": [
    "# checking properties 'sqft_living' by number of bedrooms\n",
    "print(df2[['bedrooms','sqft_living']].groupby(['bedrooms']).mean().sort_values('sqft_living', ascending=True))\n",
    "print(df2[['id','bedrooms']].groupby(['bedrooms']).count(),'\\n')\n",
    "\n",
    "df2 = df2[ (df2['bedrooms']!=0) & (df2['bedrooms']!=11) & (df2['bedrooms']!=33) ]"
   ]
  },
  {
   "cell_type": "markdown",
   "id": "quiet-disposal",
   "metadata": {
    "heading_collapsed": true
   },
   "source": [
    "# Feature Engineering"
   ]
  },
  {
   "cell_type": "code",
   "execution_count": 19,
   "id": "awful-tractor",
   "metadata": {
    "ExecuteTime": {
     "end_time": "2021-06-15T14:16:20.748058Z",
     "start_time": "2021-06-15T14:16:20.733044Z"
    },
    "hidden": true
   },
   "outputs": [],
   "source": [
    "df3 = df2.copy()"
   ]
  },
  {
   "cell_type": "markdown",
   "id": "unexpected-elements",
   "metadata": {
    "ExecuteTime": {
     "end_time": "2021-05-17T19:16:38.519692Z",
     "start_time": "2021-05-17T19:16:38.516690Z"
    },
    "hidden": true
   },
   "source": [
    "## <font color ='red'>Mind Map Hypothesis"
   ]
  },
  {
   "cell_type": "code",
   "execution_count": null,
   "id": "solar-westminster",
   "metadata": {
    "hidden": true
   },
   "outputs": [],
   "source": []
  },
  {
   "cell_type": "markdown",
   "id": "periodic-bernard",
   "metadata": {
    "hidden": true
   },
   "source": [
    "## Creating Hypothesis"
   ]
  },
  {
   "cell_type": "markdown",
   "id": "invisible-concrete",
   "metadata": {
    "hidden": true
   },
   "source": [
    "1. Properties that have water view are 20% more expensive. # usar group bins do DS em Prod. 4.2.2 EDa > Bivariate >\n",
    "2. Properties with basements have higher grade\n",
    "3. Properties with basements have bigger 'sqft_living'\n",
    "4. Properties with basements are 15% more expensive\n",
    "5. Properties with more than 2 bathrooms are 20% more expensive\n",
    "8. Properties with more than 2 bedrooms are 25% more expensive\n",
    "9. Properties with more than 1 floor are 10% more expensive\n",
    "11. Properties that were not renovated are 40% cheaper\n",
    "10. Properties that were not renovated in the last 5 years are 15% cheaper\n",
    "12. Properties that were built in the last 5 years are cheaper than properties that were renovated in the last 5 years\n",
    "13. Most properties (+50) become available during summer/spring\n",
    "14. Properties available during summer/spring are 20% more expensive.\n",
    "14. More than half properties are localized in a xkm radio from the lake.\n",
    "14. The mean properties price vary according to zipcode > nao tem valor base, não é hipótese."
   ]
  },
  {
   "cell_type": "markdown",
   "id": "bulgarian-yesterday",
   "metadata": {
    "hidden": true
   },
   "source": [
    "## <font color ='red'>Features Creation\n",
    "    get api data"
   ]
  },
  {
   "cell_type": "code",
   "execution_count": 20,
   "id": "worst-tutorial",
   "metadata": {
    "ExecuteTime": {
     "end_time": "2021-06-15T14:16:21.196465Z",
     "start_time": "2021-06-15T14:16:21.138413Z"
    },
    "code_folding": [],
    "hidden": true,
    "scrolled": true
   },
   "outputs": [
    {
     "data": {
      "text/html": [
       "<div>\n",
       "<style scoped>\n",
       "    .dataframe tbody tr th:only-of-type {\n",
       "        vertical-align: middle;\n",
       "    }\n",
       "\n",
       "    .dataframe tbody tr th {\n",
       "        vertical-align: top;\n",
       "    }\n",
       "\n",
       "    .dataframe thead th {\n",
       "        text-align: right;\n",
       "    }\n",
       "</style>\n",
       "<table border=\"1\" class=\"dataframe\">\n",
       "  <thead>\n",
       "    <tr style=\"text-align: right;\">\n",
       "      <th></th>\n",
       "      <th>id</th>\n",
       "      <th>date</th>\n",
       "      <th>price</th>\n",
       "      <th>bedrooms</th>\n",
       "      <th>bathrooms</th>\n",
       "      <th>sqft_living</th>\n",
       "      <th>sqft_lot</th>\n",
       "      <th>floors</th>\n",
       "      <th>waterfront</th>\n",
       "      <th>condition</th>\n",
       "      <th>grade</th>\n",
       "      <th>sqft_above</th>\n",
       "      <th>sqft_basement</th>\n",
       "      <th>yr_built</th>\n",
       "      <th>yr_renovated</th>\n",
       "      <th>zipcode</th>\n",
       "      <th>lat</th>\n",
       "      <th>long</th>\n",
       "      <th>query</th>\n",
       "      <th>road</th>\n",
       "      <th>house_number</th>\n",
       "      <th>neighbourhood</th>\n",
       "      <th>city</th>\n",
       "      <th>county</th>\n",
       "      <th>state</th>\n",
       "    </tr>\n",
       "  </thead>\n",
       "  <tbody>\n",
       "    <tr>\n",
       "      <th>0</th>\n",
       "      <td>7129300520</td>\n",
       "      <td>2014-10-13</td>\n",
       "      <td>221,900.00</td>\n",
       "      <td>3</td>\n",
       "      <td>1.00</td>\n",
       "      <td>1180</td>\n",
       "      <td>5650</td>\n",
       "      <td>1.00</td>\n",
       "      <td>0</td>\n",
       "      <td>3</td>\n",
       "      <td>7</td>\n",
       "      <td>1180</td>\n",
       "      <td>0</td>\n",
       "      <td>1955</td>\n",
       "      <td>0</td>\n",
       "      <td>98178</td>\n",
       "      <td>47.51</td>\n",
       "      <td>-122.26</td>\n",
       "      <td>47.5112,-122.257</td>\n",
       "      <td>61st Avenue South</td>\n",
       "      <td>10012</td>\n",
       "      <td>Rainier Beach</td>\n",
       "      <td>Seattle</td>\n",
       "      <td>King County</td>\n",
       "      <td>Washington</td>\n",
       "    </tr>\n",
       "    <tr>\n",
       "      <th>1</th>\n",
       "      <td>6414100192</td>\n",
       "      <td>2014-12-09</td>\n",
       "      <td>538,000.00</td>\n",
       "      <td>3</td>\n",
       "      <td>2.25</td>\n",
       "      <td>2570</td>\n",
       "      <td>7242</td>\n",
       "      <td>2.00</td>\n",
       "      <td>0</td>\n",
       "      <td>3</td>\n",
       "      <td>7</td>\n",
       "      <td>2170</td>\n",
       "      <td>400</td>\n",
       "      <td>1951</td>\n",
       "      <td>1991</td>\n",
       "      <td>98125</td>\n",
       "      <td>47.72</td>\n",
       "      <td>-122.32</td>\n",
       "      <td>47.721,-122.319</td>\n",
       "      <td>Northeast 127th Street</td>\n",
       "      <td>837</td>\n",
       "      <td>NaN</td>\n",
       "      <td>Seattle</td>\n",
       "      <td>King County</td>\n",
       "      <td>Washington</td>\n",
       "    </tr>\n",
       "    <tr>\n",
       "      <th>2</th>\n",
       "      <td>5631500400</td>\n",
       "      <td>2015-02-25</td>\n",
       "      <td>180,000.00</td>\n",
       "      <td>2</td>\n",
       "      <td>1.00</td>\n",
       "      <td>770</td>\n",
       "      <td>10000</td>\n",
       "      <td>1.00</td>\n",
       "      <td>0</td>\n",
       "      <td>3</td>\n",
       "      <td>6</td>\n",
       "      <td>770</td>\n",
       "      <td>0</td>\n",
       "      <td>1933</td>\n",
       "      <td>0</td>\n",
       "      <td>98028</td>\n",
       "      <td>47.74</td>\n",
       "      <td>-122.23</td>\n",
       "      <td>47.7379,-122.233</td>\n",
       "      <td>81st Avenue Northeast</td>\n",
       "      <td>15109</td>\n",
       "      <td>NaN</td>\n",
       "      <td>NaN</td>\n",
       "      <td>King County</td>\n",
       "      <td>Washington</td>\n",
       "    </tr>\n",
       "    <tr>\n",
       "      <th>3</th>\n",
       "      <td>2487200875</td>\n",
       "      <td>2014-12-09</td>\n",
       "      <td>604,000.00</td>\n",
       "      <td>4</td>\n",
       "      <td>3.00</td>\n",
       "      <td>1960</td>\n",
       "      <td>5000</td>\n",
       "      <td>1.00</td>\n",
       "      <td>0</td>\n",
       "      <td>5</td>\n",
       "      <td>7</td>\n",
       "      <td>1050</td>\n",
       "      <td>910</td>\n",
       "      <td>1965</td>\n",
       "      <td>0</td>\n",
       "      <td>98136</td>\n",
       "      <td>47.52</td>\n",
       "      <td>-122.39</td>\n",
       "      <td>47.5208,-122.393</td>\n",
       "      <td>Fauntleroy Way Southwest</td>\n",
       "      <td>9236</td>\n",
       "      <td>NaN</td>\n",
       "      <td>Seattle</td>\n",
       "      <td>King County</td>\n",
       "      <td>Washington</td>\n",
       "    </tr>\n",
       "    <tr>\n",
       "      <th>4</th>\n",
       "      <td>1954400510</td>\n",
       "      <td>2015-02-18</td>\n",
       "      <td>510,000.00</td>\n",
       "      <td>3</td>\n",
       "      <td>2.00</td>\n",
       "      <td>1680</td>\n",
       "      <td>8080</td>\n",
       "      <td>1.00</td>\n",
       "      <td>0</td>\n",
       "      <td>3</td>\n",
       "      <td>8</td>\n",
       "      <td>1680</td>\n",
       "      <td>0</td>\n",
       "      <td>1987</td>\n",
       "      <td>0</td>\n",
       "      <td>98074</td>\n",
       "      <td>47.62</td>\n",
       "      <td>-122.05</td>\n",
       "      <td>47.6168,-122.045</td>\n",
       "      <td>221st Avenue Northeast</td>\n",
       "      <td>923</td>\n",
       "      <td>NaN</td>\n",
       "      <td>NaN</td>\n",
       "      <td>King County</td>\n",
       "      <td>Washington</td>\n",
       "    </tr>\n",
       "  </tbody>\n",
       "</table>\n",
       "</div>"
      ],
      "text/plain": [
       "           id       date      price  bedrooms  bathrooms  sqft_living  sqft_lot  floors  waterfront  condition  grade  sqft_above  sqft_basement  yr_built  yr_renovated  zipcode   lat    long             query                      road house_number  neighbourhood     city       county       state\n",
       "0  7129300520 2014-10-13 221,900.00         3       1.00         1180      5650    1.00           0          3      7        1180              0      1955             0    98178 47.51 -122.26  47.5112,-122.257         61st Avenue South        10012  Rainier Beach  Seattle  King County  Washington\n",
       "1  6414100192 2014-12-09 538,000.00         3       2.25         2570      7242    2.00           0          3      7        2170            400      1951          1991    98125 47.72 -122.32   47.721,-122.319    Northeast 127th Street          837            NaN  Seattle  King County  Washington\n",
       "2  5631500400 2015-02-25 180,000.00         2       1.00          770     10000    1.00           0          3      6         770              0      1933             0    98028 47.74 -122.23  47.7379,-122.233     81st Avenue Northeast        15109            NaN      NaN  King County  Washington\n",
       "3  2487200875 2014-12-09 604,000.00         4       3.00         1960      5000    1.00           0          5      7        1050            910      1965             0    98136 47.52 -122.39  47.5208,-122.393  Fauntleroy Way Southwest         9236            NaN  Seattle  King County  Washington\n",
       "4  1954400510 2015-02-18 510,000.00         3       2.00         1680      8080    1.00           0          3      8        1680              0      1987             0    98074 47.62 -122.05  47.6168,-122.045    221st Avenue Northeast          923            NaN      NaN  King County  Washington"
      ]
     },
     "execution_count": 20,
     "metadata": {},
     "output_type": "execute_result"
    }
   ],
   "source": [
    "# get data from API in separate dataframe\n",
    "\n",
    "# # query\n",
    "# df3['query'] = df3[['lat','long']].apply(lambda x: str(x['lat']) + ',' + str(x['long']), axis=1)\n",
    "# df_geodata = df3[['id', 'query']].copy()\n",
    "\n",
    "# # creating empty columns\n",
    "# df_geodata['place_id']      = \"NA\"\n",
    "# df_geodata['house_number']  = 'NA'\n",
    "# df_geodata['road']          = 'NA'\n",
    "# df_geodata['neighbourhood'] = 'NA'\n",
    "# df_geodata['city']          = 'NA'\n",
    "# df_geodata['county']        = 'NA'\n",
    "# df_geodata['state']         = 'NA'\n",
    "# df_geodata['postcode']      ='NA'\n",
    "\n",
    "\n",
    "# # auxiliar variable that helps localizing the adresses\n",
    "# geolocator = Nominatim (user_agent = 'api') \n",
    "\n",
    "# # loop for\n",
    "# for i in range (df_geodata.shape[0]):\n",
    "    \n",
    "#     print ('Loop: {} / {}'.format(i, df_geodata.shape[0]))\n",
    "    \n",
    "#     # api request\n",
    "#     response = geolocator.reverse(query) # standard variable for API responses // 'reverse' returns an address by location point\n",
    "    \n",
    "#     # populating data\n",
    "#     if 'place_id'in response.raw:\n",
    "#         df_geodata.loc[i, 'place_id']      = response.raw['place_id']\n",
    "#     if 'house_number'in response.raw['address']:\n",
    "#         df_geodata.loc[i, 'house_number']  = response.raw['address']['house_number']\n",
    "#     if 'road'in response.raw['address']:\n",
    "#         df_geodata.loc[i, 'road']          = response.raw['address']['road']\n",
    "#     if 'neighbourhood'in response.raw['address']:\n",
    "#         df_geodata.loc[i, 'neighbourhood'] = response.raw['address']['neighbourhood']\n",
    "#     if 'city'in response.raw['address']:\n",
    "#         df_geodata.loc[i, 'city']          = response.raw['address']['city']\n",
    "#     if 'county'in response.raw['address']:\n",
    "#         df_geodata.loc[i,'county']         = response.raw['address']['county']\n",
    "#     if 'state'in response.raw['address']:\n",
    "#         df_geodata.loc[i,'state']          = response.raw['address']['state']\n",
    "#     if 'postcode'in response.raw['address']:\n",
    "#         df_geodata.loc[i,'postcode']       = response.raw['address']['postcode']\n",
    "\n",
    "       \n",
    "# getting geodata temporarily\n",
    "df_geodata = pd.read_csv('../datasets/interim/api_geodata.csv')\n",
    "\n",
    "df3 = pd.merge(df3, df_geodata, how='left', on='id')\n",
    "df3.head()\n",
    "\n",
    "# saving df_geodata\n",
    "# df_geodata = pd.to_csv('../datasets/interim/api_geodata_realstate.csv')"
   ]
  },
  {
   "cell_type": "code",
   "execution_count": 21,
   "id": "confident-converter",
   "metadata": {
    "ExecuteTime": {
     "end_time": "2021-06-15T14:16:28.903280Z",
     "start_time": "2021-06-15T14:16:21.345600Z"
    },
    "code_folding": [],
    "hidden": true
   },
   "outputs": [
    {
     "data": {
      "text/html": [
       "<div>\n",
       "<style scoped>\n",
       "    .dataframe tbody tr th:only-of-type {\n",
       "        vertical-align: middle;\n",
       "    }\n",
       "\n",
       "    .dataframe tbody tr th {\n",
       "        vertical-align: top;\n",
       "    }\n",
       "\n",
       "    .dataframe thead th {\n",
       "        text-align: right;\n",
       "    }\n",
       "</style>\n",
       "<table border=\"1\" class=\"dataframe\">\n",
       "  <thead>\n",
       "    <tr style=\"text-align: right;\">\n",
       "      <th></th>\n",
       "      <th>date</th>\n",
       "      <th>season</th>\n",
       "    </tr>\n",
       "  </thead>\n",
       "  <tbody>\n",
       "    <tr>\n",
       "      <th>0</th>\n",
       "      <td>2014-10-13</td>\n",
       "      <td>autumn</td>\n",
       "    </tr>\n",
       "    <tr>\n",
       "      <th>1</th>\n",
       "      <td>2014-12-09</td>\n",
       "      <td>autumn</td>\n",
       "    </tr>\n",
       "    <tr>\n",
       "      <th>2</th>\n",
       "      <td>2015-02-25</td>\n",
       "      <td>winter</td>\n",
       "    </tr>\n",
       "    <tr>\n",
       "      <th>3</th>\n",
       "      <td>2014-12-09</td>\n",
       "      <td>autumn</td>\n",
       "    </tr>\n",
       "    <tr>\n",
       "      <th>4</th>\n",
       "      <td>2015-02-18</td>\n",
       "      <td>winter</td>\n",
       "    </tr>\n",
       "  </tbody>\n",
       "</table>\n",
       "</div>"
      ],
      "text/plain": [
       "        date  season\n",
       "0 2014-10-13  autumn\n",
       "1 2014-12-09  autumn\n",
       "2 2015-02-25  winter\n",
       "3 2014-12-09  autumn\n",
       "4 2015-02-18  winter"
      ]
     },
     "execution_count": 21,
     "metadata": {},
     "output_type": "execute_result"
    }
   ],
   "source": [
    "# seasons of the year\n",
    "\n",
    "def season_from_date(date):\n",
    "    year = str(date.year)\n",
    "    seasons = {'spring': pd.date_range(start='21/03/'+year, end='20/06/'+year),\n",
    "               'summer': pd.date_range(start='21/06/'+year, end='22/09/'+year),\n",
    "               'autumn': pd.date_range(start='23/09/'+year, end='20/12/'+year)}\n",
    "    if date in seasons['spring']:\n",
    "        return 'spring'\n",
    "    if date in seasons['summer']:\n",
    "        return 'summer'\n",
    "    if date in seasons['autumn']:\n",
    "        return 'autumn'\n",
    "    else:\n",
    "        return 'winter'\n",
    "\n",
    "df3['season'] = df3['date'].map(season_from_date)\n",
    "df3[['date','season']].head()"
   ]
  },
  {
   "cell_type": "code",
   "execution_count": 22,
   "id": "southwest-trouble",
   "metadata": {
    "ExecuteTime": {
     "end_time": "2021-06-15T14:16:29.383717Z",
     "start_time": "2021-06-15T14:16:28.904281Z"
    },
    "code_folding": [],
    "hidden": true
   },
   "outputs": [
    {
     "data": {
      "text/html": [
       "<div>\n",
       "<style scoped>\n",
       "    .dataframe tbody tr th:only-of-type {\n",
       "        vertical-align: middle;\n",
       "    }\n",
       "\n",
       "    .dataframe tbody tr th {\n",
       "        vertical-align: top;\n",
       "    }\n",
       "\n",
       "    .dataframe thead th {\n",
       "        text-align: right;\n",
       "    }\n",
       "</style>\n",
       "<table border=\"1\" class=\"dataframe\">\n",
       "  <thead>\n",
       "    <tr style=\"text-align: right;\">\n",
       "      <th></th>\n",
       "      <th>query</th>\n",
       "      <th>dist_fromlake</th>\n",
       "    </tr>\n",
       "  </thead>\n",
       "  <tbody>\n",
       "    <tr>\n",
       "      <th>14168</th>\n",
       "      <td>47.6926,-122.346</td>\n",
       "      <td>8.68</td>\n",
       "    </tr>\n",
       "    <tr>\n",
       "      <th>10900</th>\n",
       "      <td>47.3326,-122.201</td>\n",
       "      <td>34.56</td>\n",
       "    </tr>\n",
       "    <tr>\n",
       "      <th>2266</th>\n",
       "      <td>47.6236,-122.103</td>\n",
       "      <td>11.86</td>\n",
       "    </tr>\n",
       "    <tr>\n",
       "      <th>5970</th>\n",
       "      <td>47.6209,-122.237</td>\n",
       "      <td>2.78</td>\n",
       "    </tr>\n",
       "    <tr>\n",
       "      <th>18154</th>\n",
       "      <td>47.5387,-122.277</td>\n",
       "      <td>11.44</td>\n",
       "    </tr>\n",
       "  </tbody>\n",
       "</table>\n",
       "</div>"
      ],
      "text/plain": [
       "                  query  dist_fromlake\n",
       "14168  47.6926,-122.346           8.68\n",
       "10900  47.3326,-122.201          34.56\n",
       "2266   47.6236,-122.103          11.86\n",
       "5970   47.6209,-122.237           2.78\n",
       "18154  47.5387,-122.277          11.44"
      ]
     },
     "execution_count": 22,
     "metadata": {},
     "output_type": "execute_result"
    }
   ],
   "source": [
    "# radius from lake\n",
    "\n",
    "# lake infos\n",
    "lake_center = [{'lat':47.640883, 'long':-122.259250}]  \n",
    "lake_tuple = 47.640883, -122.259250 \n",
    "#tuple(lake_center[0].values())\n",
    "\n",
    "\n",
    "# distance from Lake\n",
    "df3['dist_fromlake'] = df3['query'].apply(lambda x: great_circle(lake_tuple, x).km)\n",
    "\n",
    "df3[['query','dist_fromlake']].sample(5) "
   ]
  },
  {
   "cell_type": "code",
   "execution_count": 23,
   "id": "formal-domain",
   "metadata": {
    "ExecuteTime": {
     "end_time": "2021-06-15T14:16:29.415746Z",
     "start_time": "2021-06-15T14:16:29.384718Z"
    },
    "code_folding": [],
    "hidden": true
   },
   "outputs": [
    {
     "data": {
      "text/html": [
       "<div>\n",
       "<style scoped>\n",
       "    .dataframe tbody tr th:only-of-type {\n",
       "        vertical-align: middle;\n",
       "    }\n",
       "\n",
       "    .dataframe tbody tr th {\n",
       "        vertical-align: top;\n",
       "    }\n",
       "\n",
       "    .dataframe thead th {\n",
       "        text-align: right;\n",
       "    }\n",
       "</style>\n",
       "<table border=\"1\" class=\"dataframe\">\n",
       "  <thead>\n",
       "    <tr style=\"text-align: right;\">\n",
       "      <th></th>\n",
       "      <th>id</th>\n",
       "      <th>price</th>\n",
       "      <th>zipcode</th>\n",
       "      <th>mean_price_zipcode</th>\n",
       "    </tr>\n",
       "  </thead>\n",
       "  <tbody>\n",
       "    <tr>\n",
       "      <th>2194</th>\n",
       "      <td>3582200200</td>\n",
       "      <td>455,000.00</td>\n",
       "      <td>98028</td>\n",
       "      <td>463,190.70</td>\n",
       "    </tr>\n",
       "    <tr>\n",
       "      <th>11059</th>\n",
       "      <td>809002610</td>\n",
       "      <td>485,000.00</td>\n",
       "      <td>98109</td>\n",
       "      <td>879,623.62</td>\n",
       "    </tr>\n",
       "    <tr>\n",
       "      <th>16528</th>\n",
       "      <td>7217400895</td>\n",
       "      <td>550,000.00</td>\n",
       "      <td>98122</td>\n",
       "      <td>632,378.26</td>\n",
       "    </tr>\n",
       "    <tr>\n",
       "      <th>19857</th>\n",
       "      <td>8929000090</td>\n",
       "      <td>484,998.00</td>\n",
       "      <td>98029</td>\n",
       "      <td>613,572.16</td>\n",
       "    </tr>\n",
       "    <tr>\n",
       "      <th>4871</th>\n",
       "      <td>1922069099</td>\n",
       "      <td>354,800.00</td>\n",
       "      <td>98042</td>\n",
       "      <td>311,087.83</td>\n",
       "    </tr>\n",
       "  </tbody>\n",
       "</table>\n",
       "</div>"
      ],
      "text/plain": [
       "               id      price  zipcode  mean_price_zipcode\n",
       "2194   3582200200 455,000.00    98028          463,190.70\n",
       "11059   809002610 485,000.00    98109          879,623.62\n",
       "16528  7217400895 550,000.00    98122          632,378.26\n",
       "19857  8929000090 484,998.00    98029          613,572.16\n",
       "4871   1922069099 354,800.00    98042          311,087.83"
      ]
     },
     "execution_count": 23,
     "metadata": {},
     "output_type": "execute_result"
    }
   ],
   "source": [
    "# mean price by zipcode\n",
    "a = df3[['price','zipcode']].groupby('zipcode').mean().reset_index().rename(columns={'price': 'mean_price_zipcode'})\n",
    "a.head()\n",
    "\n",
    "df3 = pd.merge(df3, a, on='zipcode', how='left')\n",
    "df3[['id', 'price', 'zipcode', 'mean_price_zipcode']].sample(5)"
   ]
  },
  {
   "cell_type": "code",
   "execution_count": 24,
   "id": "technical-stranger",
   "metadata": {
    "ExecuteTime": {
     "end_time": "2021-06-15T14:16:29.752051Z",
     "start_time": "2021-06-15T14:16:29.416747Z"
    },
    "code_folding": [],
    "hidden": true
   },
   "outputs": [
    {
     "data": {
      "text/html": [
       "<div>\n",
       "<style scoped>\n",
       "    .dataframe tbody tr th:only-of-type {\n",
       "        vertical-align: middle;\n",
       "    }\n",
       "\n",
       "    .dataframe tbody tr th {\n",
       "        vertical-align: top;\n",
       "    }\n",
       "\n",
       "    .dataframe thead th {\n",
       "        text-align: right;\n",
       "    }\n",
       "</style>\n",
       "<table border=\"1\" class=\"dataframe\">\n",
       "  <thead>\n",
       "    <tr style=\"text-align: right;\">\n",
       "      <th></th>\n",
       "      <th>id</th>\n",
       "      <th>zipcode</th>\n",
       "      <th>price</th>\n",
       "      <th>mean_price_zipcode</th>\n",
       "      <th>condition</th>\n",
       "      <th>decision</th>\n",
       "    </tr>\n",
       "  </thead>\n",
       "  <tbody>\n",
       "    <tr>\n",
       "      <th>15394</th>\n",
       "      <td>5589300715</td>\n",
       "      <td>98155</td>\n",
       "      <td>370,000.00</td>\n",
       "      <td>423,567.53</td>\n",
       "      <td>3</td>\n",
       "      <td>1</td>\n",
       "    </tr>\n",
       "    <tr>\n",
       "      <th>15025</th>\n",
       "      <td>7300400150</td>\n",
       "      <td>98092</td>\n",
       "      <td>299,000.00</td>\n",
       "      <td>334,921.06</td>\n",
       "      <td>3</td>\n",
       "      <td>1</td>\n",
       "    </tr>\n",
       "    <tr>\n",
       "      <th>13766</th>\n",
       "      <td>424000145</td>\n",
       "      <td>98056</td>\n",
       "      <td>230,000.00</td>\n",
       "      <td>419,436.74</td>\n",
       "      <td>3</td>\n",
       "      <td>1</td>\n",
       "    </tr>\n",
       "    <tr>\n",
       "      <th>18257</th>\n",
       "      <td>9828702588</td>\n",
       "      <td>98112</td>\n",
       "      <td>906,000.00</td>\n",
       "      <td>1,094,517.80</td>\n",
       "      <td>3</td>\n",
       "      <td>1</td>\n",
       "    </tr>\n",
       "    <tr>\n",
       "      <th>6578</th>\n",
       "      <td>7203601405</td>\n",
       "      <td>98198</td>\n",
       "      <td>217,000.00</td>\n",
       "      <td>300,567.37</td>\n",
       "      <td>3</td>\n",
       "      <td>1</td>\n",
       "    </tr>\n",
       "  </tbody>\n",
       "</table>\n",
       "</div>"
      ],
      "text/plain": [
       "               id  zipcode      price  mean_price_zipcode  condition  decision\n",
       "15394  5589300715    98155 370,000.00          423,567.53          3         1\n",
       "15025  7300400150    98092 299,000.00          334,921.06          3         1\n",
       "13766   424000145    98056 230,000.00          419,436.74          3         1\n",
       "18257  9828702588    98112 906,000.00        1,094,517.80          3         1\n",
       "6578   7203601405    98198 217,000.00          300,567.37          3         1"
      ]
     },
     "execution_count": 24,
     "metadata": {},
     "output_type": "execute_result"
    }
   ],
   "source": [
    "# decision: buy x hold\n",
    "\n",
    "df3['decision'] = df3[['price', 'mean_price_zipcode', 'condition']].apply(lambda x: 0 if (x['price'] > x['mean_price_zipcode']) \n",
    "                                                                               else 1 if ((x['price'] <= x['mean_price_zipcode']) & (x['condition']>=3))\n",
    "                                                                               else 2, axis=1) \n",
    "                                                                        \n",
    "                                                             \n",
    "df3[['id', 'zipcode', 'price', 'mean_price_zipcode', 'condition', 'decision']].sample(5)"
   ]
  },
  {
   "cell_type": "code",
   "execution_count": 25,
   "id": "democratic-maria",
   "metadata": {
    "ExecuteTime": {
     "end_time": "2021-06-15T14:16:30.136400Z",
     "start_time": "2021-06-15T14:16:29.753052Z"
    },
    "code_folding": [],
    "hidden": true
   },
   "outputs": [
    {
     "data": {
      "text/html": [
       "<div>\n",
       "<style scoped>\n",
       "    .dataframe tbody tr th:only-of-type {\n",
       "        vertical-align: middle;\n",
       "    }\n",
       "\n",
       "    .dataframe tbody tr th {\n",
       "        vertical-align: top;\n",
       "    }\n",
       "\n",
       "    .dataframe thead th {\n",
       "        text-align: right;\n",
       "    }\n",
       "</style>\n",
       "<table border=\"1\" class=\"dataframe\">\n",
       "  <thead>\n",
       "    <tr style=\"text-align: right;\">\n",
       "      <th></th>\n",
       "      <th>id</th>\n",
       "      <th>zipcode</th>\n",
       "      <th>price</th>\n",
       "      <th>mean_price_zipcode</th>\n",
       "      <th>condition</th>\n",
       "      <th>decision</th>\n",
       "      <th>sale_price_suggestion</th>\n",
       "    </tr>\n",
       "  </thead>\n",
       "  <tbody>\n",
       "    <tr>\n",
       "      <th>4152</th>\n",
       "      <td>6888900115</td>\n",
       "      <td>98118</td>\n",
       "      <td>555,750.00</td>\n",
       "      <td>415,572.60</td>\n",
       "      <td>2</td>\n",
       "      <td>0</td>\n",
       "      <td>0.00</td>\n",
       "    </tr>\n",
       "    <tr>\n",
       "      <th>38</th>\n",
       "      <td>7895500070</td>\n",
       "      <td>98001</td>\n",
       "      <td>240,000.00</td>\n",
       "      <td>279,963.07</td>\n",
       "      <td>2</td>\n",
       "      <td>2</td>\n",
       "      <td>264,000.00</td>\n",
       "    </tr>\n",
       "    <tr>\n",
       "      <th>9049</th>\n",
       "      <td>7977201065</td>\n",
       "      <td>98115</td>\n",
       "      <td>740,000.00</td>\n",
       "      <td>619,173.31</td>\n",
       "      <td>2</td>\n",
       "      <td>0</td>\n",
       "      <td>0.00</td>\n",
       "    </tr>\n",
       "    <tr>\n",
       "      <th>17665</th>\n",
       "      <td>9542801410</td>\n",
       "      <td>98023</td>\n",
       "      <td>286,000.00</td>\n",
       "      <td>284,437.93</td>\n",
       "      <td>2</td>\n",
       "      <td>0</td>\n",
       "      <td>0.00</td>\n",
       "    </tr>\n",
       "    <tr>\n",
       "      <th>19839</th>\n",
       "      <td>2023049361</td>\n",
       "      <td>98148</td>\n",
       "      <td>246,500.00</td>\n",
       "      <td>284,581.19</td>\n",
       "      <td>2</td>\n",
       "      <td>2</td>\n",
       "      <td>271,150.00</td>\n",
       "    </tr>\n",
       "  </tbody>\n",
       "</table>\n",
       "</div>"
      ],
      "text/plain": [
       "               id  zipcode      price  mean_price_zipcode  condition  decision  sale_price_suggestion\n",
       "4152   6888900115    98118 555,750.00          415,572.60          2         0                   0.00\n",
       "38     7895500070    98001 240,000.00          279,963.07          2         2             264,000.00\n",
       "9049   7977201065    98115 740,000.00          619,173.31          2         0                   0.00\n",
       "17665  9542801410    98023 286,000.00          284,437.93          2         0                   0.00\n",
       "19839  2023049361    98148 246,500.00          284,581.19          2         2             271,150.00"
      ]
     },
     "execution_count": 25,
     "metadata": {},
     "output_type": "execute_result"
    }
   ],
   "source": [
    "# sale price suggestion\n",
    "\n",
    "df3['sale_price_suggestion'] = df3[['price', 'mean_price_zipcode', 'condition']].apply(lambda x: 0 if (x['price'] > x['mean_price_zipcode']) \n",
    "                                                                                            else x['price']*1.3 if ((x['price'] <= x['mean_price_zipcode']) & (x['condition']>=3))\n",
    "                                                                                            else x['price']*1.1, axis=1) \n",
    "\n",
    "df3[df3['condition']==2][['id', 'zipcode', 'price', 'mean_price_zipcode', 'condition', 'decision', 'sale_price_suggestion']].sample(5)"
   ]
  },
  {
   "cell_type": "code",
   "execution_count": 26,
   "id": "simplified-height",
   "metadata": {
    "ExecuteTime": {
     "end_time": "2021-06-15T14:16:30.392633Z",
     "start_time": "2021-06-15T14:16:30.137401Z"
    },
    "code_folding": [],
    "hidden": true
   },
   "outputs": [
    {
     "data": {
      "text/html": [
       "<div>\n",
       "<style scoped>\n",
       "    .dataframe tbody tr th:only-of-type {\n",
       "        vertical-align: middle;\n",
       "    }\n",
       "\n",
       "    .dataframe tbody tr th {\n",
       "        vertical-align: top;\n",
       "    }\n",
       "\n",
       "    .dataframe thead th {\n",
       "        text-align: right;\n",
       "    }\n",
       "</style>\n",
       "<table border=\"1\" class=\"dataframe\">\n",
       "  <thead>\n",
       "    <tr style=\"text-align: right;\">\n",
       "      <th></th>\n",
       "      <th>id</th>\n",
       "      <th>zipcode</th>\n",
       "      <th>price</th>\n",
       "      <th>mean_price_zipcode</th>\n",
       "      <th>condition</th>\n",
       "      <th>decision</th>\n",
       "      <th>sale_price_suggestion</th>\n",
       "      <th>expected_profit</th>\n",
       "    </tr>\n",
       "  </thead>\n",
       "  <tbody>\n",
       "    <tr>\n",
       "      <th>10725</th>\n",
       "      <td>8001450060</td>\n",
       "      <td>98001</td>\n",
       "      <td>370,000.00</td>\n",
       "      <td>279,963.07</td>\n",
       "      <td>3</td>\n",
       "      <td>0</td>\n",
       "      <td>0.00</td>\n",
       "      <td>0.00</td>\n",
       "    </tr>\n",
       "    <tr>\n",
       "      <th>19715</th>\n",
       "      <td>1223089066</td>\n",
       "      <td>98045</td>\n",
       "      <td>688,000.00</td>\n",
       "      <td>438,187.11</td>\n",
       "      <td>3</td>\n",
       "      <td>0</td>\n",
       "      <td>0.00</td>\n",
       "      <td>0.00</td>\n",
       "    </tr>\n",
       "    <tr>\n",
       "      <th>2922</th>\n",
       "      <td>1868901690</td>\n",
       "      <td>98115</td>\n",
       "      <td>600,000.00</td>\n",
       "      <td>619,173.31</td>\n",
       "      <td>3</td>\n",
       "      <td>1</td>\n",
       "      <td>780,000.00</td>\n",
       "      <td>180,000.00</td>\n",
       "    </tr>\n",
       "    <tr>\n",
       "      <th>14331</th>\n",
       "      <td>2126059219</td>\n",
       "      <td>98034</td>\n",
       "      <td>493,000.00</td>\n",
       "      <td>521,599.65</td>\n",
       "      <td>4</td>\n",
       "      <td>1</td>\n",
       "      <td>640,900.00</td>\n",
       "      <td>147,900.00</td>\n",
       "    </tr>\n",
       "    <tr>\n",
       "      <th>11877</th>\n",
       "      <td>4174600262</td>\n",
       "      <td>98108</td>\n",
       "      <td>500,000.00</td>\n",
       "      <td>354,926.62</td>\n",
       "      <td>3</td>\n",
       "      <td>0</td>\n",
       "      <td>0.00</td>\n",
       "      <td>0.00</td>\n",
       "    </tr>\n",
       "  </tbody>\n",
       "</table>\n",
       "</div>"
      ],
      "text/plain": [
       "               id  zipcode      price  mean_price_zipcode  condition  decision  sale_price_suggestion  expected_profit\n",
       "10725  8001450060    98001 370,000.00          279,963.07          3         0                   0.00             0.00\n",
       "19715  1223089066    98045 688,000.00          438,187.11          3         0                   0.00             0.00\n",
       "2922   1868901690    98115 600,000.00          619,173.31          3         1             780,000.00       180,000.00\n",
       "14331  2126059219    98034 493,000.00          521,599.65          4         1             640,900.00       147,900.00\n",
       "11877  4174600262    98108 500,000.00          354,926.62          3         0                   0.00             0.00"
      ]
     },
     "execution_count": 26,
     "metadata": {},
     "output_type": "execute_result"
    }
   ],
   "source": [
    "# expected profit\n",
    "\n",
    "df3['expected_profit'] = df3[['price', 'sale_price_suggestion']].apply(lambda x: 0 if x['sale_price_suggestion']==0\n",
    "                                                                                 else (x['sale_price_suggestion'] - x['price']), axis=1) \n",
    "\n",
    "df3[['id', 'zipcode', 'price', 'mean_price_zipcode', 'condition', 'decision', 'sale_price_suggestion', 'expected_profit']].sample(5)"
   ]
  },
  {
   "cell_type": "markdown",
   "id": "wrong-walker",
   "metadata": {},
   "source": [
    "# <font color ='red'>EDA"
   ]
  },
  {
   "cell_type": "code",
   "execution_count": 27,
   "id": "casual-still",
   "metadata": {
    "ExecuteTime": {
     "end_time": "2021-06-15T14:16:30.408647Z",
     "start_time": "2021-06-15T14:16:30.393634Z"
    }
   },
   "outputs": [],
   "source": [
    "df4=df3.copy()"
   ]
  },
  {
   "cell_type": "code",
   "execution_count": 28,
   "id": "piano-niagara",
   "metadata": {
    "ExecuteTime": {
     "end_time": "2021-06-15T14:16:30.424662Z",
     "start_time": "2021-06-15T14:16:30.410649Z"
    }
   },
   "outputs": [],
   "source": [
    "num_df4 = df4.select_dtypes(include=['int64','float64'])\n",
    "cat_df4 = df4.select_dtypes(exclude=['int64','float64','datetime64[ns]'])"
   ]
  },
  {
   "cell_type": "markdown",
   "id": "paperback-halloween",
   "metadata": {},
   "source": [
    "## <font color ='red'>Univariate Analysis"
   ]
  },
  {
   "cell_type": "markdown",
   "id": "otherwise-effectiveness",
   "metadata": {},
   "source": [
    "### Response Variable"
   ]
  },
  {
   "cell_type": "code",
   "execution_count": 29,
   "id": "pointed-sailing",
   "metadata": {
    "ExecuteTime": {
     "end_time": "2021-06-15T14:16:30.456691Z",
     "start_time": "2021-06-15T14:16:30.425663Z"
    },
    "cell_style": "split"
   },
   "outputs": [
    {
     "data": {
      "text/html": [
       "<div>\n",
       "<style scoped>\n",
       "    .dataframe tbody tr th:only-of-type {\n",
       "        vertical-align: middle;\n",
       "    }\n",
       "\n",
       "    .dataframe tbody tr th {\n",
       "        vertical-align: top;\n",
       "    }\n",
       "\n",
       "    .dataframe thead th {\n",
       "        text-align: right;\n",
       "    }\n",
       "</style>\n",
       "<table border=\"1\" class=\"dataframe\">\n",
       "  <thead>\n",
       "    <tr style=\"text-align: right;\">\n",
       "      <th></th>\n",
       "      <th>id</th>\n",
       "      <th>expected_profit</th>\n",
       "      <th>expected_profit_binned</th>\n",
       "    </tr>\n",
       "  </thead>\n",
       "  <tbody>\n",
       "    <tr>\n",
       "      <th>0</th>\n",
       "      <td>7129300520</td>\n",
       "      <td>66,570.00</td>\n",
       "      <td>(65000, 70000]</td>\n",
       "    </tr>\n",
       "    <tr>\n",
       "      <th>2</th>\n",
       "      <td>5631500400</td>\n",
       "      <td>54,000.00</td>\n",
       "      <td>(50000, 55000]</td>\n",
       "    </tr>\n",
       "    <tr>\n",
       "      <th>4</th>\n",
       "      <td>1954400510</td>\n",
       "      <td>153,000.00</td>\n",
       "      <td>(150000, 155000]</td>\n",
       "    </tr>\n",
       "    <tr>\n",
       "      <th>6</th>\n",
       "      <td>1321400060</td>\n",
       "      <td>77,250.00</td>\n",
       "      <td>(75000, 80000]</td>\n",
       "    </tr>\n",
       "    <tr>\n",
       "      <th>7</th>\n",
       "      <td>2008000270</td>\n",
       "      <td>87,555.00</td>\n",
       "      <td>(85000, 90000]</td>\n",
       "    </tr>\n",
       "  </tbody>\n",
       "</table>\n",
       "</div>"
      ],
      "text/plain": [
       "           id  expected_profit expected_profit_binned\n",
       "0  7129300520        66,570.00         (65000, 70000]\n",
       "2  5631500400        54,000.00         (50000, 55000]\n",
       "4  1954400510       153,000.00       (150000, 155000]\n",
       "6  1321400060        77,250.00         (75000, 80000]\n",
       "7  2008000270        87,555.00         (85000, 90000]"
      ]
     },
     "execution_count": 29,
     "metadata": {},
     "output_type": "execute_result"
    }
   ],
   "source": [
    "aux1 = df4[df4['expected_profit']!=0][['id', 'expected_profit']].copy()\n",
    "\n",
    "bin_groups = list(np.arange(0,635000,5000)) # maximum profit = 630,000.00\n",
    "aux1['expected_profit_binned'] = pd.cut(aux1['expected_profit'], bins=bin_groups)\n",
    "\n",
    "aux1.head()"
   ]
  },
  {
   "cell_type": "code",
   "execution_count": 30,
   "id": "nominated-motor",
   "metadata": {
    "ExecuteTime": {
     "end_time": "2021-06-15T14:16:30.487719Z",
     "start_time": "2021-06-15T14:16:30.457692Z"
    },
    "cell_style": "split"
   },
   "outputs": [
    {
     "data": {
      "text/html": [
       "<div>\n",
       "<style scoped>\n",
       "    .dataframe tbody tr th:only-of-type {\n",
       "        vertical-align: middle;\n",
       "    }\n",
       "\n",
       "    .dataframe tbody tr th {\n",
       "        vertical-align: top;\n",
       "    }\n",
       "\n",
       "    .dataframe thead th {\n",
       "        text-align: right;\n",
       "    }\n",
       "</style>\n",
       "<table border=\"1\" class=\"dataframe\">\n",
       "  <thead>\n",
       "    <tr style=\"text-align: right;\">\n",
       "      <th></th>\n",
       "      <th>expected_profit_binned</th>\n",
       "      <th>id_</th>\n",
       "      <th>expected_profit</th>\n",
       "    </tr>\n",
       "  </thead>\n",
       "  <tbody>\n",
       "    <tr>\n",
       "      <th>0</th>\n",
       "      <td>(0, 5000]</td>\n",
       "      <td>0</td>\n",
       "      <td>0.00</td>\n",
       "    </tr>\n",
       "    <tr>\n",
       "      <th>1</th>\n",
       "      <td>(5000, 10000]</td>\n",
       "      <td>6</td>\n",
       "      <td>51,550.00</td>\n",
       "    </tr>\n",
       "    <tr>\n",
       "      <th>2</th>\n",
       "      <td>(10000, 15000]</td>\n",
       "      <td>22</td>\n",
       "      <td>268,985.00</td>\n",
       "    </tr>\n",
       "    <tr>\n",
       "      <th>3</th>\n",
       "      <td>(15000, 20000]</td>\n",
       "      <td>37</td>\n",
       "      <td>645,611.50</td>\n",
       "    </tr>\n",
       "    <tr>\n",
       "      <th>4</th>\n",
       "      <td>(20000, 25000]</td>\n",
       "      <td>37</td>\n",
       "      <td>836,505.50</td>\n",
       "    </tr>\n",
       "  </tbody>\n",
       "</table>\n",
       "</div>"
      ],
      "text/plain": [
       "  expected_profit_binned  id_  expected_profit\n",
       "0              (0, 5000]    0             0.00\n",
       "1          (5000, 10000]    6        51,550.00\n",
       "2         (10000, 15000]   22       268,985.00\n",
       "3         (15000, 20000]   37       645,611.50\n",
       "4         (20000, 25000]   37       836,505.50"
      ]
     },
     "execution_count": 30,
     "metadata": {},
     "output_type": "execute_result"
    }
   ],
   "source": [
    "a1 = ( aux1.groupby('expected_profit_binned').agg(id_          = ('id', 'count'),\n",
    "                                               expected_profit = ('expected_profit', 'sum')) ).reset_index()\n",
    "\n",
    "\n",
    "\n",
    "a1.head()"
   ]
  },
  {
   "cell_type": "code",
   "execution_count": 31,
   "id": "roman-environment",
   "metadata": {
    "ExecuteTime": {
     "end_time": "2021-06-15T14:16:30.503734Z",
     "start_time": "2021-06-15T14:16:30.488720Z"
    },
    "cell_style": "split"
   },
   "outputs": [
    {
     "data": {
      "text/html": [
       "<div>\n",
       "<style scoped>\n",
       "    .dataframe tbody tr th:only-of-type {\n",
       "        vertical-align: middle;\n",
       "    }\n",
       "\n",
       "    .dataframe tbody tr th {\n",
       "        vertical-align: top;\n",
       "    }\n",
       "\n",
       "    .dataframe thead th {\n",
       "        text-align: right;\n",
       "    }\n",
       "</style>\n",
       "<table border=\"1\" class=\"dataframe\">\n",
       "  <thead>\n",
       "    <tr style=\"text-align: right;\">\n",
       "      <th></th>\n",
       "      <th>expected_profit_binned</th>\n",
       "      <th>id_</th>\n",
       "      <th>expected_profit</th>\n",
       "    </tr>\n",
       "  </thead>\n",
       "  <tbody>\n",
       "    <tr>\n",
       "      <th>14</th>\n",
       "      <td>(70000, 75000]</td>\n",
       "      <td>667</td>\n",
       "      <td>48,634,393.50</td>\n",
       "    </tr>\n",
       "    <tr>\n",
       "      <th>16</th>\n",
       "      <td>(80000, 85000]</td>\n",
       "      <td>663</td>\n",
       "      <td>54,658,510.70</td>\n",
       "    </tr>\n",
       "    <tr>\n",
       "      <th>17</th>\n",
       "      <td>(85000, 90000]</td>\n",
       "      <td>632</td>\n",
       "      <td>55,536,940.20</td>\n",
       "    </tr>\n",
       "    <tr>\n",
       "      <th>20</th>\n",
       "      <td>(100000, 105000]</td>\n",
       "      <td>600</td>\n",
       "      <td>61,775,729.10</td>\n",
       "    </tr>\n",
       "    <tr>\n",
       "      <th>15</th>\n",
       "      <td>(75000, 80000]</td>\n",
       "      <td>567</td>\n",
       "      <td>44,047,603.50</td>\n",
       "    </tr>\n",
       "  </tbody>\n",
       "</table>\n",
       "</div>"
      ],
      "text/plain": [
       "   expected_profit_binned  id_  expected_profit\n",
       "14         (70000, 75000]  667    48,634,393.50\n",
       "16         (80000, 85000]  663    54,658,510.70\n",
       "17         (85000, 90000]  632    55,536,940.20\n",
       "20       (100000, 105000]  600    61,775,729.10\n",
       "15         (75000, 80000]  567    44,047,603.50"
      ]
     },
     "execution_count": 31,
     "metadata": {},
     "output_type": "execute_result"
    }
   ],
   "source": [
    "a1.sort_values('id_', ascending=False).head()"
   ]
  },
  {
   "cell_type": "code",
   "execution_count": 32,
   "id": "administrative-action",
   "metadata": {
    "ExecuteTime": {
     "end_time": "2021-06-15T14:16:30.518748Z",
     "start_time": "2021-06-15T14:16:30.504735Z"
    },
    "cell_style": "split"
   },
   "outputs": [
    {
     "data": {
      "text/html": [
       "<div>\n",
       "<style scoped>\n",
       "    .dataframe tbody tr th:only-of-type {\n",
       "        vertical-align: middle;\n",
       "    }\n",
       "\n",
       "    .dataframe tbody tr th {\n",
       "        vertical-align: top;\n",
       "    }\n",
       "\n",
       "    .dataframe thead th {\n",
       "        text-align: right;\n",
       "    }\n",
       "</style>\n",
       "<table border=\"1\" class=\"dataframe\">\n",
       "  <thead>\n",
       "    <tr style=\"text-align: right;\">\n",
       "      <th></th>\n",
       "      <th>expected_profit_binned</th>\n",
       "      <th>id_</th>\n",
       "      <th>expected_profit</th>\n",
       "    </tr>\n",
       "  </thead>\n",
       "  <tbody>\n",
       "    <tr>\n",
       "      <th>26</th>\n",
       "      <td>(130000, 135000]</td>\n",
       "      <td>549</td>\n",
       "      <td>72,927,582.90</td>\n",
       "    </tr>\n",
       "    <tr>\n",
       "      <th>32</th>\n",
       "      <td>(160000, 165000]</td>\n",
       "      <td>422</td>\n",
       "      <td>68,825,804.10</td>\n",
       "    </tr>\n",
       "    <tr>\n",
       "      <th>29</th>\n",
       "      <td>(145000, 150000]</td>\n",
       "      <td>429</td>\n",
       "      <td>63,515,556.60</td>\n",
       "    </tr>\n",
       "    <tr>\n",
       "      <th>23</th>\n",
       "      <td>(115000, 120000]</td>\n",
       "      <td>531</td>\n",
       "      <td>62,670,374.10</td>\n",
       "    </tr>\n",
       "    <tr>\n",
       "      <th>20</th>\n",
       "      <td>(100000, 105000]</td>\n",
       "      <td>600</td>\n",
       "      <td>61,775,729.10</td>\n",
       "    </tr>\n",
       "  </tbody>\n",
       "</table>\n",
       "</div>"
      ],
      "text/plain": [
       "   expected_profit_binned  id_  expected_profit\n",
       "26       (130000, 135000]  549    72,927,582.90\n",
       "32       (160000, 165000]  422    68,825,804.10\n",
       "29       (145000, 150000]  429    63,515,556.60\n",
       "23       (115000, 120000]  531    62,670,374.10\n",
       "20       (100000, 105000]  600    61,775,729.10"
      ]
     },
     "execution_count": 32,
     "metadata": {},
     "output_type": "execute_result"
    }
   ],
   "source": [
    "a1.sort_values('expected_profit', ascending=False).head()"
   ]
  },
  {
   "cell_type": "code",
   "execution_count": 33,
   "id": "established-pasta",
   "metadata": {
    "ExecuteTime": {
     "end_time": "2021-06-15T14:16:36.429431Z",
     "start_time": "2021-06-15T14:16:30.519748Z"
    },
    "cell_style": "split"
   },
   "outputs": [
    {
     "data": {
      "image/png": "[encoded data removed]",
      "text/plain": [
       "<Figure size 1440x1080 with 1 Axes>"
      ]
     },
     "metadata": {},
     "output_type": "display_data"
    }
   ],
   "source": [
    "# id_distribution\n",
    "sns.barplot(data=a1, x='expected_profit_binned', y='id_');\n",
    "plt.xticks(rotation=90);"
   ]
  },
  {
   "cell_type": "code",
   "execution_count": 34,
   "id": "royal-involvement",
   "metadata": {
    "ExecuteTime": {
     "end_time": "2021-06-15T14:16:42.087571Z",
     "start_time": "2021-06-15T14:16:36.430432Z"
    },
    "cell_style": "split"
   },
   "outputs": [
    {
     "data": {
      "image/png": "[encoded data removed]",
      "text/plain": [
       "<Figure size 1440x1080 with 1 Axes>"
      ]
     },
     "metadata": {},
     "output_type": "display_data"
    }
   ],
   "source": [
    "# profit_distribution\n",
    "sns.barplot(data=a1, x='expected_profit_binned', y='expected_profit');\n",
    "plt.xticks(rotation=90);"
   ]
  },
  {
   "cell_type": "code",
   "execution_count": 35,
   "id": "exempt-slovakia",
   "metadata": {
    "ExecuteTime": {
     "end_time": "2021-06-15T14:16:42.103585Z",
     "start_time": "2021-06-15T14:16:42.088572Z"
    },
    "code_folding": [
     0
    ]
   },
   "outputs": [],
   "source": [
    "# comparision plot\n",
    "#comparision, ax1 = plt.subplots()\n",
    "\n",
    "# ax1.set_xlabel('expected profit binned')\n",
    "# ax1.set_ylabel('number of properties')\n",
    "# ax1.plot(a1['expected_profit_binned'], a1['id_'], color='tab:red')\n",
    "# ax1.tick_params(axis='y')\n",
    "\n",
    "# ax2 = ax1.twinx()  # instantiate a second axes that shares the same x-axis\n",
    "\n",
    "# ax2.set_ylabel('expected profit')  # we already handled the x-label with ax1\n",
    "# ax2.plot(a1['expected_profit_binned'], a1['expected_profit'], color='tab:green')\n",
    "# ax2.tick_params(axis='y')\n",
    "\n",
    "# comparision.tight_layout()  # otherwise the right y-label is slightly clipped\n",
    "# plt.show()"
   ]
  },
  {
   "cell_type": "code",
   "execution_count": 36,
   "id": "electronic-robin",
   "metadata": {
    "ExecuteTime": {
     "end_time": "2021-06-15T14:16:42.119600Z",
     "start_time": "2021-06-15T14:16:42.104586Z"
    },
    "cell_style": "split",
    "scrolled": true
   },
   "outputs": [
    {
     "data": {
      "text/html": [
       "<div>\n",
       "<style scoped>\n",
       "    .dataframe tbody tr th:only-of-type {\n",
       "        vertical-align: middle;\n",
       "    }\n",
       "\n",
       "    .dataframe tbody tr th {\n",
       "        vertical-align: top;\n",
       "    }\n",
       "\n",
       "    .dataframe thead th {\n",
       "        text-align: right;\n",
       "    }\n",
       "</style>\n",
       "<table border=\"1\" class=\"dataframe\">\n",
       "  <thead>\n",
       "    <tr style=\"text-align: right;\">\n",
       "      <th></th>\n",
       "      <th>id</th>\n",
       "      <th>expected_profit</th>\n",
       "      <th>expected_profit_binned</th>\n",
       "    </tr>\n",
       "  </thead>\n",
       "  <tbody>\n",
       "    <tr>\n",
       "      <th>0</th>\n",
       "      <td>7129300520</td>\n",
       "      <td>66,570.00</td>\n",
       "      <td>(65000, 70000]</td>\n",
       "    </tr>\n",
       "    <tr>\n",
       "      <th>2</th>\n",
       "      <td>5631500400</td>\n",
       "      <td>54,000.00</td>\n",
       "      <td>(50000, 55000]</td>\n",
       "    </tr>\n",
       "    <tr>\n",
       "      <th>4</th>\n",
       "      <td>1954400510</td>\n",
       "      <td>153,000.00</td>\n",
       "      <td>(150000, 155000]</td>\n",
       "    </tr>\n",
       "    <tr>\n",
       "      <th>6</th>\n",
       "      <td>1321400060</td>\n",
       "      <td>77,250.00</td>\n",
       "      <td>(75000, 80000]</td>\n",
       "    </tr>\n",
       "    <tr>\n",
       "      <th>7</th>\n",
       "      <td>2008000270</td>\n",
       "      <td>87,555.00</td>\n",
       "      <td>(85000, 90000]</td>\n",
       "    </tr>\n",
       "  </tbody>\n",
       "</table>\n",
       "</div>"
      ],
      "text/plain": [
       "           id  expected_profit expected_profit_binned\n",
       "0  7129300520        66,570.00         (65000, 70000]\n",
       "2  5631500400        54,000.00         (50000, 55000]\n",
       "4  1954400510       153,000.00       (150000, 155000]\n",
       "6  1321400060        77,250.00         (75000, 80000]\n",
       "7  2008000270        87,555.00         (85000, 90000]"
      ]
     },
     "execution_count": 36,
     "metadata": {},
     "output_type": "execute_result"
    }
   ],
   "source": [
    "# filtering data for better plot visualization\n",
    "\n",
    "aux2 = df4[df4['expected_profit']!=0][['id', 'expected_profit']].copy()\n",
    "\n",
    "bin_groups = list(np.arange(0,305000,5000)) # maximum profit = 630,000.00\n",
    "aux2['expected_profit_binned'] = pd.cut(aux2['expected_profit'], bins=bin_groups)\n",
    "\n",
    "aux2.head()"
   ]
  },
  {
   "cell_type": "code",
   "execution_count": 37,
   "id": "oriental-pearl",
   "metadata": {
    "ExecuteTime": {
     "end_time": "2021-06-15T14:16:42.151629Z",
     "start_time": "2021-06-15T14:16:42.120600Z"
    },
    "cell_style": "split"
   },
   "outputs": [
    {
     "data": {
      "text/html": [
       "<div>\n",
       "<style scoped>\n",
       "    .dataframe tbody tr th:only-of-type {\n",
       "        vertical-align: middle;\n",
       "    }\n",
       "\n",
       "    .dataframe tbody tr th {\n",
       "        vertical-align: top;\n",
       "    }\n",
       "\n",
       "    .dataframe thead th {\n",
       "        text-align: right;\n",
       "    }\n",
       "</style>\n",
       "<table border=\"1\" class=\"dataframe\">\n",
       "  <thead>\n",
       "    <tr style=\"text-align: right;\">\n",
       "      <th></th>\n",
       "      <th>expected_profit_binned</th>\n",
       "      <th>id_</th>\n",
       "      <th>expected_profit</th>\n",
       "    </tr>\n",
       "  </thead>\n",
       "  <tbody>\n",
       "    <tr>\n",
       "      <th>0</th>\n",
       "      <td>(0, 5000]</td>\n",
       "      <td>0</td>\n",
       "      <td>0.00</td>\n",
       "    </tr>\n",
       "    <tr>\n",
       "      <th>1</th>\n",
       "      <td>(5000, 10000]</td>\n",
       "      <td>6</td>\n",
       "      <td>51,550.00</td>\n",
       "    </tr>\n",
       "    <tr>\n",
       "      <th>2</th>\n",
       "      <td>(10000, 15000]</td>\n",
       "      <td>22</td>\n",
       "      <td>268,985.00</td>\n",
       "    </tr>\n",
       "    <tr>\n",
       "      <th>3</th>\n",
       "      <td>(15000, 20000]</td>\n",
       "      <td>37</td>\n",
       "      <td>645,611.50</td>\n",
       "    </tr>\n",
       "    <tr>\n",
       "      <th>4</th>\n",
       "      <td>(20000, 25000]</td>\n",
       "      <td>37</td>\n",
       "      <td>836,505.50</td>\n",
       "    </tr>\n",
       "  </tbody>\n",
       "</table>\n",
       "</div>"
      ],
      "text/plain": [
       "  expected_profit_binned  id_  expected_profit\n",
       "0              (0, 5000]    0             0.00\n",
       "1          (5000, 10000]    6        51,550.00\n",
       "2         (10000, 15000]   22       268,985.00\n",
       "3         (15000, 20000]   37       645,611.50\n",
       "4         (20000, 25000]   37       836,505.50"
      ]
     },
     "execution_count": 37,
     "metadata": {},
     "output_type": "execute_result"
    }
   ],
   "source": [
    "a2 = ( aux2.groupby('expected_profit_binned').agg(id_          = ('id', 'count'),\n",
    "                                               expected_profit = ('expected_profit', 'sum')) ).reset_index()\n",
    "\n",
    "\n",
    "\n",
    "\n",
    "\n",
    "a2.head()"
   ]
  },
  {
   "cell_type": "code",
   "execution_count": 38,
   "id": "unlikely-snapshot",
   "metadata": {
    "ExecuteTime": {
     "end_time": "2021-06-15T14:16:42.167643Z",
     "start_time": "2021-06-15T14:16:42.152629Z"
    },
    "cell_style": "split"
   },
   "outputs": [
    {
     "data": {
      "text/html": [
       "<div>\n",
       "<style scoped>\n",
       "    .dataframe tbody tr th:only-of-type {\n",
       "        vertical-align: middle;\n",
       "    }\n",
       "\n",
       "    .dataframe tbody tr th {\n",
       "        vertical-align: top;\n",
       "    }\n",
       "\n",
       "    .dataframe thead th {\n",
       "        text-align: right;\n",
       "    }\n",
       "</style>\n",
       "<table border=\"1\" class=\"dataframe\">\n",
       "  <thead>\n",
       "    <tr style=\"text-align: right;\">\n",
       "      <th></th>\n",
       "      <th>expected_profit_binned</th>\n",
       "      <th>id_</th>\n",
       "      <th>expected_profit</th>\n",
       "    </tr>\n",
       "  </thead>\n",
       "  <tbody>\n",
       "    <tr>\n",
       "      <th>14</th>\n",
       "      <td>(70000, 75000]</td>\n",
       "      <td>667</td>\n",
       "      <td>48,634,393.50</td>\n",
       "    </tr>\n",
       "    <tr>\n",
       "      <th>16</th>\n",
       "      <td>(80000, 85000]</td>\n",
       "      <td>663</td>\n",
       "      <td>54,658,510.70</td>\n",
       "    </tr>\n",
       "    <tr>\n",
       "      <th>17</th>\n",
       "      <td>(85000, 90000]</td>\n",
       "      <td>632</td>\n",
       "      <td>55,536,940.20</td>\n",
       "    </tr>\n",
       "    <tr>\n",
       "      <th>20</th>\n",
       "      <td>(100000, 105000]</td>\n",
       "      <td>600</td>\n",
       "      <td>61,775,729.10</td>\n",
       "    </tr>\n",
       "    <tr>\n",
       "      <th>15</th>\n",
       "      <td>(75000, 80000]</td>\n",
       "      <td>567</td>\n",
       "      <td>44,047,603.50</td>\n",
       "    </tr>\n",
       "  </tbody>\n",
       "</table>\n",
       "</div>"
      ],
      "text/plain": [
       "   expected_profit_binned  id_  expected_profit\n",
       "14         (70000, 75000]  667    48,634,393.50\n",
       "16         (80000, 85000]  663    54,658,510.70\n",
       "17         (85000, 90000]  632    55,536,940.20\n",
       "20       (100000, 105000]  600    61,775,729.10\n",
       "15         (75000, 80000]  567    44,047,603.50"
      ]
     },
     "execution_count": 38,
     "metadata": {},
     "output_type": "execute_result"
    }
   ],
   "source": [
    "a2.sort_values('id_', ascending=False).head()"
   ]
  },
  {
   "cell_type": "code",
   "execution_count": 39,
   "id": "stainless-boundary",
   "metadata": {
    "ExecuteTime": {
     "end_time": "2021-06-15T14:16:42.182657Z",
     "start_time": "2021-06-15T14:16:42.168644Z"
    },
    "cell_style": "split"
   },
   "outputs": [
    {
     "data": {
      "text/html": [
       "<div>\n",
       "<style scoped>\n",
       "    .dataframe tbody tr th:only-of-type {\n",
       "        vertical-align: middle;\n",
       "    }\n",
       "\n",
       "    .dataframe tbody tr th {\n",
       "        vertical-align: top;\n",
       "    }\n",
       "\n",
       "    .dataframe thead th {\n",
       "        text-align: right;\n",
       "    }\n",
       "</style>\n",
       "<table border=\"1\" class=\"dataframe\">\n",
       "  <thead>\n",
       "    <tr style=\"text-align: right;\">\n",
       "      <th></th>\n",
       "      <th>expected_profit_binned</th>\n",
       "      <th>id_</th>\n",
       "      <th>expected_profit</th>\n",
       "    </tr>\n",
       "  </thead>\n",
       "  <tbody>\n",
       "    <tr>\n",
       "      <th>26</th>\n",
       "      <td>(130000, 135000]</td>\n",
       "      <td>549</td>\n",
       "      <td>72,927,582.90</td>\n",
       "    </tr>\n",
       "    <tr>\n",
       "      <th>32</th>\n",
       "      <td>(160000, 165000]</td>\n",
       "      <td>422</td>\n",
       "      <td>68,825,804.10</td>\n",
       "    </tr>\n",
       "    <tr>\n",
       "      <th>29</th>\n",
       "      <td>(145000, 150000]</td>\n",
       "      <td>429</td>\n",
       "      <td>63,515,556.60</td>\n",
       "    </tr>\n",
       "    <tr>\n",
       "      <th>23</th>\n",
       "      <td>(115000, 120000]</td>\n",
       "      <td>531</td>\n",
       "      <td>62,670,374.10</td>\n",
       "    </tr>\n",
       "    <tr>\n",
       "      <th>20</th>\n",
       "      <td>(100000, 105000]</td>\n",
       "      <td>600</td>\n",
       "      <td>61,775,729.10</td>\n",
       "    </tr>\n",
       "  </tbody>\n",
       "</table>\n",
       "</div>"
      ],
      "text/plain": [
       "   expected_profit_binned  id_  expected_profit\n",
       "26       (130000, 135000]  549    72,927,582.90\n",
       "32       (160000, 165000]  422    68,825,804.10\n",
       "29       (145000, 150000]  429    63,515,556.60\n",
       "23       (115000, 120000]  531    62,670,374.10\n",
       "20       (100000, 105000]  600    61,775,729.10"
      ]
     },
     "execution_count": 39,
     "metadata": {},
     "output_type": "execute_result"
    }
   ],
   "source": [
    "a2.sort_values('expected_profit', ascending=False).head()"
   ]
  },
  {
   "cell_type": "code",
   "execution_count": 40,
   "id": "circular-province",
   "metadata": {
    "ExecuteTime": {
     "end_time": "2021-06-15T14:16:45.009055Z",
     "start_time": "2021-06-15T14:16:42.183658Z"
    },
    "cell_style": "split"
   },
   "outputs": [
    {
     "data": {
      "image/png": "[encoded data removed]",
      "text/plain": [
       "<Figure size 1440x1080 with 1 Axes>"
      ]
     },
     "metadata": {},
     "output_type": "display_data"
    }
   ],
   "source": [
    "# id_distribution\n",
    "sns.barplot(data=a2, x='expected_profit_binned', y='id_');\n",
    "plt.xticks(rotation=90);"
   ]
  },
  {
   "cell_type": "code",
   "execution_count": 41,
   "id": "eight-international",
   "metadata": {
    "ExecuteTime": {
     "end_time": "2021-06-15T14:16:47.869653Z",
     "start_time": "2021-06-15T14:16:45.010056Z"
    },
    "cell_style": "split"
   },
   "outputs": [
    {
     "data": {
      "image/png": "[encoded data removed]",
      "text/plain": [
       "<Figure size 1440x1080 with 1 Axes>"
      ]
     },
     "metadata": {},
     "output_type": "display_data"
    }
   ],
   "source": [
    "# profit_distribution\n",
    "sns.barplot(data=a2, x='expected_profit_binned', y='expected_profit');\n",
    "plt.xticks(rotation=90);"
   ]
  },
  {
   "cell_type": "markdown",
   "id": "unable-vietnam",
   "metadata": {},
   "source": [
    "### <font color ='red'> Numerical Variables"
   ]
  },
  {
   "cell_type": "code",
   "execution_count": 42,
   "id": "loaded-purse",
   "metadata": {
    "ExecuteTime": {
     "end_time": "2021-06-15T14:16:47.885668Z",
     "start_time": "2021-06-15T14:16:47.870654Z"
    },
    "cell_style": "center"
   },
   "outputs": [
    {
     "data": {
      "text/plain": [
       "id                       0\n",
       "price                    0\n",
       "bedrooms                 0\n",
       "bathrooms                0\n",
       "sqft_living              0\n",
       "sqft_lot                 0\n",
       "floors                   0\n",
       "waterfront               0\n",
       "condition                0\n",
       "grade                    0\n",
       "sqft_above               0\n",
       "sqft_basement            0\n",
       "yr_built                 0\n",
       "yr_renovated             0\n",
       "zipcode                  0\n",
       "lat                      0\n",
       "long                     0\n",
       "dist_fromlake            0\n",
       "mean_price_zipcode       0\n",
       "decision                 0\n",
       "sale_price_suggestion    0\n",
       "expected_profit          0\n",
       "dtype: int64"
      ]
     },
     "execution_count": 42,
     "metadata": {},
     "output_type": "execute_result"
    }
   ],
   "source": [
    "num_df4.isna().sum()"
   ]
  },
  {
   "cell_type": "code",
   "execution_count": 43,
   "id": "exceptional-aquarium",
   "metadata": {
    "ExecuteTime": {
     "end_time": "2021-06-15T14:16:50.493036Z",
     "start_time": "2021-06-15T14:16:47.888670Z"
    }
   },
   "outputs": [
    {
     "data": {
      "image/png": "[encoded data removed]",
      "text/plain": [
       "<Figure size 1440x1080 with 25 Axes>"
      ]
     },
     "metadata": {},
     "output_type": "display_data"
    }
   ],
   "source": [
    "num_df4.hist(bins=20);\n",
    "plt.tight_layout() "
   ]
  },
  {
   "cell_type": "markdown",
   "id": "threatened-cookbook",
   "metadata": {},
   "source": [
    "#### <font color = 'red'> Analisar cada variável para identificar outliers"
   ]
  },
  {
   "cell_type": "code",
   "execution_count": null,
   "id": "settled-writer",
   "metadata": {},
   "outputs": [],
   "source": []
  },
  {
   "cell_type": "markdown",
   "id": "gorgeous-vocabulary",
   "metadata": {},
   "source": [
    "### <font color ='red'>Categorical Variables"
   ]
  },
  {
   "cell_type": "code",
   "execution_count": 44,
   "id": "built-blocking",
   "metadata": {
    "ExecuteTime": {
     "end_time": "2021-06-15T14:16:50.509050Z",
     "start_time": "2021-06-15T14:16:50.495038Z"
    }
   },
   "outputs": [
    {
     "name": "stdout",
     "output_type": "stream",
     "text": [
      "query            object\n",
      "road             object\n",
      "house_number     object\n",
      "neighbourhood    object\n",
      "city             object\n",
      "county           object\n",
      "state            object\n",
      "season           object\n",
      "dtype: object\n"
     ]
    },
    {
     "data": {
      "text/html": [
       "<div>\n",
       "<style scoped>\n",
       "    .dataframe tbody tr th:only-of-type {\n",
       "        vertical-align: middle;\n",
       "    }\n",
       "\n",
       "    .dataframe tbody tr th {\n",
       "        vertical-align: top;\n",
       "    }\n",
       "\n",
       "    .dataframe thead th {\n",
       "        text-align: right;\n",
       "    }\n",
       "</style>\n",
       "<table border=\"1\" class=\"dataframe\">\n",
       "  <thead>\n",
       "    <tr style=\"text-align: right;\">\n",
       "      <th></th>\n",
       "      <th>query</th>\n",
       "      <th>road</th>\n",
       "      <th>house_number</th>\n",
       "      <th>neighbourhood</th>\n",
       "      <th>city</th>\n",
       "      <th>county</th>\n",
       "      <th>state</th>\n",
       "      <th>season</th>\n",
       "    </tr>\n",
       "  </thead>\n",
       "  <tbody>\n",
       "    <tr>\n",
       "      <th>0</th>\n",
       "      <td>47.5112,-122.257</td>\n",
       "      <td>61st Avenue South</td>\n",
       "      <td>10012</td>\n",
       "      <td>Rainier Beach</td>\n",
       "      <td>Seattle</td>\n",
       "      <td>King County</td>\n",
       "      <td>Washington</td>\n",
       "      <td>autumn</td>\n",
       "    </tr>\n",
       "    <tr>\n",
       "      <th>1</th>\n",
       "      <td>47.721,-122.319</td>\n",
       "      <td>Northeast 127th Street</td>\n",
       "      <td>837</td>\n",
       "      <td>NaN</td>\n",
       "      <td>Seattle</td>\n",
       "      <td>King County</td>\n",
       "      <td>Washington</td>\n",
       "      <td>autumn</td>\n",
       "    </tr>\n",
       "    <tr>\n",
       "      <th>2</th>\n",
       "      <td>47.7379,-122.233</td>\n",
       "      <td>81st Avenue Northeast</td>\n",
       "      <td>15109</td>\n",
       "      <td>NaN</td>\n",
       "      <td>NaN</td>\n",
       "      <td>King County</td>\n",
       "      <td>Washington</td>\n",
       "      <td>winter</td>\n",
       "    </tr>\n",
       "    <tr>\n",
       "      <th>3</th>\n",
       "      <td>47.5208,-122.393</td>\n",
       "      <td>Fauntleroy Way Southwest</td>\n",
       "      <td>9236</td>\n",
       "      <td>NaN</td>\n",
       "      <td>Seattle</td>\n",
       "      <td>King County</td>\n",
       "      <td>Washington</td>\n",
       "      <td>autumn</td>\n",
       "    </tr>\n",
       "    <tr>\n",
       "      <th>4</th>\n",
       "      <td>47.6168,-122.045</td>\n",
       "      <td>221st Avenue Northeast</td>\n",
       "      <td>923</td>\n",
       "      <td>NaN</td>\n",
       "      <td>NaN</td>\n",
       "      <td>King County</td>\n",
       "      <td>Washington</td>\n",
       "      <td>winter</td>\n",
       "    </tr>\n",
       "  </tbody>\n",
       "</table>\n",
       "</div>"
      ],
      "text/plain": [
       "              query                      road house_number  neighbourhood     city       county       state  season\n",
       "0  47.5112,-122.257         61st Avenue South        10012  Rainier Beach  Seattle  King County  Washington  autumn\n",
       "1   47.721,-122.319    Northeast 127th Street          837            NaN  Seattle  King County  Washington  autumn\n",
       "2  47.7379,-122.233     81st Avenue Northeast        15109            NaN      NaN  King County  Washington  winter\n",
       "3  47.5208,-122.393  Fauntleroy Way Southwest         9236            NaN  Seattle  King County  Washington  autumn\n",
       "4  47.6168,-122.045    221st Avenue Northeast          923            NaN      NaN  King County  Washington  winter"
      ]
     },
     "execution_count": 44,
     "metadata": {},
     "output_type": "execute_result"
    }
   ],
   "source": [
    "print(cat_df4.dtypes)\n",
    "cat_df4.head()"
   ]
  },
  {
   "cell_type": "code",
   "execution_count": 45,
   "id": "permanent-effect",
   "metadata": {
    "ExecuteTime": {
     "end_time": "2021-06-15T14:16:50.525065Z",
     "start_time": "2021-06-15T14:16:50.510051Z"
    }
   },
   "outputs": [
    {
     "data": {
      "text/plain": [
       "query                0\n",
       "road               225\n",
       "house_number      1280\n",
       "neighbourhood    14629\n",
       "city             12755\n",
       "county               0\n",
       "state                0\n",
       "season               0\n",
       "dtype: int64"
      ]
     },
     "execution_count": 45,
     "metadata": {},
     "output_type": "execute_result"
    }
   ],
   "source": [
    "cat_df4.isna().sum()"
   ]
  },
  {
   "cell_type": "code",
   "execution_count": 46,
   "id": "impressed-ocean",
   "metadata": {
    "ExecuteTime": {
     "end_time": "2021-06-15T14:16:50.556094Z",
     "start_time": "2021-06-15T14:16:50.526066Z"
    },
    "code_folding": []
   },
   "outputs": [
    {
     "data": {
      "text/html": [
       "<div>\n",
       "<style scoped>\n",
       "    .dataframe tbody tr th:only-of-type {\n",
       "        vertical-align: middle;\n",
       "    }\n",
       "\n",
       "    .dataframe tbody tr th {\n",
       "        vertical-align: top;\n",
       "    }\n",
       "\n",
       "    .dataframe thead th {\n",
       "        text-align: right;\n",
       "    }\n",
       "</style>\n",
       "<table border=\"1\" class=\"dataframe\">\n",
       "  <thead>\n",
       "    <tr style=\"text-align: right;\">\n",
       "      <th></th>\n",
       "      <th>season</th>\n",
       "      <th>id_</th>\n",
       "      <th>price</th>\n",
       "      <th>profit</th>\n",
       "    </tr>\n",
       "  </thead>\n",
       "  <tbody>\n",
       "    <tr>\n",
       "      <th>1</th>\n",
       "      <td>spring</td>\n",
       "      <td>6926</td>\n",
       "      <td>556,775.41</td>\n",
       "      <td>501,992,488.40</td>\n",
       "    </tr>\n",
       "    <tr>\n",
       "      <th>2</th>\n",
       "      <td>summer</td>\n",
       "      <td>6216</td>\n",
       "      <td>537,558.93</td>\n",
       "      <td>473,480,397.00</td>\n",
       "    </tr>\n",
       "    <tr>\n",
       "      <th>0</th>\n",
       "      <td>autumn</td>\n",
       "      <td>4998</td>\n",
       "      <td>526,684.98</td>\n",
       "      <td>377,651,182.10</td>\n",
       "    </tr>\n",
       "    <tr>\n",
       "      <th>3</th>\n",
       "      <td>winter</td>\n",
       "      <td>3814</td>\n",
       "      <td>520,425.99</td>\n",
       "      <td>272,670,413.70</td>\n",
       "    </tr>\n",
       "  </tbody>\n",
       "</table>\n",
       "</div>"
      ],
      "text/plain": [
       "   season   id_      price         profit\n",
       "1  spring  6926 556,775.41 501,992,488.40\n",
       "2  summer  6216 537,558.93 473,480,397.00\n",
       "0  autumn  4998 526,684.98 377,651,182.10\n",
       "3  winter  3814 520,425.99 272,670,413.70"
      ]
     },
     "execution_count": 46,
     "metadata": {},
     "output_type": "execute_result"
    }
   ],
   "source": [
    "# profit overview by season\n",
    "a = ( df4[['id','price','expected_profit','season']].groupby('season')\n",
    "                                                  .agg(id_   = ('id', 'count'),\n",
    "                                                       price  = ('price', 'mean'),\n",
    "                                                       profit = ('expected_profit', 'sum')).reset_index() )\n",
    "a.sort_values('profit', ascending=False)"
   ]
  },
  {
   "cell_type": "markdown",
   "id": "wireless-cooking",
   "metadata": {
    "heading_collapsed": true
   },
   "source": [
    "#### Fill NAs (do it later)"
   ]
  },
  {
   "cell_type": "code",
   "execution_count": 47,
   "id": "major-magic",
   "metadata": {
    "ExecuteTime": {
     "end_time": "2021-06-15T14:16:50.572108Z",
     "start_time": "2021-06-15T14:16:50.557094Z"
    },
    "hidden": true
   },
   "outputs": [],
   "source": [
    "# filling NAs\n",
    "\n",
    "# road               225\n",
    "# house_number      1280\n",
    "# neighbourhood    14629\n",
    "# city             12755"
   ]
  },
  {
   "cell_type": "code",
   "execution_count": 48,
   "id": "ecological-parking",
   "metadata": {
    "ExecuteTime": {
     "end_time": "2021-06-15T14:16:50.588122Z",
     "start_time": "2021-06-15T14:16:50.573109Z"
    },
    "hidden": true
   },
   "outputs": [
    {
     "data": {
      "text/html": [
       "<div>\n",
       "<style scoped>\n",
       "    .dataframe tbody tr th:only-of-type {\n",
       "        vertical-align: middle;\n",
       "    }\n",
       "\n",
       "    .dataframe tbody tr th {\n",
       "        vertical-align: top;\n",
       "    }\n",
       "\n",
       "    .dataframe thead th {\n",
       "        text-align: right;\n",
       "    }\n",
       "</style>\n",
       "<table border=\"1\" class=\"dataframe\">\n",
       "  <thead>\n",
       "    <tr style=\"text-align: right;\">\n",
       "      <th></th>\n",
       "      <th>id</th>\n",
       "      <th>zipcode</th>\n",
       "      <th>query</th>\n",
       "      <th>road</th>\n",
       "      <th>house_number</th>\n",
       "      <th>neighbourhood</th>\n",
       "      <th>city</th>\n",
       "      <th>county</th>\n",
       "    </tr>\n",
       "  </thead>\n",
       "  <tbody>\n",
       "    <tr>\n",
       "      <th>0</th>\n",
       "      <td>7129300520</td>\n",
       "      <td>98178</td>\n",
       "      <td>47.5112,-122.257</td>\n",
       "      <td>61st Avenue South</td>\n",
       "      <td>10012</td>\n",
       "      <td>Rainier Beach</td>\n",
       "      <td>Seattle</td>\n",
       "      <td>King County</td>\n",
       "    </tr>\n",
       "    <tr>\n",
       "      <th>1</th>\n",
       "      <td>6414100192</td>\n",
       "      <td>98125</td>\n",
       "      <td>47.721,-122.319</td>\n",
       "      <td>Northeast 127th Street</td>\n",
       "      <td>837</td>\n",
       "      <td>NaN</td>\n",
       "      <td>Seattle</td>\n",
       "      <td>King County</td>\n",
       "    </tr>\n",
       "    <tr>\n",
       "      <th>2</th>\n",
       "      <td>5631500400</td>\n",
       "      <td>98028</td>\n",
       "      <td>47.7379,-122.233</td>\n",
       "      <td>81st Avenue Northeast</td>\n",
       "      <td>15109</td>\n",
       "      <td>NaN</td>\n",
       "      <td>NaN</td>\n",
       "      <td>King County</td>\n",
       "    </tr>\n",
       "    <tr>\n",
       "      <th>3</th>\n",
       "      <td>2487200875</td>\n",
       "      <td>98136</td>\n",
       "      <td>47.5208,-122.393</td>\n",
       "      <td>Fauntleroy Way Southwest</td>\n",
       "      <td>9236</td>\n",
       "      <td>NaN</td>\n",
       "      <td>Seattle</td>\n",
       "      <td>King County</td>\n",
       "    </tr>\n",
       "    <tr>\n",
       "      <th>4</th>\n",
       "      <td>1954400510</td>\n",
       "      <td>98074</td>\n",
       "      <td>47.6168,-122.045</td>\n",
       "      <td>221st Avenue Northeast</td>\n",
       "      <td>923</td>\n",
       "      <td>NaN</td>\n",
       "      <td>NaN</td>\n",
       "      <td>King County</td>\n",
       "    </tr>\n",
       "  </tbody>\n",
       "</table>\n",
       "</div>"
      ],
      "text/plain": [
       "           id  zipcode             query                      road house_number  neighbourhood     city       county\n",
       "0  7129300520    98178  47.5112,-122.257         61st Avenue South        10012  Rainier Beach  Seattle  King County\n",
       "1  6414100192    98125   47.721,-122.319    Northeast 127th Street          837            NaN  Seattle  King County\n",
       "2  5631500400    98028  47.7379,-122.233     81st Avenue Northeast        15109            NaN      NaN  King County\n",
       "3  2487200875    98136  47.5208,-122.393  Fauntleroy Way Southwest         9236            NaN  Seattle  King County\n",
       "4  1954400510    98074  47.6168,-122.045    221st Avenue Northeast          923            NaN      NaN  King County"
      ]
     },
     "execution_count": 48,
     "metadata": {},
     "output_type": "execute_result"
    }
   ],
   "source": [
    "address = df4[['id', 'zipcode', 'query', 'road', 'house_number', 'neighbourhood', 'city', 'county']]\n",
    "address.head()"
   ]
  },
  {
   "cell_type": "code",
   "execution_count": 49,
   "id": "practical-bottom",
   "metadata": {
    "ExecuteTime": {
     "end_time": "2021-06-15T14:16:50.603136Z",
     "start_time": "2021-06-15T14:16:50.589123Z"
    },
    "hidden": true
   },
   "outputs": [
    {
     "name": "stdout",
     "output_type": "stream",
     "text": [
      "(70, 2)\n"
     ]
    },
    {
     "data": {
      "text/html": [
       "<div>\n",
       "<style scoped>\n",
       "    .dataframe tbody tr th:only-of-type {\n",
       "        vertical-align: middle;\n",
       "    }\n",
       "\n",
       "    .dataframe tbody tr th {\n",
       "        vertical-align: top;\n",
       "    }\n",
       "\n",
       "    .dataframe thead th {\n",
       "        text-align: right;\n",
       "    }\n",
       "</style>\n",
       "<table border=\"1\" class=\"dataframe\">\n",
       "  <thead>\n",
       "    <tr style=\"text-align: right;\">\n",
       "      <th></th>\n",
       "      <th>zipcode</th>\n",
       "      <th>neighbourhood</th>\n",
       "    </tr>\n",
       "  </thead>\n",
       "  <tbody>\n",
       "    <tr>\n",
       "      <th>0</th>\n",
       "      <td>98001</td>\n",
       "      <td>40</td>\n",
       "    </tr>\n",
       "    <tr>\n",
       "      <th>1</th>\n",
       "      <td>98002</td>\n",
       "      <td>30</td>\n",
       "    </tr>\n",
       "    <tr>\n",
       "      <th>2</th>\n",
       "      <td>98003</td>\n",
       "      <td>87</td>\n",
       "    </tr>\n",
       "    <tr>\n",
       "      <th>3</th>\n",
       "      <td>98004</td>\n",
       "      <td>52</td>\n",
       "    </tr>\n",
       "    <tr>\n",
       "      <th>4</th>\n",
       "      <td>98005</td>\n",
       "      <td>70</td>\n",
       "    </tr>\n",
       "  </tbody>\n",
       "</table>\n",
       "</div>"
      ],
      "text/plain": [
       "   zipcode  neighbourhood\n",
       "0    98001             40\n",
       "1    98002             30\n",
       "2    98003             87\n",
       "3    98004             52\n",
       "4    98005             70"
      ]
     },
     "execution_count": 49,
     "metadata": {},
     "output_type": "execute_result"
    }
   ],
   "source": [
    "a = address[['zipcode', 'neighbourhood']].groupby('zipcode').count().reset_index()\n",
    "print(a.shape)\n",
    "a.head()"
   ]
  },
  {
   "cell_type": "code",
   "execution_count": 50,
   "id": "difficult-cable",
   "metadata": {
    "ExecuteTime": {
     "end_time": "2021-06-15T14:16:50.619151Z",
     "start_time": "2021-06-15T14:16:50.604137Z"
    },
    "hidden": true
   },
   "outputs": [
    {
     "data": {
      "text/plain": [
       "array([nan, 'Stuck', 'Riverpointe'], dtype=object)"
      ]
     },
     "execution_count": 50,
     "metadata": {},
     "output_type": "execute_result"
    }
   ],
   "source": [
    "a = address[address['zipcode']==98002][['zipcode', 'neighbourhood']]\n",
    "a['neighbourhood'].unique()"
   ]
  },
  {
   "cell_type": "code",
   "execution_count": 51,
   "id": "major-redhead",
   "metadata": {
    "ExecuteTime": {
     "end_time": "2021-06-15T14:16:50.634164Z",
     "start_time": "2021-06-15T14:16:50.620151Z"
    },
    "hidden": true
   },
   "outputs": [
    {
     "name": "stdout",
     "output_type": "stream",
     "text": [
      "(70, 2)\n"
     ]
    },
    {
     "data": {
      "text/html": [
       "<div>\n",
       "<style scoped>\n",
       "    .dataframe tbody tr th:only-of-type {\n",
       "        vertical-align: middle;\n",
       "    }\n",
       "\n",
       "    .dataframe tbody tr th {\n",
       "        vertical-align: top;\n",
       "    }\n",
       "\n",
       "    .dataframe thead th {\n",
       "        text-align: right;\n",
       "    }\n",
       "</style>\n",
       "<table border=\"1\" class=\"dataframe\">\n",
       "  <thead>\n",
       "    <tr style=\"text-align: right;\">\n",
       "      <th></th>\n",
       "      <th>zipcode</th>\n",
       "      <th>id</th>\n",
       "    </tr>\n",
       "  </thead>\n",
       "  <tbody>\n",
       "    <tr>\n",
       "      <th>0</th>\n",
       "      <td>98001</td>\n",
       "      <td>327</td>\n",
       "    </tr>\n",
       "    <tr>\n",
       "      <th>1</th>\n",
       "      <td>98002</td>\n",
       "      <td>173</td>\n",
       "    </tr>\n",
       "    <tr>\n",
       "      <th>2</th>\n",
       "      <td>98003</td>\n",
       "      <td>201</td>\n",
       "    </tr>\n",
       "    <tr>\n",
       "      <th>3</th>\n",
       "      <td>98004</td>\n",
       "      <td>269</td>\n",
       "    </tr>\n",
       "    <tr>\n",
       "      <th>4</th>\n",
       "      <td>98005</td>\n",
       "      <td>98</td>\n",
       "    </tr>\n",
       "  </tbody>\n",
       "</table>\n",
       "</div>"
      ],
      "text/plain": [
       "   zipcode   id\n",
       "0    98001  327\n",
       "1    98002  173\n",
       "2    98003  201\n",
       "3    98004  269\n",
       "4    98005   98"
      ]
     },
     "execution_count": 51,
     "metadata": {},
     "output_type": "execute_result"
    }
   ],
   "source": [
    "a = address[address['neighbourhood'].isnull()][['zipcode', 'id']].groupby('zipcode').count().reset_index()\n",
    "print(a.shape)\n",
    "a.head()"
   ]
  },
  {
   "cell_type": "code",
   "execution_count": 52,
   "id": "military-offering",
   "metadata": {
    "ExecuteTime": {
     "end_time": "2021-06-15T14:16:50.650178Z",
     "start_time": "2021-06-15T14:16:50.635165Z"
    },
    "hidden": true
   },
   "outputs": [
    {
     "name": "stdout",
     "output_type": "stream",
     "text": [
      "(52, 2)\n"
     ]
    },
    {
     "data": {
      "text/html": [
       "<div>\n",
       "<style scoped>\n",
       "    .dataframe tbody tr th:only-of-type {\n",
       "        vertical-align: middle;\n",
       "    }\n",
       "\n",
       "    .dataframe tbody tr th {\n",
       "        vertical-align: top;\n",
       "    }\n",
       "\n",
       "    .dataframe thead th {\n",
       "        text-align: right;\n",
       "    }\n",
       "</style>\n",
       "<table border=\"1\" class=\"dataframe\">\n",
       "  <thead>\n",
       "    <tr style=\"text-align: right;\">\n",
       "      <th></th>\n",
       "      <th>zipcode</th>\n",
       "      <th>id</th>\n",
       "    </tr>\n",
       "  </thead>\n",
       "  <tbody>\n",
       "    <tr>\n",
       "      <th>0</th>\n",
       "      <td>98001</td>\n",
       "      <td>367</td>\n",
       "    </tr>\n",
       "    <tr>\n",
       "      <th>1</th>\n",
       "      <td>98002</td>\n",
       "      <td>203</td>\n",
       "    </tr>\n",
       "    <tr>\n",
       "      <th>2</th>\n",
       "      <td>98003</td>\n",
       "      <td>288</td>\n",
       "    </tr>\n",
       "    <tr>\n",
       "      <th>3</th>\n",
       "      <td>98004</td>\n",
       "      <td>82</td>\n",
       "    </tr>\n",
       "    <tr>\n",
       "      <th>4</th>\n",
       "      <td>98006</td>\n",
       "      <td>1</td>\n",
       "    </tr>\n",
       "  </tbody>\n",
       "</table>\n",
       "</div>"
      ],
      "text/plain": [
       "   zipcode   id\n",
       "0    98001  367\n",
       "1    98002  203\n",
       "2    98003  288\n",
       "3    98004   82\n",
       "4    98006    1"
      ]
     },
     "execution_count": 52,
     "metadata": {},
     "output_type": "execute_result"
    }
   ],
   "source": [
    "a = address[address['city'].isnull()][['zipcode', 'id']].groupby('zipcode').count().reset_index()\n",
    "print(a.shape)\n",
    "a.head()"
   ]
  },
  {
   "cell_type": "code",
   "execution_count": 53,
   "id": "abstract-commons",
   "metadata": {
    "ExecuteTime": {
     "end_time": "2021-06-15T14:16:50.666193Z",
     "start_time": "2021-06-15T14:16:50.651180Z"
    },
    "hidden": true
   },
   "outputs": [
    {
     "data": {
      "text/html": [
       "<div>\n",
       "<style scoped>\n",
       "    .dataframe tbody tr th:only-of-type {\n",
       "        vertical-align: middle;\n",
       "    }\n",
       "\n",
       "    .dataframe tbody tr th {\n",
       "        vertical-align: top;\n",
       "    }\n",
       "\n",
       "    .dataframe thead th {\n",
       "        text-align: right;\n",
       "    }\n",
       "</style>\n",
       "<table border=\"1\" class=\"dataframe\">\n",
       "  <thead>\n",
       "    <tr style=\"text-align: right;\">\n",
       "      <th></th>\n",
       "      <th>county</th>\n",
       "      <th>id</th>\n",
       "    </tr>\n",
       "  </thead>\n",
       "  <tbody>\n",
       "    <tr>\n",
       "      <th>0</th>\n",
       "      <td>King County</td>\n",
       "      <td>21937</td>\n",
       "    </tr>\n",
       "    <tr>\n",
       "      <th>1</th>\n",
       "      <td>Pierce County</td>\n",
       "      <td>15</td>\n",
       "    </tr>\n",
       "    <tr>\n",
       "      <th>2</th>\n",
       "      <td>Snohomish County</td>\n",
       "      <td>2</td>\n",
       "    </tr>\n",
       "  </tbody>\n",
       "</table>\n",
       "</div>"
      ],
      "text/plain": [
       "             county     id\n",
       "0       King County  21937\n",
       "1     Pierce County     15\n",
       "2  Snohomish County      2"
      ]
     },
     "execution_count": 53,
     "metadata": {},
     "output_type": "execute_result"
    }
   ],
   "source": [
    "a = df4[['id', 'county']].groupby('county').count().reset_index()\n",
    "a\n",
    "\n",
    "# avaliar deletar outliers qdo for preencher os NAs"
   ]
  },
  {
   "cell_type": "code",
   "execution_count": 54,
   "id": "classified-auditor",
   "metadata": {
    "ExecuteTime": {
     "end_time": "2021-06-15T14:16:50.682208Z",
     "start_time": "2021-06-15T14:16:50.667194Z"
    },
    "hidden": true
   },
   "outputs": [
    {
     "data": {
      "text/html": [
       "<div>\n",
       "<style scoped>\n",
       "    .dataframe tbody tr th:only-of-type {\n",
       "        vertical-align: middle;\n",
       "    }\n",
       "\n",
       "    .dataframe tbody tr th {\n",
       "        vertical-align: top;\n",
       "    }\n",
       "\n",
       "    .dataframe thead th {\n",
       "        text-align: right;\n",
       "    }\n",
       "</style>\n",
       "<table border=\"1\" class=\"dataframe\">\n",
       "  <thead>\n",
       "    <tr style=\"text-align: right;\">\n",
       "      <th></th>\n",
       "      <th>city</th>\n",
       "      <th>id</th>\n",
       "    </tr>\n",
       "  </thead>\n",
       "  <tbody>\n",
       "    <tr>\n",
       "      <th>0</th>\n",
       "      <td>Bellevue</td>\n",
       "      <td>1347</td>\n",
       "    </tr>\n",
       "    <tr>\n",
       "      <th>1</th>\n",
       "      <td>Kent</td>\n",
       "      <td>5</td>\n",
       "    </tr>\n",
       "    <tr>\n",
       "      <th>2</th>\n",
       "      <td>King County</td>\n",
       "      <td>2</td>\n",
       "    </tr>\n",
       "    <tr>\n",
       "      <th>3</th>\n",
       "      <td>Seattle</td>\n",
       "      <td>7193</td>\n",
       "    </tr>\n",
       "    <tr>\n",
       "      <th>4</th>\n",
       "      <td>Shoreline</td>\n",
       "      <td>652</td>\n",
       "    </tr>\n",
       "  </tbody>\n",
       "</table>\n",
       "</div>"
      ],
      "text/plain": [
       "          city    id\n",
       "0     Bellevue  1347\n",
       "1         Kent     5\n",
       "2  King County     2\n",
       "3      Seattle  7193\n",
       "4    Shoreline   652"
      ]
     },
     "execution_count": 54,
     "metadata": {},
     "output_type": "execute_result"
    }
   ],
   "source": [
    "a = df4[['id', 'city']].groupby('city').count().reset_index()\n",
    "a\n",
    "\n",
    "# avaliar deletar outliers qdo for preencher os NAs"
   ]
  },
  {
   "cell_type": "markdown",
   "id": "surrounded-asbestos",
   "metadata": {},
   "source": [
    "## <font color='red'>Bivariate Analysis"
   ]
  },
  {
   "cell_type": "code",
   "execution_count": 55,
   "id": "indie-trick",
   "metadata": {
    "ExecuteTime": {
     "end_time": "2021-06-15T14:16:50.698222Z",
     "start_time": "2021-06-15T14:16:50.683210Z"
    }
   },
   "outputs": [
    {
     "name": "stdout",
     "output_type": "stream",
     "text": [
      "Hypothesis Resume \n",
      "\n",
      "\n",
      "Hypothesis    Conclusion    Relevance\n",
      "------------  ------------  -----------\n",
      "H1            False         Low\n",
      "H2            False         Medium\n",
      "H3            False         Medium\n",
      "H4            False         Low\n",
      "H5            False         Low\n",
      "H6            False         Low\n",
      "H7            False         Low\n",
      "H8            False         Low\n",
      "H9            False         High\n",
      "H10           True          High\n",
      "H11           True          High\n",
      "H12           True          High\n"
     ]
    }
   ],
   "source": [
    "print('Hypothesis Resume \\n\\n')\n",
    "tab = [ ['Hypothesis', 'Conclusion', 'Relevance'],\n",
    "        ['H1','False','Low'],\n",
    "        ['H2','False','Medium'],\n",
    "        ['H3','False','Medium'],\n",
    "        ['H4','False','Low'],\n",
    "        ['H5','False','Low'],\n",
    "        ['H6','False','Low'],\n",
    "        ['H7','False','Low'],\n",
    "        ['H8','False','Low'],\n",
    "        ['H9','False','High'],\n",
    "        ['H10','True','High'],\n",
    "        ['H11','True','High'],\n",
    "        ['H12','True','High'],\n",
    "      ]\n",
    "\n",
    "print(tabulate(tab, headers = 'firstrow'))"
   ]
  },
  {
   "cell_type": "markdown",
   "id": "bearing-earthquake",
   "metadata": {},
   "source": [
    "1. Properties that have water view are 50% more expensive.\n",
    "2. Properties with basements have higher grade\n",
    "3. Properties with basements have bigger 'sqft_living'\n",
    "4. Properties with basements are 15% more expensive\n",
    "5. Properties with more than 2 bathrooms are 20% more expensive\n",
    "6. Properties with more than 2 bedrooms are 25% more expensive\n",
    "7. Properties with more than 1 floor are 10% more expensive\n",
    "8. Properties that were not renovated are 40% cheaper\n",
    "9. Properties that were not renovated in the last 5 years are 15% cheaper\n",
    "10. Properties that were built in the last 5 years are cheaper than properties that were renovated in the last 5 years\n",
    "11. Most properties (+50%) became available during summer/spring\n",
    "12. Properties available during summer/spring are 20% more expensive.\n",
    "13. More than half properties are localized in a xkm radio from the lake.\n",
    "14. Properties selected to be bought that are localized in a xkm radio from the lake results on 20% more profit"
   ]
  },
  {
   "cell_type": "markdown",
   "id": "noted-knowing",
   "metadata": {},
   "source": [
    "### Properties that have water view are 50% more expensive\n",
    "**False:** Properties that have water view are more than 300% more expensive"
   ]
  },
  {
   "cell_type": "code",
   "execution_count": 56,
   "id": "prescribed-uzbekistan",
   "metadata": {
    "ExecuteTime": {
     "end_time": "2021-06-15T14:16:50.714237Z",
     "start_time": "2021-06-15T14:16:50.699223Z"
    }
   },
   "outputs": [
    {
     "name": "stdout",
     "output_type": "stream",
     "text": [
      "   waterfront        price\n",
      "0           0   529,763.81\n",
      "1           1 1,661,876.02\n",
      "\n",
      "Properties that have water view are 213.70 % more expensive\n"
     ]
    }
   ],
   "source": [
    "a = df4[['waterfront', 'price']].groupby('waterfront').mean().reset_index()\n",
    "print(a)\n",
    "\n",
    "hasnot_waterfront = a.iloc[0,1]\n",
    "has_waterfront = a.iloc[1,1]\n",
    "\n",
    "percentage = abs( ((has_waterfront - hasnot_waterfront) / hasnot_waterfront)*100 )\n",
    "print('\\nProperties that have water view are', '{:,.2f}'.format(percentage),'% more expensive')"
   ]
  },
  {
   "cell_type": "markdown",
   "id": "prerequisite-therapist",
   "metadata": {},
   "source": [
    "### Properties with basements have higher grade\n",
    "**True:** Properties with basements have a <font color ='blue'> slightly <font color='black'> lower grade"
   ]
  },
  {
   "cell_type": "code",
   "execution_count": 57,
   "id": "pretty-legislature",
   "metadata": {
    "ExecuteTime": {
     "end_time": "2021-06-15T14:16:50.906411Z",
     "start_time": "2021-06-15T14:16:50.715238Z"
    },
    "cell_style": "split",
    "code_folding": [
     0
    ]
   },
   "outputs": [
    {
     "data": {
      "image/png": "[encoded data removed]",
      "text/plain": [
       "<Figure size 1440x1080 with 1 Axes>"
      ]
     },
     "metadata": {},
     "output_type": "display_data"
    }
   ],
   "source": [
    "# properties with basement\n",
    "\n",
    "a = df4[df4['sqft_basement']!=0][['id', 'grade', 'sqft_basement']].copy()\n",
    "#print(a.head(), '\\n')\n",
    "#print(a.shape)\n",
    "\n",
    "has_basement = a[['id','grade']].groupby('grade').count().reset_index()\n",
    "plt.bar(has_basement['grade'], has_basement['id'])\n",
    "plt.rcParams['figure.figsize'] = (10,8)"
   ]
  },
  {
   "cell_type": "code",
   "execution_count": 58,
   "id": "minimal-creature",
   "metadata": {
    "ExecuteTime": {
     "end_time": "2021-06-15T14:16:51.050542Z",
     "start_time": "2021-06-15T14:16:50.907412Z"
    },
    "cell_style": "split",
    "code_folding": [
     0
    ]
   },
   "outputs": [
    {
     "data": {
      "image/png": "[encoded data removed]",
      "text/plain": [
       "<Figure size 720x576 with 1 Axes>"
      ]
     },
     "metadata": {},
     "output_type": "display_data"
    }
   ],
   "source": [
    "# properties without basement\n",
    "\n",
    "a = df4[df4['sqft_basement']==0][['id', 'grade', 'sqft_basement']].copy()\n",
    "#print(a.head(), '\\n')\n",
    "#print(a.shape)\n",
    "\n",
    "hasnot_basement = a[['id','grade']].groupby('grade').count().reset_index()\n",
    "plt.bar(hasnot_basement['grade'], hasnot_basement['id'])\n",
    "plt.rcParams['figure.figsize'] = (10,8)"
   ]
  },
  {
   "cell_type": "code",
   "execution_count": 59,
   "id": "whole-national",
   "metadata": {
    "ExecuteTime": {
     "end_time": "2021-06-15T14:16:51.066557Z",
     "start_time": "2021-06-15T14:16:51.051543Z"
    },
    "code_folding": []
   },
   "outputs": [
    {
     "name": "stdout",
     "output_type": "stream",
     "text": [
      "Weighted Average for properties with basement: 7.7276314262504355\n",
      "Weighted Average for properties without basement: 7.59616105570968\n",
      "\n",
      "Small difference, not relevant\n"
     ]
    }
   ],
   "source": [
    "# weighted average mean\n",
    "w_avg_has = np.average(np.array(has_basement['grade']), weights=np.array(has_basement['id']))\n",
    "print('Weighted Average for properties with basement:', w_avg_has)\n",
    "\n",
    "w_avg_hasnot = np.average(np.array(hasnot_basement['grade']), weights=np.array(hasnot_basement['id']))\n",
    "print('Weighted Average for properties without basement:', w_avg_hasnot)\n",
    "\n",
    "print('\\nSmall difference, not relevant')"
   ]
  },
  {
   "cell_type": "markdown",
   "id": "institutional-triumph",
   "metadata": {},
   "source": [
    "### Properties with basements have bigger 'sqft_living'\n",
    "**True:** Properties with basement have bigger sqft_living on average."
   ]
  },
  {
   "cell_type": "code",
   "execution_count": 60,
   "id": "federal-peninsula",
   "metadata": {
    "ExecuteTime": {
     "end_time": "2021-06-15T14:16:51.082571Z",
     "start_time": "2021-06-15T14:16:51.067558Z"
    },
    "cell_style": "split"
   },
   "outputs": [
    {
     "data": {
      "text/plain": [
       "sqft_living   2,309.89\n",
       "dtype: float64"
      ]
     },
     "execution_count": 60,
     "metadata": {},
     "output_type": "execute_result"
    }
   ],
   "source": [
    "has_basement = df4[df4['sqft_basement']!=0][['sqft_living']].mean()\n",
    "has_basement"
   ]
  },
  {
   "cell_type": "code",
   "execution_count": 61,
   "id": "proprietary-ceramic",
   "metadata": {
    "ExecuteTime": {
     "end_time": "2021-06-15T14:16:51.098586Z",
     "start_time": "2021-06-15T14:16:51.083572Z"
    },
    "cell_style": "split"
   },
   "outputs": [
    {
     "data": {
      "text/plain": [
       "sqft_living   1,922.47\n",
       "dtype: float64"
      ]
     },
     "execution_count": 61,
     "metadata": {},
     "output_type": "execute_result"
    }
   ],
   "source": [
    "hasnot_basement = df4[df4['sqft_basement']==0][['sqft_living']].mean()\n",
    "hasnot_basement"
   ]
  },
  {
   "cell_type": "markdown",
   "id": "pointed-desire",
   "metadata": {},
   "source": [
    "### Properties with basements are 15% more expensive\n",
    "**False:** Properties with basement are 21.86 % cheaper"
   ]
  },
  {
   "cell_type": "code",
   "execution_count": 62,
   "id": "guided-cradle",
   "metadata": {
    "ExecuteTime": {
     "end_time": "2021-06-15T14:16:51.114601Z",
     "start_time": "2021-06-15T14:16:51.099587Z"
    },
    "cell_style": "center"
   },
   "outputs": [
    {
     "name": "stdout",
     "output_type": "stream",
     "text": [
      "Average price of properties with basement: 484910.8693859189\n",
      "Average price of properties without basement: 620600.3026575374\n",
      "Properties with basement are 21.86 % cheaper\n"
     ]
    }
   ],
   "source": [
    "has_basement = df4[df4['sqft_basement']==0][['price']].mean()[0]\n",
    "print('Average price of properties with basement:', has_basement)\n",
    "\n",
    "hasnot_basement = df4[df4['sqft_basement']!=0][['price']].mean()[0]\n",
    "print('Average price of properties without basement:', hasnot_basement)\n",
    "\n",
    "percentage = abs( ((has_basement - hasnot_basement) / hasnot_basement)*100 )\n",
    "print('Properties with basement are', '{:,.2f}'.format(percentage),'% cheaper')"
   ]
  },
  {
   "cell_type": "markdown",
   "id": "alternate-syracuse",
   "metadata": {},
   "source": [
    "### Properties with 1 to 2 bathrooms are 20% more expensive than properties with up to 1 bathroom\n",
    "**False:** Properties with 1 to 2 bathrooms are 68.12 % more expensive"
   ]
  },
  {
   "cell_type": "code",
   "execution_count": 63,
   "id": "durable-reference",
   "metadata": {
    "ExecuteTime": {
     "end_time": "2021-06-15T14:16:51.130615Z",
     "start_time": "2021-06-15T14:16:51.115602Z"
    },
    "scrolled": false
   },
   "outputs": [
    {
     "name": "stdout",
     "output_type": "stream",
     "text": [
      "Average price of properties with up to 1 bathroom 288486.107924337\n",
      "Average price of properties with 1 to 2 bathroom 485004.8813805919\n",
      "Properties with 1 to 2 bathrooms are 68.12 % more expensive\n"
     ]
    }
   ],
   "source": [
    "a = df4[['id', 'bathrooms', 'price']].copy()\n",
    "a.head()\n",
    "\n",
    "b = (a.groupby('bathrooms').agg(id_       = ('id', 'count'),\n",
    "                                avg_price = ('price', 'mean'))).reset_index()\n",
    "\n",
    "b1 = b[b['bathrooms']<=1]\n",
    "b1_mean = b1['avg_price'].mean()\n",
    "print('Average price of properties with up to 1 bathroom', b1_mean)\n",
    "\n",
    "b2= b[(b['bathrooms']>1) & (b['bathrooms']<=2)]\n",
    "b2_mean = b2['avg_price'].mean()\n",
    "print('Average price of properties with 1 to 2 bathroom', b2_mean)\n",
    "\n",
    "percentage = abs( ((b2_mean - b1_mean) / b1_mean)*100 )\n",
    "print('Properties with 1 to 2 bathrooms are', '{:,.2f}'.format(percentage),'% more expensive')"
   ]
  },
  {
   "cell_type": "markdown",
   "id": "known-experience",
   "metadata": {},
   "source": [
    "### Properties with 3 bedrooms are  25% more expensive than those which have 2 bedrooms\n",
    "**False:** Properties with 3 bedroms are  15.83 % more expensive"
   ]
  },
  {
   "cell_type": "code",
   "execution_count": 64,
   "id": "southern-evanescence",
   "metadata": {
    "ExecuteTime": {
     "end_time": "2021-06-15T14:16:51.146630Z",
     "start_time": "2021-06-15T14:16:51.131616Z"
    }
   },
   "outputs": [
    {
     "name": "stdout",
     "output_type": "stream",
     "text": [
      "Average price of properties with 2 bedrooms is 400972.7037037037\n",
      "Average price of properties with 3 bedrooms is 464446.54804234917\n",
      "Properties with 3 bedroms are  15.83 % more expensive\n"
     ]
    }
   ],
   "source": [
    "a = df4[['id', 'bedrooms', 'price']].copy()\n",
    "a.head()\n",
    "\n",
    "b = (a.groupby('bedrooms').agg(id_       = ('id', 'count'),\n",
    "                               avg_price = ('price', 'mean'))).reset_index()\n",
    "\n",
    "b2 = b.iloc[1,2]\n",
    "b3 = b.iloc[2,2]\n",
    "\n",
    "print('Average price of properties with 2 bedrooms is', b2)\n",
    "print('Average price of properties with 3 bedrooms is', b3)\n",
    "\n",
    "percentage = abs( ((b3 - b2) / b2)*100 )\n",
    "print('Properties with 3 bedroms are ', '{:,.2f}'.format(percentage),'% more expensive')"
   ]
  },
  {
   "cell_type": "markdown",
   "id": "color-qatar",
   "metadata": {},
   "source": [
    "### Properties with 2 floors are 15% more expensive than those with 1 floor\n",
    "**False:** Properties with 2 floors are 30.32 % more expensive"
   ]
  },
  {
   "cell_type": "code",
   "execution_count": 65,
   "id": "interstate-consortium",
   "metadata": {
    "ExecuteTime": {
     "end_time": "2021-06-15T14:16:51.162645Z",
     "start_time": "2021-06-15T14:16:51.147631Z"
    }
   },
   "outputs": [
    {
     "name": "stdout",
     "output_type": "stream",
     "text": [
      "Average price of properties with up to 1 bathroom 497893.1709914863\n",
      "Average price of properties with 1 to 2 bathroom 648851.0908652687\n",
      "Properties with 2 floors are 30.32 % more expensive\n"
     ]
    }
   ],
   "source": [
    "a = df4[['id', 'floors', 'price']].copy()\n",
    "a.head()\n",
    "\n",
    "b = (a.groupby('floors').agg(id_       = ('id', 'count'),\n",
    "                             avg_price = ('price', 'mean'))).reset_index()\n",
    "b.head()\n",
    "\n",
    "f1 = b[b['floors']<2]\n",
    "f1_mean = f1['avg_price'].mean()\n",
    "print('Average price of properties with up to 1 bathroom', f1_mean)\n",
    "\n",
    "f2= b[b['floors']==2]\n",
    "f2_mean = f2['avg_price'].mean()\n",
    "print('Average price of properties with 1 to 2 bathroom', f2_mean)\n",
    "\n",
    "percentage = abs( ((f2_mean - f1_mean) / f1_mean)*100 )\n",
    "print('Properties with 2 floors are', '{:,.2f}'.format(percentage),'% more expensive')"
   ]
  },
  {
   "cell_type": "markdown",
   "id": "joined-baseline",
   "metadata": {},
   "source": [
    "### Properties that were not renovated are 40% cheaper\n",
    "lambda error"
   ]
  },
  {
   "cell_type": "code",
   "execution_count": 66,
   "id": "regulation-language",
   "metadata": {
    "ExecuteTime": {
     "end_time": "2021-06-15T14:16:51.178659Z",
     "start_time": "2021-06-15T14:16:51.163645Z"
    }
   },
   "outputs": [
    {
     "data": {
      "text/html": [
       "<div>\n",
       "<style scoped>\n",
       "    .dataframe tbody tr th:only-of-type {\n",
       "        vertical-align: middle;\n",
       "    }\n",
       "\n",
       "    .dataframe tbody tr th {\n",
       "        vertical-align: top;\n",
       "    }\n",
       "\n",
       "    .dataframe thead th {\n",
       "        text-align: right;\n",
       "    }\n",
       "</style>\n",
       "<table border=\"1\" class=\"dataframe\">\n",
       "  <thead>\n",
       "    <tr style=\"text-align: right;\">\n",
       "      <th></th>\n",
       "      <th>id</th>\n",
       "      <th>date</th>\n",
       "      <th>price</th>\n",
       "      <th>bedrooms</th>\n",
       "      <th>bathrooms</th>\n",
       "      <th>sqft_living</th>\n",
       "      <th>sqft_lot</th>\n",
       "      <th>floors</th>\n",
       "      <th>waterfront</th>\n",
       "      <th>condition</th>\n",
       "      <th>grade</th>\n",
       "      <th>sqft_above</th>\n",
       "      <th>sqft_basement</th>\n",
       "      <th>yr_built</th>\n",
       "      <th>yr_renovated</th>\n",
       "      <th>zipcode</th>\n",
       "      <th>lat</th>\n",
       "      <th>long</th>\n",
       "      <th>query</th>\n",
       "      <th>road</th>\n",
       "      <th>house_number</th>\n",
       "      <th>neighbourhood</th>\n",
       "      <th>city</th>\n",
       "      <th>county</th>\n",
       "      <th>state</th>\n",
       "      <th>season</th>\n",
       "      <th>dist_fromlake</th>\n",
       "      <th>mean_price_zipcode</th>\n",
       "      <th>decision</th>\n",
       "      <th>sale_price_suggestion</th>\n",
       "      <th>expected_profit</th>\n",
       "    </tr>\n",
       "  </thead>\n",
       "  <tbody>\n",
       "    <tr>\n",
       "      <th>0</th>\n",
       "      <td>7129300520</td>\n",
       "      <td>2014-10-13</td>\n",
       "      <td>221,900.00</td>\n",
       "      <td>3</td>\n",
       "      <td>1.00</td>\n",
       "      <td>1180</td>\n",
       "      <td>5650</td>\n",
       "      <td>1.00</td>\n",
       "      <td>0</td>\n",
       "      <td>3</td>\n",
       "      <td>7</td>\n",
       "      <td>1180</td>\n",
       "      <td>0</td>\n",
       "      <td>1955</td>\n",
       "      <td>0</td>\n",
       "      <td>98178</td>\n",
       "      <td>47.51</td>\n",
       "      <td>-122.26</td>\n",
       "      <td>47.5112,-122.257</td>\n",
       "      <td>61st Avenue South</td>\n",
       "      <td>10012</td>\n",
       "      <td>Rainier Beach</td>\n",
       "      <td>Seattle</td>\n",
       "      <td>King County</td>\n",
       "      <td>Washington</td>\n",
       "      <td>autumn</td>\n",
       "      <td>14.42</td>\n",
       "      <td>308,464.60</td>\n",
       "      <td>1</td>\n",
       "      <td>288,470.00</td>\n",
       "      <td>66,570.00</td>\n",
       "    </tr>\n",
       "    <tr>\n",
       "      <th>1</th>\n",
       "      <td>6414100192</td>\n",
       "      <td>2014-12-09</td>\n",
       "      <td>538,000.00</td>\n",
       "      <td>3</td>\n",
       "      <td>2.25</td>\n",
       "      <td>2570</td>\n",
       "      <td>7242</td>\n",
       "      <td>2.00</td>\n",
       "      <td>0</td>\n",
       "      <td>3</td>\n",
       "      <td>7</td>\n",
       "      <td>2170</td>\n",
       "      <td>400</td>\n",
       "      <td>1951</td>\n",
       "      <td>1991</td>\n",
       "      <td>98125</td>\n",
       "      <td>47.72</td>\n",
       "      <td>-122.32</td>\n",
       "      <td>47.721,-122.319</td>\n",
       "      <td>Northeast 127th Street</td>\n",
       "      <td>837</td>\n",
       "      <td>NaN</td>\n",
       "      <td>Seattle</td>\n",
       "      <td>King County</td>\n",
       "      <td>Washington</td>\n",
       "      <td>autumn</td>\n",
       "      <td>9.97</td>\n",
       "      <td>467,786.68</td>\n",
       "      <td>0</td>\n",
       "      <td>0.00</td>\n",
       "      <td>0.00</td>\n",
       "    </tr>\n",
       "    <tr>\n",
       "      <th>2</th>\n",
       "      <td>5631500400</td>\n",
       "      <td>2015-02-25</td>\n",
       "      <td>180,000.00</td>\n",
       "      <td>2</td>\n",
       "      <td>1.00</td>\n",
       "      <td>770</td>\n",
       "      <td>10000</td>\n",
       "      <td>1.00</td>\n",
       "      <td>0</td>\n",
       "      <td>3</td>\n",
       "      <td>6</td>\n",
       "      <td>770</td>\n",
       "      <td>0</td>\n",
       "      <td>1933</td>\n",
       "      <td>0</td>\n",
       "      <td>98028</td>\n",
       "      <td>47.74</td>\n",
       "      <td>-122.23</td>\n",
       "      <td>47.7379,-122.233</td>\n",
       "      <td>81st Avenue Northeast</td>\n",
       "      <td>15109</td>\n",
       "      <td>NaN</td>\n",
       "      <td>NaN</td>\n",
       "      <td>King County</td>\n",
       "      <td>Washington</td>\n",
       "      <td>winter</td>\n",
       "      <td>10.97</td>\n",
       "      <td>463,190.70</td>\n",
       "      <td>1</td>\n",
       "      <td>234,000.00</td>\n",
       "      <td>54,000.00</td>\n",
       "    </tr>\n",
       "    <tr>\n",
       "      <th>3</th>\n",
       "      <td>2487200875</td>\n",
       "      <td>2014-12-09</td>\n",
       "      <td>604,000.00</td>\n",
       "      <td>4</td>\n",
       "      <td>3.00</td>\n",
       "      <td>1960</td>\n",
       "      <td>5000</td>\n",
       "      <td>1.00</td>\n",
       "      <td>0</td>\n",
       "      <td>5</td>\n",
       "      <td>7</td>\n",
       "      <td>1050</td>\n",
       "      <td>910</td>\n",
       "      <td>1965</td>\n",
       "      <td>0</td>\n",
       "      <td>98136</td>\n",
       "      <td>47.52</td>\n",
       "      <td>-122.39</td>\n",
       "      <td>47.5208,-122.393</td>\n",
       "      <td>Fauntleroy Way Southwest</td>\n",
       "      <td>9236</td>\n",
       "      <td>NaN</td>\n",
       "      <td>Seattle</td>\n",
       "      <td>King County</td>\n",
       "      <td>Washington</td>\n",
       "      <td>autumn</td>\n",
       "      <td>16.70</td>\n",
       "      <td>551,688.67</td>\n",
       "      <td>0</td>\n",
       "      <td>0.00</td>\n",
       "      <td>0.00</td>\n",
       "    </tr>\n",
       "    <tr>\n",
       "      <th>4</th>\n",
       "      <td>1954400510</td>\n",
       "      <td>2015-02-18</td>\n",
       "      <td>510,000.00</td>\n",
       "      <td>3</td>\n",
       "      <td>2.00</td>\n",
       "      <td>1680</td>\n",
       "      <td>8080</td>\n",
       "      <td>1.00</td>\n",
       "      <td>0</td>\n",
       "      <td>3</td>\n",
       "      <td>8</td>\n",
       "      <td>1680</td>\n",
       "      <td>0</td>\n",
       "      <td>1987</td>\n",
       "      <td>0</td>\n",
       "      <td>98074</td>\n",
       "      <td>47.62</td>\n",
       "      <td>-122.05</td>\n",
       "      <td>47.6168,-122.045</td>\n",
       "      <td>221st Avenue Northeast</td>\n",
       "      <td>923</td>\n",
       "      <td>NaN</td>\n",
       "      <td>NaN</td>\n",
       "      <td>King County</td>\n",
       "      <td>Washington</td>\n",
       "      <td>winter</td>\n",
       "      <td>16.28</td>\n",
       "      <td>680,605.73</td>\n",
       "      <td>1</td>\n",
       "      <td>663,000.00</td>\n",
       "      <td>153,000.00</td>\n",
       "    </tr>\n",
       "  </tbody>\n",
       "</table>\n",
       "</div>"
      ],
      "text/plain": [
       "           id       date      price  bedrooms  bathrooms  sqft_living  sqft_lot  floors  waterfront  condition  grade  sqft_above  sqft_basement  yr_built  yr_renovated  zipcode   lat    long             query                      road house_number  neighbourhood     city       county       state  season  dist_fromlake  mean_price_zipcode  decision  sale_price_suggestion  expected_profit\n",
       "0  7129300520 2014-10-13 221,900.00         3       1.00         1180      5650    1.00           0          3      7        1180              0      1955             0    98178 47.51 -122.26  47.5112,-122.257         61st Avenue South        10012  Rainier Beach  Seattle  King County  Washington  autumn          14.42          308,464.60         1             288,470.00        66,570.00\n",
       "1  6414100192 2014-12-09 538,000.00         3       2.25         2570      7242    2.00           0          3      7        2170            400      1951          1991    98125 47.72 -122.32   47.721,-122.319    Northeast 127th Street          837            NaN  Seattle  King County  Washington  autumn           9.97          467,786.68         0                   0.00             0.00\n",
       "2  5631500400 2015-02-25 180,000.00         2       1.00          770     10000    1.00           0          3      6         770              0      1933             0    98028 47.74 -122.23  47.7379,-122.233     81st Avenue Northeast        15109            NaN      NaN  King County  Washington  winter          10.97          463,190.70         1             234,000.00        54,000.00\n",
       "3  2487200875 2014-12-09 604,000.00         4       3.00         1960      5000    1.00           0          5      7        1050            910      1965             0    98136 47.52 -122.39  47.5208,-122.393  Fauntleroy Way Southwest         9236            NaN  Seattle  King County  Washington  autumn          16.70          551,688.67         0                   0.00             0.00\n",
       "4  1954400510 2015-02-18 510,000.00         3       2.00         1680      8080    1.00           0          3      8        1680              0      1987             0    98074 47.62 -122.05  47.6168,-122.045    221st Avenue Northeast          923            NaN      NaN  King County  Washington  winter          16.28          680,605.73         1             663,000.00       153,000.00"
      ]
     },
     "execution_count": 66,
     "metadata": {},
     "output_type": "execute_result"
    }
   ],
   "source": [
    "df4.head()"
   ]
  },
  {
   "cell_type": "code",
   "execution_count": 67,
   "id": "authentic-arrow",
   "metadata": {
    "ExecuteTime": {
     "end_time": "2021-06-15T14:16:51.194673Z",
     "start_time": "2021-06-15T14:16:51.179660Z"
    }
   },
   "outputs": [
    {
     "ename": "SyntaxError",
     "evalue": "invalid syntax (<ipython-input-67-7a68d13eb7d6>, line 3)",
     "output_type": "error",
     "traceback": [
      "\u001b[1;36m  File \u001b[1;32m\"<ipython-input-67-7a68d13eb7d6>\"\u001b[1;36m, line \u001b[1;32m3\u001b[0m\n\u001b[1;33m    a['was_renovated'] = a.apply(lambda x: 0 if x['yr_renovated']==0 else 1 if x['yr_renovated']!=0, axis=1)\u001b[0m\n\u001b[1;37m                                                                                                   ^\u001b[0m\n\u001b[1;31mSyntaxError\u001b[0m\u001b[1;31m:\u001b[0m invalid syntax\n"
     ]
    }
   ],
   "source": [
    "a = df4[['id', 'price', 'yr_renovated']].copy()\n",
    "\n",
    "a['was_renovated'] = a.apply(lambda x: 0 if x['yr_renovated']==0 else 1 if x['yr_renovated']!=0, axis=1)\n",
    "\n",
    "a.head()"
   ]
  },
  {
   "cell_type": "code",
   "execution_count": null,
   "id": "universal-offense",
   "metadata": {},
   "outputs": [],
   "source": []
  },
  {
   "cell_type": "markdown",
   "id": "present-candle",
   "metadata": {},
   "source": [
    "### Properties that were not renovated in the last 5 years are 15% cheaper"
   ]
  },
  {
   "cell_type": "code",
   "execution_count": null,
   "id": "nasty-authorization",
   "metadata": {
    "ExecuteTime": {
     "end_time": "2021-06-15T14:16:51.195675Z",
     "start_time": "2021-06-15T14:16:34.265Z"
    }
   },
   "outputs": [],
   "source": [
    "df4.head()"
   ]
  },
  {
   "cell_type": "code",
   "execution_count": null,
   "id": "subtle-killing",
   "metadata": {
    "ExecuteTime": {
     "end_time": "2021-06-15T14:16:51.196675Z",
     "start_time": "2021-06-15T14:16:34.460Z"
    }
   },
   "outputs": [],
   "source": [
    "a = df4[['id', 'price', 'yr_renovated']].copy()"
   ]
  },
  {
   "cell_type": "code",
   "execution_count": null,
   "id": "municipal-scanner",
   "metadata": {
    "ExecuteTime": {
     "end_time": "2021-06-15T14:16:51.196675Z",
     "start_time": "2021-06-15T14:16:34.650Z"
    }
   },
   "outputs": [],
   "source": [
    "a['was_renovated'] = a['was_renovated'].apply(lambda x: 1 if a['yr_renovated']!=0 else 0, axis=1)"
   ]
  },
  {
   "cell_type": "code",
   "execution_count": null,
   "id": "champion-vegetarian",
   "metadata": {},
   "outputs": [],
   "source": []
  },
  {
   "cell_type": "code",
   "execution_count": null,
   "id": "biblical-france",
   "metadata": {},
   "outputs": [],
   "source": []
  },
  {
   "cell_type": "markdown",
   "id": "front-breakfast",
   "metadata": {},
   "source": [
    "### Properties that were built in the last 5 years are cheaper than properties that were renovated in the last 5 years"
   ]
  },
  {
   "cell_type": "code",
   "execution_count": null,
   "id": "aboriginal-james",
   "metadata": {},
   "outputs": [],
   "source": []
  },
  {
   "cell_type": "code",
   "execution_count": null,
   "id": "infrared-meter",
   "metadata": {},
   "outputs": [],
   "source": []
  },
  {
   "cell_type": "markdown",
   "id": "religious-object",
   "metadata": {},
   "source": [
    "### Most properties (+50%) became available during summer/spring\n",
    "**True:** Almost 60% of the properties became available during summer/spring"
   ]
  },
  {
   "cell_type": "code",
   "execution_count": null,
   "id": "rational-barcelona",
   "metadata": {
    "ExecuteTime": {
     "end_time": "2021-06-15T14:16:51.197676Z",
     "start_time": "2021-06-15T14:16:36.087Z"
    }
   },
   "outputs": [],
   "source": [
    "a = df4[['season', 'id']].copy()\n",
    "\n",
    "a['SS_AW'] = a.apply(lambda x: 'SS' if x['season']=='summer' \n",
    "                          else 'SS' if x['season']=='spring' else 'AW', axis=1)\n",
    "\n",
    "\n",
    "b = a[['SS_AW', 'id']].groupby('SS_AW').count().sort_values('id', ascending=False).reset_index()\n",
    "b['cumultive_%']=b['id'].cumsum()/b['id'].sum()*100\n",
    "b.head()"
   ]
  },
  {
   "cell_type": "markdown",
   "id": "wanted-cylinder",
   "metadata": {},
   "source": [
    "### Properties available during summer/spring are 20% more expensive."
   ]
  },
  {
   "cell_type": "code",
   "execution_count": null,
   "id": "irish-canvas",
   "metadata": {
    "ExecuteTime": {
     "end_time": "2021-06-15T14:16:51.198677Z",
     "start_time": "2021-06-15T14:16:36.477Z"
    }
   },
   "outputs": [],
   "source": [
    "a = df4[['id', 'season', 'price']].copy()\n",
    "\n",
    "a['SS_AW'] = a.apply(lambda x: 'SS' if x['season']=='summer' \n",
    "                          else 'SS' if x['season']=='spring' else 'AW', axis=1)\n",
    "\n",
    "a.sample(5)"
   ]
  },
  {
   "cell_type": "code",
   "execution_count": null,
   "id": "cooperative-accounting",
   "metadata": {
    "ExecuteTime": {
     "end_time": "2021-06-15T14:16:51.199678Z",
     "start_time": "2021-06-15T14:16:36.661Z"
    }
   },
   "outputs": [],
   "source": [
    "b_SS = a[a['season']=='SS']\n",
    "w_avg_SS = np.average(np.array(b_SS['price']), weights=np.array(b_SS['id']))\n",
    "print(w_avg_SS)\n",
    "\n",
    "w_avg_AW = np.average(np.array(a['price']), weights=np.array(a['id']))"
   ]
  },
  {
   "cell_type": "code",
   "execution_count": null,
   "id": "anticipated-quebec",
   "metadata": {
    "ExecuteTime": {
     "end_time": "2021-06-15T14:16:51.199678Z",
     "start_time": "2021-06-15T14:16:36.840Z"
    }
   },
   "outputs": [],
   "source": [
    "b = (a.groupby('SS_AW').agg(id_          = ('id', 'count'),\n",
    "                            price_min    = ('price', 'min'),\n",
    "                            price_max    = ('price', 'max'),\n",
    "                            price_median = ('price', 'median'),\n",
    "                            price_mean   = ('price', 'mean')) ).sort_values('price_mean', ascending=False).reset_index()\n",
    "\n",
    "SS_mean = b.iloc[0,5]\n",
    "AW_mean = b.iloc[1,5]\n",
    "\n",
    "percentage = abs( ((SS_mean - AW_mean) / SS_mean)*100 )\n",
    "print('Properties with available during Summer/Spring are', '{:,.2f}'.format(percentage),'% more expensive')\n",
    "\n",
    "\n",
    "\n",
    "\n",
    "\n",
    "b.head()"
   ]
  },
  {
   "cell_type": "markdown",
   "id": "pharmaceutical-wings",
   "metadata": {},
   "source": [
    "### Most properties (+50%) are localized in a 15km radio from the lake.\n",
    "**True:** 50% of the properties are localized in a 15km radio from the lake."
   ]
  },
  {
   "cell_type": "code",
   "execution_count": null,
   "id": "written-fireplace",
   "metadata": {
    "ExecuteTime": {
     "end_time": "2021-06-15T14:16:51.200679Z",
     "start_time": "2021-06-15T14:16:37.237Z"
    }
   },
   "outputs": [],
   "source": [
    "a = df4[['id', 'dist_fromlake']].copy()\n",
    "\n",
    "bin_groups = list(np.arange(0,75,15)) # maximum dist =~ 71\n",
    "a['dist_fromlake_binned'] = pd.cut(a['dist_fromlake'], bins=bin_groups)\n",
    "\n",
    "b = a[['dist_fromlake_binned', 'id']].groupby('dist_fromlake_binned').count().sort_values('id', ascending=False).reset_index()\n",
    "\n",
    "b['cumultive_%']=b['id'].cumsum()/b['id'].sum()*100\n",
    "\n",
    "b.head()"
   ]
  },
  {
   "cell_type": "markdown",
   "id": "fuzzy-illustration",
   "metadata": {},
   "source": [
    "### Most of properties (+50%) that should be bought are in a 15km radius from the lake\n",
    "**True:** 50% of properties that should be bought are in a 15km radius from the lake"
   ]
  },
  {
   "cell_type": "code",
   "execution_count": null,
   "id": "daily-baker",
   "metadata": {
    "ExecuteTime": {
     "end_time": "2021-06-15T14:16:51.201680Z",
     "start_time": "2021-06-15T14:16:37.668Z"
    }
   },
   "outputs": [],
   "source": [
    "a = df4[df4['decision']!=0][['id', 'dist_fromlake', 'decision']].copy()\n",
    "\n",
    "bin_groups = list(np.arange(0,75,15)) # maximum dist =~ 71 km\n",
    "a['dist_fromlake_binned'] = pd.cut(a['dist_fromlake'], bins=bin_groups)\n",
    "a.head()\n",
    "\n",
    "b = a[['dist_fromlake_binned', 'decision']].groupby('dist_fromlake_binned').count().sort_values('decision', ascending=False).reset_index()\n",
    "\n",
    "b['cumultive_%']=b['decision'].cumsum()/b['decision'].sum()*100\n",
    "\n",
    "b.head()"
   ]
  },
  {
   "cell_type": "markdown",
   "id": "dressed-fifth",
   "metadata": {},
   "source": [
    "### Properties selected to be bought that are localized in a 15km radio from the lake results on 30% more profit on average\n",
    "**True:** Properties in a 15km radius from the lake results on 30% more profit on average"
   ]
  },
  {
   "cell_type": "code",
   "execution_count": null,
   "id": "elder-mouse",
   "metadata": {
    "ExecuteTime": {
     "end_time": "2021-06-15T14:16:51.202680Z",
     "start_time": "2021-06-15T14:16:38.083Z"
    }
   },
   "outputs": [],
   "source": [
    "a = df4[df4['expected_profit']!=0][['id', 'dist_fromlake', 'expected_profit']].copy()\n",
    "\n",
    "bin_groups = list(np.arange(0,75,15)) # maximum dist =~ 71\n",
    "a['dist_fromlake_binned'] = pd.cut(a['dist_fromlake'], bins=bin_groups)\n",
    "a.head()\n",
    "\n",
    "b = ( a[['dist_fromlake_binned', 'expected_profit']].groupby('dist_fromlake_binned')\n",
    "                                                .agg(profit_min    = ('expected_profit', 'min'),\n",
    "                                                     profit_max    = ('expected_profit', 'max'),\n",
    "                                                     profit_median = ('expected_profit', 'median'),\n",
    "                                                     profit_mean   = ('expected_profit', 'mean') ) ).reset_index()\n",
    "b.head()"
   ]
  },
  {
   "cell_type": "code",
   "execution_count": null,
   "id": "structural-characteristic",
   "metadata": {
    "ExecuteTime": {
     "end_time": "2021-06-15T14:16:51.203682Z",
     "start_time": "2021-06-15T14:16:38.269Z"
    },
    "scrolled": false
   },
   "outputs": [],
   "source": [
    "b['profit_diff_%']=0\n",
    "b['profit_diff_%'][0] = 0\n",
    "b['profit_diff_%'][1] = -((b.iloc[0,4] / b.iloc[1,4])-1)*100\n",
    "b['profit_diff_%'][2] = -((b.iloc[0,4] / b.iloc[2,4])-1)*100\n",
    "b['profit_diff_%'][3] = -((b.iloc[0,4] / b.iloc[3,4])-1)*100\n",
    "\n",
    "\n",
    "b.head()"
   ]
  },
  {
   "cell_type": "markdown",
   "id": "gorgeous-diversity",
   "metadata": {},
   "source": [
    "#### lixinho"
   ]
  },
  {
   "cell_type": "code",
   "execution_count": null,
   "id": "heavy-share",
   "metadata": {
    "ExecuteTime": {
     "end_time": "2021-06-15T14:16:51.203682Z",
     "start_time": "2021-06-15T14:16:38.681Z"
    }
   },
   "outputs": [],
   "source": [
    "# df3[df3['sqft_basement']>0]['bathrooms'].unique()\n",
    "\n",
    "# df3[['sqft_basement','sqft_above','sqft_living','sqft_lot','bedrooms','bathrooms']].sample(10)"
   ]
  },
  {
   "cell_type": "code",
   "execution_count": null,
   "id": "manual-decrease",
   "metadata": {
    "ExecuteTime": {
     "end_time": "2021-06-15T14:16:51.204683Z",
     "start_time": "2021-06-15T14:16:38.886Z"
    }
   },
   "outputs": [],
   "source": [
    "a = df3[['date','season']].groupby('season').count().reset_index()\n",
    "#a['percentage'] = a.loc['date']/a['date'].shape[0]\n",
    "a"
   ]
  },
  {
   "cell_type": "code",
   "execution_count": null,
   "id": "dental-leisure",
   "metadata": {
    "ExecuteTime": {
     "end_time": "2021-06-15T14:16:51.205684Z",
     "start_time": "2021-06-15T14:16:39.074Z"
    }
   },
   "outputs": [],
   "source": [
    "df3[df3['dist_fromlake']>=20][['id','dist_fromlake']].shape[0]\n",
    "df3[df3['dist_fromlake']<=20][['id','dist_fromlake']].shape[0]\n",
    "sns.distplot(df3['dist_fromlake'], kde=True)"
   ]
  },
  {
   "cell_type": "code",
   "execution_count": null,
   "id": "graphic-matthew",
   "metadata": {
    "ExecuteTime": {
     "end_time": "2021-06-15T14:16:51.206684Z",
     "start_time": "2021-06-15T14:16:39.274Z"
    }
   },
   "outputs": [],
   "source": [
    "sns.boxplot(df3['dist_fromlake'])"
   ]
  },
  {
   "cell_type": "code",
   "execution_count": null,
   "id": "brilliant-debate",
   "metadata": {
    "ExecuteTime": {
     "end_time": "2021-06-15T14:16:51.207685Z",
     "start_time": "2021-06-15T14:16:39.472Z"
    }
   },
   "outputs": [],
   "source": [
    "# 80% property zone\n",
    "# a = df[['id','neighbourhood']].groupby('neighbourhood').count().sort_values('id',ascending=False).reset_index()\n",
    "# a ['cum_percentage'] = a['id'].cumsum()/a['id'].sum()*100\n",
    "# a\n",
    "\n",
    "# fig, axes = plt.subplots()\n",
    "# ax1 = a.plot(use_index=True, x='neighbourhood', y='id',  kind='bar', ax=axes)\n",
    "# ax2 = a.plot(use_index=True, x='neighbourhood', y='cum_percentage', marker='D', color=\"C1\", kind='line', ax=axes, secondary_y=True)\n",
    "# ax2.set_ylim([0,110])"
   ]
  },
  {
   "cell_type": "code",
   "execution_count": null,
   "id": "changing-screen",
   "metadata": {
    "ExecuteTime": {
     "end_time": "2021-06-15T14:16:51.208686Z",
     "start_time": "2021-06-15T14:16:39.665Z"
    }
   },
   "outputs": [],
   "source": [
    "sns.boxplot (x='bedrooms' ,y='price' ,data=df4)"
   ]
  },
  {
   "cell_type": "code",
   "execution_count": null,
   "id": "eight-quarterly",
   "metadata": {},
   "outputs": [],
   "source": []
  },
  {
   "cell_type": "markdown",
   "id": "nervous-intermediate",
   "metadata": {},
   "source": [
    "## Multivariate Analysis"
   ]
  },
  {
   "cell_type": "markdown",
   "id": "hungry-homeless",
   "metadata": {},
   "source": [
    "### Numerical Attributes"
   ]
  },
  {
   "cell_type": "code",
   "execution_count": null,
   "id": "daily-apparel",
   "metadata": {
    "ExecuteTime": {
     "end_time": "2021-06-15T14:16:51.209687Z",
     "start_time": "2021-06-15T14:16:40.432Z"
    }
   },
   "outputs": [],
   "source": [
    "correlation = num_df4.corr(method='pearson')\n",
    "sns.set(font_scale=1.2)\n",
    "sns.heatmap(correlation, cmap='YlOrRd', annot=True, \n",
    "            annot_kws= {'fontsize':'small'},\n",
    "            linewidths=0.8, square=True );"
   ]
  },
  {
   "cell_type": "markdown",
   "id": "embedded-taylor",
   "metadata": {},
   "source": [
    "### Categorical Attributes"
   ]
  },
  {
   "cell_type": "code",
   "execution_count": null,
   "id": "champion-surgeon",
   "metadata": {
    "ExecuteTime": {
     "end_time": "2021-06-15T14:16:51.210689Z",
     "start_time": "2021-06-15T14:16:40.860Z"
    }
   },
   "outputs": [],
   "source": [
    "print(cat_df4.shape)\n",
    "cat_df4.head()"
   ]
  },
  {
   "cell_type": "markdown",
   "id": "fuzzy-bonus",
   "metadata": {},
   "source": [
    "# <font color ='red'>Conclusion and Visualization"
   ]
  },
  {
   "cell_type": "code",
   "execution_count": 88,
   "id": "twelve-invention",
   "metadata": {
    "ExecuteTime": {
     "end_time": "2021-06-15T15:26:58.633787Z",
     "start_time": "2021-06-15T15:26:58.624779Z"
    }
   },
   "outputs": [],
   "source": [
    "df5=df4.copy()"
   ]
  },
  {
   "cell_type": "markdown",
   "id": "adult-illinois",
   "metadata": {
    "heading_collapsed": true
   },
   "source": [
    "## Mainly Insights"
   ]
  },
  {
   "cell_type": "code",
   "execution_count": 90,
   "id": "documentary-facial",
   "metadata": {
    "ExecuteTime": {
     "end_time": "2021-06-15T15:26:59.928468Z",
     "start_time": "2021-06-15T15:26:59.912453Z"
    },
    "hidden": true
   },
   "outputs": [],
   "source": [
    "# Hypothesis"
   ]
  },
  {
   "cell_type": "code",
   "execution_count": null,
   "id": "based-segment",
   "metadata": {
    "hidden": true
   },
   "outputs": [],
   "source": []
  },
  {
   "cell_type": "code",
   "execution_count": null,
   "id": "broadband-northwest",
   "metadata": {
    "hidden": true
   },
   "outputs": [],
   "source": []
  },
  {
   "cell_type": "markdown",
   "id": "buried-courage",
   "metadata": {
    "heading_collapsed": true
   },
   "source": [
    "## Decision Overview"
   ]
  },
  {
   "cell_type": "code",
   "execution_count": 91,
   "id": "critical-necessity",
   "metadata": {
    "ExecuteTime": {
     "end_time": "2021-06-15T15:27:02.756037Z",
     "start_time": "2021-06-15T15:27:02.732015Z"
    },
    "hidden": true
   },
   "outputs": [
    {
     "data": {
      "text/html": [
       "<div>\n",
       "<style scoped>\n",
       "    .dataframe tbody tr th:only-of-type {\n",
       "        vertical-align: middle;\n",
       "    }\n",
       "\n",
       "    .dataframe tbody tr th {\n",
       "        vertical-align: top;\n",
       "    }\n",
       "\n",
       "    .dataframe thead th {\n",
       "        text-align: right;\n",
       "    }\n",
       "</style>\n",
       "<table border=\"1\" class=\"dataframe\">\n",
       "  <thead>\n",
       "    <tr style=\"text-align: right;\">\n",
       "      <th></th>\n",
       "      <th>id</th>\n",
       "      <th>zipcode</th>\n",
       "      <th>condition</th>\n",
       "      <th>price</th>\n",
       "      <th>mean_price_zipcode</th>\n",
       "      <th>decision</th>\n",
       "    </tr>\n",
       "  </thead>\n",
       "  <tbody>\n",
       "    <tr>\n",
       "      <th>19853</th>\n",
       "      <td>7011201325</td>\n",
       "      <td>98119</td>\n",
       "      <td>5</td>\n",
       "      <td>1,010,000.00</td>\n",
       "      <td>849,448.02</td>\n",
       "      <td>0</td>\n",
       "    </tr>\n",
       "    <tr>\n",
       "      <th>14593</th>\n",
       "      <td>6071300180</td>\n",
       "      <td>98006</td>\n",
       "      <td>4</td>\n",
       "      <td>525,000.00</td>\n",
       "      <td>864,383.54</td>\n",
       "      <td>1</td>\n",
       "    </tr>\n",
       "    <tr>\n",
       "      <th>18467</th>\n",
       "      <td>5418500970</td>\n",
       "      <td>98115</td>\n",
       "      <td>4</td>\n",
       "      <td>725,000.00</td>\n",
       "      <td>619,173.31</td>\n",
       "      <td>0</td>\n",
       "    </tr>\n",
       "    <tr>\n",
       "      <th>16118</th>\n",
       "      <td>7436300170</td>\n",
       "      <td>98033</td>\n",
       "      <td>3</td>\n",
       "      <td>411,000.00</td>\n",
       "      <td>803,558.37</td>\n",
       "      <td>1</td>\n",
       "    </tr>\n",
       "    <tr>\n",
       "      <th>19992</th>\n",
       "      <td>1442880510</td>\n",
       "      <td>98045</td>\n",
       "      <td>3</td>\n",
       "      <td>499,431.00</td>\n",
       "      <td>438,187.11</td>\n",
       "      <td>0</td>\n",
       "    </tr>\n",
       "    <tr>\n",
       "      <th>21002</th>\n",
       "      <td>726059485</td>\n",
       "      <td>98011</td>\n",
       "      <td>3</td>\n",
       "      <td>496,000.00</td>\n",
       "      <td>489,078.86</td>\n",
       "      <td>0</td>\n",
       "    </tr>\n",
       "    <tr>\n",
       "      <th>10230</th>\n",
       "      <td>3822200105</td>\n",
       "      <td>98125</td>\n",
       "      <td>3</td>\n",
       "      <td>380,000.00</td>\n",
       "      <td>467,786.68</td>\n",
       "      <td>1</td>\n",
       "    </tr>\n",
       "    <tr>\n",
       "      <th>4057</th>\n",
       "      <td>2023039160</td>\n",
       "      <td>98070</td>\n",
       "      <td>3</td>\n",
       "      <td>525,000.00</td>\n",
       "      <td>485,773.92</td>\n",
       "      <td>0</td>\n",
       "    </tr>\n",
       "    <tr>\n",
       "      <th>2524</th>\n",
       "      <td>5416100160</td>\n",
       "      <td>98022</td>\n",
       "      <td>4</td>\n",
       "      <td>353,000.00</td>\n",
       "      <td>315,709.30</td>\n",
       "      <td>0</td>\n",
       "    </tr>\n",
       "    <tr>\n",
       "      <th>11622</th>\n",
       "      <td>109200390</td>\n",
       "      <td>98023</td>\n",
       "      <td>4</td>\n",
       "      <td>245,000.00</td>\n",
       "      <td>284,437.93</td>\n",
       "      <td>1</td>\n",
       "    </tr>\n",
       "  </tbody>\n",
       "</table>\n",
       "</div>"
      ],
      "text/plain": [
       "               id  zipcode  condition        price  mean_price_zipcode  decision\n",
       "19853  7011201325    98119          5 1,010,000.00          849,448.02         0\n",
       "14593  6071300180    98006          4   525,000.00          864,383.54         1\n",
       "18467  5418500970    98115          4   725,000.00          619,173.31         0\n",
       "16118  7436300170    98033          3   411,000.00          803,558.37         1\n",
       "19992  1442880510    98045          3   499,431.00          438,187.11         0\n",
       "21002   726059485    98011          3   496,000.00          489,078.86         0\n",
       "10230  3822200105    98125          3   380,000.00          467,786.68         1\n",
       "4057   2023039160    98070          3   525,000.00          485,773.92         0\n",
       "2524   5416100160    98022          4   353,000.00          315,709.30         0\n",
       "11622   109200390    98023          4   245,000.00          284,437.93         1"
      ]
     },
     "execution_count": 91,
     "metadata": {},
     "output_type": "execute_result"
    }
   ],
   "source": [
    "decision = df5[['id', 'zipcode','condition', 'price', 'mean_price_zipcode', 'decision']].copy()\n",
    "decision.sample(10)"
   ]
  },
  {
   "cell_type": "code",
   "execution_count": null,
   "id": "related-happening",
   "metadata": {
    "ExecuteTime": {
     "end_time": "2021-06-15T14:16:51.214692Z",
     "start_time": "2021-06-15T14:16:43.712Z"
    },
    "hidden": true
   },
   "outputs": [],
   "source": [
    "# plot map with widgets"
   ]
  },
  {
   "cell_type": "markdown",
   "id": "brown-distinction",
   "metadata": {
    "heading_collapsed": true
   },
   "source": [
    "## Expected Profit Overview"
   ]
  },
  {
   "cell_type": "code",
   "execution_count": null,
   "id": "fabulous-parts",
   "metadata": {
    "hidden": true
   },
   "outputs": [],
   "source": []
  },
  {
   "cell_type": "code",
   "execution_count": null,
   "id": "operational-integral",
   "metadata": {
    "ExecuteTime": {
     "end_time": "2021-06-15T14:16:51.215693Z",
     "start_time": "2021-06-15T14:16:44.276Z"
    },
    "hidden": true
   },
   "outputs": [],
   "source": [
    "# plot map with widgets"
   ]
  },
  {
   "cell_type": "code",
   "execution_count": null,
   "id": "improving-player",
   "metadata": {
    "hidden": true
   },
   "outputs": [],
   "source": []
  },
  {
   "cell_type": "code",
   "execution_count": null,
   "id": "sharp-insider",
   "metadata": {
    "hidden": true
   },
   "outputs": [],
   "source": []
  },
  {
   "cell_type": "code",
   "execution_count": null,
   "id": "stone-tower",
   "metadata": {
    "hidden": true
   },
   "outputs": [],
   "source": [
    "\n",
    "# ======== Quais os imóveis que a House Rocket deveria comprar e por qual preço?\n",
    "#          tabela / Relatório com sugestão de compra com valor recomendados\n",
    "# Agrupar dados por região\n",
    "# Dentro de cada região, encontrar a mediana do preço de imóveis\n",
    "# Sugerir que imóveis que estão abaixo do preço mediano de cada região e que estejam em boas condições sejam comprados\n",
    "# \t\t\tExemplo:\n",
    "# \t\t\tid | zipcode | preço do imovel | preço da mediana | condição | status s/n\n",
    "\n",
    "\n",
    "\n",
    "\n",
    "# ======== Uma vez comprado, qual o melhor momento para vendê-lo e por qual preço?\n",
    "#          tabela / Relatório com as sugestões de venda com valor recomendado\n",
    "# Agrupar dados por região e por sazonalidade (summer, winter)\n",
    "# Dentro de cada região e sazonalidade, calcular a mediana do preço\n",
    "# Condição de venda:\n",
    "# \t\t\t\t- se o preço da compra for maior que a mediana da região + sazonalidade, o preço da venda será igual a compra + 10%,\n",
    "# - se o preço da compra for menor que a mediana da região + sazonalidade, o preço da venda será igual a compra + 30%\n",
    "# Exemplo:\n",
    "# \t\tid | zipcode | season / pç do imovel | pç da mediana | pç compra / pç venda / lucro\n",
    "\n",
    "\n",
    "\n",
    "\n"
   ]
  },
  {
   "cell_type": "code",
   "execution_count": null,
   "id": "practical-lotus",
   "metadata": {
    "hidden": true
   },
   "outputs": [],
   "source": []
  }
 ],
 "metadata": {
  "kernelspec": {
   "display_name": "Python 3",
   "language": "python",
   "name": "python3"
  },
  "language_info": {
   "codemirror_mode": {
    "name": "ipython",
    "version": 3
   },
   "file_extension": ".py",
   "mimetype": "text/x-python",
   "name": "python",
   "nbconvert_exporter": "python",
   "pygments_lexer": "ipython3",
   "version": "3.9.1"
  },
  "toc": {
   "base_numbering": "0",
   "nav_menu": {
    "height": "194px",
    "width": "168px"
   },
   "number_sections": true,
   "sideBar": false,
   "skip_h1_title": false,
   "title_cell": "Table of Contents",
   "title_sidebar": "Contents",
   "toc_cell": false,
   "toc_position": {
    "height": "47.7778px",
    "left": "1543.99px",
    "top": "110.052px",
    "width": "159.132px"
   },
   "toc_section_display": false,
   "toc_window_display": true
  }
 },
 "nbformat": 4,
 "nbformat_minor": 5
}
