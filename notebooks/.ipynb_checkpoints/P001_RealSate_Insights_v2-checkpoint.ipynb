{
 "cells": [
  {
   "cell_type": "markdown",
   "id": "assisted-bikini",
   "metadata": {
    "heading_collapsed": true
   },
   "source": [
    "# Imports"
   ]
  },
  {
   "cell_type": "code",
   "execution_count": 41,
   "id": "early-spain",
   "metadata": {
    "ExecuteTime": {
     "end_time": "2021-05-18T00:39:26.540880Z",
     "start_time": "2021-05-18T00:39:26.535875Z"
    },
    "hidden": true
   },
   "outputs": [],
   "source": [
    "import numpy             as np\n",
    "import pandas            as pd\n",
    "import seaborn           as sns\n",
    "import plotly.express    as px\n",
    "import matplotlib.pyplot as plt\n",
    "\n",
    "from tabulate import tabulate"
   ]
  },
  {
   "cell_type": "markdown",
   "id": "fabulous-yorkshire",
   "metadata": {
    "heading_collapsed": true,
    "hidden": true
   },
   "source": [
    "## Helper Functions"
   ]
  },
  {
   "cell_type": "code",
   "execution_count": 42,
   "id": "material-bench",
   "metadata": {
    "ExecuteTime": {
     "end_time": "2021-05-18T00:39:27.739973Z",
     "start_time": "2021-05-18T00:39:27.731965Z"
    },
    "hidden": true
   },
   "outputs": [],
   "source": [
    "def jupyter_settings():\n",
    "    %matplotlib inline\n",
    "        \n",
    "    plt.style.use( 'bmh' )\n",
    "    plt.rcParams['figure.figsize'] = (20,15)\n",
    "    plt.rcParams['font.size'] = 25\n",
    "    \n",
    "    #display( HTML( '<style>.container { width:100% !important; }</style>') )\n",
    "    #pd.options.display.max_columns = None\n",
    "    #pd.options.display.max_rows = None\n",
    "    #pd.set_option( 'display.expand_frame_repr', False )\n",
    "    \n",
    "    sns.set()\n",
    "    sns.set_theme(style = 'darkgrid', font_scale = 2)\n",
    "    sns.set_style(\"darkgrid\")\n"
   ]
  },
  {
   "cell_type": "markdown",
   "id": "flush-article",
   "metadata": {
    "heading_collapsed": true,
    "hidden": true
   },
   "source": [
    "## Loading Data"
   ]
  },
  {
   "cell_type": "code",
   "execution_count": 43,
   "id": "simple-oxford",
   "metadata": {
    "ExecuteTime": {
     "end_time": "2021-05-18T00:39:28.571731Z",
     "start_time": "2021-05-18T00:39:28.528692Z"
    },
    "hidden": true
   },
   "outputs": [],
   "source": [
    "df_raw = pd.read_csv(r'../datasets/raw/kc_house_data.csv')"
   ]
  },
  {
   "cell_type": "markdown",
   "id": "collaborative-prior",
   "metadata": {
    "heading_collapsed": true
   },
   "source": [
    "# <font color='blue'>Data Description"
   ]
  },
  {
   "cell_type": "code",
   "execution_count": 44,
   "id": "considerable-ministry",
   "metadata": {
    "ExecuteTime": {
     "end_time": "2021-05-18T00:39:31.342256Z",
     "start_time": "2021-05-18T00:39:31.332247Z"
    },
    "hidden": true
   },
   "outputs": [],
   "source": [
    "df1=df_raw.copy()"
   ]
  },
  {
   "cell_type": "markdown",
   "id": "public-guide",
   "metadata": {
    "heading_collapsed": true,
    "hidden": true
   },
   "source": [
    "## Rename Columns"
   ]
  },
  {
   "cell_type": "code",
   "execution_count": 45,
   "id": "necessary-emperor",
   "metadata": {
    "ExecuteTime": {
     "end_time": "2021-05-18T00:39:32.675471Z",
     "start_time": "2021-05-18T00:39:32.668465Z"
    },
    "hidden": true
   },
   "outputs": [
    {
     "data": {
      "text/plain": [
       "Index(['id', 'date', 'price', 'bedrooms', 'bathrooms', 'sqft_living',\n",
       "       'sqft_lot', 'floors', 'waterfront', 'view', 'condition', 'grade',\n",
       "       'sqft_above', 'sqft_basement', 'yr_built', 'yr_renovated', 'zipcode',\n",
       "       'lat', 'long', 'sqft_living15', 'sqft_lot15'],\n",
       "      dtype='object')"
      ]
     },
     "execution_count": 45,
     "metadata": {},
     "output_type": "execute_result"
    }
   ],
   "source": [
    "# checking columns names\n",
    "df1.columns # nothing to rename"
   ]
  },
  {
   "cell_type": "markdown",
   "id": "paperback-compound",
   "metadata": {
    "ExecuteTime": {
     "end_time": "2021-05-17T15:46:25.849652Z",
     "start_time": "2021-05-17T15:46:25.840643Z"
    },
    "heading_collapsed": true,
    "hidden": true
   },
   "source": [
    "## Data Dimension"
   ]
  },
  {
   "cell_type": "code",
   "execution_count": 46,
   "id": "distant-money",
   "metadata": {
    "ExecuteTime": {
     "end_time": "2021-05-18T00:39:34.715330Z",
     "start_time": "2021-05-18T00:39:34.702319Z"
    },
    "hidden": true
   },
   "outputs": [
    {
     "name": "stdout",
     "output_type": "stream",
     "text": [
      "Number of rows: 21613\n",
      "Number of columns: 21\n"
     ]
    }
   ],
   "source": [
    "print('Number of rows: {}' .format (df1.shape[0]))\n",
    "print('Number of columns: {}' .format (df1.shape[1]))"
   ]
  },
  {
   "cell_type": "markdown",
   "id": "ordinary-poultry",
   "metadata": {
    "heading_collapsed": true,
    "hidden": true
   },
   "source": [
    "## Data Types"
   ]
  },
  {
   "cell_type": "code",
   "execution_count": 47,
   "id": "auburn-executive",
   "metadata": {
    "ExecuteTime": {
     "end_time": "2021-05-18T00:39:36.242722Z",
     "start_time": "2021-05-18T00:39:36.225707Z"
    },
    "hidden": true
   },
   "outputs": [
    {
     "data": {
      "text/html": [
       "<div>\n",
       "<style scoped>\n",
       "    .dataframe tbody tr th:only-of-type {\n",
       "        vertical-align: middle;\n",
       "    }\n",
       "\n",
       "    .dataframe tbody tr th {\n",
       "        vertical-align: top;\n",
       "    }\n",
       "\n",
       "    .dataframe thead th {\n",
       "        text-align: right;\n",
       "    }\n",
       "</style>\n",
       "<table border=\"1\" class=\"dataframe\">\n",
       "  <thead>\n",
       "    <tr style=\"text-align: right;\">\n",
       "      <th></th>\n",
       "      <th>id</th>\n",
       "      <th>date</th>\n",
       "      <th>price</th>\n",
       "      <th>bedrooms</th>\n",
       "      <th>bathrooms</th>\n",
       "      <th>sqft_living</th>\n",
       "      <th>sqft_lot</th>\n",
       "      <th>floors</th>\n",
       "      <th>waterfront</th>\n",
       "      <th>view</th>\n",
       "      <th>...</th>\n",
       "      <th>grade</th>\n",
       "      <th>sqft_above</th>\n",
       "      <th>sqft_basement</th>\n",
       "      <th>yr_built</th>\n",
       "      <th>yr_renovated</th>\n",
       "      <th>zipcode</th>\n",
       "      <th>lat</th>\n",
       "      <th>long</th>\n",
       "      <th>sqft_living15</th>\n",
       "      <th>sqft_lot15</th>\n",
       "    </tr>\n",
       "  </thead>\n",
       "  <tbody>\n",
       "    <tr>\n",
       "      <th>0</th>\n",
       "      <td>7129300520</td>\n",
       "      <td>20141013T000000</td>\n",
       "      <td>221900.0</td>\n",
       "      <td>3</td>\n",
       "      <td>1.00</td>\n",
       "      <td>1180</td>\n",
       "      <td>5650</td>\n",
       "      <td>1.0</td>\n",
       "      <td>0</td>\n",
       "      <td>0</td>\n",
       "      <td>...</td>\n",
       "      <td>7</td>\n",
       "      <td>1180</td>\n",
       "      <td>0</td>\n",
       "      <td>1955</td>\n",
       "      <td>0</td>\n",
       "      <td>98178</td>\n",
       "      <td>47.5112</td>\n",
       "      <td>-122.257</td>\n",
       "      <td>1340</td>\n",
       "      <td>5650</td>\n",
       "    </tr>\n",
       "    <tr>\n",
       "      <th>1</th>\n",
       "      <td>6414100192</td>\n",
       "      <td>20141209T000000</td>\n",
       "      <td>538000.0</td>\n",
       "      <td>3</td>\n",
       "      <td>2.25</td>\n",
       "      <td>2570</td>\n",
       "      <td>7242</td>\n",
       "      <td>2.0</td>\n",
       "      <td>0</td>\n",
       "      <td>0</td>\n",
       "      <td>...</td>\n",
       "      <td>7</td>\n",
       "      <td>2170</td>\n",
       "      <td>400</td>\n",
       "      <td>1951</td>\n",
       "      <td>1991</td>\n",
       "      <td>98125</td>\n",
       "      <td>47.7210</td>\n",
       "      <td>-122.319</td>\n",
       "      <td>1690</td>\n",
       "      <td>7639</td>\n",
       "    </tr>\n",
       "    <tr>\n",
       "      <th>2</th>\n",
       "      <td>5631500400</td>\n",
       "      <td>20150225T000000</td>\n",
       "      <td>180000.0</td>\n",
       "      <td>2</td>\n",
       "      <td>1.00</td>\n",
       "      <td>770</td>\n",
       "      <td>10000</td>\n",
       "      <td>1.0</td>\n",
       "      <td>0</td>\n",
       "      <td>0</td>\n",
       "      <td>...</td>\n",
       "      <td>6</td>\n",
       "      <td>770</td>\n",
       "      <td>0</td>\n",
       "      <td>1933</td>\n",
       "      <td>0</td>\n",
       "      <td>98028</td>\n",
       "      <td>47.7379</td>\n",
       "      <td>-122.233</td>\n",
       "      <td>2720</td>\n",
       "      <td>8062</td>\n",
       "    </tr>\n",
       "    <tr>\n",
       "      <th>3</th>\n",
       "      <td>2487200875</td>\n",
       "      <td>20141209T000000</td>\n",
       "      <td>604000.0</td>\n",
       "      <td>4</td>\n",
       "      <td>3.00</td>\n",
       "      <td>1960</td>\n",
       "      <td>5000</td>\n",
       "      <td>1.0</td>\n",
       "      <td>0</td>\n",
       "      <td>0</td>\n",
       "      <td>...</td>\n",
       "      <td>7</td>\n",
       "      <td>1050</td>\n",
       "      <td>910</td>\n",
       "      <td>1965</td>\n",
       "      <td>0</td>\n",
       "      <td>98136</td>\n",
       "      <td>47.5208</td>\n",
       "      <td>-122.393</td>\n",
       "      <td>1360</td>\n",
       "      <td>5000</td>\n",
       "    </tr>\n",
       "    <tr>\n",
       "      <th>4</th>\n",
       "      <td>1954400510</td>\n",
       "      <td>20150218T000000</td>\n",
       "      <td>510000.0</td>\n",
       "      <td>3</td>\n",
       "      <td>2.00</td>\n",
       "      <td>1680</td>\n",
       "      <td>8080</td>\n",
       "      <td>1.0</td>\n",
       "      <td>0</td>\n",
       "      <td>0</td>\n",
       "      <td>...</td>\n",
       "      <td>8</td>\n",
       "      <td>1680</td>\n",
       "      <td>0</td>\n",
       "      <td>1987</td>\n",
       "      <td>0</td>\n",
       "      <td>98074</td>\n",
       "      <td>47.6168</td>\n",
       "      <td>-122.045</td>\n",
       "      <td>1800</td>\n",
       "      <td>7503</td>\n",
       "    </tr>\n",
       "  </tbody>\n",
       "</table>\n",
       "<p>5 rows × 21 columns</p>\n",
       "</div>"
      ],
      "text/plain": [
       "           id             date     price  bedrooms  bathrooms  sqft_living  \\\n",
       "0  7129300520  20141013T000000  221900.0         3       1.00         1180   \n",
       "1  6414100192  20141209T000000  538000.0         3       2.25         2570   \n",
       "2  5631500400  20150225T000000  180000.0         2       1.00          770   \n",
       "3  2487200875  20141209T000000  604000.0         4       3.00         1960   \n",
       "4  1954400510  20150218T000000  510000.0         3       2.00         1680   \n",
       "\n",
       "   sqft_lot  floors  waterfront  view  ...  grade  sqft_above  sqft_basement  \\\n",
       "0      5650     1.0           0     0  ...      7        1180              0   \n",
       "1      7242     2.0           0     0  ...      7        2170            400   \n",
       "2     10000     1.0           0     0  ...      6         770              0   \n",
       "3      5000     1.0           0     0  ...      7        1050            910   \n",
       "4      8080     1.0           0     0  ...      8        1680              0   \n",
       "\n",
       "   yr_built  yr_renovated  zipcode      lat     long  sqft_living15  \\\n",
       "0      1955             0    98178  47.5112 -122.257           1340   \n",
       "1      1951          1991    98125  47.7210 -122.319           1690   \n",
       "2      1933             0    98028  47.7379 -122.233           2720   \n",
       "3      1965             0    98136  47.5208 -122.393           1360   \n",
       "4      1987             0    98074  47.6168 -122.045           1800   \n",
       "\n",
       "   sqft_lot15  \n",
       "0        5650  \n",
       "1        7639  \n",
       "2        8062  \n",
       "3        5000  \n",
       "4        7503  \n",
       "\n",
       "[5 rows x 21 columns]"
      ]
     },
     "execution_count": 47,
     "metadata": {},
     "output_type": "execute_result"
    }
   ],
   "source": [
    "df1.head()"
   ]
  },
  {
   "cell_type": "code",
   "execution_count": 48,
   "id": "wicked-canal",
   "metadata": {
    "ExecuteTime": {
     "end_time": "2021-05-18T00:39:36.845271Z",
     "start_time": "2021-05-18T00:39:36.827255Z"
    },
    "hidden": true
   },
   "outputs": [
    {
     "data": {
      "text/plain": [
       "id                 int64\n",
       "date              object\n",
       "price            float64\n",
       "bedrooms           int64\n",
       "bathrooms        float64\n",
       "sqft_living        int64\n",
       "sqft_lot           int64\n",
       "floors           float64\n",
       "waterfront         int64\n",
       "view               int64\n",
       "condition          int64\n",
       "grade              int64\n",
       "sqft_above         int64\n",
       "sqft_basement      int64\n",
       "yr_built           int64\n",
       "yr_renovated       int64\n",
       "zipcode            int64\n",
       "lat              float64\n",
       "long             float64\n",
       "sqft_living15      int64\n",
       "sqft_lot15         int64\n",
       "dtype: object"
      ]
     },
     "execution_count": 48,
     "metadata": {},
     "output_type": "execute_result"
    }
   ],
   "source": [
    "df1.dtypes"
   ]
  },
  {
   "cell_type": "markdown",
   "id": "natural-quebec",
   "metadata": {
    "heading_collapsed": true,
    "hidden": true
   },
   "source": [
    "## Check NA"
   ]
  },
  {
   "cell_type": "code",
   "execution_count": 49,
   "id": "introductory-dylan",
   "metadata": {
    "ExecuteTime": {
     "end_time": "2021-05-18T00:39:41.321351Z",
     "start_time": "2021-05-18T00:39:41.310341Z"
    },
    "hidden": true
   },
   "outputs": [
    {
     "data": {
      "text/plain": [
       "id               0\n",
       "date             0\n",
       "price            0\n",
       "bedrooms         0\n",
       "bathrooms        0\n",
       "sqft_living      0\n",
       "sqft_lot         0\n",
       "floors           0\n",
       "waterfront       0\n",
       "view             0\n",
       "condition        0\n",
       "grade            0\n",
       "sqft_above       0\n",
       "sqft_basement    0\n",
       "yr_built         0\n",
       "yr_renovated     0\n",
       "zipcode          0\n",
       "lat              0\n",
       "long             0\n",
       "sqft_living15    0\n",
       "sqft_lot15       0\n",
       "dtype: int64"
      ]
     },
     "execution_count": 49,
     "metadata": {},
     "output_type": "execute_result"
    }
   ],
   "source": [
    "df1.isna().sum()"
   ]
  },
  {
   "cell_type": "markdown",
   "id": "thousand-massage",
   "metadata": {
    "heading_collapsed": true,
    "hidden": true
   },
   "source": [
    "## Fill out NA"
   ]
  },
  {
   "cell_type": "code",
   "execution_count": null,
   "id": "failing-registration",
   "metadata": {
    "hidden": true
   },
   "outputs": [],
   "source": []
  },
  {
   "cell_type": "markdown",
   "id": "adapted-wheel",
   "metadata": {
    "heading_collapsed": true,
    "hidden": true
   },
   "source": [
    "## Change Variables Types"
   ]
  },
  {
   "cell_type": "code",
   "execution_count": 50,
   "id": "productive-private",
   "metadata": {
    "ExecuteTime": {
     "end_time": "2021-05-18T00:39:44.215989Z",
     "start_time": "2021-05-18T00:39:44.188964Z"
    },
    "hidden": true
   },
   "outputs": [
    {
     "name": "stdout",
     "output_type": "stream",
     "text": [
      "date            datetime64[ns]\n",
      "yr_built        datetime64[ns]\n",
      "yr_renovated    datetime64[ns]\n",
      "dtype: object\n"
     ]
    }
   ],
   "source": [
    "# changing 'date', 'yr_built' and 'yr_renovated' type from OBJECT to DATE\n",
    "df1['date']         = pd.to_datetime(df1['date'],        format='%Y-%m-%d')\n",
    "df1['yr_built']     = pd.to_datetime(df1['yr_built'],    format='%Y-%m-%d')\n",
    "df1['yr_renovated'] = pd.to_datetime(df1['yr_renovated'], format='%Y-%m-%d')\n",
    "\n",
    "print(df1[['date','yr_built','yr_renovated']].dtypes)"
   ]
  },
  {
   "cell_type": "markdown",
   "id": "disciplinary-evans",
   "metadata": {
    "heading_collapsed": true,
    "hidden": true
   },
   "source": [
    "## Descriptive Statistics"
   ]
  },
  {
   "cell_type": "code",
   "execution_count": 51,
   "id": "generous-curtis",
   "metadata": {
    "ExecuteTime": {
     "end_time": "2021-05-18T00:39:46.273865Z",
     "start_time": "2021-05-18T00:39:46.262855Z"
    },
    "hidden": true
   },
   "outputs": [],
   "source": [
    "num_df1 = df1.select_dtypes(include=['int64','float64'])\n",
    "cat_df1 = df1.select_dtypes(exclude=['int64','float64','datetime64[ns]'])"
   ]
  },
  {
   "cell_type": "markdown",
   "id": "coordinated-cargo",
   "metadata": {
    "ExecuteTime": {
     "end_time": "2021-05-17T16:04:47.487696Z",
     "start_time": "2021-05-17T16:04:47.477688Z"
    },
    "heading_collapsed": true,
    "hidden": true
   },
   "source": [
    "### Numerical Attributes"
   ]
  },
  {
   "cell_type": "code",
   "execution_count": 52,
   "id": "olympic-thanks",
   "metadata": {
    "ExecuteTime": {
     "end_time": "2021-05-18T00:39:47.136651Z",
     "start_time": "2021-05-18T00:39:47.123639Z"
    },
    "hidden": true
   },
   "outputs": [
    {
     "data": {
      "text/plain": [
       "(21613, 18)"
      ]
     },
     "execution_count": 52,
     "metadata": {},
     "output_type": "execute_result"
    }
   ],
   "source": [
    "num_df1.shape"
   ]
  },
  {
   "cell_type": "code",
   "execution_count": 53,
   "id": "biblical-memphis",
   "metadata": {
    "ExecuteTime": {
     "end_time": "2021-05-18T00:39:48.121549Z",
     "start_time": "2021-05-18T00:39:47.990429Z"
    },
    "hidden": true
   },
   "outputs": [
    {
     "data": {
      "text/html": [
       "<div>\n",
       "<style scoped>\n",
       "    .dataframe tbody tr th:only-of-type {\n",
       "        vertical-align: middle;\n",
       "    }\n",
       "\n",
       "    .dataframe tbody tr th {\n",
       "        vertical-align: top;\n",
       "    }\n",
       "\n",
       "    .dataframe thead th {\n",
       "        text-align: right;\n",
       "    }\n",
       "</style>\n",
       "<table border=\"1\" class=\"dataframe\">\n",
       "  <thead>\n",
       "    <tr style=\"text-align: right;\">\n",
       "      <th></th>\n",
       "      <th>attributes</th>\n",
       "      <th>min</th>\n",
       "      <th>max</th>\n",
       "      <th>range</th>\n",
       "      <th>mean</th>\n",
       "      <th>median</th>\n",
       "      <th>std</th>\n",
       "      <th>skew</th>\n",
       "      <th>kurtosis</th>\n",
       "    </tr>\n",
       "  </thead>\n",
       "  <tbody>\n",
       "    <tr>\n",
       "      <th>0</th>\n",
       "      <td>id</td>\n",
       "      <td>1000102.0</td>\n",
       "      <td>9900000190.0</td>\n",
       "      <td>9899000088.0</td>\n",
       "      <td>4580301520.864988</td>\n",
       "      <td>3904930410.0</td>\n",
       "      <td>2876499023.427783</td>\n",
       "      <td>0.243329</td>\n",
       "      <td>&lt;bound method NDFrame._add_numeric_operations....</td>\n",
       "    </tr>\n",
       "    <tr>\n",
       "      <th>1</th>\n",
       "      <td>price</td>\n",
       "      <td>75000.0</td>\n",
       "      <td>7700000.0</td>\n",
       "      <td>7625000.0</td>\n",
       "      <td>540088.141767</td>\n",
       "      <td>450000.0</td>\n",
       "      <td>367118.703181</td>\n",
       "      <td>4.024069</td>\n",
       "      <td>&lt;bound method NDFrame._add_numeric_operations....</td>\n",
       "    </tr>\n",
       "    <tr>\n",
       "      <th>2</th>\n",
       "      <td>bedrooms</td>\n",
       "      <td>0.0</td>\n",
       "      <td>33.0</td>\n",
       "      <td>33.0</td>\n",
       "      <td>3.370842</td>\n",
       "      <td>3.0</td>\n",
       "      <td>0.93004</td>\n",
       "      <td>1.9743</td>\n",
       "      <td>&lt;bound method NDFrame._add_numeric_operations....</td>\n",
       "    </tr>\n",
       "    <tr>\n",
       "      <th>3</th>\n",
       "      <td>bathrooms</td>\n",
       "      <td>0.0</td>\n",
       "      <td>8.0</td>\n",
       "      <td>8.0</td>\n",
       "      <td>2.114757</td>\n",
       "      <td>2.25</td>\n",
       "      <td>0.770145</td>\n",
       "      <td>0.511108</td>\n",
       "      <td>&lt;bound method NDFrame._add_numeric_operations....</td>\n",
       "    </tr>\n",
       "    <tr>\n",
       "      <th>4</th>\n",
       "      <td>sqft_living</td>\n",
       "      <td>290.0</td>\n",
       "      <td>13540.0</td>\n",
       "      <td>13250.0</td>\n",
       "      <td>2079.899736</td>\n",
       "      <td>1910.0</td>\n",
       "      <td>918.419649</td>\n",
       "      <td>1.471555</td>\n",
       "      <td>&lt;bound method NDFrame._add_numeric_operations....</td>\n",
       "    </tr>\n",
       "    <tr>\n",
       "      <th>5</th>\n",
       "      <td>sqft_lot</td>\n",
       "      <td>520.0</td>\n",
       "      <td>1651359.0</td>\n",
       "      <td>1650839.0</td>\n",
       "      <td>15106.967566</td>\n",
       "      <td>7618.0</td>\n",
       "      <td>41419.553273</td>\n",
       "      <td>13.060019</td>\n",
       "      <td>&lt;bound method NDFrame._add_numeric_operations....</td>\n",
       "    </tr>\n",
       "    <tr>\n",
       "      <th>6</th>\n",
       "      <td>floors</td>\n",
       "      <td>1.0</td>\n",
       "      <td>3.5</td>\n",
       "      <td>2.5</td>\n",
       "      <td>1.494309</td>\n",
       "      <td>1.5</td>\n",
       "      <td>0.539976</td>\n",
       "      <td>0.616177</td>\n",
       "      <td>&lt;bound method NDFrame._add_numeric_operations....</td>\n",
       "    </tr>\n",
       "    <tr>\n",
       "      <th>7</th>\n",
       "      <td>waterfront</td>\n",
       "      <td>0.0</td>\n",
       "      <td>1.0</td>\n",
       "      <td>1.0</td>\n",
       "      <td>0.007542</td>\n",
       "      <td>0.0</td>\n",
       "      <td>0.086515</td>\n",
       "      <td>11.385108</td>\n",
       "      <td>&lt;bound method NDFrame._add_numeric_operations....</td>\n",
       "    </tr>\n",
       "    <tr>\n",
       "      <th>8</th>\n",
       "      <td>view</td>\n",
       "      <td>0.0</td>\n",
       "      <td>4.0</td>\n",
       "      <td>4.0</td>\n",
       "      <td>0.234303</td>\n",
       "      <td>0.0</td>\n",
       "      <td>0.7663</td>\n",
       "      <td>3.39575</td>\n",
       "      <td>&lt;bound method NDFrame._add_numeric_operations....</td>\n",
       "    </tr>\n",
       "    <tr>\n",
       "      <th>9</th>\n",
       "      <td>condition</td>\n",
       "      <td>1.0</td>\n",
       "      <td>5.0</td>\n",
       "      <td>4.0</td>\n",
       "      <td>3.40943</td>\n",
       "      <td>3.0</td>\n",
       "      <td>0.650728</td>\n",
       "      <td>1.032805</td>\n",
       "      <td>&lt;bound method NDFrame._add_numeric_operations....</td>\n",
       "    </tr>\n",
       "    <tr>\n",
       "      <th>10</th>\n",
       "      <td>grade</td>\n",
       "      <td>1.0</td>\n",
       "      <td>13.0</td>\n",
       "      <td>12.0</td>\n",
       "      <td>7.656873</td>\n",
       "      <td>7.0</td>\n",
       "      <td>1.175432</td>\n",
       "      <td>0.771103</td>\n",
       "      <td>&lt;bound method NDFrame._add_numeric_operations....</td>\n",
       "    </tr>\n",
       "    <tr>\n",
       "      <th>11</th>\n",
       "      <td>sqft_above</td>\n",
       "      <td>290.0</td>\n",
       "      <td>9410.0</td>\n",
       "      <td>9120.0</td>\n",
       "      <td>1788.390691</td>\n",
       "      <td>1560.0</td>\n",
       "      <td>828.07182</td>\n",
       "      <td>1.446664</td>\n",
       "      <td>&lt;bound method NDFrame._add_numeric_operations....</td>\n",
       "    </tr>\n",
       "    <tr>\n",
       "      <th>12</th>\n",
       "      <td>sqft_basement</td>\n",
       "      <td>0.0</td>\n",
       "      <td>4820.0</td>\n",
       "      <td>4820.0</td>\n",
       "      <td>291.509045</td>\n",
       "      <td>0.0</td>\n",
       "      <td>442.564804</td>\n",
       "      <td>1.577965</td>\n",
       "      <td>&lt;bound method NDFrame._add_numeric_operations....</td>\n",
       "    </tr>\n",
       "    <tr>\n",
       "      <th>13</th>\n",
       "      <td>zipcode</td>\n",
       "      <td>98001.0</td>\n",
       "      <td>98199.0</td>\n",
       "      <td>198.0</td>\n",
       "      <td>98077.939805</td>\n",
       "      <td>98065.0</td>\n",
       "      <td>53.503788</td>\n",
       "      <td>0.405661</td>\n",
       "      <td>&lt;bound method NDFrame._add_numeric_operations....</td>\n",
       "    </tr>\n",
       "    <tr>\n",
       "      <th>14</th>\n",
       "      <td>lat</td>\n",
       "      <td>47.1559</td>\n",
       "      <td>47.7776</td>\n",
       "      <td>0.6217</td>\n",
       "      <td>47.560053</td>\n",
       "      <td>47.5718</td>\n",
       "      <td>0.138561</td>\n",
       "      <td>-0.48527</td>\n",
       "      <td>&lt;bound method NDFrame._add_numeric_operations....</td>\n",
       "    </tr>\n",
       "    <tr>\n",
       "      <th>15</th>\n",
       "      <td>long</td>\n",
       "      <td>-122.519</td>\n",
       "      <td>-121.315</td>\n",
       "      <td>1.204</td>\n",
       "      <td>-122.213896</td>\n",
       "      <td>-122.23</td>\n",
       "      <td>0.140825</td>\n",
       "      <td>0.885053</td>\n",
       "      <td>&lt;bound method NDFrame._add_numeric_operations....</td>\n",
       "    </tr>\n",
       "    <tr>\n",
       "      <th>16</th>\n",
       "      <td>sqft_living15</td>\n",
       "      <td>399.0</td>\n",
       "      <td>6210.0</td>\n",
       "      <td>5811.0</td>\n",
       "      <td>1986.552492</td>\n",
       "      <td>1840.0</td>\n",
       "      <td>685.375448</td>\n",
       "      <td>1.108181</td>\n",
       "      <td>&lt;bound method NDFrame._add_numeric_operations....</td>\n",
       "    </tr>\n",
       "    <tr>\n",
       "      <th>17</th>\n",
       "      <td>sqft_lot15</td>\n",
       "      <td>651.0</td>\n",
       "      <td>871200.0</td>\n",
       "      <td>870549.0</td>\n",
       "      <td>12768.455652</td>\n",
       "      <td>7620.0</td>\n",
       "      <td>27303.547963</td>\n",
       "      <td>9.506743</td>\n",
       "      <td>&lt;bound method NDFrame._add_numeric_operations....</td>\n",
       "    </tr>\n",
       "  </tbody>\n",
       "</table>\n",
       "</div>"
      ],
      "text/plain": [
       "       attributes        min           max         range               mean  \\\n",
       "0              id  1000102.0  9900000190.0  9899000088.0  4580301520.864988   \n",
       "1           price    75000.0     7700000.0     7625000.0      540088.141767   \n",
       "2        bedrooms        0.0          33.0          33.0           3.370842   \n",
       "3       bathrooms        0.0           8.0           8.0           2.114757   \n",
       "4     sqft_living      290.0       13540.0       13250.0        2079.899736   \n",
       "5        sqft_lot      520.0     1651359.0     1650839.0       15106.967566   \n",
       "6          floors        1.0           3.5           2.5           1.494309   \n",
       "7      waterfront        0.0           1.0           1.0           0.007542   \n",
       "8            view        0.0           4.0           4.0           0.234303   \n",
       "9       condition        1.0           5.0           4.0            3.40943   \n",
       "10          grade        1.0          13.0          12.0           7.656873   \n",
       "11     sqft_above      290.0        9410.0        9120.0        1788.390691   \n",
       "12  sqft_basement        0.0        4820.0        4820.0         291.509045   \n",
       "13        zipcode    98001.0       98199.0         198.0       98077.939805   \n",
       "14            lat    47.1559       47.7776        0.6217          47.560053   \n",
       "15           long   -122.519      -121.315         1.204        -122.213896   \n",
       "16  sqft_living15      399.0        6210.0        5811.0        1986.552492   \n",
       "17     sqft_lot15      651.0      871200.0      870549.0       12768.455652   \n",
       "\n",
       "          median                std       skew  \\\n",
       "0   3904930410.0  2876499023.427783   0.243329   \n",
       "1       450000.0      367118.703181   4.024069   \n",
       "2            3.0            0.93004     1.9743   \n",
       "3           2.25           0.770145   0.511108   \n",
       "4         1910.0         918.419649   1.471555   \n",
       "5         7618.0       41419.553273  13.060019   \n",
       "6            1.5           0.539976   0.616177   \n",
       "7            0.0           0.086515  11.385108   \n",
       "8            0.0             0.7663    3.39575   \n",
       "9            3.0           0.650728   1.032805   \n",
       "10           7.0           1.175432   0.771103   \n",
       "11        1560.0          828.07182   1.446664   \n",
       "12           0.0         442.564804   1.577965   \n",
       "13       98065.0          53.503788   0.405661   \n",
       "14       47.5718           0.138561   -0.48527   \n",
       "15       -122.23           0.140825   0.885053   \n",
       "16        1840.0         685.375448   1.108181   \n",
       "17        7620.0       27303.547963   9.506743   \n",
       "\n",
       "                                             kurtosis  \n",
       "0   <bound method NDFrame._add_numeric_operations....  \n",
       "1   <bound method NDFrame._add_numeric_operations....  \n",
       "2   <bound method NDFrame._add_numeric_operations....  \n",
       "3   <bound method NDFrame._add_numeric_operations....  \n",
       "4   <bound method NDFrame._add_numeric_operations....  \n",
       "5   <bound method NDFrame._add_numeric_operations....  \n",
       "6   <bound method NDFrame._add_numeric_operations....  \n",
       "7   <bound method NDFrame._add_numeric_operations....  \n",
       "8   <bound method NDFrame._add_numeric_operations....  \n",
       "9   <bound method NDFrame._add_numeric_operations....  \n",
       "10  <bound method NDFrame._add_numeric_operations....  \n",
       "11  <bound method NDFrame._add_numeric_operations....  \n",
       "12  <bound method NDFrame._add_numeric_operations....  \n",
       "13  <bound method NDFrame._add_numeric_operations....  \n",
       "14  <bound method NDFrame._add_numeric_operations....  \n",
       "15  <bound method NDFrame._add_numeric_operations....  \n",
       "16  <bound method NDFrame._add_numeric_operations....  \n",
       "17  <bound method NDFrame._add_numeric_operations....  "
      ]
     },
     "execution_count": 53,
     "metadata": {},
     "output_type": "execute_result"
    }
   ],
   "source": [
    "# central tendendy - mean, median\n",
    "ct1 = pd.DataFrame(num_df1.apply(np.mean)).T\n",
    "ct2 = pd.DataFrame(num_df1.apply(np.median)).T\n",
    "\n",
    "# dispersion - std, min, max, range, skew, kurtosis\n",
    "d1 = pd.DataFrame(num_df1.apply(np.std)).T\n",
    "d2 = pd.DataFrame(num_df1.apply(min)).T\n",
    "d3 = pd.DataFrame(num_df1.apply(max)).T\n",
    "d4 = pd.DataFrame(num_df1.apply(lambda x: x.max() - x.min())).T\n",
    "d5 = pd.DataFrame(num_df1.apply(lambda x: x.skew())).T\n",
    "d6 = pd.DataFrame(num_df1.apply(lambda x: x.kurtosis)).T\n",
    "\n",
    "# concatenate \n",
    "m = pd.concat([d2,d3,d4,ct1,ct2,d1,d5,d6]).T.reset_index()\n",
    "m.columns = ['attributes','min','max','range','mean','median','std','skew','kurtosis']\n",
    "m"
   ]
  },
  {
   "cell_type": "markdown",
   "id": "nuclear-amsterdam",
   "metadata": {
    "heading_collapsed": true,
    "hidden": true
   },
   "source": [
    "### Categorical Attributes"
   ]
  },
  {
   "cell_type": "code",
   "execution_count": 54,
   "id": "narrative-railway",
   "metadata": {
    "ExecuteTime": {
     "end_time": "2021-05-18T00:39:51.296442Z",
     "start_time": "2021-05-18T00:39:51.289436Z"
    },
    "hidden": true
   },
   "outputs": [
    {
     "data": {
      "text/plain": [
       "(21613, 0)"
      ]
     },
     "execution_count": 54,
     "metadata": {},
     "output_type": "execute_result"
    }
   ],
   "source": [
    "cat_df1.shape # no attributes"
   ]
  },
  {
   "cell_type": "markdown",
   "id": "flush-phenomenon",
   "metadata": {
    "heading_collapsed": true
   },
   "source": [
    "# <font color='blue'> Variable Filtering "
   ]
  },
  {
   "cell_type": "code",
   "execution_count": 55,
   "id": "humanitarian-healing",
   "metadata": {
    "ExecuteTime": {
     "end_time": "2021-05-18T00:44:19.312715Z",
     "start_time": "2021-05-18T00:44:19.307711Z"
    },
    "hidden": true
   },
   "outputs": [],
   "source": [
    "df2=df1.copy()"
   ]
  },
  {
   "cell_type": "code",
   "execution_count": 56,
   "id": "quiet-secretariat",
   "metadata": {
    "ExecuteTime": {
     "end_time": "2021-05-18T00:44:43.885111Z",
     "start_time": "2021-05-18T00:44:43.878104Z"
    },
    "hidden": true
   },
   "outputs": [],
   "source": [
    "df2 = df2.drop (['sqft_living15','sqft_lot15'], axis=1)\n",
    "\n",
    "\n",
    "# sqft_living15 - The square footage of interior housing living space for the nearest 15 neighbors\n",
    "# sqft_lot15    - The square footage of the land lots of the nearest 15 neighbors"
   ]
  },
  {
   "cell_type": "code",
   "execution_count": 57,
   "id": "acceptable-reward",
   "metadata": {
    "ExecuteTime": {
     "end_time": "2021-05-18T00:45:08.587625Z",
     "start_time": "2021-05-18T00:45:08.571610Z"
    },
    "hidden": true
   },
   "outputs": [
    {
     "name": "stdout",
     "output_type": "stream",
     "text": [
      "          sqft_living\n",
      "bedrooms             \n",
      "1          884.613065\n",
      "2         1239.752899\n",
      "33        1620.000000\n",
      "0         1707.846154\n",
      "3         1805.837235\n",
      "4         2554.649666\n",
      "11        3000.000000\n",
      "5         3047.545284\n",
      "6         3284.341912\n",
      "10        3706.666667\n",
      "9         3775.000000\n",
      "8         3800.000000\n",
      "7         3974.210526\n",
      "            id\n",
      "bedrooms      \n",
      "0           13\n",
      "1          199\n",
      "2         2760\n",
      "3         9824\n",
      "4         6882\n",
      "5         1601\n",
      "6          272\n",
      "7           38\n",
      "8           13\n",
      "9            6\n",
      "10           3\n",
      "11           1\n",
      "33           1 \n",
      "\n",
      "after drop \n",
      "             id\n",
      "bedrooms      \n",
      "1          199\n",
      "2         2760\n",
      "3         9824\n",
      "4         6882\n",
      "5         1601\n",
      "6          272\n",
      "7           38\n",
      "8           13\n",
      "9            6\n",
      "10           3 \n",
      "\n"
     ]
    }
   ],
   "source": [
    "# checking properties size by number of bedrooms\n",
    "\n",
    "print(df2[['bedrooms','sqft_living']].groupby(['bedrooms']).mean().sort_values('sqft_living', ascending=True))\n",
    "\n",
    "print(df2[['id','bedrooms']].groupby(['bedrooms']).count(),'\\n')\n",
    "\n",
    "df2 = df2[ (df2['bedrooms']!=0) & (df2['bedrooms']!=11) & \n",
    "           (df2['bedrooms']!=33) ]\n",
    "\n",
    "print('after drop \\n', df2[['id','bedrooms']].groupby(['bedrooms']).count(),'\\n')\n"
   ]
  },
  {
   "cell_type": "markdown",
   "id": "quiet-disposal",
   "metadata": {},
   "source": [
    "# Feature Engineering"
   ]
  },
  {
   "cell_type": "code",
   "execution_count": 59,
   "id": "awful-tractor",
   "metadata": {
    "ExecuteTime": {
     "end_time": "2021-05-18T00:46:43.000674Z",
     "start_time": "2021-05-18T00:46:42.992667Z"
    }
   },
   "outputs": [],
   "source": [
    "df3 = df2.copy()"
   ]
  },
  {
   "cell_type": "code",
   "execution_count": 60,
   "id": "controlling-bahrain",
   "metadata": {
    "ExecuteTime": {
     "end_time": "2021-05-18T00:46:43.477108Z",
     "start_time": "2021-05-18T00:46:43.464097Z"
    }
   },
   "outputs": [
    {
     "data": {
      "text/plain": [
       "id                        int64\n",
       "date             datetime64[ns]\n",
       "price                   float64\n",
       "bedrooms                  int64\n",
       "bathrooms               float64\n",
       "sqft_living               int64\n",
       "sqft_lot                  int64\n",
       "floors                  float64\n",
       "waterfront                int64\n",
       "view                      int64\n",
       "condition                 int64\n",
       "grade                     int64\n",
       "sqft_above                int64\n",
       "sqft_basement             int64\n",
       "yr_built         datetime64[ns]\n",
       "yr_renovated     datetime64[ns]\n",
       "zipcode                   int64\n",
       "lat                     float64\n",
       "long                    float64\n",
       "dtype: object"
      ]
     },
     "execution_count": 60,
     "metadata": {},
     "output_type": "execute_result"
    }
   ],
   "source": [
    "df3.dtypes"
   ]
  },
  {
   "cell_type": "code",
   "execution_count": 22,
   "id": "persistent-steps",
   "metadata": {
    "ExecuteTime": {
     "end_time": "2021-05-17T22:11:14.899740Z",
     "start_time": "2021-05-17T22:11:14.856700Z"
    }
   },
   "outputs": [
    {
     "data": {
      "text/html": [
       "<div>\n",
       "<style scoped>\n",
       "    .dataframe tbody tr th:only-of-type {\n",
       "        vertical-align: middle;\n",
       "    }\n",
       "\n",
       "    .dataframe tbody tr th {\n",
       "        vertical-align: top;\n",
       "    }\n",
       "\n",
       "    .dataframe thead th {\n",
       "        text-align: right;\n",
       "    }\n",
       "</style>\n",
       "<table border=\"1\" class=\"dataframe\">\n",
       "  <thead>\n",
       "    <tr style=\"text-align: right;\">\n",
       "      <th></th>\n",
       "      <th>attributes</th>\n",
       "      <th>min</th>\n",
       "      <th>max</th>\n",
       "      <th>range</th>\n",
       "      <th>mean</th>\n",
       "      <th>median</th>\n",
       "      <th>std</th>\n",
       "      <th>skew</th>\n",
       "      <th>kurtosis</th>\n",
       "    </tr>\n",
       "  </thead>\n",
       "  <tbody>\n",
       "    <tr>\n",
       "      <th>0</th>\n",
       "      <td>id</td>\n",
       "      <td>1000102.0</td>\n",
       "      <td>9900000190.0</td>\n",
       "      <td>9899000088.0</td>\n",
       "      <td>4580301520.864988</td>\n",
       "      <td>3904930410.0</td>\n",
       "      <td>2876499023.427783</td>\n",
       "      <td>0.243329</td>\n",
       "      <td>&lt;bound method NDFrame._add_numeric_operations....</td>\n",
       "    </tr>\n",
       "    <tr>\n",
       "      <th>1</th>\n",
       "      <td>price</td>\n",
       "      <td>75000.0</td>\n",
       "      <td>7700000.0</td>\n",
       "      <td>7625000.0</td>\n",
       "      <td>540088.141767</td>\n",
       "      <td>450000.0</td>\n",
       "      <td>367118.703181</td>\n",
       "      <td>4.024069</td>\n",
       "      <td>&lt;bound method NDFrame._add_numeric_operations....</td>\n",
       "    </tr>\n",
       "    <tr>\n",
       "      <th>2</th>\n",
       "      <td>bedrooms</td>\n",
       "      <td>0.0</td>\n",
       "      <td>33.0</td>\n",
       "      <td>33.0</td>\n",
       "      <td>3.370842</td>\n",
       "      <td>3.0</td>\n",
       "      <td>0.93004</td>\n",
       "      <td>1.9743</td>\n",
       "      <td>&lt;bound method NDFrame._add_numeric_operations....</td>\n",
       "    </tr>\n",
       "    <tr>\n",
       "      <th>3</th>\n",
       "      <td>bathrooms</td>\n",
       "      <td>0.0</td>\n",
       "      <td>8.0</td>\n",
       "      <td>8.0</td>\n",
       "      <td>2.114757</td>\n",
       "      <td>2.25</td>\n",
       "      <td>0.770145</td>\n",
       "      <td>0.511108</td>\n",
       "      <td>&lt;bound method NDFrame._add_numeric_operations....</td>\n",
       "    </tr>\n",
       "    <tr>\n",
       "      <th>4</th>\n",
       "      <td>sqft_living</td>\n",
       "      <td>290.0</td>\n",
       "      <td>13540.0</td>\n",
       "      <td>13250.0</td>\n",
       "      <td>2079.899736</td>\n",
       "      <td>1910.0</td>\n",
       "      <td>918.419649</td>\n",
       "      <td>1.471555</td>\n",
       "      <td>&lt;bound method NDFrame._add_numeric_operations....</td>\n",
       "    </tr>\n",
       "    <tr>\n",
       "      <th>5</th>\n",
       "      <td>sqft_lot</td>\n",
       "      <td>520.0</td>\n",
       "      <td>1651359.0</td>\n",
       "      <td>1650839.0</td>\n",
       "      <td>15106.967566</td>\n",
       "      <td>7618.0</td>\n",
       "      <td>41419.553273</td>\n",
       "      <td>13.060019</td>\n",
       "      <td>&lt;bound method NDFrame._add_numeric_operations....</td>\n",
       "    </tr>\n",
       "    <tr>\n",
       "      <th>6</th>\n",
       "      <td>floors</td>\n",
       "      <td>1.0</td>\n",
       "      <td>3.5</td>\n",
       "      <td>2.5</td>\n",
       "      <td>1.494309</td>\n",
       "      <td>1.5</td>\n",
       "      <td>0.539976</td>\n",
       "      <td>0.616177</td>\n",
       "      <td>&lt;bound method NDFrame._add_numeric_operations....</td>\n",
       "    </tr>\n",
       "    <tr>\n",
       "      <th>7</th>\n",
       "      <td>waterfront</td>\n",
       "      <td>0.0</td>\n",
       "      <td>1.0</td>\n",
       "      <td>1.0</td>\n",
       "      <td>0.007542</td>\n",
       "      <td>0.0</td>\n",
       "      <td>0.086515</td>\n",
       "      <td>11.385108</td>\n",
       "      <td>&lt;bound method NDFrame._add_numeric_operations....</td>\n",
       "    </tr>\n",
       "    <tr>\n",
       "      <th>8</th>\n",
       "      <td>view</td>\n",
       "      <td>0.0</td>\n",
       "      <td>4.0</td>\n",
       "      <td>4.0</td>\n",
       "      <td>0.234303</td>\n",
       "      <td>0.0</td>\n",
       "      <td>0.7663</td>\n",
       "      <td>3.39575</td>\n",
       "      <td>&lt;bound method NDFrame._add_numeric_operations....</td>\n",
       "    </tr>\n",
       "    <tr>\n",
       "      <th>9</th>\n",
       "      <td>condition</td>\n",
       "      <td>1.0</td>\n",
       "      <td>5.0</td>\n",
       "      <td>4.0</td>\n",
       "      <td>3.40943</td>\n",
       "      <td>3.0</td>\n",
       "      <td>0.650728</td>\n",
       "      <td>1.032805</td>\n",
       "      <td>&lt;bound method NDFrame._add_numeric_operations....</td>\n",
       "    </tr>\n",
       "    <tr>\n",
       "      <th>10</th>\n",
       "      <td>grade</td>\n",
       "      <td>1.0</td>\n",
       "      <td>13.0</td>\n",
       "      <td>12.0</td>\n",
       "      <td>7.656873</td>\n",
       "      <td>7.0</td>\n",
       "      <td>1.175432</td>\n",
       "      <td>0.771103</td>\n",
       "      <td>&lt;bound method NDFrame._add_numeric_operations....</td>\n",
       "    </tr>\n",
       "    <tr>\n",
       "      <th>11</th>\n",
       "      <td>sqft_above</td>\n",
       "      <td>290.0</td>\n",
       "      <td>9410.0</td>\n",
       "      <td>9120.0</td>\n",
       "      <td>1788.390691</td>\n",
       "      <td>1560.0</td>\n",
       "      <td>828.07182</td>\n",
       "      <td>1.446664</td>\n",
       "      <td>&lt;bound method NDFrame._add_numeric_operations....</td>\n",
       "    </tr>\n",
       "    <tr>\n",
       "      <th>12</th>\n",
       "      <td>sqft_basement</td>\n",
       "      <td>0.0</td>\n",
       "      <td>4820.0</td>\n",
       "      <td>4820.0</td>\n",
       "      <td>291.509045</td>\n",
       "      <td>0.0</td>\n",
       "      <td>442.564804</td>\n",
       "      <td>1.577965</td>\n",
       "      <td>&lt;bound method NDFrame._add_numeric_operations....</td>\n",
       "    </tr>\n",
       "    <tr>\n",
       "      <th>13</th>\n",
       "      <td>zipcode</td>\n",
       "      <td>98001.0</td>\n",
       "      <td>98199.0</td>\n",
       "      <td>198.0</td>\n",
       "      <td>98077.939805</td>\n",
       "      <td>98065.0</td>\n",
       "      <td>53.503788</td>\n",
       "      <td>0.405661</td>\n",
       "      <td>&lt;bound method NDFrame._add_numeric_operations....</td>\n",
       "    </tr>\n",
       "    <tr>\n",
       "      <th>14</th>\n",
       "      <td>lat</td>\n",
       "      <td>47.1559</td>\n",
       "      <td>47.7776</td>\n",
       "      <td>0.6217</td>\n",
       "      <td>47.560053</td>\n",
       "      <td>47.5718</td>\n",
       "      <td>0.138561</td>\n",
       "      <td>-0.48527</td>\n",
       "      <td>&lt;bound method NDFrame._add_numeric_operations....</td>\n",
       "    </tr>\n",
       "    <tr>\n",
       "      <th>15</th>\n",
       "      <td>long</td>\n",
       "      <td>-122.519</td>\n",
       "      <td>-121.315</td>\n",
       "      <td>1.204</td>\n",
       "      <td>-122.213896</td>\n",
       "      <td>-122.23</td>\n",
       "      <td>0.140825</td>\n",
       "      <td>0.885053</td>\n",
       "      <td>&lt;bound method NDFrame._add_numeric_operations....</td>\n",
       "    </tr>\n",
       "    <tr>\n",
       "      <th>16</th>\n",
       "      <td>sqft_living15</td>\n",
       "      <td>399.0</td>\n",
       "      <td>6210.0</td>\n",
       "      <td>5811.0</td>\n",
       "      <td>1986.552492</td>\n",
       "      <td>1840.0</td>\n",
       "      <td>685.375448</td>\n",
       "      <td>1.108181</td>\n",
       "      <td>&lt;bound method NDFrame._add_numeric_operations....</td>\n",
       "    </tr>\n",
       "    <tr>\n",
       "      <th>17</th>\n",
       "      <td>sqft_lot15</td>\n",
       "      <td>651.0</td>\n",
       "      <td>871200.0</td>\n",
       "      <td>870549.0</td>\n",
       "      <td>12768.455652</td>\n",
       "      <td>7620.0</td>\n",
       "      <td>27303.547963</td>\n",
       "      <td>9.506743</td>\n",
       "      <td>&lt;bound method NDFrame._add_numeric_operations....</td>\n",
       "    </tr>\n",
       "  </tbody>\n",
       "</table>\n",
       "</div>"
      ],
      "text/plain": [
       "       attributes        min           max         range               mean  \\\n",
       "0              id  1000102.0  9900000190.0  9899000088.0  4580301520.864988   \n",
       "1           price    75000.0     7700000.0     7625000.0      540088.141767   \n",
       "2        bedrooms        0.0          33.0          33.0           3.370842   \n",
       "3       bathrooms        0.0           8.0           8.0           2.114757   \n",
       "4     sqft_living      290.0       13540.0       13250.0        2079.899736   \n",
       "5        sqft_lot      520.0     1651359.0     1650839.0       15106.967566   \n",
       "6          floors        1.0           3.5           2.5           1.494309   \n",
       "7      waterfront        0.0           1.0           1.0           0.007542   \n",
       "8            view        0.0           4.0           4.0           0.234303   \n",
       "9       condition        1.0           5.0           4.0            3.40943   \n",
       "10          grade        1.0          13.0          12.0           7.656873   \n",
       "11     sqft_above      290.0        9410.0        9120.0        1788.390691   \n",
       "12  sqft_basement        0.0        4820.0        4820.0         291.509045   \n",
       "13        zipcode    98001.0       98199.0         198.0       98077.939805   \n",
       "14            lat    47.1559       47.7776        0.6217          47.560053   \n",
       "15           long   -122.519      -121.315         1.204        -122.213896   \n",
       "16  sqft_living15      399.0        6210.0        5811.0        1986.552492   \n",
       "17     sqft_lot15      651.0      871200.0      870549.0       12768.455652   \n",
       "\n",
       "          median                std       skew  \\\n",
       "0   3904930410.0  2876499023.427783   0.243329   \n",
       "1       450000.0      367118.703181   4.024069   \n",
       "2            3.0            0.93004     1.9743   \n",
       "3           2.25           0.770145   0.511108   \n",
       "4         1910.0         918.419649   1.471555   \n",
       "5         7618.0       41419.553273  13.060019   \n",
       "6            1.5           0.539976   0.616177   \n",
       "7            0.0           0.086515  11.385108   \n",
       "8            0.0             0.7663    3.39575   \n",
       "9            3.0           0.650728   1.032805   \n",
       "10           7.0           1.175432   0.771103   \n",
       "11        1560.0          828.07182   1.446664   \n",
       "12           0.0         442.564804   1.577965   \n",
       "13       98065.0          53.503788   0.405661   \n",
       "14       47.5718           0.138561   -0.48527   \n",
       "15       -122.23           0.140825   0.885053   \n",
       "16        1840.0         685.375448   1.108181   \n",
       "17        7620.0       27303.547963   9.506743   \n",
       "\n",
       "                                             kurtosis  \n",
       "0   <bound method NDFrame._add_numeric_operations....  \n",
       "1   <bound method NDFrame._add_numeric_operations....  \n",
       "2   <bound method NDFrame._add_numeric_operations....  \n",
       "3   <bound method NDFrame._add_numeric_operations....  \n",
       "4   <bound method NDFrame._add_numeric_operations....  \n",
       "5   <bound method NDFrame._add_numeric_operations....  \n",
       "6   <bound method NDFrame._add_numeric_operations....  \n",
       "7   <bound method NDFrame._add_numeric_operations....  \n",
       "8   <bound method NDFrame._add_numeric_operations....  \n",
       "9   <bound method NDFrame._add_numeric_operations....  \n",
       "10  <bound method NDFrame._add_numeric_operations....  \n",
       "11  <bound method NDFrame._add_numeric_operations....  \n",
       "12  <bound method NDFrame._add_numeric_operations....  \n",
       "13  <bound method NDFrame._add_numeric_operations....  \n",
       "14  <bound method NDFrame._add_numeric_operations....  \n",
       "15  <bound method NDFrame._add_numeric_operations....  \n",
       "16  <bound method NDFrame._add_numeric_operations....  \n",
       "17  <bound method NDFrame._add_numeric_operations....  "
      ]
     },
     "execution_count": 22,
     "metadata": {},
     "output_type": "execute_result"
    }
   ],
   "source": [
    "m"
   ]
  },
  {
   "cell_type": "markdown",
   "id": "unexpected-elements",
   "metadata": {
    "ExecuteTime": {
     "end_time": "2021-05-17T19:16:38.519692Z",
     "start_time": "2021-05-17T19:16:38.516690Z"
    }
   },
   "source": [
    "## Mind Map Hypothesis"
   ]
  },
  {
   "cell_type": "code",
   "execution_count": null,
   "id": "solar-westminster",
   "metadata": {},
   "outputs": [],
   "source": []
  },
  {
   "cell_type": "markdown",
   "id": "periodic-bernard",
   "metadata": {
    "heading_collapsed": true
   },
   "source": [
    "## Creating Hypothesis"
   ]
  },
  {
   "cell_type": "raw",
   "id": "structured-native",
   "metadata": {
    "hidden": true
   },
   "source": [
    "1. Properties that have water view are 20% more expensive than properties that do not have water view # usar group bins do DS em Prod. 4.2.2 EDa > Bivariate >\n",
    "2. Properties with basements have higher grade\n",
    "3. Properties with basements have bigger 'sqft_living'\n",
    "4. Properties with basements are 15% more expensive\n",
    "5. The mean properties price vary according to zipcode\n",
    "6. More than half properties are localized in a xkm radio from the lake\n",
    "7. Properties with more than 2 bathrooms are 20% more expensive\n",
    "8. Properties with more than 2 bedrooms are 25% more expensive\n",
    "9. Properties with more than 1 floor are 10% more expensive\n",
    "10. Properties that were not renovated are 40% cheaper\n",
    "10. Porperties that were not renovated in the last 5 years are 15% cheaper\n",
    "11. Properties that were built in the last 5 years are cheaper than properties that were renoveted in the last 5 years"
   ]
  },
  {
   "cell_type": "code",
   "execution_count": null,
   "id": "moral-candle",
   "metadata": {
    "hidden": true
   },
   "outputs": [],
   "source": []
  },
  {
   "cell_type": "code",
   "execution_count": null,
   "id": "administrative-prison",
   "metadata": {
    "hidden": true
   },
   "outputs": [],
   "source": [
    "# The latitude of Lake Sammamish State Park is 47.558692542014, and the longitude is -122.05943584442. "
   ]
  },
  {
   "cell_type": "code",
   "execution_count": 38,
   "id": "refined-business",
   "metadata": {
    "ExecuteTime": {
     "end_time": "2021-05-17T22:18:48.072952Z",
     "start_time": "2021-05-17T22:18:48.058939Z"
    },
    "hidden": true
   },
   "outputs": [
    {
     "data": {
      "text/html": [
       "<div>\n",
       "<style scoped>\n",
       "    .dataframe tbody tr th:only-of-type {\n",
       "        vertical-align: middle;\n",
       "    }\n",
       "\n",
       "    .dataframe tbody tr th {\n",
       "        vertical-align: top;\n",
       "    }\n",
       "\n",
       "    .dataframe thead th {\n",
       "        text-align: right;\n",
       "    }\n",
       "</style>\n",
       "<table border=\"1\" class=\"dataframe\">\n",
       "  <thead>\n",
       "    <tr style=\"text-align: right;\">\n",
       "      <th></th>\n",
       "      <th>sqft_basement</th>\n",
       "      <th>sqft_above</th>\n",
       "      <th>sqft_living</th>\n",
       "      <th>sqft_lot</th>\n",
       "      <th>bedrooms</th>\n",
       "      <th>bathrooms</th>\n",
       "    </tr>\n",
       "  </thead>\n",
       "  <tbody>\n",
       "    <tr>\n",
       "      <th>17594</th>\n",
       "      <td>0</td>\n",
       "      <td>2340</td>\n",
       "      <td>2340</td>\n",
       "      <td>5500</td>\n",
       "      <td>3</td>\n",
       "      <td>1.75</td>\n",
       "    </tr>\n",
       "    <tr>\n",
       "      <th>15252</th>\n",
       "      <td>820</td>\n",
       "      <td>1250</td>\n",
       "      <td>2070</td>\n",
       "      <td>8473</td>\n",
       "      <td>4</td>\n",
       "      <td>2.50</td>\n",
       "    </tr>\n",
       "    <tr>\n",
       "      <th>12576</th>\n",
       "      <td>0</td>\n",
       "      <td>1250</td>\n",
       "      <td>1250</td>\n",
       "      <td>7320</td>\n",
       "      <td>3</td>\n",
       "      <td>1.00</td>\n",
       "    </tr>\n",
       "    <tr>\n",
       "      <th>3061</th>\n",
       "      <td>600</td>\n",
       "      <td>1450</td>\n",
       "      <td>2050</td>\n",
       "      <td>10920</td>\n",
       "      <td>4</td>\n",
       "      <td>1.75</td>\n",
       "    </tr>\n",
       "    <tr>\n",
       "      <th>11979</th>\n",
       "      <td>0</td>\n",
       "      <td>1490</td>\n",
       "      <td>1490</td>\n",
       "      <td>16200</td>\n",
       "      <td>3</td>\n",
       "      <td>1.75</td>\n",
       "    </tr>\n",
       "    <tr>\n",
       "      <th>13933</th>\n",
       "      <td>1160</td>\n",
       "      <td>1160</td>\n",
       "      <td>2320</td>\n",
       "      <td>8100</td>\n",
       "      <td>5</td>\n",
       "      <td>1.75</td>\n",
       "    </tr>\n",
       "    <tr>\n",
       "      <th>19617</th>\n",
       "      <td>140</td>\n",
       "      <td>1010</td>\n",
       "      <td>1150</td>\n",
       "      <td>35415</td>\n",
       "      <td>3</td>\n",
       "      <td>1.00</td>\n",
       "    </tr>\n",
       "    <tr>\n",
       "      <th>20709</th>\n",
       "      <td>0</td>\n",
       "      <td>2230</td>\n",
       "      <td>2230</td>\n",
       "      <td>5650</td>\n",
       "      <td>4</td>\n",
       "      <td>2.50</td>\n",
       "    </tr>\n",
       "    <tr>\n",
       "      <th>4867</th>\n",
       "      <td>0</td>\n",
       "      <td>3170</td>\n",
       "      <td>3170</td>\n",
       "      <td>36384</td>\n",
       "      <td>7</td>\n",
       "      <td>2.25</td>\n",
       "    </tr>\n",
       "    <tr>\n",
       "      <th>16118</th>\n",
       "      <td>0</td>\n",
       "      <td>2420</td>\n",
       "      <td>2420</td>\n",
       "      <td>8438</td>\n",
       "      <td>4</td>\n",
       "      <td>2.75</td>\n",
       "    </tr>\n",
       "  </tbody>\n",
       "</table>\n",
       "</div>"
      ],
      "text/plain": [
       "       sqft_basement  sqft_above  sqft_living  sqft_lot  bedrooms  bathrooms\n",
       "17594              0        2340         2340      5500         3       1.75\n",
       "15252            820        1250         2070      8473         4       2.50\n",
       "12576              0        1250         1250      7320         3       1.00\n",
       "3061             600        1450         2050     10920         4       1.75\n",
       "11979              0        1490         1490     16200         3       1.75\n",
       "13933           1160        1160         2320      8100         5       1.75\n",
       "19617            140        1010         1150     35415         3       1.00\n",
       "20709              0        2230         2230      5650         4       2.50\n",
       "4867               0        3170         3170     36384         7       2.25\n",
       "16118              0        2420         2420      8438         4       2.75"
      ]
     },
     "execution_count": 38,
     "metadata": {},
     "output_type": "execute_result"
    }
   ],
   "source": [
    "# df3[df3['sqft_basement']>0]['bathrooms'].unique()\n",
    "\n",
    "# df3[['sqft_basement','sqft_above','sqft_living','sqft_lot','bedrooms','bathrooms']].sample(10)"
   ]
  },
  {
   "cell_type": "code",
   "execution_count": null,
   "id": "demanding-clone",
   "metadata": {
    "hidden": true
   },
   "outputs": [],
   "source": [
    "# 80% property zone\n",
    "# a = df[['id','neighbourhood']].groupby('neighbourhood').count().sort_values('id',ascending=False).reset_index()\n",
    "# a ['cum_percentage'] = a['id'].cumsum()/a['id'].sum()*100\n",
    "# a\n",
    "\n",
    "# fig, axes = plt.subplots()\n",
    "# ax1 = a.plot(use_index=True, x='neighbourhood', y='id',  kind='bar', ax=axes)\n",
    "# ax2 = a.plot(use_index=True, x='neighbourhood', y='cum_percentage', marker='D', color=\"C1\", kind='line', ax=axes, secondary_y=True)\n",
    "# ax2.set_ylim([0,110])"
   ]
  },
  {
   "cell_type": "markdown",
   "id": "bulgarian-yesterday",
   "metadata": {},
   "source": [
    "## Features Creation"
   ]
  },
  {
   "cell_type": "code",
   "execution_count": 40,
   "id": "third-politics",
   "metadata": {
    "ExecuteTime": {
     "end_time": "2021-05-17T22:39:05.271805Z",
     "start_time": "2021-05-17T22:39:05.256792Z"
    }
   },
   "outputs": [
    {
     "ename": "KeyError",
     "evalue": "\"['neighbourhood'] not in index\"",
     "output_type": "error",
     "traceback": [
      "\u001b[1;31m---------------------------------------------------------------------------\u001b[0m",
      "\u001b[1;31mKeyError\u001b[0m                                  Traceback (most recent call last)",
      "\u001b[1;32m<ipython-input-40-b64645a1cdc5>\u001b[0m in \u001b[0;36m<module>\u001b[1;34m\u001b[0m\n\u001b[1;32m----> 1\u001b[1;33m \u001b[0ma\u001b[0m \u001b[1;33m=\u001b[0m \u001b[0mdf2\u001b[0m\u001b[1;33m[\u001b[0m\u001b[1;33m[\u001b[0m\u001b[1;34m'id'\u001b[0m\u001b[1;33m,\u001b[0m\u001b[1;34m'neighbourhood'\u001b[0m\u001b[1;33m]\u001b[0m\u001b[1;33m]\u001b[0m\u001b[1;33m.\u001b[0m\u001b[0mgroupby\u001b[0m\u001b[1;33m(\u001b[0m\u001b[1;34m'neighbourhood'\u001b[0m\u001b[1;33m)\u001b[0m\u001b[1;33m.\u001b[0m\u001b[0mcount\u001b[0m\u001b[1;33m(\u001b[0m\u001b[1;33m)\u001b[0m\u001b[1;33m.\u001b[0m\u001b[0msort_values\u001b[0m\u001b[1;33m(\u001b[0m\u001b[1;34m'id'\u001b[0m\u001b[1;33m,\u001b[0m\u001b[0mascending\u001b[0m\u001b[1;33m=\u001b[0m\u001b[1;32mFalse\u001b[0m\u001b[1;33m)\u001b[0m\u001b[1;33m.\u001b[0m\u001b[0mreset_index\u001b[0m\u001b[1;33m(\u001b[0m\u001b[1;33m)\u001b[0m\u001b[1;33m\u001b[0m\u001b[1;33m\u001b[0m\u001b[0m\n\u001b[0m\u001b[0;32m      2\u001b[0m \u001b[0ma\u001b[0m\u001b[1;33m[\u001b[0m\u001b[0ma\u001b[0m\u001b[1;33m[\u001b[0m\u001b[1;34m'id'\u001b[0m\u001b[1;33m]\u001b[0m\u001b[1;33m>\u001b[0m\u001b[1;36m100\u001b[0m\u001b[1;33m]\u001b[0m\u001b[1;33m\u001b[0m\u001b[1;33m\u001b[0m\u001b[0m\n",
      "\u001b[1;32m~\\Documents\\anaconda3\\envs\\pythonDS\\lib\\site-packages\\pandas\\core\\frame.py\u001b[0m in \u001b[0;36m__getitem__\u001b[1;34m(self, key)\u001b[0m\n\u001b[0;32m   3028\u001b[0m             \u001b[1;32mif\u001b[0m \u001b[0mis_iterator\u001b[0m\u001b[1;33m(\u001b[0m\u001b[0mkey\u001b[0m\u001b[1;33m)\u001b[0m\u001b[1;33m:\u001b[0m\u001b[1;33m\u001b[0m\u001b[1;33m\u001b[0m\u001b[0m\n\u001b[0;32m   3029\u001b[0m                 \u001b[0mkey\u001b[0m \u001b[1;33m=\u001b[0m \u001b[0mlist\u001b[0m\u001b[1;33m(\u001b[0m\u001b[0mkey\u001b[0m\u001b[1;33m)\u001b[0m\u001b[1;33m\u001b[0m\u001b[1;33m\u001b[0m\u001b[0m\n\u001b[1;32m-> 3030\u001b[1;33m             \u001b[0mindexer\u001b[0m \u001b[1;33m=\u001b[0m \u001b[0mself\u001b[0m\u001b[1;33m.\u001b[0m\u001b[0mloc\u001b[0m\u001b[1;33m.\u001b[0m\u001b[0m_get_listlike_indexer\u001b[0m\u001b[1;33m(\u001b[0m\u001b[0mkey\u001b[0m\u001b[1;33m,\u001b[0m \u001b[0maxis\u001b[0m\u001b[1;33m=\u001b[0m\u001b[1;36m1\u001b[0m\u001b[1;33m,\u001b[0m \u001b[0mraise_missing\u001b[0m\u001b[1;33m=\u001b[0m\u001b[1;32mTrue\u001b[0m\u001b[1;33m)\u001b[0m\u001b[1;33m[\u001b[0m\u001b[1;36m1\u001b[0m\u001b[1;33m]\u001b[0m\u001b[1;33m\u001b[0m\u001b[1;33m\u001b[0m\u001b[0m\n\u001b[0m\u001b[0;32m   3031\u001b[0m \u001b[1;33m\u001b[0m\u001b[0m\n\u001b[0;32m   3032\u001b[0m         \u001b[1;31m# take() does not accept boolean indexers\u001b[0m\u001b[1;33m\u001b[0m\u001b[1;33m\u001b[0m\u001b[1;33m\u001b[0m\u001b[0m\n",
      "\u001b[1;32m~\\Documents\\anaconda3\\envs\\pythonDS\\lib\\site-packages\\pandas\\core\\indexing.py\u001b[0m in \u001b[0;36m_get_listlike_indexer\u001b[1;34m(self, key, axis, raise_missing)\u001b[0m\n\u001b[0;32m   1264\u001b[0m             \u001b[0mkeyarr\u001b[0m\u001b[1;33m,\u001b[0m \u001b[0mindexer\u001b[0m\u001b[1;33m,\u001b[0m \u001b[0mnew_indexer\u001b[0m \u001b[1;33m=\u001b[0m \u001b[0max\u001b[0m\u001b[1;33m.\u001b[0m\u001b[0m_reindex_non_unique\u001b[0m\u001b[1;33m(\u001b[0m\u001b[0mkeyarr\u001b[0m\u001b[1;33m)\u001b[0m\u001b[1;33m\u001b[0m\u001b[1;33m\u001b[0m\u001b[0m\n\u001b[0;32m   1265\u001b[0m \u001b[1;33m\u001b[0m\u001b[0m\n\u001b[1;32m-> 1266\u001b[1;33m         \u001b[0mself\u001b[0m\u001b[1;33m.\u001b[0m\u001b[0m_validate_read_indexer\u001b[0m\u001b[1;33m(\u001b[0m\u001b[0mkeyarr\u001b[0m\u001b[1;33m,\u001b[0m \u001b[0mindexer\u001b[0m\u001b[1;33m,\u001b[0m \u001b[0maxis\u001b[0m\u001b[1;33m,\u001b[0m \u001b[0mraise_missing\u001b[0m\u001b[1;33m=\u001b[0m\u001b[0mraise_missing\u001b[0m\u001b[1;33m)\u001b[0m\u001b[1;33m\u001b[0m\u001b[1;33m\u001b[0m\u001b[0m\n\u001b[0m\u001b[0;32m   1267\u001b[0m         \u001b[1;32mreturn\u001b[0m \u001b[0mkeyarr\u001b[0m\u001b[1;33m,\u001b[0m \u001b[0mindexer\u001b[0m\u001b[1;33m\u001b[0m\u001b[1;33m\u001b[0m\u001b[0m\n\u001b[0;32m   1268\u001b[0m \u001b[1;33m\u001b[0m\u001b[0m\n",
      "\u001b[1;32m~\\Documents\\anaconda3\\envs\\pythonDS\\lib\\site-packages\\pandas\\core\\indexing.py\u001b[0m in \u001b[0;36m_validate_read_indexer\u001b[1;34m(self, key, indexer, axis, raise_missing)\u001b[0m\n\u001b[0;32m   1314\u001b[0m             \u001b[1;32mif\u001b[0m \u001b[0mraise_missing\u001b[0m\u001b[1;33m:\u001b[0m\u001b[1;33m\u001b[0m\u001b[1;33m\u001b[0m\u001b[0m\n\u001b[0;32m   1315\u001b[0m                 \u001b[0mnot_found\u001b[0m \u001b[1;33m=\u001b[0m \u001b[0mlist\u001b[0m\u001b[1;33m(\u001b[0m\u001b[0mset\u001b[0m\u001b[1;33m(\u001b[0m\u001b[0mkey\u001b[0m\u001b[1;33m)\u001b[0m \u001b[1;33m-\u001b[0m \u001b[0mset\u001b[0m\u001b[1;33m(\u001b[0m\u001b[0max\u001b[0m\u001b[1;33m)\u001b[0m\u001b[1;33m)\u001b[0m\u001b[1;33m\u001b[0m\u001b[1;33m\u001b[0m\u001b[0m\n\u001b[1;32m-> 1316\u001b[1;33m                 \u001b[1;32mraise\u001b[0m \u001b[0mKeyError\u001b[0m\u001b[1;33m(\u001b[0m\u001b[1;34mf\"{not_found} not in index\"\u001b[0m\u001b[1;33m)\u001b[0m\u001b[1;33m\u001b[0m\u001b[1;33m\u001b[0m\u001b[0m\n\u001b[0m\u001b[0;32m   1317\u001b[0m \u001b[1;33m\u001b[0m\u001b[0m\n\u001b[0;32m   1318\u001b[0m             \u001b[0mnot_found\u001b[0m \u001b[1;33m=\u001b[0m \u001b[0mkey\u001b[0m\u001b[1;33m[\u001b[0m\u001b[0mmissing_mask\u001b[0m\u001b[1;33m]\u001b[0m\u001b[1;33m\u001b[0m\u001b[1;33m\u001b[0m\u001b[0m\n",
      "\u001b[1;31mKeyError\u001b[0m: \"['neighbourhood'] not in index\""
     ]
    }
   ],
   "source": [
    "## get data from API\n",
    "a = df2[['id','neighbourhood']].groupby('neighbourhood').count().sort_values('id',ascending=False).reset_index()\n",
    "a[a['id']>100]"
   ]
  },
  {
   "cell_type": "code",
   "execution_count": 309,
   "id": "formal-domain",
   "metadata": {
    "ExecuteTime": {
     "end_time": "2021-05-17T21:15:14.868825Z",
     "start_time": "2021-05-17T21:15:14.866822Z"
    }
   },
   "outputs": [],
   "source": [
    "# mean price by zipcode"
   ]
  },
  {
   "cell_type": "code",
   "execution_count": 310,
   "id": "productive-romantic",
   "metadata": {
    "ExecuteTime": {
     "end_time": "2021-05-17T21:15:15.007951Z",
     "start_time": "2021-05-17T21:15:15.003948Z"
    }
   },
   "outputs": [],
   "source": [
    "# decision: 1 = buy, 0 = hold"
   ]
  },
  {
   "cell_type": "code",
   "execution_count": 311,
   "id": "southwest-trouble",
   "metadata": {
    "ExecuteTime": {
     "end_time": "2021-05-17T21:15:15.304221Z",
     "start_time": "2021-05-17T21:15:15.292210Z"
    }
   },
   "outputs": [],
   "source": [
    "# sale price suggestion"
   ]
  },
  {
   "cell_type": "code",
   "execution_count": 312,
   "id": "matched-increase",
   "metadata": {
    "ExecuteTime": {
     "end_time": "2021-05-17T21:15:15.665550Z",
     "start_time": "2021-05-17T21:15:15.657543Z"
    }
   },
   "outputs": [],
   "source": [
    "# expected profit"
   ]
  },
  {
   "cell_type": "code",
   "execution_count": null,
   "id": "retained-evolution",
   "metadata": {},
   "outputs": [],
   "source": [
    "# entender se há correlação\n",
    "# view                      int64\n",
    "# condition                 int64\n",
    "# grade                     int64"
   ]
  },
  {
   "cell_type": "markdown",
   "id": "wrong-walker",
   "metadata": {},
   "source": [
    "# EDA"
   ]
  },
  {
   "cell_type": "code",
   "execution_count": 63,
   "id": "casual-still",
   "metadata": {
    "ExecuteTime": {
     "end_time": "2021-05-18T00:51:26.781315Z",
     "start_time": "2021-05-18T00:51:26.771306Z"
    }
   },
   "outputs": [],
   "source": [
    "df4=df3.copy()"
   ]
  },
  {
   "cell_type": "code",
   "execution_count": 370,
   "id": "piano-niagara",
   "metadata": {
    "ExecuteTime": {
     "end_time": "2021-05-17T21:57:54.730304Z",
     "start_time": "2021-05-17T21:57:54.724299Z"
    }
   },
   "outputs": [],
   "source": [
    "num_df4 = df4.select_dtypes(include=['int64','float64'])\n",
    "cat_df4 = df4.select_dtypes(exclude=['int64','float64','datetime64[ns]'])"
   ]
  },
  {
   "cell_type": "markdown",
   "id": "paperback-halloween",
   "metadata": {
    "heading_collapsed": true
   },
   "source": [
    "## Univariate Analysis"
   ]
  },
  {
   "cell_type": "markdown",
   "id": "otherwise-effectiveness",
   "metadata": {
    "heading_collapsed": true,
    "hidden": true
   },
   "source": [
    "### Response Variable"
   ]
  },
  {
   "cell_type": "code",
   "execution_count": 371,
   "id": "accessory-poison",
   "metadata": {
    "ExecuteTime": {
     "end_time": "2021-05-17T21:57:56.749649Z",
     "start_time": "2021-05-17T21:57:56.101058Z"
    },
    "hidden": true
   },
   "outputs": [
    {
     "data": {
      "image/png": "[encoded data removed]",
      "text/plain": [
       "<Figure size 360x360 with 1 Axes>"
      ]
     },
     "metadata": {},
     "output_type": "display_data"
    }
   ],
   "source": [
    "sns.displot(df4['price'], legend=True);"
   ]
  },
  {
   "cell_type": "markdown",
   "id": "unable-vietnam",
   "metadata": {
    "heading_collapsed": true,
    "hidden": true
   },
   "source": [
    "### Numerical Variables"
   ]
  },
  {
   "cell_type": "code",
   "execution_count": 372,
   "id": "exceptional-aquarium",
   "metadata": {
    "ExecuteTime": {
     "end_time": "2021-05-17T21:58:01.558031Z",
     "start_time": "2021-05-17T21:57:59.335005Z"
    },
    "hidden": true
   },
   "outputs": [
    {
     "data": {
      "image/png": "[encoded data removed]",
      "text/plain": [
       "<Figure size 1440x1080 with 16 Axes>"
      ]
     },
     "metadata": {},
     "output_type": "display_data"
    }
   ],
   "source": [
    "num_df4.hist(bins=20);"
   ]
  },
  {
   "cell_type": "markdown",
   "id": "gorgeous-vocabulary",
   "metadata": {
    "heading_collapsed": true,
    "hidden": true
   },
   "source": [
    "### Categorical Variables"
   ]
  },
  {
   "cell_type": "code",
   "execution_count": 373,
   "id": "built-blocking",
   "metadata": {
    "ExecuteTime": {
     "end_time": "2021-05-17T21:58:03.513814Z",
     "start_time": "2021-05-17T21:58:03.504806Z"
    },
    "hidden": true
   },
   "outputs": [
    {
     "data": {
      "text/plain": [
       "(21598, 0)"
      ]
     },
     "execution_count": 373,
     "metadata": {},
     "output_type": "execute_result"
    }
   ],
   "source": [
    "cat_df4.shape"
   ]
  },
  {
   "cell_type": "markdown",
   "id": "surrounded-asbestos",
   "metadata": {
    "heading_collapsed": true
   },
   "source": [
    "## <font color='red'> Bivariate Analysis"
   ]
  },
  {
   "cell_type": "code",
   "execution_count": 374,
   "id": "indie-trick",
   "metadata": {
    "ExecuteTime": {
     "end_time": "2021-05-17T21:58:06.147303Z",
     "start_time": "2021-05-17T21:58:06.142298Z"
    },
    "hidden": true
   },
   "outputs": [
    {
     "name": "stdout",
     "output_type": "stream",
     "text": [
      "Hypothesis Resume \n",
      "\n",
      "\n",
      "Hypothesis    Conclusion    Relevance\n",
      "------------  ------------  -----------\n",
      "H1            False         Low\n",
      "H2            False         Medium\n",
      "H3            False         Medium\n",
      "H4            False         Low\n",
      "H5            False         Low\n",
      "H6            False         Low\n",
      "H7            False         Low\n",
      "H8            False         Low\n",
      "H9            False         High\n",
      "H10           True          High\n",
      "H11           True          High\n",
      "H12           True          High\n"
     ]
    }
   ],
   "source": [
    "print('Hypothesis Resume \\n\\n')\n",
    "tab = [ ['Hypothesis', 'Conclusion', 'Relevance'],\n",
    "        ['H1','False','Low'],\n",
    "        ['H2','False','Medium'],\n",
    "        ['H3','False','Medium'],\n",
    "        ['H4','False','Low'],\n",
    "        ['H5','False','Low'],\n",
    "        ['H6','False','Low'],\n",
    "        ['H7','False','Low'],\n",
    "        ['H8','False','Low'],\n",
    "        ['H9','False','High'],\n",
    "        ['H10','True','High'],\n",
    "        ['H11','True','High'],\n",
    "        ['H12','True','High'],\n",
    "      ]\n",
    "\n",
    "print(tabulate(tab, headers = 'firstrow'))"
   ]
  },
  {
   "cell_type": "markdown",
   "id": "responsible-wireless",
   "metadata": {
    "hidden": true
   },
   "source": [
    "### H1 "
   ]
  },
  {
   "cell_type": "code",
   "execution_count": 64,
   "id": "changing-screen",
   "metadata": {
    "ExecuteTime": {
     "end_time": "2021-05-18T00:51:28.779136Z",
     "start_time": "2021-05-18T00:51:28.562939Z"
    },
    "hidden": true
   },
   "outputs": [
    {
     "data": {
      "text/plain": [
       "<AxesSubplot:xlabel='bedrooms', ylabel='price'>"
      ]
     },
     "execution_count": 64,
     "metadata": {},
     "output_type": "execute_result"
    },
    {
     "data": {
      "image/png": "[encoded data removed]",
      "text/plain": [
       "<Figure size 432x288 with 1 Axes>"
      ]
     },
     "metadata": {
      "needs_background": "light"
     },
     "output_type": "display_data"
    }
   ],
   "source": [
    "sns.boxplot (x='bedrooms' ,y='price' ,data=df4)"
   ]
  },
  {
   "cell_type": "markdown",
   "id": "nervous-intermediate",
   "metadata": {
    "heading_collapsed": true
   },
   "source": [
    "## Multivatiate Analysis"
   ]
  },
  {
   "cell_type": "markdown",
   "id": "hungry-homeless",
   "metadata": {
    "heading_collapsed": true,
    "hidden": true
   },
   "source": [
    "### Numerical Attributes"
   ]
  },
  {
   "cell_type": "code",
   "execution_count": 368,
   "id": "daily-apparel",
   "metadata": {
    "ExecuteTime": {
     "end_time": "2021-05-17T21:50:55.391369Z",
     "start_time": "2021-05-17T21:50:53.623758Z"
    },
    "hidden": true
   },
   "outputs": [
    {
     "data": {
      "text/plain": [
       "<AxesSubplot:>"
      ]
     },
     "execution_count": 368,
     "metadata": {},
     "output_type": "execute_result"
    },
    {
     "data": {
      "image/png": "[encoded data removed]",
      "text/plain": [
       "<Figure size 1440x1080 with 2 Axes>"
      ]
     },
     "metadata": {},
     "output_type": "display_data"
    }
   ],
   "source": [
    "correlation = num_df4.corr(method='pearson')\n",
    "sns.set(font_scale=1.2)\n",
    "sns.heatmap(correlation, cmap='YlOrRd', annot=True, \n",
    "            annot_kws= {'fontsize':'medium'},\n",
    "            linewidths=0.8, square=True )"
   ]
  },
  {
   "cell_type": "markdown",
   "id": "embedded-taylor",
   "metadata": {
    "hidden": true
   },
   "source": [
    "### Categorical Attributes"
   ]
  },
  {
   "cell_type": "code",
   "execution_count": 375,
   "id": "champion-surgeon",
   "metadata": {
    "ExecuteTime": {
     "end_time": "2021-05-17T21:58:41.145214Z",
     "start_time": "2021-05-17T21:58:41.130200Z"
    },
    "hidden": true
   },
   "outputs": [
    {
     "data": {
      "text/plain": [
       "(21598, 0)"
      ]
     },
     "execution_count": 375,
     "metadata": {},
     "output_type": "execute_result"
    }
   ],
   "source": [
    "cat_df4.shape"
   ]
  },
  {
   "cell_type": "markdown",
   "id": "fuzzy-bonus",
   "metadata": {
    "heading_collapsed": true
   },
   "source": [
    "# Conclusion and Visualization"
   ]
  },
  {
   "cell_type": "code",
   "execution_count": null,
   "id": "twelve-invention",
   "metadata": {
    "hidden": true
   },
   "outputs": [],
   "source": []
  },
  {
   "cell_type": "code",
   "execution_count": 80,
   "id": "difficult-morrison",
   "metadata": {
    "ExecuteTime": {
     "end_time": "2021-05-17T18:32:44.525370Z",
     "start_time": "2021-05-17T18:32:44.521366Z"
    },
    "hidden": true
   },
   "outputs": [
    {
     "data": {
      "text/plain": [
       "id                        int64\n",
       "date             datetime64[ns]\n",
       "price                   float64\n",
       "bedrooms                  int64\n",
       "bathrooms               float64\n",
       "sqft_living               int64\n",
       "sqft_lot                  int64\n",
       "floors                  float64\n",
       "waterfront                int64\n",
       "view                      int64\n",
       "condition                 int64\n",
       "grade                     int64\n",
       "sqft_above                int64\n",
       "sqft_basement             int64\n",
       "yr_built         datetime64[ns]\n",
       "yr_renovated     datetime64[ns]\n",
       "zipcode                   int64\n",
       "lat                     float64\n",
       "long                    float64\n",
       "sqft_living15             int64\n",
       "sqft_lot15                int64\n",
       "dtype: object"
      ]
     },
     "execution_count": 80,
     "metadata": {},
     "output_type": "execute_result"
    }
   ],
   "source": [
    "df1.dtypes"
   ]
  },
  {
   "cell_type": "code",
   "execution_count": null,
   "id": "stone-tower",
   "metadata": {
    "hidden": true
   },
   "outputs": [],
   "source": [
    "\n",
    "# ======== Quais os imóveis que a House Rocket deveria comprar e por qual preço?\n",
    "#          tabela / Relatório com sugestão de compra com valor recomendados\n",
    "# Agrupar dados por região\n",
    "# Dentro de cada região, encontrar a mediana do preço de imóveis\n",
    "# Sugerir que imóveis que estão abaixo do preço mediano de cada região e que estejam em boas condições sejam comprados\n",
    "# \t\t\tExemplo:\n",
    "# \t\t\tid | zipcode | preço do imovel | preço da mediana | condição | status s/n\n",
    "\n",
    "\n",
    "\n",
    "\n",
    "# ======== Uma vez comprado, qual o melhor momento para vendê-lo e por qual preço?\n",
    "#          tabela / Relatório com as sugestões de venda com valor recomendado\n",
    "# Agrupar dados por região e por sazonalidade (summer, winter)\n",
    "# Dentro de cada região e sazonalidade, calcular a mediana do preço\n",
    "# Condição de venda:\n",
    "# \t\t\t\t- se o preço da compra for maior que a mediana da região + sazonalidade, o preço da venda será igual a compra + 10%,\n",
    "# - se o preço da compra for menor que a mediana da região + sazonalidade, o preço da venda será igual a compra + 30%\n",
    "# Exemplo:\n",
    "# \t\tid | zipcode | season / pç do imovel | pç da mediana | pç compra / pç venda / lucro\n",
    "\n",
    "\n",
    "\n",
    "\n"
   ]
  },
  {
   "cell_type": "code",
   "execution_count": null,
   "id": "practical-lotus",
   "metadata": {
    "hidden": true
   },
   "outputs": [],
   "source": []
  }
 ],
 "metadata": {
  "kernelspec": {
   "display_name": "Python 3",
   "language": "python",
   "name": "python3"
  },
  "language_info": {
   "codemirror_mode": {
    "name": "ipython",
    "version": 3
   },
   "file_extension": ".py",
   "mimetype": "text/x-python",
   "name": "python",
   "nbconvert_exporter": "python",
   "pygments_lexer": "ipython3",
   "version": "3.9.1"
  },
  "toc": {
   "base_numbering": "0",
   "nav_menu": {
    "height": "194px",
    "width": "168px"
   },
   "number_sections": true,
   "sideBar": false,
   "skip_h1_title": false,
   "title_cell": "Table of Contents",
   "title_sidebar": "Contents",
   "toc_cell": false,
   "toc_position": {
    "height": "47px",
    "left": "1610px",
    "top": "163px",
    "width": "159px"
   },
   "toc_section_display": false,
   "toc_window_display": false
  }
 },
 "nbformat": 4,
 "nbformat_minor": 5
}
