{
 "cells": [
  {
   "cell_type": "markdown",
   "id": "assisted-bikini",
   "metadata": {
    "heading_collapsed": true
   },
   "source": [
    "# Imports"
   ]
  },
  {
   "cell_type": "code",
   "execution_count": 1,
   "id": "early-spain",
   "metadata": {
    "ExecuteTime": {
     "end_time": "2022-01-02T22:10:33.915034Z",
     "start_time": "2022-01-02T22:10:32.894258Z"
    },
    "hidden": true
   },
   "outputs": [],
   "source": [
    "import numpy             as np\n",
    "import pandas            as pd\n",
    "import seaborn           as sns\n",
    "import plotly.express    as px\n",
    "import matplotlib.pyplot as plt\n",
    "\n",
    "from IPython.core.display import HTML\n",
    "from geopy.geocoders      import Nominatim\n",
    "from tabulate             import tabulate\n",
    "from geopy                import distance\n",
    "from geopy.distance       import great_circle"
   ]
  },
  {
   "cell_type": "markdown",
   "id": "fabulous-yorkshire",
   "metadata": {
    "heading_collapsed": true,
    "hidden": true
   },
   "source": [
    "## Helper Functions"
   ]
  },
  {
   "cell_type": "code",
   "execution_count": 2,
   "id": "material-bench",
   "metadata": {
    "ExecuteTime": {
     "end_time": "2022-01-02T22:10:33.931079Z",
     "start_time": "2022-01-02T22:10:33.920098Z"
    },
    "hidden": true
   },
   "outputs": [],
   "source": [
    "def personal_settings():\n",
    "     # plotly settings\n",
    "    plt.style.use( 'bmh' )\n",
    "    plt.rcParams['figure.figsize'] = [20, 10]\n",
    "    plt.rcParams['font.size'] = 24\n",
    "        \n",
    "    # notebook settings\n",
    "    display(HTML('<style>.container{width:90% !important;}</style>'))\n",
    "    np.set_printoptions(suppress=True)\n",
    "    pd.set_option('display.float_format', '{:.2f}'.format)\n",
    "\n",
    "    # seaborn settings\n",
    "    sns.set(rc={'figure.figsize':(15,10)})\n",
    "    sns.set_theme(style = 'darkgrid', font_scale = 1.5)"
   ]
  },
  {
   "cell_type": "code",
   "execution_count": 3,
   "id": "geographic-account",
   "metadata": {
    "ExecuteTime": {
     "end_time": "2022-01-02T22:10:34.543700Z",
     "start_time": "2022-01-02T22:10:34.526645Z"
    },
    "hidden": true
   },
   "outputs": [
    {
     "data": {
      "text/html": [
       "<style>.container{width:90% !important;}</style>"
      ],
      "text/plain": [
       "<IPython.core.display.HTML object>"
      ]
     },
     "metadata": {},
     "output_type": "display_data"
    }
   ],
   "source": [
    "personal_settings()"
   ]
  },
  {
   "cell_type": "markdown",
   "id": "flush-article",
   "metadata": {
    "heading_collapsed": true,
    "hidden": true
   },
   "source": [
    "## Loading Data"
   ]
  },
  {
   "cell_type": "code",
   "execution_count": 4,
   "id": "simple-oxford",
   "metadata": {
    "ExecuteTime": {
     "end_time": "2022-01-02T22:10:38.114495Z",
     "start_time": "2022-01-02T22:10:38.062500Z"
    },
    "hidden": true
   },
   "outputs": [],
   "source": [
    "df_raw = pd.read_csv(r'../datasets/raw/kc_house_data.csv')"
   ]
  },
  {
   "cell_type": "markdown",
   "id": "collaborative-prior",
   "metadata": {
    "heading_collapsed": true
   },
   "source": [
    "# Data Description"
   ]
  },
  {
   "cell_type": "code",
   "execution_count": 5,
   "id": "considerable-ministry",
   "metadata": {
    "ExecuteTime": {
     "end_time": "2022-01-02T22:10:38.520104Z",
     "start_time": "2022-01-02T22:10:38.500107Z"
    },
    "hidden": true
   },
   "outputs": [],
   "source": [
    "df1=df_raw.copy()"
   ]
  },
  {
   "cell_type": "markdown",
   "id": "public-guide",
   "metadata": {
    "heading_collapsed": true,
    "hidden": true
   },
   "source": [
    "## Rename Columns"
   ]
  },
  {
   "cell_type": "code",
   "execution_count": 6,
   "id": "necessary-emperor",
   "metadata": {
    "ExecuteTime": {
     "end_time": "2022-01-02T22:10:39.231583Z",
     "start_time": "2022-01-02T22:10:39.210567Z"
    },
    "hidden": true
   },
   "outputs": [
    {
     "data": {
      "text/plain": [
       "Index(['id', 'date', 'price', 'bedrooms', 'bathrooms', 'sqft_living',\n",
       "       'sqft_lot', 'floors', 'waterfront', 'view', 'condition', 'grade',\n",
       "       'sqft_above', 'sqft_basement', 'yr_built', 'yr_renovated', 'zipcode',\n",
       "       'lat', 'long', 'sqft_living15', 'sqft_lot15'],\n",
       "      dtype='object')"
      ]
     },
     "execution_count": 6,
     "metadata": {},
     "output_type": "execute_result"
    }
   ],
   "source": [
    "# checking columns names\n",
    "df1.columns # nothing to rename"
   ]
  },
  {
   "cell_type": "markdown",
   "id": "paperback-compound",
   "metadata": {
    "ExecuteTime": {
     "end_time": "2021-05-17T15:46:25.849652Z",
     "start_time": "2021-05-17T15:46:25.840643Z"
    },
    "heading_collapsed": true,
    "hidden": true
   },
   "source": [
    "## Data Dimension"
   ]
  },
  {
   "cell_type": "code",
   "execution_count": 7,
   "id": "distant-money",
   "metadata": {
    "ExecuteTime": {
     "end_time": "2022-01-02T22:10:39.959772Z",
     "start_time": "2022-01-02T22:10:39.937771Z"
    },
    "hidden": true
   },
   "outputs": [
    {
     "name": "stdout",
     "output_type": "stream",
     "text": [
      "Number of rows: 21613\n",
      "Number of columns: 21\n"
     ]
    }
   ],
   "source": [
    "print('Number of rows: {}' .format (df1.shape[0]))\n",
    "print('Number of columns: {}' .format (df1.shape[1]))"
   ]
  },
  {
   "cell_type": "markdown",
   "id": "ordinary-poultry",
   "metadata": {
    "heading_collapsed": true,
    "hidden": true
   },
   "source": [
    "## Data Types"
   ]
  },
  {
   "cell_type": "code",
   "execution_count": 8,
   "id": "auburn-executive",
   "metadata": {
    "ExecuteTime": {
     "end_time": "2022-01-02T22:10:50.606638Z",
     "start_time": "2022-01-02T22:10:50.570638Z"
    },
    "hidden": true
   },
   "outputs": [
    {
     "data": {
      "text/html": [
       "<div>\n",
       "<style scoped>\n",
       "    .dataframe tbody tr th:only-of-type {\n",
       "        vertical-align: middle;\n",
       "    }\n",
       "\n",
       "    .dataframe tbody tr th {\n",
       "        vertical-align: top;\n",
       "    }\n",
       "\n",
       "    .dataframe thead th {\n",
       "        text-align: right;\n",
       "    }\n",
       "</style>\n",
       "<table border=\"1\" class=\"dataframe\">\n",
       "  <thead>\n",
       "    <tr style=\"text-align: right;\">\n",
       "      <th></th>\n",
       "      <th>id</th>\n",
       "      <th>date</th>\n",
       "      <th>price</th>\n",
       "      <th>bedrooms</th>\n",
       "      <th>bathrooms</th>\n",
       "      <th>sqft_living</th>\n",
       "      <th>sqft_lot</th>\n",
       "      <th>floors</th>\n",
       "      <th>waterfront</th>\n",
       "      <th>view</th>\n",
       "      <th>...</th>\n",
       "      <th>grade</th>\n",
       "      <th>sqft_above</th>\n",
       "      <th>sqft_basement</th>\n",
       "      <th>yr_built</th>\n",
       "      <th>yr_renovated</th>\n",
       "      <th>zipcode</th>\n",
       "      <th>lat</th>\n",
       "      <th>long</th>\n",
       "      <th>sqft_living15</th>\n",
       "      <th>sqft_lot15</th>\n",
       "    </tr>\n",
       "  </thead>\n",
       "  <tbody>\n",
       "    <tr>\n",
       "      <th>0</th>\n",
       "      <td>7129300520</td>\n",
       "      <td>20141013T000000</td>\n",
       "      <td>221900.00</td>\n",
       "      <td>3</td>\n",
       "      <td>1.00</td>\n",
       "      <td>1180</td>\n",
       "      <td>5650</td>\n",
       "      <td>1.00</td>\n",
       "      <td>0</td>\n",
       "      <td>0</td>\n",
       "      <td>...</td>\n",
       "      <td>7</td>\n",
       "      <td>1180</td>\n",
       "      <td>0</td>\n",
       "      <td>1955</td>\n",
       "      <td>0</td>\n",
       "      <td>98178</td>\n",
       "      <td>47.51</td>\n",
       "      <td>-122.26</td>\n",
       "      <td>1340</td>\n",
       "      <td>5650</td>\n",
       "    </tr>\n",
       "    <tr>\n",
       "      <th>1</th>\n",
       "      <td>6414100192</td>\n",
       "      <td>20141209T000000</td>\n",
       "      <td>538000.00</td>\n",
       "      <td>3</td>\n",
       "      <td>2.25</td>\n",
       "      <td>2570</td>\n",
       "      <td>7242</td>\n",
       "      <td>2.00</td>\n",
       "      <td>0</td>\n",
       "      <td>0</td>\n",
       "      <td>...</td>\n",
       "      <td>7</td>\n",
       "      <td>2170</td>\n",
       "      <td>400</td>\n",
       "      <td>1951</td>\n",
       "      <td>1991</td>\n",
       "      <td>98125</td>\n",
       "      <td>47.72</td>\n",
       "      <td>-122.32</td>\n",
       "      <td>1690</td>\n",
       "      <td>7639</td>\n",
       "    </tr>\n",
       "    <tr>\n",
       "      <th>2</th>\n",
       "      <td>5631500400</td>\n",
       "      <td>20150225T000000</td>\n",
       "      <td>180000.00</td>\n",
       "      <td>2</td>\n",
       "      <td>1.00</td>\n",
       "      <td>770</td>\n",
       "      <td>10000</td>\n",
       "      <td>1.00</td>\n",
       "      <td>0</td>\n",
       "      <td>0</td>\n",
       "      <td>...</td>\n",
       "      <td>6</td>\n",
       "      <td>770</td>\n",
       "      <td>0</td>\n",
       "      <td>1933</td>\n",
       "      <td>0</td>\n",
       "      <td>98028</td>\n",
       "      <td>47.74</td>\n",
       "      <td>-122.23</td>\n",
       "      <td>2720</td>\n",
       "      <td>8062</td>\n",
       "    </tr>\n",
       "    <tr>\n",
       "      <th>3</th>\n",
       "      <td>2487200875</td>\n",
       "      <td>20141209T000000</td>\n",
       "      <td>604000.00</td>\n",
       "      <td>4</td>\n",
       "      <td>3.00</td>\n",
       "      <td>1960</td>\n",
       "      <td>5000</td>\n",
       "      <td>1.00</td>\n",
       "      <td>0</td>\n",
       "      <td>0</td>\n",
       "      <td>...</td>\n",
       "      <td>7</td>\n",
       "      <td>1050</td>\n",
       "      <td>910</td>\n",
       "      <td>1965</td>\n",
       "      <td>0</td>\n",
       "      <td>98136</td>\n",
       "      <td>47.52</td>\n",
       "      <td>-122.39</td>\n",
       "      <td>1360</td>\n",
       "      <td>5000</td>\n",
       "    </tr>\n",
       "    <tr>\n",
       "      <th>4</th>\n",
       "      <td>1954400510</td>\n",
       "      <td>20150218T000000</td>\n",
       "      <td>510000.00</td>\n",
       "      <td>3</td>\n",
       "      <td>2.00</td>\n",
       "      <td>1680</td>\n",
       "      <td>8080</td>\n",
       "      <td>1.00</td>\n",
       "      <td>0</td>\n",
       "      <td>0</td>\n",
       "      <td>...</td>\n",
       "      <td>8</td>\n",
       "      <td>1680</td>\n",
       "      <td>0</td>\n",
       "      <td>1987</td>\n",
       "      <td>0</td>\n",
       "      <td>98074</td>\n",
       "      <td>47.62</td>\n",
       "      <td>-122.05</td>\n",
       "      <td>1800</td>\n",
       "      <td>7503</td>\n",
       "    </tr>\n",
       "  </tbody>\n",
       "</table>\n",
       "<p>5 rows × 21 columns</p>\n",
       "</div>"
      ],
      "text/plain": [
       "           id             date     price  bedrooms  bathrooms  sqft_living  \\\n",
       "0  7129300520  20141013T000000 221900.00         3       1.00         1180   \n",
       "1  6414100192  20141209T000000 538000.00         3       2.25         2570   \n",
       "2  5631500400  20150225T000000 180000.00         2       1.00          770   \n",
       "3  2487200875  20141209T000000 604000.00         4       3.00         1960   \n",
       "4  1954400510  20150218T000000 510000.00         3       2.00         1680   \n",
       "\n",
       "   sqft_lot  floors  waterfront  view  ...  grade  sqft_above  sqft_basement  \\\n",
       "0      5650    1.00           0     0  ...      7        1180              0   \n",
       "1      7242    2.00           0     0  ...      7        2170            400   \n",
       "2     10000    1.00           0     0  ...      6         770              0   \n",
       "3      5000    1.00           0     0  ...      7        1050            910   \n",
       "4      8080    1.00           0     0  ...      8        1680              0   \n",
       "\n",
       "   yr_built  yr_renovated  zipcode   lat    long  sqft_living15  sqft_lot15  \n",
       "0      1955             0    98178 47.51 -122.26           1340        5650  \n",
       "1      1951          1991    98125 47.72 -122.32           1690        7639  \n",
       "2      1933             0    98028 47.74 -122.23           2720        8062  \n",
       "3      1965             0    98136 47.52 -122.39           1360        5000  \n",
       "4      1987             0    98074 47.62 -122.05           1800        7503  \n",
       "\n",
       "[5 rows x 21 columns]"
      ]
     },
     "metadata": {},
     "output_type": "display_data"
    },
    {
     "data": {
      "text/plain": [
       "id                 int64\n",
       "date              object\n",
       "price            float64\n",
       "bedrooms           int64\n",
       "bathrooms        float64\n",
       "sqft_living        int64\n",
       "sqft_lot           int64\n",
       "floors           float64\n",
       "waterfront         int64\n",
       "view               int64\n",
       "condition          int64\n",
       "grade              int64\n",
       "sqft_above         int64\n",
       "sqft_basement      int64\n",
       "yr_built           int64\n",
       "yr_renovated       int64\n",
       "zipcode            int64\n",
       "lat              float64\n",
       "long             float64\n",
       "sqft_living15      int64\n",
       "sqft_lot15         int64\n",
       "dtype: object"
      ]
     },
     "execution_count": 8,
     "metadata": {},
     "output_type": "execute_result"
    }
   ],
   "source": [
    "display(df1.head())\n",
    "df1.dtypes"
   ]
  },
  {
   "cell_type": "markdown",
   "id": "natural-quebec",
   "metadata": {
    "heading_collapsed": true,
    "hidden": true
   },
   "source": [
    "## Check NA"
   ]
  },
  {
   "cell_type": "code",
   "execution_count": 9,
   "id": "introductory-dylan",
   "metadata": {
    "ExecuteTime": {
     "end_time": "2022-01-02T22:10:54.998818Z",
     "start_time": "2022-01-02T22:10:54.980818Z"
    },
    "hidden": true
   },
   "outputs": [
    {
     "data": {
      "text/plain": [
       "id               0\n",
       "date             0\n",
       "price            0\n",
       "bedrooms         0\n",
       "bathrooms        0\n",
       "sqft_living      0\n",
       "sqft_lot         0\n",
       "floors           0\n",
       "waterfront       0\n",
       "view             0\n",
       "condition        0\n",
       "grade            0\n",
       "sqft_above       0\n",
       "sqft_basement    0\n",
       "yr_built         0\n",
       "yr_renovated     0\n",
       "zipcode          0\n",
       "lat              0\n",
       "long             0\n",
       "sqft_living15    0\n",
       "sqft_lot15       0\n",
       "dtype: int64"
      ]
     },
     "execution_count": 9,
     "metadata": {},
     "output_type": "execute_result"
    }
   ],
   "source": [
    "df1.isna().sum()"
   ]
  },
  {
   "cell_type": "markdown",
   "id": "thousand-massage",
   "metadata": {
    "heading_collapsed": true,
    "hidden": true
   },
   "source": [
    "## Fill out NA"
   ]
  },
  {
   "cell_type": "code",
   "execution_count": 10,
   "id": "failing-registration",
   "metadata": {
    "ExecuteTime": {
     "end_time": "2022-01-02T22:10:55.988837Z",
     "start_time": "2022-01-02T22:10:55.975808Z"
    },
    "hidden": true
   },
   "outputs": [],
   "source": [
    "# nothing to fill"
   ]
  },
  {
   "cell_type": "markdown",
   "id": "adapted-wheel",
   "metadata": {
    "heading_collapsed": true,
    "hidden": true
   },
   "source": [
    "## Change Variables Types"
   ]
  },
  {
   "cell_type": "code",
   "execution_count": 11,
   "id": "productive-private",
   "metadata": {
    "ExecuteTime": {
     "end_time": "2022-01-02T22:10:59.913611Z",
     "start_time": "2022-01-02T22:10:59.866241Z"
    },
    "hidden": true
   },
   "outputs": [
    {
     "name": "stdout",
     "output_type": "stream",
     "text": [
      "------ BEFORE\n"
     ]
    },
    {
     "data": {
      "text/html": [
       "<div>\n",
       "<style scoped>\n",
       "    .dataframe tbody tr th:only-of-type {\n",
       "        vertical-align: middle;\n",
       "    }\n",
       "\n",
       "    .dataframe tbody tr th {\n",
       "        vertical-align: top;\n",
       "    }\n",
       "\n",
       "    .dataframe thead th {\n",
       "        text-align: right;\n",
       "    }\n",
       "</style>\n",
       "<table border=\"1\" class=\"dataframe\">\n",
       "  <thead>\n",
       "    <tr style=\"text-align: right;\">\n",
       "      <th></th>\n",
       "      <th>date</th>\n",
       "      <th>yr_built</th>\n",
       "      <th>yr_renovated</th>\n",
       "    </tr>\n",
       "  </thead>\n",
       "  <tbody>\n",
       "    <tr>\n",
       "      <th>0</th>\n",
       "      <td>20141013T000000</td>\n",
       "      <td>1955</td>\n",
       "      <td>0</td>\n",
       "    </tr>\n",
       "    <tr>\n",
       "      <th>1</th>\n",
       "      <td>20141209T000000</td>\n",
       "      <td>1951</td>\n",
       "      <td>1991</td>\n",
       "    </tr>\n",
       "    <tr>\n",
       "      <th>2</th>\n",
       "      <td>20150225T000000</td>\n",
       "      <td>1933</td>\n",
       "      <td>0</td>\n",
       "    </tr>\n",
       "    <tr>\n",
       "      <th>3</th>\n",
       "      <td>20141209T000000</td>\n",
       "      <td>1965</td>\n",
       "      <td>0</td>\n",
       "    </tr>\n",
       "    <tr>\n",
       "      <th>4</th>\n",
       "      <td>20150218T000000</td>\n",
       "      <td>1987</td>\n",
       "      <td>0</td>\n",
       "    </tr>\n",
       "  </tbody>\n",
       "</table>\n",
       "</div>"
      ],
      "text/plain": [
       "              date  yr_built  yr_renovated\n",
       "0  20141013T000000      1955             0\n",
       "1  20141209T000000      1951          1991\n",
       "2  20150225T000000      1933             0\n",
       "3  20141209T000000      1965             0\n",
       "4  20150218T000000      1987             0"
      ]
     },
     "metadata": {},
     "output_type": "display_data"
    },
    {
     "data": {
      "text/plain": [
       "date            object\n",
       "yr_built         int64\n",
       "yr_renovated     int64\n",
       "dtype: object"
      ]
     },
     "metadata": {},
     "output_type": "display_data"
    },
    {
     "name": "stdout",
     "output_type": "stream",
     "text": [
      "\n",
      "------ AFTER\n"
     ]
    },
    {
     "data": {
      "text/html": [
       "<div>\n",
       "<style scoped>\n",
       "    .dataframe tbody tr th:only-of-type {\n",
       "        vertical-align: middle;\n",
       "    }\n",
       "\n",
       "    .dataframe tbody tr th {\n",
       "        vertical-align: top;\n",
       "    }\n",
       "\n",
       "    .dataframe thead th {\n",
       "        text-align: right;\n",
       "    }\n",
       "</style>\n",
       "<table border=\"1\" class=\"dataframe\">\n",
       "  <thead>\n",
       "    <tr style=\"text-align: right;\">\n",
       "      <th></th>\n",
       "      <th>date</th>\n",
       "      <th>yr_built</th>\n",
       "      <th>yr_renovated</th>\n",
       "    </tr>\n",
       "  </thead>\n",
       "  <tbody>\n",
       "    <tr>\n",
       "      <th>0</th>\n",
       "      <td>2014-10-13</td>\n",
       "      <td>1955</td>\n",
       "      <td>0</td>\n",
       "    </tr>\n",
       "    <tr>\n",
       "      <th>1</th>\n",
       "      <td>2014-12-09</td>\n",
       "      <td>1951</td>\n",
       "      <td>1991</td>\n",
       "    </tr>\n",
       "    <tr>\n",
       "      <th>2</th>\n",
       "      <td>2015-02-25</td>\n",
       "      <td>1933</td>\n",
       "      <td>0</td>\n",
       "    </tr>\n",
       "    <tr>\n",
       "      <th>3</th>\n",
       "      <td>2014-12-09</td>\n",
       "      <td>1965</td>\n",
       "      <td>0</td>\n",
       "    </tr>\n",
       "    <tr>\n",
       "      <th>4</th>\n",
       "      <td>2015-02-18</td>\n",
       "      <td>1987</td>\n",
       "      <td>0</td>\n",
       "    </tr>\n",
       "  </tbody>\n",
       "</table>\n",
       "</div>"
      ],
      "text/plain": [
       "        date  yr_built  yr_renovated\n",
       "0 2014-10-13      1955             0\n",
       "1 2014-12-09      1951          1991\n",
       "2 2015-02-25      1933             0\n",
       "3 2014-12-09      1965             0\n",
       "4 2015-02-18      1987             0"
      ]
     },
     "metadata": {},
     "output_type": "display_data"
    },
    {
     "data": {
      "text/plain": [
       "date            datetime64[ns]\n",
       "yr_built                 int64\n",
       "yr_renovated             int64\n",
       "dtype: object"
      ]
     },
     "metadata": {},
     "output_type": "display_data"
    }
   ],
   "source": [
    "# changing 'date' type from OBJECT to DATE or INT\n",
    "\n",
    "# checking DATES types\n",
    "print(\"------ BEFORE\")\n",
    "display(df1[['date','yr_built','yr_renovated']].head())\n",
    "display(df1[['date','yr_built','yr_renovated']].dtypes)\n",
    "\n",
    "# changing dtypes\n",
    "df1['date']         = pd.to_datetime(df1['date'],         format='%Y-%m-%d')\n",
    "# df1['yr_built']     = pd.to_datetime(df1['yr_built'],     format='%Y-%m-%d')\n",
    "# df1['yr_renovated'] = pd.to_datetime(df1['yr_renovated'], format='%Y-%m-%d')\n",
    "\n",
    "# checking DATES types\n",
    "print(\"\")\n",
    "print(\"------ AFTER\")\n",
    "display(df1[['date','yr_built','yr_renovated']].head())\n",
    "display(df1[['date','yr_built','yr_renovated']].dtypes)"
   ]
  },
  {
   "cell_type": "markdown",
   "id": "provincial-aging",
   "metadata": {
    "heading_collapsed": true,
    "hidden": true
   },
   "source": [
    "## Dropping Duplicates"
   ]
  },
  {
   "cell_type": "code",
   "execution_count": 12,
   "id": "harmful-weapon",
   "metadata": {
    "ExecuteTime": {
     "end_time": "2022-01-02T22:11:02.984317Z",
     "start_time": "2022-01-02T22:11:02.965318Z"
    },
    "hidden": true
   },
   "outputs": [
    {
     "name": "stdout",
     "output_type": "stream",
     "text": [
      "21613 number of rows\n",
      "21436 uniques ids\n",
      "177   number of duplicated ids\n"
     ]
    }
   ],
   "source": [
    "print(df1.shape[0], 'number of rows')\n",
    "print(df1['id'].unique().shape[0], 'uniques ids')\n",
    "print(df1.shape[0] - df1['id'].unique().shape[0], '  number of duplicated ids')"
   ]
  },
  {
   "cell_type": "code",
   "execution_count": 13,
   "id": "educated-shock",
   "metadata": {
    "ExecuteTime": {
     "end_time": "2022-01-02T22:11:04.052065Z",
     "start_time": "2022-01-02T22:11:04.023065Z"
    },
    "hidden": true
   },
   "outputs": [
    {
     "name": "stdout",
     "output_type": "stream",
     "text": [
      "new shape: (21436, 21)\n"
     ]
    }
   ],
   "source": [
    "# sorting dataframe by date\n",
    "df1 = df1.sort_values('date', ascending=True)\n",
    "\n",
    "# deleting ids that appears first\n",
    "df1 = df1.drop_duplicates(subset='id', keep='last')\n",
    "\n",
    "print('new shape:', df1.shape)"
   ]
  },
  {
   "cell_type": "markdown",
   "id": "disciplinary-evans",
   "metadata": {
    "heading_collapsed": true,
    "hidden": true
   },
   "source": [
    "## Descriptive Statistics"
   ]
  },
  {
   "cell_type": "code",
   "execution_count": 14,
   "id": "generous-curtis",
   "metadata": {
    "ExecuteTime": {
     "end_time": "2022-01-02T22:11:04.811470Z",
     "start_time": "2022-01-02T22:11:04.801471Z"
    },
    "hidden": true
   },
   "outputs": [],
   "source": [
    "num_df1 = df1.select_dtypes(include=['int64','float64'])\n",
    "cat_df1 = df1.select_dtypes(exclude=['int64','float64','datetime64[ns]'])"
   ]
  },
  {
   "cell_type": "markdown",
   "id": "coordinated-cargo",
   "metadata": {
    "ExecuteTime": {
     "end_time": "2021-05-17T16:04:47.487696Z",
     "start_time": "2021-05-17T16:04:47.477688Z"
    },
    "heading_collapsed": true,
    "hidden": true
   },
   "source": [
    "### Numerical Attributes"
   ]
  },
  {
   "cell_type": "code",
   "execution_count": 15,
   "id": "olympic-thanks",
   "metadata": {
    "ExecuteTime": {
     "end_time": "2022-01-02T22:11:07.579101Z",
     "start_time": "2022-01-02T22:11:07.562102Z"
    },
    "hidden": true
   },
   "outputs": [
    {
     "data": {
      "text/plain": [
       "(21436, 20)"
      ]
     },
     "execution_count": 15,
     "metadata": {},
     "output_type": "execute_result"
    }
   ],
   "source": [
    "num_df1.shape"
   ]
  },
  {
   "cell_type": "code",
   "execution_count": 16,
   "id": "biblical-memphis",
   "metadata": {
    "ExecuteTime": {
     "end_time": "2022-01-02T22:11:07.952930Z",
     "start_time": "2022-01-02T22:11:07.851203Z"
    },
    "hidden": true
   },
   "outputs": [
    {
     "data": {
      "text/html": [
       "<div>\n",
       "<style scoped>\n",
       "    .dataframe tbody tr th:only-of-type {\n",
       "        vertical-align: middle;\n",
       "    }\n",
       "\n",
       "    .dataframe tbody tr th {\n",
       "        vertical-align: top;\n",
       "    }\n",
       "\n",
       "    .dataframe thead th {\n",
       "        text-align: right;\n",
       "    }\n",
       "</style>\n",
       "<table border=\"1\" class=\"dataframe\">\n",
       "  <thead>\n",
       "    <tr style=\"text-align: right;\">\n",
       "      <th></th>\n",
       "      <th>attributes</th>\n",
       "      <th>min</th>\n",
       "      <th>max</th>\n",
       "      <th>range</th>\n",
       "      <th>mean</th>\n",
       "      <th>median</th>\n",
       "      <th>std</th>\n",
       "      <th>skew</th>\n",
       "      <th>kurtosis</th>\n",
       "    </tr>\n",
       "  </thead>\n",
       "  <tbody>\n",
       "    <tr>\n",
       "      <th>0</th>\n",
       "      <td>id</td>\n",
       "      <td>1000102.00</td>\n",
       "      <td>9900000190.00</td>\n",
       "      <td>9899000088.00</td>\n",
       "      <td>4580765328.18</td>\n",
       "      <td>3904921185.00</td>\n",
       "      <td>2876522535.73</td>\n",
       "      <td>0.24</td>\n",
       "      <td>&lt;bound method NDFrame._add_numeric_operations....</td>\n",
       "    </tr>\n",
       "    <tr>\n",
       "      <th>1</th>\n",
       "      <td>price</td>\n",
       "      <td>75000.00</td>\n",
       "      <td>7700000.00</td>\n",
       "      <td>7625000.00</td>\n",
       "      <td>541649.96</td>\n",
       "      <td>450000.00</td>\n",
       "      <td>367306.36</td>\n",
       "      <td>4.04</td>\n",
       "      <td>&lt;bound method NDFrame._add_numeric_operations....</td>\n",
       "    </tr>\n",
       "    <tr>\n",
       "      <th>2</th>\n",
       "      <td>bedrooms</td>\n",
       "      <td>0.00</td>\n",
       "      <td>33.00</td>\n",
       "      <td>33.00</td>\n",
       "      <td>3.37</td>\n",
       "      <td>3.00</td>\n",
       "      <td>0.93</td>\n",
       "      <td>1.99</td>\n",
       "      <td>&lt;bound method NDFrame._add_numeric_operations....</td>\n",
       "    </tr>\n",
       "    <tr>\n",
       "      <th>3</th>\n",
       "      <td>bathrooms</td>\n",
       "      <td>0.00</td>\n",
       "      <td>8.00</td>\n",
       "      <td>8.00</td>\n",
       "      <td>2.12</td>\n",
       "      <td>2.25</td>\n",
       "      <td>0.77</td>\n",
       "      <td>0.51</td>\n",
       "      <td>&lt;bound method NDFrame._add_numeric_operations....</td>\n",
       "    </tr>\n",
       "    <tr>\n",
       "      <th>4</th>\n",
       "      <td>sqft_living</td>\n",
       "      <td>290.00</td>\n",
       "      <td>13540.00</td>\n",
       "      <td>13250.00</td>\n",
       "      <td>2082.70</td>\n",
       "      <td>1920.00</td>\n",
       "      <td>919.13</td>\n",
       "      <td>1.47</td>\n",
       "      <td>&lt;bound method NDFrame._add_numeric_operations....</td>\n",
       "    </tr>\n",
       "    <tr>\n",
       "      <th>5</th>\n",
       "      <td>sqft_lot</td>\n",
       "      <td>520.00</td>\n",
       "      <td>1651359.00</td>\n",
       "      <td>1650839.00</td>\n",
       "      <td>15135.64</td>\n",
       "      <td>7614.00</td>\n",
       "      <td>41537.65</td>\n",
       "      <td>13.04</td>\n",
       "      <td>&lt;bound method NDFrame._add_numeric_operations....</td>\n",
       "    </tr>\n",
       "    <tr>\n",
       "      <th>6</th>\n",
       "      <td>floors</td>\n",
       "      <td>1.00</td>\n",
       "      <td>3.50</td>\n",
       "      <td>2.50</td>\n",
       "      <td>1.50</td>\n",
       "      <td>1.50</td>\n",
       "      <td>0.54</td>\n",
       "      <td>0.61</td>\n",
       "      <td>&lt;bound method NDFrame._add_numeric_operations....</td>\n",
       "    </tr>\n",
       "    <tr>\n",
       "      <th>7</th>\n",
       "      <td>waterfront</td>\n",
       "      <td>0.00</td>\n",
       "      <td>1.00</td>\n",
       "      <td>1.00</td>\n",
       "      <td>0.01</td>\n",
       "      <td>0.00</td>\n",
       "      <td>0.09</td>\n",
       "      <td>11.34</td>\n",
       "      <td>&lt;bound method NDFrame._add_numeric_operations....</td>\n",
       "    </tr>\n",
       "    <tr>\n",
       "      <th>8</th>\n",
       "      <td>view</td>\n",
       "      <td>0.00</td>\n",
       "      <td>4.00</td>\n",
       "      <td>4.00</td>\n",
       "      <td>0.24</td>\n",
       "      <td>0.00</td>\n",
       "      <td>0.77</td>\n",
       "      <td>3.39</td>\n",
       "      <td>&lt;bound method NDFrame._add_numeric_operations....</td>\n",
       "    </tr>\n",
       "    <tr>\n",
       "      <th>9</th>\n",
       "      <td>condition</td>\n",
       "      <td>1.00</td>\n",
       "      <td>5.00</td>\n",
       "      <td>4.00</td>\n",
       "      <td>3.41</td>\n",
       "      <td>3.00</td>\n",
       "      <td>0.65</td>\n",
       "      <td>1.04</td>\n",
       "      <td>&lt;bound method NDFrame._add_numeric_operations....</td>\n",
       "    </tr>\n",
       "    <tr>\n",
       "      <th>10</th>\n",
       "      <td>grade</td>\n",
       "      <td>1.00</td>\n",
       "      <td>13.00</td>\n",
       "      <td>12.00</td>\n",
       "      <td>7.66</td>\n",
       "      <td>7.00</td>\n",
       "      <td>1.17</td>\n",
       "      <td>0.77</td>\n",
       "      <td>&lt;bound method NDFrame._add_numeric_operations....</td>\n",
       "    </tr>\n",
       "    <tr>\n",
       "      <th>11</th>\n",
       "      <td>sqft_above</td>\n",
       "      <td>290.00</td>\n",
       "      <td>9410.00</td>\n",
       "      <td>9120.00</td>\n",
       "      <td>1790.96</td>\n",
       "      <td>1560.00</td>\n",
       "      <td>829.01</td>\n",
       "      <td>1.44</td>\n",
       "      <td>&lt;bound method NDFrame._add_numeric_operations....</td>\n",
       "    </tr>\n",
       "    <tr>\n",
       "      <th>12</th>\n",
       "      <td>sqft_basement</td>\n",
       "      <td>0.00</td>\n",
       "      <td>4820.00</td>\n",
       "      <td>4820.00</td>\n",
       "      <td>291.74</td>\n",
       "      <td>0.00</td>\n",
       "      <td>442.77</td>\n",
       "      <td>1.58</td>\n",
       "      <td>&lt;bound method NDFrame._add_numeric_operations....</td>\n",
       "    </tr>\n",
       "    <tr>\n",
       "      <th>13</th>\n",
       "      <td>yr_built</td>\n",
       "      <td>1900.00</td>\n",
       "      <td>2015.00</td>\n",
       "      <td>115.00</td>\n",
       "      <td>1971.10</td>\n",
       "      <td>1975.00</td>\n",
       "      <td>29.38</td>\n",
       "      <td>-0.47</td>\n",
       "      <td>&lt;bound method NDFrame._add_numeric_operations....</td>\n",
       "    </tr>\n",
       "    <tr>\n",
       "      <th>14</th>\n",
       "      <td>yr_renovated</td>\n",
       "      <td>0.00</td>\n",
       "      <td>2015.00</td>\n",
       "      <td>2015.00</td>\n",
       "      <td>84.73</td>\n",
       "      <td>0.00</td>\n",
       "      <td>402.42</td>\n",
       "      <td>4.54</td>\n",
       "      <td>&lt;bound method NDFrame._add_numeric_operations....</td>\n",
       "    </tr>\n",
       "    <tr>\n",
       "      <th>15</th>\n",
       "      <td>zipcode</td>\n",
       "      <td>98001.00</td>\n",
       "      <td>98199.00</td>\n",
       "      <td>198.00</td>\n",
       "      <td>98077.86</td>\n",
       "      <td>98065.00</td>\n",
       "      <td>53.47</td>\n",
       "      <td>0.41</td>\n",
       "      <td>&lt;bound method NDFrame._add_numeric_operations....</td>\n",
       "    </tr>\n",
       "    <tr>\n",
       "      <th>16</th>\n",
       "      <td>lat</td>\n",
       "      <td>47.16</td>\n",
       "      <td>47.78</td>\n",
       "      <td>0.62</td>\n",
       "      <td>47.56</td>\n",
       "      <td>47.57</td>\n",
       "      <td>0.14</td>\n",
       "      <td>-0.49</td>\n",
       "      <td>&lt;bound method NDFrame._add_numeric_operations....</td>\n",
       "    </tr>\n",
       "    <tr>\n",
       "      <th>17</th>\n",
       "      <td>long</td>\n",
       "      <td>-122.52</td>\n",
       "      <td>-121.31</td>\n",
       "      <td>1.20</td>\n",
       "      <td>-122.21</td>\n",
       "      <td>-122.23</td>\n",
       "      <td>0.14</td>\n",
       "      <td>0.88</td>\n",
       "      <td>&lt;bound method NDFrame._add_numeric_operations....</td>\n",
       "    </tr>\n",
       "    <tr>\n",
       "      <th>18</th>\n",
       "      <td>sqft_living15</td>\n",
       "      <td>399.00</td>\n",
       "      <td>6210.00</td>\n",
       "      <td>5811.00</td>\n",
       "      <td>1988.31</td>\n",
       "      <td>1840.00</td>\n",
       "      <td>685.68</td>\n",
       "      <td>1.11</td>\n",
       "      <td>&lt;bound method NDFrame._add_numeric_operations....</td>\n",
       "    </tr>\n",
       "    <tr>\n",
       "      <th>19</th>\n",
       "      <td>sqft_lot15</td>\n",
       "      <td>651.00</td>\n",
       "      <td>871200.00</td>\n",
       "      <td>870549.00</td>\n",
       "      <td>12785.96</td>\n",
       "      <td>7620.00</td>\n",
       "      <td>27374.83</td>\n",
       "      <td>9.50</td>\n",
       "      <td>&lt;bound method NDFrame._add_numeric_operations....</td>\n",
       "    </tr>\n",
       "  </tbody>\n",
       "</table>\n",
       "</div>"
      ],
      "text/plain": [
       "       attributes        min           max         range          mean  \\\n",
       "0              id 1000102.00 9900000190.00 9899000088.00 4580765328.18   \n",
       "1           price   75000.00    7700000.00    7625000.00     541649.96   \n",
       "2        bedrooms       0.00         33.00         33.00          3.37   \n",
       "3       bathrooms       0.00          8.00          8.00          2.12   \n",
       "4     sqft_living     290.00      13540.00      13250.00       2082.70   \n",
       "5        sqft_lot     520.00    1651359.00    1650839.00      15135.64   \n",
       "6          floors       1.00          3.50          2.50          1.50   \n",
       "7      waterfront       0.00          1.00          1.00          0.01   \n",
       "8            view       0.00          4.00          4.00          0.24   \n",
       "9       condition       1.00          5.00          4.00          3.41   \n",
       "10          grade       1.00         13.00         12.00          7.66   \n",
       "11     sqft_above     290.00       9410.00       9120.00       1790.96   \n",
       "12  sqft_basement       0.00       4820.00       4820.00        291.74   \n",
       "13       yr_built    1900.00       2015.00        115.00       1971.10   \n",
       "14   yr_renovated       0.00       2015.00       2015.00         84.73   \n",
       "15        zipcode   98001.00      98199.00        198.00      98077.86   \n",
       "16            lat      47.16         47.78          0.62         47.56   \n",
       "17           long    -122.52       -121.31          1.20       -122.21   \n",
       "18  sqft_living15     399.00       6210.00       5811.00       1988.31   \n",
       "19     sqft_lot15     651.00     871200.00     870549.00      12785.96   \n",
       "\n",
       "          median           std  skew  \\\n",
       "0  3904921185.00 2876522535.73  0.24   \n",
       "1      450000.00     367306.36  4.04   \n",
       "2           3.00          0.93  1.99   \n",
       "3           2.25          0.77  0.51   \n",
       "4        1920.00        919.13  1.47   \n",
       "5        7614.00      41537.65 13.04   \n",
       "6           1.50          0.54  0.61   \n",
       "7           0.00          0.09 11.34   \n",
       "8           0.00          0.77  3.39   \n",
       "9           3.00          0.65  1.04   \n",
       "10          7.00          1.17  0.77   \n",
       "11       1560.00        829.01  1.44   \n",
       "12          0.00        442.77  1.58   \n",
       "13       1975.00         29.38 -0.47   \n",
       "14          0.00        402.42  4.54   \n",
       "15      98065.00         53.47  0.41   \n",
       "16         47.57          0.14 -0.49   \n",
       "17       -122.23          0.14  0.88   \n",
       "18       1840.00        685.68  1.11   \n",
       "19       7620.00      27374.83  9.50   \n",
       "\n",
       "                                             kurtosis  \n",
       "0   <bound method NDFrame._add_numeric_operations....  \n",
       "1   <bound method NDFrame._add_numeric_operations....  \n",
       "2   <bound method NDFrame._add_numeric_operations....  \n",
       "3   <bound method NDFrame._add_numeric_operations....  \n",
       "4   <bound method NDFrame._add_numeric_operations....  \n",
       "5   <bound method NDFrame._add_numeric_operations....  \n",
       "6   <bound method NDFrame._add_numeric_operations....  \n",
       "7   <bound method NDFrame._add_numeric_operations....  \n",
       "8   <bound method NDFrame._add_numeric_operations....  \n",
       "9   <bound method NDFrame._add_numeric_operations....  \n",
       "10  <bound method NDFrame._add_numeric_operations....  \n",
       "11  <bound method NDFrame._add_numeric_operations....  \n",
       "12  <bound method NDFrame._add_numeric_operations....  \n",
       "13  <bound method NDFrame._add_numeric_operations....  \n",
       "14  <bound method NDFrame._add_numeric_operations....  \n",
       "15  <bound method NDFrame._add_numeric_operations....  \n",
       "16  <bound method NDFrame._add_numeric_operations....  \n",
       "17  <bound method NDFrame._add_numeric_operations....  \n",
       "18  <bound method NDFrame._add_numeric_operations....  \n",
       "19  <bound method NDFrame._add_numeric_operations....  "
      ]
     },
     "execution_count": 16,
     "metadata": {},
     "output_type": "execute_result"
    }
   ],
   "source": [
    "# central tendendy - mean, median\n",
    "ct1 = pd.DataFrame(num_df1.apply(np.mean)).T\n",
    "ct2 = pd.DataFrame(num_df1.apply(np.median)).T\n",
    "\n",
    "# dispersion - std, min, max, range, skew, kurtosis\n",
    "d1 = pd.DataFrame(num_df1.apply(np.std)).T\n",
    "d2 = pd.DataFrame(num_df1.apply(min)).T\n",
    "d3 = pd.DataFrame(num_df1.apply(max)).T\n",
    "d4 = pd.DataFrame(num_df1.apply(lambda x: x.max() - x.min())).T\n",
    "d5 = pd.DataFrame(num_df1.apply(lambda x: x.skew())).T\n",
    "d6 = pd.DataFrame(num_df1.apply(lambda x: x.kurtosis)).T\n",
    "\n",
    "# concatenate \n",
    "m = pd.concat([d2,d3,d4,ct1,ct2,d1,d5,d6]).T.reset_index()\n",
    "m.columns = ['attributes','min','max','range','mean','median','std','skew','kurtosis']\n",
    "m"
   ]
  },
  {
   "cell_type": "markdown",
   "id": "nuclear-amsterdam",
   "metadata": {
    "heading_collapsed": true,
    "hidden": true
   },
   "source": [
    "### Categorical Attributes"
   ]
  },
  {
   "cell_type": "code",
   "execution_count": 17,
   "id": "narrative-railway",
   "metadata": {
    "ExecuteTime": {
     "end_time": "2022-01-02T22:11:11.440904Z",
     "start_time": "2022-01-02T22:11:11.420879Z"
    },
    "hidden": true
   },
   "outputs": [
    {
     "data": {
      "text/plain": [
       "(21436, 0)"
      ]
     },
     "execution_count": 17,
     "metadata": {},
     "output_type": "execute_result"
    }
   ],
   "source": [
    "cat_df1.shape # no attributes"
   ]
  },
  {
   "cell_type": "markdown",
   "id": "flush-phenomenon",
   "metadata": {
    "heading_collapsed": true
   },
   "source": [
    "# Variable Filtering "
   ]
  },
  {
   "cell_type": "code",
   "execution_count": 18,
   "id": "humanitarian-healing",
   "metadata": {
    "ExecuteTime": {
     "end_time": "2022-01-02T22:11:16.007377Z",
     "start_time": "2022-01-02T22:11:15.995376Z"
    },
    "hidden": true
   },
   "outputs": [],
   "source": [
    "df2 = df1.copy()"
   ]
  },
  {
   "cell_type": "code",
   "execution_count": 19,
   "id": "quiet-secretariat",
   "metadata": {
    "ExecuteTime": {
     "end_time": "2022-01-02T22:11:16.362851Z",
     "start_time": "2022-01-02T22:11:16.343851Z"
    },
    "hidden": true
   },
   "outputs": [],
   "source": [
    "df2 = df2.drop (['view', 'sqft_living15','sqft_lot15'], axis=1)\n",
    "\n",
    "# === notes:\n",
    "# view          \tAn index from 0 to 4 of how good the view of the property was\n",
    "# sqft_living15 \tThe square footage of interior housing living space for the nearest 15 neighbors\n",
    "# sqft_lot15    \tThe square footage of the land lots of the nearest 15 neighbors"
   ]
  },
  {
   "cell_type": "code",
   "execution_count": 21,
   "id": "acceptable-reward",
   "metadata": {
    "ExecuteTime": {
     "end_time": "2021-09-02T13:24:22.185141Z",
     "start_time": "2021-09-02T13:24:22.167124Z"
    },
    "hidden": true
   },
   "outputs": [
    {
     "name": "stdout",
     "output_type": "stream",
     "text": [
      "          sqft_living\n",
      "bedrooms             \n",
      "1              884.94\n",
      "2             1240.54\n",
      "33            1620.00\n",
      "0             1707.85\n",
      "3             1807.60\n",
      "4             2556.00\n",
      "11            3000.00\n",
      "5             3054.82\n",
      "6             3310.76\n",
      "10            3706.67\n",
      "9             3775.00\n",
      "8             3800.00\n",
      "7             3974.21\n",
      "            id\n",
      "bedrooms      \n",
      "0           13\n",
      "1          194\n",
      "2         2736\n",
      "3         9731\n",
      "4         6849\n",
      "5         1586\n",
      "6          265\n",
      "7           38\n",
      "8           13\n",
      "9            6\n",
      "10           3\n",
      "11           1\n",
      "33           1 \n",
      "\n"
     ]
    }
   ],
   "source": [
    "# checking properties 'sqft_living' by number of bedrooms\n",
    "print(df2[['bedrooms','sqft_living']].groupby(['bedrooms']).mean().sort_values('sqft_living', ascending=True))\n",
    "print(df2[['id','bedrooms']].groupby(['bedrooms']).count(),'\\n')\n",
    "\n",
    "df2 = df2[ (df2['bedrooms']!=0) & (df2['bedrooms']!=11) & (df2['bedrooms']!=33) ]"
   ]
  },
  {
   "cell_type": "markdown",
   "id": "quiet-disposal",
   "metadata": {
    "heading_collapsed": true
   },
   "source": [
    "# Feature Engineering"
   ]
  },
  {
   "cell_type": "code",
   "execution_count": 20,
   "id": "awful-tractor",
   "metadata": {
    "ExecuteTime": {
     "end_time": "2022-01-02T22:11:25.254409Z",
     "start_time": "2022-01-02T22:11:25.240431Z"
    },
    "hidden": true
   },
   "outputs": [],
   "source": [
    "df3 = df2.copy()"
   ]
  },
  {
   "cell_type": "markdown",
   "id": "unexpected-elements",
   "metadata": {
    "ExecuteTime": {
     "end_time": "2021-05-17T19:16:38.519692Z",
     "start_time": "2021-05-17T19:16:38.516690Z"
    },
    "heading_collapsed": true,
    "hidden": true
   },
   "source": [
    "## Mind Map Hypothesis"
   ]
  },
  {
   "cell_type": "code",
   "execution_count": null,
   "id": "solar-westminster",
   "metadata": {
    "hidden": true
   },
   "outputs": [],
   "source": []
  },
  {
   "cell_type": "markdown",
   "id": "periodic-bernard",
   "metadata": {
    "heading_collapsed": true,
    "hidden": true
   },
   "source": [
    "## Creating Hypothesis"
   ]
  },
  {
   "cell_type": "markdown",
   "id": "invisible-concrete",
   "metadata": {
    "hidden": true
   },
   "source": [
    "1. Properties that have water view are 50% more expensive.\n",
    "2. Properties with basements have higher grade.\n",
    "3. Properties with basements have bigger interior living space.\n",
    "4. Properties with basements are 15% more expensive.\n",
    "5. Properties built with basements decreased over the years.\n",
    "6. Properties with 1 to 2 bathrooms are 20% more expensive than those with up to 1 bathroom.\n",
    "7. Properties with 3 bedrooms are 25% more expensive than those which have 2 bedrooms.\n",
    "8.  Properties with 2 floors are 15% more expensive than those with 1 floor.\n",
    "9. Most properties (+50%) became available during summer/spring.\n",
    "10. Properties available during summer/spring are 20% more expensive.\n",
    "11. Most properties (+50%) are localized in a 15km radio from the lake.\n",
    "12. Most of properties (+50%) that should be bought are in a 15km radius from the lake.\n",
    "13. Properties selected to be bought that are localized in a 15km radius from lake correspond to more than 50% of expected profit.\n",
    "14. Properties have bigger interior living space along construction year timeline.\n",
    "15. Properties that were not renovated are 40% cheaper."
   ]
  },
  {
   "cell_type": "markdown",
   "id": "bulgarian-yesterday",
   "metadata": {
    "heading_collapsed": true,
    "hidden": true
   },
   "source": [
    "## Features Creation\n"
   ]
  },
  {
   "cell_type": "code",
   "execution_count": 25,
   "id": "worst-tutorial",
   "metadata": {
    "ExecuteTime": {
     "end_time": "2021-07-03T00:17:59.613784Z",
     "start_time": "2021-07-03T00:14:28.314455Z"
    },
    "code_folding": [],
    "hidden": true,
    "scrolled": true
   },
   "outputs": [
    {
     "name": "stdout",
     "output_type": "stream",
     "text": [
      "Loop: 0 / 21421\n",
      "Loop: 1 / 21421\n",
      "Loop: 2 / 21421\n",
      "Loop: 3 / 21421\n",
      "Loop: 4 / 21421\n",
      "Loop: 5 / 21421\n",
      "Loop: 6 / 21421\n",
      "Loop: 7 / 21421\n",
      "Loop: 8 / 21421\n",
      "Loop: 9 / 21421\n",
      "Loop: 10 / 21421\n",
      "Loop: 11 / 21421\n",
      "Loop: 12 / 21421\n",
      "Loop: 13 / 21421\n",
      "Loop: 14 / 21421\n",
      "Loop: 15 / 21421\n",
      "Loop: 16 / 21421\n",
      "Loop: 17 / 21421\n",
      "Loop: 18 / 21421\n",
      "Loop: 19 / 21421\n",
      "Loop: 20 / 21421\n",
      "Loop: 21 / 21421\n",
      "Loop: 22 / 21421\n",
      "Loop: 23 / 21421\n",
      "Loop: 24 / 21421\n",
      "Loop: 25 / 21421\n",
      "Loop: 26 / 21421\n",
      "Loop: 27 / 21421\n",
      "Loop: 28 / 21421\n",
      "Loop: 29 / 21421\n",
      "Loop: 30 / 21421\n",
      "Loop: 31 / 21421\n",
      "Loop: 32 / 21421\n",
      "Loop: 33 / 21421\n",
      "Loop: 34 / 21421\n",
      "Loop: 35 / 21421\n",
      "Loop: 36 / 21421\n",
      "Loop: 37 / 21421\n",
      "Loop: 38 / 21421\n",
      "Loop: 39 / 21421\n",
      "Loop: 40 / 21421\n",
      "Loop: 41 / 21421\n",
      "Loop: 42 / 21421\n",
      "Loop: 43 / 21421\n",
      "Loop: 44 / 21421\n",
      "Loop: 45 / 21421\n",
      "Loop: 46 / 21421\n",
      "Loop: 47 / 21421\n",
      "Loop: 48 / 21421\n",
      "Loop: 49 / 21421\n",
      "Loop: 50 / 21421\n",
      "Loop: 51 / 21421\n",
      "Loop: 52 / 21421\n",
      "Loop: 53 / 21421\n",
      "Loop: 54 / 21421\n",
      "Loop: 55 / 21421\n",
      "Loop: 56 / 21421\n",
      "Loop: 57 / 21421\n",
      "Loop: 58 / 21421\n",
      "Loop: 59 / 21421\n",
      "Loop: 60 / 21421\n",
      "Loop: 61 / 21421\n",
      "Loop: 62 / 21421\n",
      "Loop: 63 / 21421\n",
      "Loop: 64 / 21421\n",
      "Loop: 65 / 21421\n",
      "Loop: 66 / 21421\n",
      "Loop: 67 / 21421\n",
      "Loop: 68 / 21421\n",
      "Loop: 69 / 21421\n",
      "Loop: 70 / 21421\n",
      "Loop: 71 / 21421\n",
      "Loop: 72 / 21421\n",
      "Loop: 73 / 21421\n",
      "Loop: 74 / 21421\n",
      "Loop: 75 / 21421\n",
      "Loop: 76 / 21421\n",
      "Loop: 77 / 21421\n",
      "Loop: 78 / 21421\n",
      "Loop: 79 / 21421\n",
      "Loop: 80 / 21421\n",
      "Loop: 81 / 21421\n",
      "Loop: 82 / 21421\n",
      "Loop: 83 / 21421\n",
      "Loop: 84 / 21421\n",
      "Loop: 85 / 21421\n",
      "Loop: 86 / 21421\n",
      "Loop: 87 / 21421\n",
      "Loop: 88 / 21421\n",
      "Loop: 89 / 21421\n",
      "Loop: 90 / 21421\n",
      "Loop: 91 / 21421\n",
      "Loop: 92 / 21421\n",
      "Loop: 93 / 21421\n"
     ]
    },
    {
     "ename": "KeyError",
     "evalue": "93",
     "output_type": "error",
     "traceback": [
      "\u001b[1;31m---------------------------------------------------------------------------\u001b[0m",
      "\u001b[1;31mKeyError\u001b[0m                                  Traceback (most recent call last)",
      "\u001b[1;32m~\\Documents\\anaconda3\\envs\\pythonDS\\lib\\site-packages\\pandas\\core\\indexes\\base.py\u001b[0m in \u001b[0;36mget_loc\u001b[1;34m(self, key, method, tolerance)\u001b[0m\n\u001b[0;32m   3079\u001b[0m             \u001b[1;32mtry\u001b[0m\u001b[1;33m:\u001b[0m\u001b[1;33m\u001b[0m\u001b[1;33m\u001b[0m\u001b[0m\n\u001b[1;32m-> 3080\u001b[1;33m                 \u001b[1;32mreturn\u001b[0m \u001b[0mself\u001b[0m\u001b[1;33m.\u001b[0m\u001b[0m_engine\u001b[0m\u001b[1;33m.\u001b[0m\u001b[0mget_loc\u001b[0m\u001b[1;33m(\u001b[0m\u001b[0mcasted_key\u001b[0m\u001b[1;33m)\u001b[0m\u001b[1;33m\u001b[0m\u001b[1;33m\u001b[0m\u001b[0m\n\u001b[0m\u001b[0;32m   3081\u001b[0m             \u001b[1;32mexcept\u001b[0m \u001b[0mKeyError\u001b[0m \u001b[1;32mas\u001b[0m \u001b[0merr\u001b[0m\u001b[1;33m:\u001b[0m\u001b[1;33m\u001b[0m\u001b[1;33m\u001b[0m\u001b[0m\n",
      "\u001b[1;32mpandas\\_libs\\index.pyx\u001b[0m in \u001b[0;36mpandas._libs.index.IndexEngine.get_loc\u001b[1;34m()\u001b[0m\n",
      "\u001b[1;32mpandas\\_libs\\index.pyx\u001b[0m in \u001b[0;36mpandas._libs.index.IndexEngine.get_loc\u001b[1;34m()\u001b[0m\n",
      "\u001b[1;32mpandas\\_libs\\hashtable_class_helper.pxi\u001b[0m in \u001b[0;36mpandas._libs.hashtable.Int64HashTable.get_item\u001b[1;34m()\u001b[0m\n",
      "\u001b[1;32mpandas\\_libs\\hashtable_class_helper.pxi\u001b[0m in \u001b[0;36mpandas._libs.hashtable.Int64HashTable.get_item\u001b[1;34m()\u001b[0m\n",
      "\u001b[1;31mKeyError\u001b[0m: 93",
      "\nThe above exception was the direct cause of the following exception:\n",
      "\u001b[1;31mKeyError\u001b[0m                                  Traceback (most recent call last)",
      "\u001b[1;32m<ipython-input-25-2faa0877af0d>\u001b[0m in \u001b[0;36m<module>\u001b[1;34m\u001b[0m\n\u001b[0;32m     31\u001b[0m \u001b[1;33m\u001b[0m\u001b[0m\n\u001b[0;32m     32\u001b[0m     \u001b[1;31m# api request\u001b[0m\u001b[1;33m\u001b[0m\u001b[1;33m\u001b[0m\u001b[1;33m\u001b[0m\u001b[0m\n\u001b[1;32m---> 33\u001b[1;33m     \u001b[0mresponse\u001b[0m \u001b[1;33m=\u001b[0m \u001b[0mgeolocator\u001b[0m\u001b[1;33m.\u001b[0m\u001b[0mreverse\u001b[0m\u001b[1;33m(\u001b[0m\u001b[0mdf3\u001b[0m\u001b[1;33m.\u001b[0m\u001b[0mloc\u001b[0m\u001b[1;33m[\u001b[0m\u001b[0mi\u001b[0m\u001b[1;33m,\u001b[0m\u001b[1;34m'query'\u001b[0m\u001b[1;33m]\u001b[0m\u001b[1;33m)\u001b[0m \u001b[1;31m# standard variable for API responses // 'reverse' returns an address by location point\u001b[0m\u001b[1;33m\u001b[0m\u001b[1;33m\u001b[0m\u001b[0m\n\u001b[0m\u001b[0;32m     34\u001b[0m \u001b[1;33m\u001b[0m\u001b[0m\n\u001b[0;32m     35\u001b[0m     \u001b[1;31m# populating data\u001b[0m\u001b[1;33m\u001b[0m\u001b[1;33m\u001b[0m\u001b[1;33m\u001b[0m\u001b[0m\n",
      "\u001b[1;32m~\\Documents\\anaconda3\\envs\\pythonDS\\lib\\site-packages\\pandas\\core\\indexing.py\u001b[0m in \u001b[0;36m__getitem__\u001b[1;34m(self, key)\u001b[0m\n\u001b[0;32m    887\u001b[0m                     \u001b[1;31m# AttributeError for IntervalTree get_value\u001b[0m\u001b[1;33m\u001b[0m\u001b[1;33m\u001b[0m\u001b[1;33m\u001b[0m\u001b[0m\n\u001b[0;32m    888\u001b[0m                     \u001b[1;32mreturn\u001b[0m \u001b[0mself\u001b[0m\u001b[1;33m.\u001b[0m\u001b[0mobj\u001b[0m\u001b[1;33m.\u001b[0m\u001b[0m_get_value\u001b[0m\u001b[1;33m(\u001b[0m\u001b[1;33m*\u001b[0m\u001b[0mkey\u001b[0m\u001b[1;33m,\u001b[0m \u001b[0mtakeable\u001b[0m\u001b[1;33m=\u001b[0m\u001b[0mself\u001b[0m\u001b[1;33m.\u001b[0m\u001b[0m_takeable\u001b[0m\u001b[1;33m)\u001b[0m\u001b[1;33m\u001b[0m\u001b[1;33m\u001b[0m\u001b[0m\n\u001b[1;32m--> 889\u001b[1;33m             \u001b[1;32mreturn\u001b[0m \u001b[0mself\u001b[0m\u001b[1;33m.\u001b[0m\u001b[0m_getitem_tuple\u001b[0m\u001b[1;33m(\u001b[0m\u001b[0mkey\u001b[0m\u001b[1;33m)\u001b[0m\u001b[1;33m\u001b[0m\u001b[1;33m\u001b[0m\u001b[0m\n\u001b[0m\u001b[0;32m    890\u001b[0m         \u001b[1;32melse\u001b[0m\u001b[1;33m:\u001b[0m\u001b[1;33m\u001b[0m\u001b[1;33m\u001b[0m\u001b[0m\n\u001b[0;32m    891\u001b[0m             \u001b[1;31m# we by definition only have the 0th axis\u001b[0m\u001b[1;33m\u001b[0m\u001b[1;33m\u001b[0m\u001b[1;33m\u001b[0m\u001b[0m\n",
      "\u001b[1;32m~\\Documents\\anaconda3\\envs\\pythonDS\\lib\\site-packages\\pandas\\core\\indexing.py\u001b[0m in \u001b[0;36m_getitem_tuple\u001b[1;34m(self, tup)\u001b[0m\n\u001b[0;32m   1058\u001b[0m     \u001b[1;32mdef\u001b[0m \u001b[0m_getitem_tuple\u001b[0m\u001b[1;33m(\u001b[0m\u001b[0mself\u001b[0m\u001b[1;33m,\u001b[0m \u001b[0mtup\u001b[0m\u001b[1;33m:\u001b[0m \u001b[0mTuple\u001b[0m\u001b[1;33m)\u001b[0m\u001b[1;33m:\u001b[0m\u001b[1;33m\u001b[0m\u001b[1;33m\u001b[0m\u001b[0m\n\u001b[0;32m   1059\u001b[0m         \u001b[1;32mwith\u001b[0m \u001b[0msuppress\u001b[0m\u001b[1;33m(\u001b[0m\u001b[0mIndexingError\u001b[0m\u001b[1;33m)\u001b[0m\u001b[1;33m:\u001b[0m\u001b[1;33m\u001b[0m\u001b[1;33m\u001b[0m\u001b[0m\n\u001b[1;32m-> 1060\u001b[1;33m             \u001b[1;32mreturn\u001b[0m \u001b[0mself\u001b[0m\u001b[1;33m.\u001b[0m\u001b[0m_getitem_lowerdim\u001b[0m\u001b[1;33m(\u001b[0m\u001b[0mtup\u001b[0m\u001b[1;33m)\u001b[0m\u001b[1;33m\u001b[0m\u001b[1;33m\u001b[0m\u001b[0m\n\u001b[0m\u001b[0;32m   1061\u001b[0m \u001b[1;33m\u001b[0m\u001b[0m\n\u001b[0;32m   1062\u001b[0m         \u001b[1;31m# no multi-index, so validate all of the indexers\u001b[0m\u001b[1;33m\u001b[0m\u001b[1;33m\u001b[0m\u001b[1;33m\u001b[0m\u001b[0m\n",
      "\u001b[1;32m~\\Documents\\anaconda3\\envs\\pythonDS\\lib\\site-packages\\pandas\\core\\indexing.py\u001b[0m in \u001b[0;36m_getitem_lowerdim\u001b[1;34m(self, tup)\u001b[0m\n\u001b[0;32m    805\u001b[0m                 \u001b[1;31m# We don't need to check for tuples here because those are\u001b[0m\u001b[1;33m\u001b[0m\u001b[1;33m\u001b[0m\u001b[1;33m\u001b[0m\u001b[0m\n\u001b[0;32m    806\u001b[0m                 \u001b[1;31m#  caught by the _is_nested_tuple_indexer check above.\u001b[0m\u001b[1;33m\u001b[0m\u001b[1;33m\u001b[0m\u001b[1;33m\u001b[0m\u001b[0m\n\u001b[1;32m--> 807\u001b[1;33m                 \u001b[0msection\u001b[0m \u001b[1;33m=\u001b[0m \u001b[0mself\u001b[0m\u001b[1;33m.\u001b[0m\u001b[0m_getitem_axis\u001b[0m\u001b[1;33m(\u001b[0m\u001b[0mkey\u001b[0m\u001b[1;33m,\u001b[0m \u001b[0maxis\u001b[0m\u001b[1;33m=\u001b[0m\u001b[0mi\u001b[0m\u001b[1;33m)\u001b[0m\u001b[1;33m\u001b[0m\u001b[1;33m\u001b[0m\u001b[0m\n\u001b[0m\u001b[0;32m    808\u001b[0m \u001b[1;33m\u001b[0m\u001b[0m\n\u001b[0;32m    809\u001b[0m                 \u001b[1;31m# We should never have a scalar section here, because\u001b[0m\u001b[1;33m\u001b[0m\u001b[1;33m\u001b[0m\u001b[1;33m\u001b[0m\u001b[0m\n",
      "\u001b[1;32m~\\Documents\\anaconda3\\envs\\pythonDS\\lib\\site-packages\\pandas\\core\\indexing.py\u001b[0m in \u001b[0;36m_getitem_axis\u001b[1;34m(self, key, axis)\u001b[0m\n\u001b[0;32m   1122\u001b[0m         \u001b[1;31m# fall thru to straight lookup\u001b[0m\u001b[1;33m\u001b[0m\u001b[1;33m\u001b[0m\u001b[1;33m\u001b[0m\u001b[0m\n\u001b[0;32m   1123\u001b[0m         \u001b[0mself\u001b[0m\u001b[1;33m.\u001b[0m\u001b[0m_validate_key\u001b[0m\u001b[1;33m(\u001b[0m\u001b[0mkey\u001b[0m\u001b[1;33m,\u001b[0m \u001b[0maxis\u001b[0m\u001b[1;33m)\u001b[0m\u001b[1;33m\u001b[0m\u001b[1;33m\u001b[0m\u001b[0m\n\u001b[1;32m-> 1124\u001b[1;33m         \u001b[1;32mreturn\u001b[0m \u001b[0mself\u001b[0m\u001b[1;33m.\u001b[0m\u001b[0m_get_label\u001b[0m\u001b[1;33m(\u001b[0m\u001b[0mkey\u001b[0m\u001b[1;33m,\u001b[0m \u001b[0maxis\u001b[0m\u001b[1;33m=\u001b[0m\u001b[0maxis\u001b[0m\u001b[1;33m)\u001b[0m\u001b[1;33m\u001b[0m\u001b[1;33m\u001b[0m\u001b[0m\n\u001b[0m\u001b[0;32m   1125\u001b[0m \u001b[1;33m\u001b[0m\u001b[0m\n\u001b[0;32m   1126\u001b[0m     \u001b[1;32mdef\u001b[0m \u001b[0m_get_slice_axis\u001b[0m\u001b[1;33m(\u001b[0m\u001b[0mself\u001b[0m\u001b[1;33m,\u001b[0m \u001b[0mslice_obj\u001b[0m\u001b[1;33m:\u001b[0m \u001b[0mslice\u001b[0m\u001b[1;33m,\u001b[0m \u001b[0maxis\u001b[0m\u001b[1;33m:\u001b[0m \u001b[0mint\u001b[0m\u001b[1;33m)\u001b[0m\u001b[1;33m:\u001b[0m\u001b[1;33m\u001b[0m\u001b[1;33m\u001b[0m\u001b[0m\n",
      "\u001b[1;32m~\\Documents\\anaconda3\\envs\\pythonDS\\lib\\site-packages\\pandas\\core\\indexing.py\u001b[0m in \u001b[0;36m_get_label\u001b[1;34m(self, label, axis)\u001b[0m\n\u001b[0;32m   1071\u001b[0m     \u001b[1;32mdef\u001b[0m \u001b[0m_get_label\u001b[0m\u001b[1;33m(\u001b[0m\u001b[0mself\u001b[0m\u001b[1;33m,\u001b[0m \u001b[0mlabel\u001b[0m\u001b[1;33m,\u001b[0m \u001b[0maxis\u001b[0m\u001b[1;33m:\u001b[0m \u001b[0mint\u001b[0m\u001b[1;33m)\u001b[0m\u001b[1;33m:\u001b[0m\u001b[1;33m\u001b[0m\u001b[1;33m\u001b[0m\u001b[0m\n\u001b[0;32m   1072\u001b[0m         \u001b[1;31m# GH#5667 this will fail if the label is not present in the axis.\u001b[0m\u001b[1;33m\u001b[0m\u001b[1;33m\u001b[0m\u001b[1;33m\u001b[0m\u001b[0m\n\u001b[1;32m-> 1073\u001b[1;33m         \u001b[1;32mreturn\u001b[0m \u001b[0mself\u001b[0m\u001b[1;33m.\u001b[0m\u001b[0mobj\u001b[0m\u001b[1;33m.\u001b[0m\u001b[0mxs\u001b[0m\u001b[1;33m(\u001b[0m\u001b[0mlabel\u001b[0m\u001b[1;33m,\u001b[0m \u001b[0maxis\u001b[0m\u001b[1;33m=\u001b[0m\u001b[0maxis\u001b[0m\u001b[1;33m)\u001b[0m\u001b[1;33m\u001b[0m\u001b[1;33m\u001b[0m\u001b[0m\n\u001b[0m\u001b[0;32m   1074\u001b[0m \u001b[1;33m\u001b[0m\u001b[0m\n\u001b[0;32m   1075\u001b[0m     \u001b[1;32mdef\u001b[0m \u001b[0m_handle_lowerdim_multi_index_axis0\u001b[0m\u001b[1;33m(\u001b[0m\u001b[0mself\u001b[0m\u001b[1;33m,\u001b[0m \u001b[0mtup\u001b[0m\u001b[1;33m:\u001b[0m \u001b[0mTuple\u001b[0m\u001b[1;33m)\u001b[0m\u001b[1;33m:\u001b[0m\u001b[1;33m\u001b[0m\u001b[1;33m\u001b[0m\u001b[0m\n",
      "\u001b[1;32m~\\Documents\\anaconda3\\envs\\pythonDS\\lib\\site-packages\\pandas\\core\\generic.py\u001b[0m in \u001b[0;36mxs\u001b[1;34m(self, key, axis, level, drop_level)\u001b[0m\n\u001b[0;32m   3736\u001b[0m                 \u001b[1;32mraise\u001b[0m \u001b[0mTypeError\u001b[0m\u001b[1;33m(\u001b[0m\u001b[1;34mf\"Expected label or tuple of labels, got {key}\"\u001b[0m\u001b[1;33m)\u001b[0m \u001b[1;32mfrom\u001b[0m \u001b[0me\u001b[0m\u001b[1;33m\u001b[0m\u001b[1;33m\u001b[0m\u001b[0m\n\u001b[0;32m   3737\u001b[0m         \u001b[1;32melse\u001b[0m\u001b[1;33m:\u001b[0m\u001b[1;33m\u001b[0m\u001b[1;33m\u001b[0m\u001b[0m\n\u001b[1;32m-> 3738\u001b[1;33m             \u001b[0mloc\u001b[0m \u001b[1;33m=\u001b[0m \u001b[0mindex\u001b[0m\u001b[1;33m.\u001b[0m\u001b[0mget_loc\u001b[0m\u001b[1;33m(\u001b[0m\u001b[0mkey\u001b[0m\u001b[1;33m)\u001b[0m\u001b[1;33m\u001b[0m\u001b[1;33m\u001b[0m\u001b[0m\n\u001b[0m\u001b[0;32m   3739\u001b[0m \u001b[1;33m\u001b[0m\u001b[0m\n\u001b[0;32m   3740\u001b[0m             \u001b[1;32mif\u001b[0m \u001b[0misinstance\u001b[0m\u001b[1;33m(\u001b[0m\u001b[0mloc\u001b[0m\u001b[1;33m,\u001b[0m \u001b[0mnp\u001b[0m\u001b[1;33m.\u001b[0m\u001b[0mndarray\u001b[0m\u001b[1;33m)\u001b[0m\u001b[1;33m:\u001b[0m\u001b[1;33m\u001b[0m\u001b[1;33m\u001b[0m\u001b[0m\n",
      "\u001b[1;32m~\\Documents\\anaconda3\\envs\\pythonDS\\lib\\site-packages\\pandas\\core\\indexes\\base.py\u001b[0m in \u001b[0;36mget_loc\u001b[1;34m(self, key, method, tolerance)\u001b[0m\n\u001b[0;32m   3080\u001b[0m                 \u001b[1;32mreturn\u001b[0m \u001b[0mself\u001b[0m\u001b[1;33m.\u001b[0m\u001b[0m_engine\u001b[0m\u001b[1;33m.\u001b[0m\u001b[0mget_loc\u001b[0m\u001b[1;33m(\u001b[0m\u001b[0mcasted_key\u001b[0m\u001b[1;33m)\u001b[0m\u001b[1;33m\u001b[0m\u001b[1;33m\u001b[0m\u001b[0m\n\u001b[0;32m   3081\u001b[0m             \u001b[1;32mexcept\u001b[0m \u001b[0mKeyError\u001b[0m \u001b[1;32mas\u001b[0m \u001b[0merr\u001b[0m\u001b[1;33m:\u001b[0m\u001b[1;33m\u001b[0m\u001b[1;33m\u001b[0m\u001b[0m\n\u001b[1;32m-> 3082\u001b[1;33m                 \u001b[1;32mraise\u001b[0m \u001b[0mKeyError\u001b[0m\u001b[1;33m(\u001b[0m\u001b[0mkey\u001b[0m\u001b[1;33m)\u001b[0m \u001b[1;32mfrom\u001b[0m \u001b[0merr\u001b[0m\u001b[1;33m\u001b[0m\u001b[1;33m\u001b[0m\u001b[0m\n\u001b[0m\u001b[0;32m   3083\u001b[0m \u001b[1;33m\u001b[0m\u001b[0m\n\u001b[0;32m   3084\u001b[0m         \u001b[1;32mif\u001b[0m \u001b[0mtolerance\u001b[0m \u001b[1;32mis\u001b[0m \u001b[1;32mnot\u001b[0m \u001b[1;32mNone\u001b[0m\u001b[1;33m:\u001b[0m\u001b[1;33m\u001b[0m\u001b[1;33m\u001b[0m\u001b[0m\n",
      "\u001b[1;31mKeyError\u001b[0m: 93"
     ]
    }
   ],
   "source": [
    "## getting data from API in a separate dataframe\n",
    "\n",
    "# query\n",
    "df3['query'] = df3[['lat','long']].apply(lambda x: str(x['lat']) + ',' + str(x['long']), axis=1)\n",
    "df_geodata = df3[['id', 'query']].copy()\n",
    "\n",
    "# creating empty columns\n",
    "df_geodata['place_id']      = \"NA\"\n",
    "df_geodata['road']          = 'NA'\n",
    "df_geodata['house_number']  = 'NA'\n",
    "df_geodata['neighbourhood'] = 'NA'\n",
    "df_geodata['city']          = 'NA'\n",
    "df_geodata['county']        = 'NA'\n",
    "df_geodata['state']         = 'NA'\n",
    "df_geodata['postcode']      = 'NA'\n",
    "\n",
    "\n",
    "# auxiliar variable that helps localizing the adresses\n",
    "geolocator = Nominatim (user_agent = 'geodata_api') \n",
    "\n",
    "\n",
    "\n",
    "import time\n",
    "start_ = time.time()\n",
    "\n",
    "\n",
    "# loop for\n",
    "for i in range (df_geodata.shape[0]):\n",
    "    \n",
    "    print ('Loop: {} / {}'.format(i, df_geodata.shape[0]))\n",
    "        \n",
    "    # api request\n",
    "    response = geolocator.reverse(df3.loc[i,'query']) # standard variable for API responses // 'reverse' returns an address by location point\n",
    "    \n",
    "    # populating data\n",
    "    if 'place_id'in response.raw:\n",
    "        df_geodata.loc[i, 'place_id']      = response.raw['place_id']\n",
    "    if 'road'in response.raw['address']:\n",
    "        df_geodata.loc[i, 'road']          = response.raw['address']['road']\n",
    "    if 'house_number'in response.raw['address']:\n",
    "        df_geodata.loc[i, 'house_number']  = response.raw['address']['house_number']\n",
    "    if 'neighbourhood'in response.raw['address']:\n",
    "        df_geodata.loc[i, 'neighbourhood'] = response.raw['address']['neighbourhood']\n",
    "    if 'city'in response.raw['address']:\n",
    "        df_geodata.loc[i, 'city']          = response.raw['address']['city']\n",
    "    if 'county'in response.raw['address']:\n",
    "        df_geodata.loc[i,'county']         = response.raw['address']['county']\n",
    "    if 'state'in response.raw['address']:\n",
    "        df_geodata.loc[i,'state']          = response.raw['address']['state']\n",
    "    if 'postcode'in response.raw['address']:\n",
    "        df_geodata.loc[i,'postcode']       = response.raw['address']['postcode']\n",
    "    time.sleep(2)\n",
    "    \n",
    "end_ = time.time()\n",
    "duration = end_ - start_\n",
    "print(\"Elapsed Time = %s\" % duration)"
   ]
  },
  {
   "cell_type": "code",
   "execution_count": 21,
   "id": "bulgarian-pencil",
   "metadata": {
    "ExecuteTime": {
     "end_time": "2022-01-02T22:12:12.048955Z",
     "start_time": "2022-01-02T22:12:11.803347Z"
    },
    "hidden": true
   },
   "outputs": [
    {
     "ename": "NameError",
     "evalue": "name 'df_geodata' is not defined",
     "output_type": "error",
     "traceback": [
      "\u001b[1;31m---------------------------------------------------------------------------\u001b[0m",
      "\u001b[1;31mNameError\u001b[0m                                 Traceback (most recent call last)",
      "\u001b[1;32m~\\AppData\\Local\\Temp/ipykernel_14072/3114957760.py\u001b[0m in \u001b[0;36m<module>\u001b[1;34m\u001b[0m\n\u001b[1;32m----> 1\u001b[1;33m \u001b[0mdf_geodata\u001b[0m\u001b[1;33m.\u001b[0m\u001b[0mhead\u001b[0m\u001b[1;33m(\u001b[0m\u001b[1;33m)\u001b[0m\u001b[1;33m\u001b[0m\u001b[1;33m\u001b[0m\u001b[0m\n\u001b[0m",
      "\u001b[1;31mNameError\u001b[0m: name 'df_geodata' is not defined"
     ]
    }
   ],
   "source": [
    "df_geodata.head()"
   ]
  },
  {
   "cell_type": "code",
   "execution_count": 22,
   "id": "dependent-receipt",
   "metadata": {
    "ExecuteTime": {
     "end_time": "2022-01-02T22:12:32.025689Z",
     "start_time": "2022-01-02T22:12:31.872935Z"
    },
    "hidden": true
   },
   "outputs": [
    {
     "data": {
      "text/html": [
       "<div>\n",
       "<style scoped>\n",
       "    .dataframe tbody tr th:only-of-type {\n",
       "        vertical-align: middle;\n",
       "    }\n",
       "\n",
       "    .dataframe tbody tr th {\n",
       "        vertical-align: top;\n",
       "    }\n",
       "\n",
       "    .dataframe thead th {\n",
       "        text-align: right;\n",
       "    }\n",
       "</style>\n",
       "<table border=\"1\" class=\"dataframe\">\n",
       "  <thead>\n",
       "    <tr style=\"text-align: right;\">\n",
       "      <th></th>\n",
       "      <th>id</th>\n",
       "      <th>date</th>\n",
       "      <th>price</th>\n",
       "      <th>bedrooms</th>\n",
       "      <th>bathrooms</th>\n",
       "      <th>sqft_living</th>\n",
       "      <th>sqft_lot</th>\n",
       "      <th>floors</th>\n",
       "      <th>waterfront</th>\n",
       "      <th>condition</th>\n",
       "      <th>...</th>\n",
       "      <th>zipcode</th>\n",
       "      <th>lat</th>\n",
       "      <th>long</th>\n",
       "      <th>query</th>\n",
       "      <th>road</th>\n",
       "      <th>house_number</th>\n",
       "      <th>neighbourhood</th>\n",
       "      <th>city</th>\n",
       "      <th>county</th>\n",
       "      <th>state</th>\n",
       "    </tr>\n",
       "  </thead>\n",
       "  <tbody>\n",
       "    <tr>\n",
       "      <th>0</th>\n",
       "      <td>5561000190</td>\n",
       "      <td>2014-05-02</td>\n",
       "      <td>437500.00</td>\n",
       "      <td>3</td>\n",
       "      <td>2.25</td>\n",
       "      <td>1970</td>\n",
       "      <td>35100</td>\n",
       "      <td>2.00</td>\n",
       "      <td>0</td>\n",
       "      <td>4</td>\n",
       "      <td>...</td>\n",
       "      <td>98027</td>\n",
       "      <td>47.46</td>\n",
       "      <td>-121.99</td>\n",
       "      <td>47.4635,-121.991</td>\n",
       "      <td>Southeast 154th Street</td>\n",
       "      <td>26069</td>\n",
       "      <td>NaN</td>\n",
       "      <td>NaN</td>\n",
       "      <td>King County</td>\n",
       "      <td>Washington</td>\n",
       "    </tr>\n",
       "    <tr>\n",
       "      <th>1</th>\n",
       "      <td>472000620</td>\n",
       "      <td>2014-05-02</td>\n",
       "      <td>790000.00</td>\n",
       "      <td>3</td>\n",
       "      <td>2.50</td>\n",
       "      <td>2600</td>\n",
       "      <td>4750</td>\n",
       "      <td>1.00</td>\n",
       "      <td>0</td>\n",
       "      <td>4</td>\n",
       "      <td>...</td>\n",
       "      <td>98117</td>\n",
       "      <td>47.68</td>\n",
       "      <td>-122.40</td>\n",
       "      <td>47.6833,-122.4</td>\n",
       "      <td>34th Avenue Northwest</td>\n",
       "      <td>7506</td>\n",
       "      <td>Sunset Hill</td>\n",
       "      <td>Seattle</td>\n",
       "      <td>King County</td>\n",
       "      <td>Washington</td>\n",
       "    </tr>\n",
       "    <tr>\n",
       "      <th>2</th>\n",
       "      <td>1024069009</td>\n",
       "      <td>2014-05-02</td>\n",
       "      <td>675000.00</td>\n",
       "      <td>5</td>\n",
       "      <td>2.50</td>\n",
       "      <td>2820</td>\n",
       "      <td>67518</td>\n",
       "      <td>2.00</td>\n",
       "      <td>0</td>\n",
       "      <td>3</td>\n",
       "      <td>...</td>\n",
       "      <td>98029</td>\n",
       "      <td>47.58</td>\n",
       "      <td>-122.03</td>\n",
       "      <td>47.5794,-122.025</td>\n",
       "      <td>Southeast 32nd Way</td>\n",
       "      <td>23601</td>\n",
       "      <td>NaN</td>\n",
       "      <td>NaN</td>\n",
       "      <td>King County</td>\n",
       "      <td>Washington</td>\n",
       "    </tr>\n",
       "    <tr>\n",
       "      <th>3</th>\n",
       "      <td>7853361370</td>\n",
       "      <td>2014-05-02</td>\n",
       "      <td>555000.00</td>\n",
       "      <td>4</td>\n",
       "      <td>2.50</td>\n",
       "      <td>3310</td>\n",
       "      <td>6500</td>\n",
       "      <td>2.00</td>\n",
       "      <td>0</td>\n",
       "      <td>3</td>\n",
       "      <td>...</td>\n",
       "      <td>98065</td>\n",
       "      <td>47.52</td>\n",
       "      <td>-121.87</td>\n",
       "      <td>47.515,-121.87</td>\n",
       "      <td>Southeast Terrace Street</td>\n",
       "      <td>35246</td>\n",
       "      <td>NaN</td>\n",
       "      <td>NaN</td>\n",
       "      <td>King County</td>\n",
       "      <td>Washington</td>\n",
       "    </tr>\n",
       "    <tr>\n",
       "      <th>4</th>\n",
       "      <td>5056500260</td>\n",
       "      <td>2014-05-02</td>\n",
       "      <td>440000.00</td>\n",
       "      <td>4</td>\n",
       "      <td>2.25</td>\n",
       "      <td>2160</td>\n",
       "      <td>8119</td>\n",
       "      <td>1.00</td>\n",
       "      <td>0</td>\n",
       "      <td>3</td>\n",
       "      <td>...</td>\n",
       "      <td>98006</td>\n",
       "      <td>47.54</td>\n",
       "      <td>-122.18</td>\n",
       "      <td>47.5443,-122.177</td>\n",
       "      <td>Southeast 65th Street</td>\n",
       "      <td>12201</td>\n",
       "      <td>NaN</td>\n",
       "      <td>Bellevue</td>\n",
       "      <td>King County</td>\n",
       "      <td>Washington</td>\n",
       "    </tr>\n",
       "  </tbody>\n",
       "</table>\n",
       "<p>5 rows × 25 columns</p>\n",
       "</div>"
      ],
      "text/plain": [
       "           id       date     price  bedrooms  bathrooms  sqft_living  \\\n",
       "0  5561000190 2014-05-02 437500.00         3       2.25         1970   \n",
       "1   472000620 2014-05-02 790000.00         3       2.50         2600   \n",
       "2  1024069009 2014-05-02 675000.00         5       2.50         2820   \n",
       "3  7853361370 2014-05-02 555000.00         4       2.50         3310   \n",
       "4  5056500260 2014-05-02 440000.00         4       2.25         2160   \n",
       "\n",
       "   sqft_lot  floors  waterfront  condition  ...  zipcode   lat    long  \\\n",
       "0     35100    2.00           0          4  ...    98027 47.46 -121.99   \n",
       "1      4750    1.00           0          4  ...    98117 47.68 -122.40   \n",
       "2     67518    2.00           0          3  ...    98029 47.58 -122.03   \n",
       "3      6500    2.00           0          3  ...    98065 47.52 -121.87   \n",
       "4      8119    1.00           0          3  ...    98006 47.54 -122.18   \n",
       "\n",
       "              query                      road  house_number  neighbourhood  \\\n",
       "0  47.4635,-121.991    Southeast 154th Street         26069            NaN   \n",
       "1    47.6833,-122.4     34th Avenue Northwest          7506    Sunset Hill   \n",
       "2  47.5794,-122.025        Southeast 32nd Way         23601            NaN   \n",
       "3    47.515,-121.87  Southeast Terrace Street         35246            NaN   \n",
       "4  47.5443,-122.177     Southeast 65th Street         12201            NaN   \n",
       "\n",
       "       city       county       state  \n",
       "0       NaN  King County  Washington  \n",
       "1   Seattle  King County  Washington  \n",
       "2       NaN  King County  Washington  \n",
       "3       NaN  King County  Washington  \n",
       "4  Bellevue  King County  Washington  \n",
       "\n",
       "[5 rows x 25 columns]"
      ]
     },
     "execution_count": 22,
     "metadata": {},
     "output_type": "execute_result"
    }
   ],
   "source": [
    "# getting geodata temporarily\n",
    "df_geodata = pd.read_csv('../datasets/interim/api_geodata.csv')\n",
    "\n",
    "# merging df_geodata with df3\n",
    "df3 = pd.merge(df3, df_geodata, how='left', on='id')\n",
    "df3.head()\n",
    "\n",
    "# saving df_geodata\n",
    "df_geodata.to_csv('../datasets/interim/api_geodata_realstate.csv')\n",
    "\n",
    "df3.head()"
   ]
  },
  {
   "cell_type": "code",
   "execution_count": 23,
   "id": "southwest-trouble",
   "metadata": {
    "ExecuteTime": {
     "end_time": "2022-01-02T22:14:48.239363Z",
     "start_time": "2022-01-02T22:14:47.871905Z"
    },
    "code_folding": [],
    "hidden": true
   },
   "outputs": [
    {
     "data": {
      "text/html": [
       "<div>\n",
       "<style scoped>\n",
       "    .dataframe tbody tr th:only-of-type {\n",
       "        vertical-align: middle;\n",
       "    }\n",
       "\n",
       "    .dataframe tbody tr th {\n",
       "        vertical-align: top;\n",
       "    }\n",
       "\n",
       "    .dataframe thead th {\n",
       "        text-align: right;\n",
       "    }\n",
       "</style>\n",
       "<table border=\"1\" class=\"dataframe\">\n",
       "  <thead>\n",
       "    <tr style=\"text-align: right;\">\n",
       "      <th></th>\n",
       "      <th>query</th>\n",
       "      <th>dist_fromlake</th>\n",
       "    </tr>\n",
       "  </thead>\n",
       "  <tbody>\n",
       "    <tr>\n",
       "      <th>10072</th>\n",
       "      <td>47.5321,-122.073</td>\n",
       "      <td>18.48</td>\n",
       "    </tr>\n",
       "    <tr>\n",
       "      <th>2245</th>\n",
       "      <td>47.5924,-122.175</td>\n",
       "      <td>8.30</td>\n",
       "    </tr>\n",
       "    <tr>\n",
       "      <th>20344</th>\n",
       "      <td>47.2761,-122.153</td>\n",
       "      <td>41.34</td>\n",
       "    </tr>\n",
       "    <tr>\n",
       "      <th>12647</th>\n",
       "      <td>47.4707,-122.26</td>\n",
       "      <td>18.92</td>\n",
       "    </tr>\n",
       "    <tr>\n",
       "      <th>18146</th>\n",
       "      <td>47.565,-122.125</td>\n",
       "      <td>13.13</td>\n",
       "    </tr>\n",
       "  </tbody>\n",
       "</table>\n",
       "</div>"
      ],
      "text/plain": [
       "                  query  dist_fromlake\n",
       "10072  47.5321,-122.073          18.48\n",
       "2245   47.5924,-122.175           8.30\n",
       "20344  47.2761,-122.153          41.34\n",
       "12647   47.4707,-122.26          18.92\n",
       "18146   47.565,-122.125          13.13"
      ]
     },
     "execution_count": 23,
     "metadata": {},
     "output_type": "execute_result"
    }
   ],
   "source": [
    "# radius from lake\n",
    "\n",
    "# lake infos\n",
    "lake_center = [{'lat':47.640883, 'long':-122.259250}]  \n",
    "lake_tuple = 47.640883, -122.259250 \n",
    "\n",
    "# distance from Lake\n",
    "df3['dist_fromlake'] = df3['query'].apply(lambda x: great_circle(lake_tuple, x).km)\n",
    "\n",
    "df3[['query','dist_fromlake']].sample(5) "
   ]
  },
  {
   "cell_type": "code",
   "execution_count": 24,
   "id": "formal-domain",
   "metadata": {
    "ExecuteTime": {
     "end_time": "2022-01-02T22:14:53.699788Z",
     "start_time": "2022-01-02T22:14:53.649106Z"
    },
    "code_folding": [],
    "hidden": true
   },
   "outputs": [
    {
     "data": {
      "text/html": [
       "<div>\n",
       "<style scoped>\n",
       "    .dataframe tbody tr th:only-of-type {\n",
       "        vertical-align: middle;\n",
       "    }\n",
       "\n",
       "    .dataframe tbody tr th {\n",
       "        vertical-align: top;\n",
       "    }\n",
       "\n",
       "    .dataframe thead th {\n",
       "        text-align: right;\n",
       "    }\n",
       "</style>\n",
       "<table border=\"1\" class=\"dataframe\">\n",
       "  <thead>\n",
       "    <tr style=\"text-align: right;\">\n",
       "      <th></th>\n",
       "      <th>id</th>\n",
       "      <th>price</th>\n",
       "      <th>zipcode</th>\n",
       "      <th>mean_price_zipcode</th>\n",
       "    </tr>\n",
       "  </thead>\n",
       "  <tbody>\n",
       "    <tr>\n",
       "      <th>8036</th>\n",
       "      <td>8860300300</td>\n",
       "      <td>610000.00</td>\n",
       "      <td>98052</td>\n",
       "      <td>645661.26</td>\n",
       "    </tr>\n",
       "    <tr>\n",
       "      <th>4950</th>\n",
       "      <td>8146300015</td>\n",
       "      <td>685000.00</td>\n",
       "      <td>98004</td>\n",
       "      <td>1356709.42</td>\n",
       "    </tr>\n",
       "    <tr>\n",
       "      <th>11298</th>\n",
       "      <td>8691300500</td>\n",
       "      <td>710000.00</td>\n",
       "      <td>98075</td>\n",
       "      <td>790674.15</td>\n",
       "    </tr>\n",
       "    <tr>\n",
       "      <th>15495</th>\n",
       "      <td>9238901420</td>\n",
       "      <td>442000.00</td>\n",
       "      <td>98136</td>\n",
       "      <td>551688.67</td>\n",
       "    </tr>\n",
       "    <tr>\n",
       "      <th>744</th>\n",
       "      <td>5249802240</td>\n",
       "      <td>497000.00</td>\n",
       "      <td>98118</td>\n",
       "      <td>421523.65</td>\n",
       "    </tr>\n",
       "  </tbody>\n",
       "</table>\n",
       "</div>"
      ],
      "text/plain": [
       "               id     price  zipcode  mean_price_zipcode\n",
       "8036   8860300300 610000.00    98052           645661.26\n",
       "4950   8146300015 685000.00    98004          1356709.42\n",
       "11298  8691300500 710000.00    98075           790674.15\n",
       "15495  9238901420 442000.00    98136           551688.67\n",
       "744    5249802240 497000.00    98118           421523.65"
      ]
     },
     "execution_count": 24,
     "metadata": {},
     "output_type": "execute_result"
    }
   ],
   "source": [
    "# mean price by zipcode\n",
    "a = df3[['price','zipcode']].groupby('zipcode').mean().reset_index().rename(columns={'price': 'mean_price_zipcode'})\n",
    "a.head()\n",
    "\n",
    "df3 = pd.merge(df3, a, on='zipcode', how='left')\n",
    "df3[['id', 'price', 'zipcode', 'mean_price_zipcode']].sample(5)"
   ]
  },
  {
   "cell_type": "code",
   "execution_count": 25,
   "id": "derived-currency",
   "metadata": {
    "ExecuteTime": {
     "end_time": "2022-01-02T22:14:58.243732Z",
     "start_time": "2022-01-02T22:14:58.009329Z"
    },
    "code_folding": [],
    "hidden": true
   },
   "outputs": [
    {
     "data": {
      "text/html": [
       "<div>\n",
       "<style scoped>\n",
       "    .dataframe tbody tr th:only-of-type {\n",
       "        vertical-align: middle;\n",
       "    }\n",
       "\n",
       "    .dataframe tbody tr th {\n",
       "        vertical-align: top;\n",
       "    }\n",
       "\n",
       "    .dataframe thead th {\n",
       "        text-align: right;\n",
       "    }\n",
       "</style>\n",
       "<table border=\"1\" class=\"dataframe\">\n",
       "  <thead>\n",
       "    <tr style=\"text-align: right;\">\n",
       "      <th></th>\n",
       "      <th>id</th>\n",
       "      <th>zipcode</th>\n",
       "      <th>price</th>\n",
       "      <th>mean_price_zipcode</th>\n",
       "      <th>condition</th>\n",
       "      <th>decision</th>\n",
       "    </tr>\n",
       "  </thead>\n",
       "  <tbody>\n",
       "    <tr>\n",
       "      <th>11911</th>\n",
       "      <td>7237500360</td>\n",
       "      <td>98059</td>\n",
       "      <td>1500000.00</td>\n",
       "      <td>494240.46</td>\n",
       "      <td>3</td>\n",
       "      <td>0</td>\n",
       "    </tr>\n",
       "    <tr>\n",
       "      <th>19020</th>\n",
       "      <td>9510900140</td>\n",
       "      <td>98023</td>\n",
       "      <td>305000.00</td>\n",
       "      <td>287736.99</td>\n",
       "      <td>2</td>\n",
       "      <td>0</td>\n",
       "    </tr>\n",
       "    <tr>\n",
       "      <th>8860</th>\n",
       "      <td>2473001210</td>\n",
       "      <td>98058</td>\n",
       "      <td>333000.00</td>\n",
       "      <td>354282.65</td>\n",
       "      <td>4</td>\n",
       "      <td>1</td>\n",
       "    </tr>\n",
       "    <tr>\n",
       "      <th>182</th>\n",
       "      <td>1829300210</td>\n",
       "      <td>98074</td>\n",
       "      <td>762300.00</td>\n",
       "      <td>688135.82</td>\n",
       "      <td>3</td>\n",
       "      <td>0</td>\n",
       "    </tr>\n",
       "    <tr>\n",
       "      <th>5688</th>\n",
       "      <td>8126300410</td>\n",
       "      <td>98052</td>\n",
       "      <td>650000.00</td>\n",
       "      <td>645661.26</td>\n",
       "      <td>3</td>\n",
       "      <td>0</td>\n",
       "    </tr>\n",
       "  </tbody>\n",
       "</table>\n",
       "</div>"
      ],
      "text/plain": [
       "               id  zipcode      price  mean_price_zipcode  condition  decision\n",
       "11911  7237500360    98059 1500000.00           494240.46          3         0\n",
       "19020  9510900140    98023  305000.00           287736.99          2         0\n",
       "8860   2473001210    98058  333000.00           354282.65          4         1\n",
       "182    1829300210    98074  762300.00           688135.82          3         0\n",
       "5688   8126300410    98052  650000.00           645661.26          3         0"
      ]
     },
     "execution_count": 25,
     "metadata": {},
     "output_type": "execute_result"
    }
   ],
   "source": [
    "# decision: buy x hold\n",
    "\n",
    "df3['decision'] = df3[['price', 'mean_price_zipcode', 'condition']].apply(lambda x: 0 if (x['price'] > x['mean_price_zipcode']) \n",
    "                                                                               else 1 if ((x['price'] <= x['mean_price_zipcode']) & (x['condition']>=3))\n",
    "                                                                               else 2, axis=1) \n",
    "                                                                        \n",
    "                                                             \n",
    "df3[['id', 'zipcode', 'price', 'mean_price_zipcode', 'condition', 'decision']].sample(5)"
   ]
  },
  {
   "cell_type": "code",
   "execution_count": 26,
   "id": "disciplinary-inspection",
   "metadata": {
    "ExecuteTime": {
     "end_time": "2022-01-02T22:15:09.266249Z",
     "start_time": "2022-01-02T22:15:08.981876Z"
    },
    "code_folding": [],
    "hidden": true
   },
   "outputs": [
    {
     "data": {
      "text/html": [
       "<div>\n",
       "<style scoped>\n",
       "    .dataframe tbody tr th:only-of-type {\n",
       "        vertical-align: middle;\n",
       "    }\n",
       "\n",
       "    .dataframe tbody tr th {\n",
       "        vertical-align: top;\n",
       "    }\n",
       "\n",
       "    .dataframe thead th {\n",
       "        text-align: right;\n",
       "    }\n",
       "</style>\n",
       "<table border=\"1\" class=\"dataframe\">\n",
       "  <thead>\n",
       "    <tr style=\"text-align: right;\">\n",
       "      <th></th>\n",
       "      <th>id</th>\n",
       "      <th>zipcode</th>\n",
       "      <th>price</th>\n",
       "      <th>mean_price_zipcode</th>\n",
       "      <th>condition</th>\n",
       "      <th>decision</th>\n",
       "      <th>sale_price_suggestion</th>\n",
       "    </tr>\n",
       "  </thead>\n",
       "  <tbody>\n",
       "    <tr>\n",
       "      <th>10013</th>\n",
       "      <td>4229900140</td>\n",
       "      <td>98136</td>\n",
       "      <td>310000.00</td>\n",
       "      <td>551688.67</td>\n",
       "      <td>2</td>\n",
       "      <td>2</td>\n",
       "      <td>341000.00</td>\n",
       "    </tr>\n",
       "    <tr>\n",
       "      <th>18993</th>\n",
       "      <td>2767604170</td>\n",
       "      <td>98107</td>\n",
       "      <td>975000.00</td>\n",
       "      <td>579481.99</td>\n",
       "      <td>2</td>\n",
       "      <td>0</td>\n",
       "      <td>0.00</td>\n",
       "    </tr>\n",
       "    <tr>\n",
       "      <th>11751</th>\n",
       "      <td>7200080</td>\n",
       "      <td>98055</td>\n",
       "      <td>239000.00</td>\n",
       "      <td>307818.08</td>\n",
       "      <td>2</td>\n",
       "      <td>2</td>\n",
       "      <td>262900.00</td>\n",
       "    </tr>\n",
       "    <tr>\n",
       "      <th>1938</th>\n",
       "      <td>3821200050</td>\n",
       "      <td>98019</td>\n",
       "      <td>119500.00</td>\n",
       "      <td>424788.75</td>\n",
       "      <td>2</td>\n",
       "      <td>2</td>\n",
       "      <td>131450.00</td>\n",
       "    </tr>\n",
       "    <tr>\n",
       "      <th>8805</th>\n",
       "      <td>1823049182</td>\n",
       "      <td>98146</td>\n",
       "      <td>147400.00</td>\n",
       "      <td>362330.81</td>\n",
       "      <td>2</td>\n",
       "      <td>2</td>\n",
       "      <td>162140.00</td>\n",
       "    </tr>\n",
       "  </tbody>\n",
       "</table>\n",
       "</div>"
      ],
      "text/plain": [
       "               id  zipcode     price  mean_price_zipcode  condition  decision  \\\n",
       "10013  4229900140    98136 310000.00           551688.67          2         2   \n",
       "18993  2767604170    98107 975000.00           579481.99          2         0   \n",
       "11751     7200080    98055 239000.00           307818.08          2         2   \n",
       "1938   3821200050    98019 119500.00           424788.75          2         2   \n",
       "8805   1823049182    98146 147400.00           362330.81          2         2   \n",
       "\n",
       "       sale_price_suggestion  \n",
       "10013              341000.00  \n",
       "18993                   0.00  \n",
       "11751              262900.00  \n",
       "1938               131450.00  \n",
       "8805               162140.00  "
      ]
     },
     "execution_count": 26,
     "metadata": {},
     "output_type": "execute_result"
    }
   ],
   "source": [
    "# sale price suggestion\n",
    "\n",
    "df3['sale_price_suggestion'] = df3[['price', 'mean_price_zipcode', 'condition']].apply(lambda x: 0 if (x['price'] > x['mean_price_zipcode']) \n",
    "                                                                                            else x['price']*1.3 if ((x['price'] <= x['mean_price_zipcode']) & (x['condition']>=3))\n",
    "                                                                                            else x['price']*1.1, axis=1) \n",
    "\n",
    "df3[df3['condition']==2][['id', 'zipcode', 'price', 'mean_price_zipcode', 'condition', 'decision', 'sale_price_suggestion']].sample(5)"
   ]
  },
  {
   "cell_type": "code",
   "execution_count": 27,
   "id": "solar-appliance",
   "metadata": {
    "ExecuteTime": {
     "end_time": "2022-01-02T22:15:13.916662Z",
     "start_time": "2022-01-02T22:15:13.733662Z"
    },
    "code_folding": [],
    "hidden": true
   },
   "outputs": [
    {
     "data": {
      "text/html": [
       "<div>\n",
       "<style scoped>\n",
       "    .dataframe tbody tr th:only-of-type {\n",
       "        vertical-align: middle;\n",
       "    }\n",
       "\n",
       "    .dataframe tbody tr th {\n",
       "        vertical-align: top;\n",
       "    }\n",
       "\n",
       "    .dataframe thead th {\n",
       "        text-align: right;\n",
       "    }\n",
       "</style>\n",
       "<table border=\"1\" class=\"dataframe\">\n",
       "  <thead>\n",
       "    <tr style=\"text-align: right;\">\n",
       "      <th></th>\n",
       "      <th>id</th>\n",
       "      <th>zipcode</th>\n",
       "      <th>price</th>\n",
       "      <th>mean_price_zipcode</th>\n",
       "      <th>condition</th>\n",
       "      <th>decision</th>\n",
       "      <th>sale_price_suggestion</th>\n",
       "      <th>expected_profit</th>\n",
       "    </tr>\n",
       "  </thead>\n",
       "  <tbody>\n",
       "    <tr>\n",
       "      <th>12397</th>\n",
       "      <td>9268850140</td>\n",
       "      <td>98027</td>\n",
       "      <td>288790.00</td>\n",
       "      <td>616990.59</td>\n",
       "      <td>3</td>\n",
       "      <td>1</td>\n",
       "      <td>375427.00</td>\n",
       "      <td>86637.00</td>\n",
       "    </tr>\n",
       "    <tr>\n",
       "      <th>17952</th>\n",
       "      <td>7694600201</td>\n",
       "      <td>98146</td>\n",
       "      <td>300000.00</td>\n",
       "      <td>362330.81</td>\n",
       "      <td>3</td>\n",
       "      <td>1</td>\n",
       "      <td>390000.00</td>\n",
       "      <td>90000.00</td>\n",
       "    </tr>\n",
       "    <tr>\n",
       "      <th>16986</th>\n",
       "      <td>148000705</td>\n",
       "      <td>98116</td>\n",
       "      <td>900000.00</td>\n",
       "      <td>619414.47</td>\n",
       "      <td>3</td>\n",
       "      <td>0</td>\n",
       "      <td>0.00</td>\n",
       "      <td>0.00</td>\n",
       "    </tr>\n",
       "    <tr>\n",
       "      <th>14863</th>\n",
       "      <td>2767700022</td>\n",
       "      <td>98107</td>\n",
       "      <td>500000.00</td>\n",
       "      <td>579481.99</td>\n",
       "      <td>3</td>\n",
       "      <td>1</td>\n",
       "      <td>650000.00</td>\n",
       "      <td>150000.00</td>\n",
       "    </tr>\n",
       "    <tr>\n",
       "      <th>13063</th>\n",
       "      <td>5015000596</td>\n",
       "      <td>98112</td>\n",
       "      <td>834000.00</td>\n",
       "      <td>1095889.68</td>\n",
       "      <td>3</td>\n",
       "      <td>1</td>\n",
       "      <td>1084200.00</td>\n",
       "      <td>250200.00</td>\n",
       "    </tr>\n",
       "  </tbody>\n",
       "</table>\n",
       "</div>"
      ],
      "text/plain": [
       "               id  zipcode     price  mean_price_zipcode  condition  decision  \\\n",
       "12397  9268850140    98027 288790.00           616990.59          3         1   \n",
       "17952  7694600201    98146 300000.00           362330.81          3         1   \n",
       "16986   148000705    98116 900000.00           619414.47          3         0   \n",
       "14863  2767700022    98107 500000.00           579481.99          3         1   \n",
       "13063  5015000596    98112 834000.00          1095889.68          3         1   \n",
       "\n",
       "       sale_price_suggestion  expected_profit  \n",
       "12397              375427.00         86637.00  \n",
       "17952              390000.00         90000.00  \n",
       "16986                   0.00             0.00  \n",
       "14863              650000.00        150000.00  \n",
       "13063             1084200.00        250200.00  "
      ]
     },
     "execution_count": 27,
     "metadata": {},
     "output_type": "execute_result"
    }
   ],
   "source": [
    "# expected profit\n",
    "df3['expected_profit'] = df3[['price', 'sale_price_suggestion']].apply(lambda x: 0 if x['sale_price_suggestion']==0\n",
    "                                                                                 else (x['sale_price_suggestion'] - x['price']), axis=1) \n",
    "\n",
    "df3[['id', 'zipcode', 'price', 'mean_price_zipcode', 'condition', 'decision', 'sale_price_suggestion', 'expected_profit']].sample(5)"
   ]
  },
  {
   "cell_type": "code",
   "execution_count": 28,
   "id": "confident-converter",
   "metadata": {
    "ExecuteTime": {
     "end_time": "2022-01-02T22:19:40.059581Z",
     "start_time": "2022-01-02T22:19:34.918195Z"
    },
    "code_folding": [],
    "hidden": true
   },
   "outputs": [
    {
     "data": {
      "text/html": [
       "<div>\n",
       "<style scoped>\n",
       "    .dataframe tbody tr th:only-of-type {\n",
       "        vertical-align: middle;\n",
       "    }\n",
       "\n",
       "    .dataframe tbody tr th {\n",
       "        vertical-align: top;\n",
       "    }\n",
       "\n",
       "    .dataframe thead th {\n",
       "        text-align: right;\n",
       "    }\n",
       "</style>\n",
       "<table border=\"1\" class=\"dataframe\">\n",
       "  <thead>\n",
       "    <tr style=\"text-align: right;\">\n",
       "      <th></th>\n",
       "      <th>date</th>\n",
       "      <th>season</th>\n",
       "    </tr>\n",
       "  </thead>\n",
       "  <tbody>\n",
       "    <tr>\n",
       "      <th>0</th>\n",
       "      <td>2014-05-02</td>\n",
       "      <td>spring</td>\n",
       "    </tr>\n",
       "    <tr>\n",
       "      <th>1</th>\n",
       "      <td>2014-05-02</td>\n",
       "      <td>spring</td>\n",
       "    </tr>\n",
       "    <tr>\n",
       "      <th>2</th>\n",
       "      <td>2014-05-02</td>\n",
       "      <td>spring</td>\n",
       "    </tr>\n",
       "    <tr>\n",
       "      <th>3</th>\n",
       "      <td>2014-05-02</td>\n",
       "      <td>spring</td>\n",
       "    </tr>\n",
       "    <tr>\n",
       "      <th>4</th>\n",
       "      <td>2014-05-02</td>\n",
       "      <td>spring</td>\n",
       "    </tr>\n",
       "  </tbody>\n",
       "</table>\n",
       "</div>"
      ],
      "text/plain": [
       "        date  season\n",
       "0 2014-05-02  spring\n",
       "1 2014-05-02  spring\n",
       "2 2014-05-02  spring\n",
       "3 2014-05-02  spring\n",
       "4 2014-05-02  spring"
      ]
     },
     "execution_count": 28,
     "metadata": {},
     "output_type": "execute_result"
    }
   ],
   "source": [
    "# seasons of the year\n",
    "\n",
    "def season_from_date(date):\n",
    "    year = str(date.year)\n",
    "    seasons = {'spring': pd.date_range(start='21/03/'+year, end='20/06/'+year),\n",
    "               'summer': pd.date_range(start='21/06/'+year, end='22/09/'+year),\n",
    "               'autumn': pd.date_range(start='23/09/'+year, end='20/12/'+year)}\n",
    "    if date in seasons['spring']:\n",
    "        return 'spring'\n",
    "    if date in seasons['summer']:\n",
    "        return 'summer'\n",
    "    if date in seasons['autumn']:\n",
    "        return 'autumn'\n",
    "    else:\n",
    "        return 'winter'\n",
    "\n",
    "df3['season'] = df3['date'].map(season_from_date)\n",
    "df3[['date','season']].head()"
   ]
  },
  {
   "cell_type": "code",
   "execution_count": 29,
   "id": "through-philip",
   "metadata": {
    "ExecuteTime": {
     "end_time": "2022-01-02T22:24:19.017630Z",
     "start_time": "2022-01-02T22:24:18.956622Z"
    },
    "hidden": true
   },
   "outputs": [
    {
     "data": {
      "text/html": [
       "<div>\n",
       "<style scoped>\n",
       "    .dataframe tbody tr th:only-of-type {\n",
       "        vertical-align: middle;\n",
       "    }\n",
       "\n",
       "    .dataframe tbody tr th {\n",
       "        vertical-align: top;\n",
       "    }\n",
       "\n",
       "    .dataframe thead th {\n",
       "        text-align: right;\n",
       "    }\n",
       "</style>\n",
       "<table border=\"1\" class=\"dataframe\">\n",
       "  <thead>\n",
       "    <tr style=\"text-align: right;\">\n",
       "      <th></th>\n",
       "      <th>id</th>\n",
       "      <th>price</th>\n",
       "      <th>zipcode</th>\n",
       "      <th>mean_price_zipcode</th>\n",
       "      <th>avg_autumn</th>\n",
       "      <th>avg_spring</th>\n",
       "      <th>avg_summer</th>\n",
       "      <th>avg_winter</th>\n",
       "    </tr>\n",
       "  </thead>\n",
       "  <tbody>\n",
       "    <tr>\n",
       "      <th>17776</th>\n",
       "      <td>1748800120</td>\n",
       "      <td>353500.00</td>\n",
       "      <td>98031</td>\n",
       "      <td>301178.21</td>\n",
       "      <td>308998.49</td>\n",
       "      <td>305679.64</td>\n",
       "      <td>291153.90</td>\n",
       "      <td>298603.70</td>\n",
       "    </tr>\n",
       "    <tr>\n",
       "      <th>12678</th>\n",
       "      <td>5587000010</td>\n",
       "      <td>385000.00</td>\n",
       "      <td>98177</td>\n",
       "      <td>676773.63</td>\n",
       "      <td>590100.73</td>\n",
       "      <td>719247.71</td>\n",
       "      <td>660207.60</td>\n",
       "      <td>746020.80</td>\n",
       "    </tr>\n",
       "    <tr>\n",
       "      <th>12384</th>\n",
       "      <td>2260000340</td>\n",
       "      <td>700000.00</td>\n",
       "      <td>98052</td>\n",
       "      <td>645661.26</td>\n",
       "      <td>633450.07</td>\n",
       "      <td>655868.32</td>\n",
       "      <td>645983.81</td>\n",
       "      <td>641620.80</td>\n",
       "    </tr>\n",
       "    <tr>\n",
       "      <th>6870</th>\n",
       "      <td>8650700090</td>\n",
       "      <td>1052500.00</td>\n",
       "      <td>98040</td>\n",
       "      <td>1194230.02</td>\n",
       "      <td>1188998.60</td>\n",
       "      <td>1261594.97</td>\n",
       "      <td>1133229.34</td>\n",
       "      <td>1137816.67</td>\n",
       "    </tr>\n",
       "    <tr>\n",
       "      <th>16337</th>\n",
       "      <td>7201600190</td>\n",
       "      <td>430000.00</td>\n",
       "      <td>98052</td>\n",
       "      <td>645661.26</td>\n",
       "      <td>633450.07</td>\n",
       "      <td>655868.32</td>\n",
       "      <td>645983.81</td>\n",
       "      <td>641620.80</td>\n",
       "    </tr>\n",
       "  </tbody>\n",
       "</table>\n",
       "</div>"
      ],
      "text/plain": [
       "               id      price  zipcode  mean_price_zipcode  avg_autumn  \\\n",
       "17776  1748800120  353500.00    98031           301178.21   308998.49   \n",
       "12678  5587000010  385000.00    98177           676773.63   590100.73   \n",
       "12384  2260000340  700000.00    98052           645661.26   633450.07   \n",
       "6870   8650700090 1052500.00    98040          1194230.02  1188998.60   \n",
       "16337  7201600190  430000.00    98052           645661.26   633450.07   \n",
       "\n",
       "       avg_spring  avg_summer  avg_winter  \n",
       "17776   305679.64   291153.90   298603.70  \n",
       "12678   719247.71   660207.60   746020.80  \n",
       "12384   655868.32   645983.81   641620.80  \n",
       "6870   1261594.97  1133229.34  1137816.67  \n",
       "16337   655868.32   645983.81   641620.80  "
      ]
     },
     "execution_count": 29,
     "metadata": {},
     "output_type": "execute_result"
    }
   ],
   "source": [
    "# mean price by zipcode and season\n",
    "\n",
    "# grouping by zipcode and mean price by season\n",
    "a = df3[['price','zipcode','season']].groupby(['zipcode', 'season']).mean().reset_index()\n",
    "a.head(10)\n",
    "\n",
    "b = a.pivot(index='zipcode', columns='season', values='price').reset_index()\n",
    "b = b.rename(columns={'autumn':'avg_autumn', 'spring':'avg_spring', 'summer':'avg_summer', 'winter':'avg_winter'})\n",
    "b.head()\n",
    "\n",
    "# merging with df3\n",
    "df3 = pd.merge(df3, b, on='zipcode', how='left')\n",
    "df3.head()\n",
    "\n",
    "# sample\n",
    "df3[['id', 'price', 'zipcode', 'mean_price_zipcode', 'avg_autumn', 'avg_spring', 'avg_summer', 'avg_winter']].sample(5)"
   ]
  },
  {
   "cell_type": "code",
   "execution_count": 30,
   "id": "large-cassette",
   "metadata": {
    "ExecuteTime": {
     "end_time": "2022-01-02T22:24:42.622431Z",
     "start_time": "2022-01-02T22:24:26.070418Z"
    },
    "hidden": true
   },
   "outputs": [
    {
     "data": {
      "text/html": [
       "<div>\n",
       "<style scoped>\n",
       "    .dataframe tbody tr th:only-of-type {\n",
       "        vertical-align: middle;\n",
       "    }\n",
       "\n",
       "    .dataframe tbody tr th {\n",
       "        vertical-align: top;\n",
       "    }\n",
       "\n",
       "    .dataframe thead th {\n",
       "        text-align: right;\n",
       "    }\n",
       "</style>\n",
       "<table border=\"1\" class=\"dataframe\">\n",
       "  <thead>\n",
       "    <tr style=\"text-align: right;\">\n",
       "      <th></th>\n",
       "      <th>id</th>\n",
       "      <th>price</th>\n",
       "      <th>zipcode</th>\n",
       "      <th>mean_price_zipcode</th>\n",
       "      <th>avg_autumn</th>\n",
       "      <th>avg_spring</th>\n",
       "      <th>avg_summer</th>\n",
       "      <th>avg_winter</th>\n",
       "      <th>season_to_sell</th>\n",
       "    </tr>\n",
       "  </thead>\n",
       "  <tbody>\n",
       "    <tr>\n",
       "      <th>0</th>\n",
       "      <td>5561000190</td>\n",
       "      <td>437500.00</td>\n",
       "      <td>98027</td>\n",
       "      <td>616990.59</td>\n",
       "      <td>631497.71</td>\n",
       "      <td>613420.82</td>\n",
       "      <td>608904.43</td>\n",
       "      <td>623785.14</td>\n",
       "      <td>autumn spring summer winter</td>\n",
       "    </tr>\n",
       "    <tr>\n",
       "      <th>1</th>\n",
       "      <td>472000620</td>\n",
       "      <td>790000.00</td>\n",
       "      <td>98117</td>\n",
       "      <td>579661.28</td>\n",
       "      <td>575740.35</td>\n",
       "      <td>584602.77</td>\n",
       "      <td>574993.72</td>\n",
       "      <td>584246.12</td>\n",
       "      <td></td>\n",
       "    </tr>\n",
       "    <tr>\n",
       "      <th>2</th>\n",
       "      <td>1024069009</td>\n",
       "      <td>675000.00</td>\n",
       "      <td>98029</td>\n",
       "      <td>612678.53</td>\n",
       "      <td>629022.99</td>\n",
       "      <td>616385.24</td>\n",
       "      <td>604166.38</td>\n",
       "      <td>601487.24</td>\n",
       "      <td></td>\n",
       "    </tr>\n",
       "    <tr>\n",
       "      <th>3</th>\n",
       "      <td>7853361370</td>\n",
       "      <td>555000.00</td>\n",
       "      <td>98065</td>\n",
       "      <td>528353.57</td>\n",
       "      <td>494424.02</td>\n",
       "      <td>543128.63</td>\n",
       "      <td>514038.45</td>\n",
       "      <td>550595.40</td>\n",
       "      <td></td>\n",
       "    </tr>\n",
       "    <tr>\n",
       "      <th>4</th>\n",
       "      <td>5056500260</td>\n",
       "      <td>440000.00</td>\n",
       "      <td>98006</td>\n",
       "      <td>860973.78</td>\n",
       "      <td>866143.48</td>\n",
       "      <td>898040.11</td>\n",
       "      <td>816379.06</td>\n",
       "      <td>875792.12</td>\n",
       "      <td>autumn spring summer winter</td>\n",
       "    </tr>\n",
       "  </tbody>\n",
       "</table>\n",
       "</div>"
      ],
      "text/plain": [
       "           id     price  zipcode  mean_price_zipcode  avg_autumn  avg_spring  \\\n",
       "0  5561000190 437500.00    98027           616990.59   631497.71   613420.82   \n",
       "1   472000620 790000.00    98117           579661.28   575740.35   584602.77   \n",
       "2  1024069009 675000.00    98029           612678.53   629022.99   616385.24   \n",
       "3  7853361370 555000.00    98065           528353.57   494424.02   543128.63   \n",
       "4  5056500260 440000.00    98006           860973.78   866143.48   898040.11   \n",
       "\n",
       "   avg_summer  avg_winter                season_to_sell  \n",
       "0   608904.43   623785.14  autumn spring summer winter   \n",
       "1   574993.72   584246.12                                \n",
       "2   604166.38   601487.24                                \n",
       "3   514038.45   550595.40                                \n",
       "4   816379.06   875792.12  autumn spring summer winter   "
      ]
     },
     "execution_count": 30,
     "metadata": {},
     "output_type": "execute_result"
    }
   ],
   "source": [
    "# best season to sell\n",
    "\n",
    "df3['season_to_sell'] = ''\n",
    "\n",
    "# defining best season to sell accorgding to avg price for each season\n",
    "for i in range (df3.shape[0]):\n",
    "    cols = ['avg_autumn', 'avg_spring', 'avg_summer', 'avg_winter']\n",
    "    if df3.loc[i, cols[0]] >= df3.loc[i,'price']:\n",
    "        df3.loc[i, 'season_to_sell'] = df3.loc[i, 'season_to_sell'] + 'autumn '\n",
    "    if df3.loc[i, cols[1]] >= df3.loc[i,'price']:\n",
    "        df3.loc[i, 'season_to_sell'] = df3.loc[i, 'season_to_sell'] + 'spring '\n",
    "    if df3.loc[i, cols[2]] >= df3.loc[i,'price']:\n",
    "        df3.loc[i, 'season_to_sell'] = df3.loc[i, 'season_to_sell'] + 'summer '\n",
    "    if df3.loc[i, cols[3]] >= df3.loc[i,'price']:\n",
    "        df3.loc[i, 'season_to_sell'] = df3.loc[i, 'season_to_sell'] + 'winter '\n",
    "        \n",
    "df3[['id', 'price', 'zipcode', 'mean_price_zipcode', 'avg_autumn', 'avg_spring', 'avg_summer', 'avg_winter', 'season_to_sell']].head()"
   ]
  },
  {
   "cell_type": "markdown",
   "id": "wrong-walker",
   "metadata": {
    "heading_collapsed": true
   },
   "source": [
    "# EDA"
   ]
  },
  {
   "cell_type": "code",
   "execution_count": 31,
   "id": "casual-still",
   "metadata": {
    "ExecuteTime": {
     "end_time": "2022-01-02T22:24:57.745862Z",
     "start_time": "2022-01-02T22:24:57.728353Z"
    },
    "hidden": true
   },
   "outputs": [],
   "source": [
    "df4 = df3.copy()"
   ]
  },
  {
   "cell_type": "code",
   "execution_count": 32,
   "id": "piano-niagara",
   "metadata": {
    "ExecuteTime": {
     "end_time": "2022-01-02T22:24:58.121440Z",
     "start_time": "2022-01-02T22:24:58.094403Z"
    },
    "hidden": true
   },
   "outputs": [],
   "source": [
    "num_df4 = df4.select_dtypes(include=['int64','float64'])\n",
    "cat_df4 = df4.select_dtypes(exclude=['int64','float64','datetime64[ns]'])"
   ]
  },
  {
   "cell_type": "markdown",
   "id": "paperback-halloween",
   "metadata": {
    "heading_collapsed": true,
    "hidden": true
   },
   "source": [
    "## Univariate Analysis"
   ]
  },
  {
   "cell_type": "markdown",
   "id": "otherwise-effectiveness",
   "metadata": {
    "heading_collapsed": true,
    "hidden": true
   },
   "source": [
    "### Response Variable"
   ]
  },
  {
   "cell_type": "code",
   "execution_count": 34,
   "id": "accessory-poison",
   "metadata": {
    "ExecuteTime": {
     "end_time": "2022-01-02T22:26:04.794748Z",
     "start_time": "2022-01-02T22:26:04.568885Z"
    },
    "hidden": true
   },
   "outputs": [
    {
     "data": {
      "image/png": "[encoded data removed]",
      "text/plain": [
       "<Figure size 360x360 with 1 Axes>"
      ]
     },
     "metadata": {},
     "output_type": "display_data"
    }
   ],
   "source": [
    "bin_groups = list(np.arange(0,250000,25000))\n",
    "sns.displot(df4['expected_profit'], bins=bin_groups, legend=True);"
   ]
  },
  {
   "cell_type": "markdown",
   "id": "unable-vietnam",
   "metadata": {
    "heading_collapsed": true,
    "hidden": true
   },
   "source": [
    "### Numerical Variables"
   ]
  },
  {
   "cell_type": "code",
   "execution_count": 36,
   "id": "exceptional-aquarium",
   "metadata": {
    "ExecuteTime": {
     "end_time": "2022-01-02T22:26:14.745783Z",
     "start_time": "2022-01-02T22:26:12.472322Z"
    },
    "hidden": true
   },
   "outputs": [
    {
     "data": {
      "text/html": [
       "<style>.container{width:90% !important;}</style>"
      ],
      "text/plain": [
       "<IPython.core.display.HTML object>"
      ]
     },
     "metadata": {},
     "output_type": "display_data"
    },
    {
     "data": {
      "image/png": "[encoded data removed]",
      "text/plain": [
       "<Figure size 2160x1440 with 30 Axes>"
      ]
     },
     "metadata": {},
     "output_type": "display_data"
    }
   ],
   "source": [
    "sns.set(rc={'figure.figsize':(30,20)})\n",
    "num_df4.hist(bins=25);\n",
    "personal_settings()"
   ]
  },
  {
   "cell_type": "markdown",
   "id": "gorgeous-vocabulary",
   "metadata": {
    "heading_collapsed": true,
    "hidden": true
   },
   "source": [
    "### Categorical Variables"
   ]
  },
  {
   "cell_type": "code",
   "execution_count": 37,
   "id": "built-blocking",
   "metadata": {
    "ExecuteTime": {
     "end_time": "2022-01-02T22:26:27.906187Z",
     "start_time": "2022-01-02T22:26:27.895189Z"
    },
    "hidden": true
   },
   "outputs": [
    {
     "name": "stdout",
     "output_type": "stream",
     "text": [
      "query             object\n",
      "road              object\n",
      "house_number      object\n",
      "neighbourhood     object\n",
      "city              object\n",
      "county            object\n",
      "state             object\n",
      "season            object\n",
      "season_to_sell    object\n",
      "dtype: object\n"
     ]
    },
    {
     "data": {
      "text/html": [
       "<div>\n",
       "<style scoped>\n",
       "    .dataframe tbody tr th:only-of-type {\n",
       "        vertical-align: middle;\n",
       "    }\n",
       "\n",
       "    .dataframe tbody tr th {\n",
       "        vertical-align: top;\n",
       "    }\n",
       "\n",
       "    .dataframe thead th {\n",
       "        text-align: right;\n",
       "    }\n",
       "</style>\n",
       "<table border=\"1\" class=\"dataframe\">\n",
       "  <thead>\n",
       "    <tr style=\"text-align: right;\">\n",
       "      <th></th>\n",
       "      <th>query</th>\n",
       "      <th>road</th>\n",
       "      <th>house_number</th>\n",
       "      <th>neighbourhood</th>\n",
       "      <th>city</th>\n",
       "      <th>county</th>\n",
       "      <th>state</th>\n",
       "      <th>season</th>\n",
       "      <th>season_to_sell</th>\n",
       "    </tr>\n",
       "  </thead>\n",
       "  <tbody>\n",
       "    <tr>\n",
       "      <th>0</th>\n",
       "      <td>47.4635,-121.991</td>\n",
       "      <td>Southeast 154th Street</td>\n",
       "      <td>26069</td>\n",
       "      <td>NaN</td>\n",
       "      <td>NaN</td>\n",
       "      <td>King County</td>\n",
       "      <td>Washington</td>\n",
       "      <td>spring</td>\n",
       "      <td>autumn spring summer winter</td>\n",
       "    </tr>\n",
       "    <tr>\n",
       "      <th>1</th>\n",
       "      <td>47.6833,-122.4</td>\n",
       "      <td>34th Avenue Northwest</td>\n",
       "      <td>7506</td>\n",
       "      <td>Sunset Hill</td>\n",
       "      <td>Seattle</td>\n",
       "      <td>King County</td>\n",
       "      <td>Washington</td>\n",
       "      <td>spring</td>\n",
       "      <td></td>\n",
       "    </tr>\n",
       "    <tr>\n",
       "      <th>2</th>\n",
       "      <td>47.5794,-122.025</td>\n",
       "      <td>Southeast 32nd Way</td>\n",
       "      <td>23601</td>\n",
       "      <td>NaN</td>\n",
       "      <td>NaN</td>\n",
       "      <td>King County</td>\n",
       "      <td>Washington</td>\n",
       "      <td>spring</td>\n",
       "      <td></td>\n",
       "    </tr>\n",
       "    <tr>\n",
       "      <th>3</th>\n",
       "      <td>47.515,-121.87</td>\n",
       "      <td>Southeast Terrace Street</td>\n",
       "      <td>35246</td>\n",
       "      <td>NaN</td>\n",
       "      <td>NaN</td>\n",
       "      <td>King County</td>\n",
       "      <td>Washington</td>\n",
       "      <td>spring</td>\n",
       "      <td></td>\n",
       "    </tr>\n",
       "    <tr>\n",
       "      <th>4</th>\n",
       "      <td>47.5443,-122.177</td>\n",
       "      <td>Southeast 65th Street</td>\n",
       "      <td>12201</td>\n",
       "      <td>NaN</td>\n",
       "      <td>Bellevue</td>\n",
       "      <td>King County</td>\n",
       "      <td>Washington</td>\n",
       "      <td>spring</td>\n",
       "      <td>autumn spring summer winter</td>\n",
       "    </tr>\n",
       "  </tbody>\n",
       "</table>\n",
       "</div>"
      ],
      "text/plain": [
       "              query                      road house_number neighbourhood  \\\n",
       "0  47.4635,-121.991    Southeast 154th Street        26069           NaN   \n",
       "1    47.6833,-122.4     34th Avenue Northwest         7506   Sunset Hill   \n",
       "2  47.5794,-122.025        Southeast 32nd Way        23601           NaN   \n",
       "3    47.515,-121.87  Southeast Terrace Street        35246           NaN   \n",
       "4  47.5443,-122.177     Southeast 65th Street        12201           NaN   \n",
       "\n",
       "       city       county       state  season                season_to_sell  \n",
       "0       NaN  King County  Washington  spring  autumn spring summer winter   \n",
       "1   Seattle  King County  Washington  spring                                \n",
       "2       NaN  King County  Washington  spring                                \n",
       "3       NaN  King County  Washington  spring                                \n",
       "4  Bellevue  King County  Washington  spring  autumn spring summer winter   "
      ]
     },
     "execution_count": 37,
     "metadata": {},
     "output_type": "execute_result"
    }
   ],
   "source": [
    "print(cat_df4.dtypes)\n",
    "cat_df4.head()"
   ]
  },
  {
   "cell_type": "markdown",
   "id": "surrounded-asbestos",
   "metadata": {
    "heading_collapsed": true,
    "hidden": true
   },
   "source": [
    "## Bivariate Analysis"
   ]
  },
  {
   "cell_type": "code",
   "execution_count": 38,
   "id": "indie-trick",
   "metadata": {
    "ExecuteTime": {
     "end_time": "2022-01-02T22:26:42.735441Z",
     "start_time": "2022-01-02T22:26:42.722436Z"
    },
    "hidden": true
   },
   "outputs": [
    {
     "name": "stdout",
     "output_type": "stream",
     "text": [
      "Hypothesis Resume \n",
      "\n",
      "\n",
      "Hypothesis    Conclusion    Relevance\n",
      "------------  ------------  -----------\n",
      "H1            True/False    High/Low\n"
     ]
    }
   ],
   "source": [
    "print('Hypothesis Resume \\n\\n')\n",
    "tab = [ ['Hypothesis', 'Conclusion', 'Relevance'],\n",
    "        ['H1','True/False','High/Low'],\n",
    "      ]\n",
    "\n",
    "print(tabulate(tab, headers = 'firstrow'))"
   ]
  },
  {
   "cell_type": "markdown",
   "id": "nervous-intermediate",
   "metadata": {
    "heading_collapsed": true,
    "hidden": true
   },
   "source": [
    "## Multivatiate Analysis"
   ]
  },
  {
   "cell_type": "markdown",
   "id": "hungry-homeless",
   "metadata": {
    "heading_collapsed": true,
    "hidden": true
   },
   "source": [
    "### Numerical Attributes"
   ]
  },
  {
   "cell_type": "code",
   "execution_count": 39,
   "id": "daily-apparel",
   "metadata": {
    "ExecuteTime": {
     "end_time": "2022-01-02T22:26:47.061876Z",
     "start_time": "2022-01-02T22:26:45.568940Z"
    },
    "hidden": true
   },
   "outputs": [
    {
     "data": {
      "text/html": [
       "<style>.container{width:90% !important;}</style>"
      ],
      "text/plain": [
       "<IPython.core.display.HTML object>"
      ]
     },
     "metadata": {},
     "output_type": "display_data"
    },
    {
     "data": {
      "image/png": "[encoded data removed]",
      "text/plain": [
       "<Figure size 1296x1296 with 2 Axes>"
      ]
     },
     "metadata": {},
     "output_type": "display_data"
    }
   ],
   "source": [
    "correlation = num_df4.corr(method='pearson')\n",
    "\n",
    "sns.set(font_scale=1.2)\n",
    "sns.set(rc={'figure.figsize':(18,18)})\n",
    "sns.heatmap(correlation, \n",
    "            cmap='YlOrRd', \n",
    "            annot=True, \n",
    "            annot_kws= {'fontsize':'small'},\n",
    "            fmt='.1g',\n",
    "            linewidths=0.8, \n",
    "            square=True);\n",
    "\n",
    "personal_settings()"
   ]
  },
  {
   "cell_type": "markdown",
   "id": "embedded-taylor",
   "metadata": {
    "heading_collapsed": true,
    "hidden": true
   },
   "source": [
    "### Categorical Attributes"
   ]
  },
  {
   "cell_type": "code",
   "execution_count": 40,
   "id": "champion-surgeon",
   "metadata": {
    "ExecuteTime": {
     "end_time": "2022-01-02T22:26:50.270768Z",
     "start_time": "2022-01-02T22:26:50.254769Z"
    },
    "hidden": true
   },
   "outputs": [
    {
     "name": "stdout",
     "output_type": "stream",
     "text": [
      "(21613, 9)\n"
     ]
    },
    {
     "data": {
      "text/html": [
       "<div>\n",
       "<style scoped>\n",
       "    .dataframe tbody tr th:only-of-type {\n",
       "        vertical-align: middle;\n",
       "    }\n",
       "\n",
       "    .dataframe tbody tr th {\n",
       "        vertical-align: top;\n",
       "    }\n",
       "\n",
       "    .dataframe thead th {\n",
       "        text-align: right;\n",
       "    }\n",
       "</style>\n",
       "<table border=\"1\" class=\"dataframe\">\n",
       "  <thead>\n",
       "    <tr style=\"text-align: right;\">\n",
       "      <th></th>\n",
       "      <th>query</th>\n",
       "      <th>road</th>\n",
       "      <th>house_number</th>\n",
       "      <th>neighbourhood</th>\n",
       "      <th>city</th>\n",
       "      <th>county</th>\n",
       "      <th>state</th>\n",
       "      <th>season</th>\n",
       "      <th>season_to_sell</th>\n",
       "    </tr>\n",
       "  </thead>\n",
       "  <tbody>\n",
       "    <tr>\n",
       "      <th>0</th>\n",
       "      <td>47.4635,-121.991</td>\n",
       "      <td>Southeast 154th Street</td>\n",
       "      <td>26069</td>\n",
       "      <td>NaN</td>\n",
       "      <td>NaN</td>\n",
       "      <td>King County</td>\n",
       "      <td>Washington</td>\n",
       "      <td>spring</td>\n",
       "      <td>autumn spring summer winter</td>\n",
       "    </tr>\n",
       "    <tr>\n",
       "      <th>1</th>\n",
       "      <td>47.6833,-122.4</td>\n",
       "      <td>34th Avenue Northwest</td>\n",
       "      <td>7506</td>\n",
       "      <td>Sunset Hill</td>\n",
       "      <td>Seattle</td>\n",
       "      <td>King County</td>\n",
       "      <td>Washington</td>\n",
       "      <td>spring</td>\n",
       "      <td></td>\n",
       "    </tr>\n",
       "    <tr>\n",
       "      <th>2</th>\n",
       "      <td>47.5794,-122.025</td>\n",
       "      <td>Southeast 32nd Way</td>\n",
       "      <td>23601</td>\n",
       "      <td>NaN</td>\n",
       "      <td>NaN</td>\n",
       "      <td>King County</td>\n",
       "      <td>Washington</td>\n",
       "      <td>spring</td>\n",
       "      <td></td>\n",
       "    </tr>\n",
       "    <tr>\n",
       "      <th>3</th>\n",
       "      <td>47.515,-121.87</td>\n",
       "      <td>Southeast Terrace Street</td>\n",
       "      <td>35246</td>\n",
       "      <td>NaN</td>\n",
       "      <td>NaN</td>\n",
       "      <td>King County</td>\n",
       "      <td>Washington</td>\n",
       "      <td>spring</td>\n",
       "      <td></td>\n",
       "    </tr>\n",
       "    <tr>\n",
       "      <th>4</th>\n",
       "      <td>47.5443,-122.177</td>\n",
       "      <td>Southeast 65th Street</td>\n",
       "      <td>12201</td>\n",
       "      <td>NaN</td>\n",
       "      <td>Bellevue</td>\n",
       "      <td>King County</td>\n",
       "      <td>Washington</td>\n",
       "      <td>spring</td>\n",
       "      <td>autumn spring summer winter</td>\n",
       "    </tr>\n",
       "  </tbody>\n",
       "</table>\n",
       "</div>"
      ],
      "text/plain": [
       "              query                      road house_number neighbourhood  \\\n",
       "0  47.4635,-121.991    Southeast 154th Street        26069           NaN   \n",
       "1    47.6833,-122.4     34th Avenue Northwest         7506   Sunset Hill   \n",
       "2  47.5794,-122.025        Southeast 32nd Way        23601           NaN   \n",
       "3    47.515,-121.87  Southeast Terrace Street        35246           NaN   \n",
       "4  47.5443,-122.177     Southeast 65th Street        12201           NaN   \n",
       "\n",
       "       city       county       state  season                season_to_sell  \n",
       "0       NaN  King County  Washington  spring  autumn spring summer winter   \n",
       "1   Seattle  King County  Washington  spring                                \n",
       "2       NaN  King County  Washington  spring                                \n",
       "3       NaN  King County  Washington  spring                                \n",
       "4  Bellevue  King County  Washington  spring  autumn spring summer winter   "
      ]
     },
     "execution_count": 40,
     "metadata": {},
     "output_type": "execute_result"
    }
   ],
   "source": [
    "print(cat_df4.shape)\n",
    "cat_df4.head()"
   ]
  },
  {
   "cell_type": "markdown",
   "id": "fuzzy-bonus",
   "metadata": {
    "heading_collapsed": true
   },
   "source": [
    "# Conclusion and Visualization"
   ]
  },
  {
   "cell_type": "code",
   "execution_count": 41,
   "id": "twelve-invention",
   "metadata": {
    "ExecuteTime": {
     "end_time": "2022-01-02T22:26:57.131722Z",
     "start_time": "2022-01-02T22:26:57.118663Z"
    },
    "hidden": true
   },
   "outputs": [],
   "source": [
    "df5 = df4.copy()"
   ]
  },
  {
   "cell_type": "code",
   "execution_count": null,
   "id": "practical-lotus",
   "metadata": {
    "hidden": true
   },
   "outputs": [],
   "source": [
    "# Mainly Insights"
   ]
  },
  {
   "cell_type": "code",
   "execution_count": null,
   "id": "mental-commander",
   "metadata": {
    "hidden": true
   },
   "outputs": [],
   "source": [
    "# Decision Dataframe Overview"
   ]
  },
  {
   "cell_type": "code",
   "execution_count": null,
   "id": "judicial-rebate",
   "metadata": {
    "hidden": true
   },
   "outputs": [],
   "source": [
    "# Expected Profit Overview"
   ]
  }
 ],
 "metadata": {
  "kernelspec": {
   "display_name": "Python 3 (ipykernel)",
   "language": "python",
   "name": "python3"
  },
  "language_info": {
   "codemirror_mode": {
    "name": "ipython",
    "version": 3
   },
   "file_extension": ".py",
   "mimetype": "text/x-python",
   "name": "python",
   "nbconvert_exporter": "python",
   "pygments_lexer": "ipython3",
   "version": "3.9.7"
  },
  "toc": {
   "base_numbering": "0",
   "nav_menu": {
    "height": "194px",
    "width": "168px"
   },
   "number_sections": true,
   "sideBar": false,
   "skip_h1_title": false,
   "title_cell": "Table of Contents",
   "title_sidebar": "Contents",
   "toc_cell": false,
   "toc_position": {
    "height": "480.764px",
    "left": "1218.96px",
    "top": "171.014px",
    "width": "284.889px"
   },
   "toc_section_display": true,
   "toc_window_display": true
  }
 },
 "nbformat": 4,
 "nbformat_minor": 5
}
