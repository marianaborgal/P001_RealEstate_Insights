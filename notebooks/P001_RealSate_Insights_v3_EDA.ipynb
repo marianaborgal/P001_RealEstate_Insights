{
 "cells": [
  {
   "cell_type": "markdown",
   "id": "assisted-bikini",
   "metadata": {
    "heading_collapsed": true
   },
   "source": [
    "# Imports"
   ]
  },
  {
   "cell_type": "code",
   "execution_count": 1,
   "id": "early-spain",
   "metadata": {
    "ExecuteTime": {
     "end_time": "2021-07-03T17:04:04.028150Z",
     "start_time": "2021-07-03T17:04:00.596523Z"
    },
    "hidden": true
   },
   "outputs": [],
   "source": [
    "import numpy             as np\n",
    "import pandas            as pd\n",
    "import seaborn           as sns\n",
    "import plotly.express    as px\n",
    "import matplotlib.pyplot as plt\n",
    "\n",
    "from matplotlib.pyplot     import figure\n",
    "from matplotlib.pyplot     import plot\n",
    "from IPython.core.display  import HTML\n",
    "from geopy.geocoders       import Nominatim\n",
    "from tabulate              import tabulate\n",
    "from geopy                 import distance\n",
    "from geopy.distance        import great_circle\n"
   ]
  },
  {
   "cell_type": "markdown",
   "id": "fabulous-yorkshire",
   "metadata": {
    "heading_collapsed": true,
    "hidden": true
   },
   "source": [
    "## Helper Functions"
   ]
  },
  {
   "cell_type": "code",
   "execution_count": 2,
   "id": "material-bench",
   "metadata": {
    "ExecuteTime": {
     "end_time": "2021-07-03T17:04:04.044164Z",
     "start_time": "2021-07-03T17:04:04.029151Z"
    },
    "hidden": true
   },
   "outputs": [],
   "source": [
    "def jupyter_settings():\n",
    "    %matplotlib inline\n",
    "        \n",
    "    plt.style.use( 'bmh' )\n",
    "    plt.rcParams['figure.figsize'] = (20,15)\n",
    "    plt.rcParams['font.size'] = 20\n",
    "        \n",
    "    display( HTML( '<style>.container { width:90% !important; }</style>') )\n",
    "    pd.options.display.max_columns = None\n",
    "    pd.options.display.max_rows = None\n",
    "    pd.options.display.float_format = '{:,.2f}'.format\n",
    "    pd.set_option( 'display.expand_frame_repr', False)        \n",
    "            \n",
    "    sns.set()\n",
    "    sns.set_theme(style ='darkgrid', font_scale=2)\n",
    "    #sns.set_style(\"darkgrid\")\n"
   ]
  },
  {
   "cell_type": "code",
   "execution_count": 3,
   "id": "utility-likelihood",
   "metadata": {
    "ExecuteTime": {
     "end_time": "2021-07-03T17:04:04.060179Z",
     "start_time": "2021-07-03T17:04:04.045166Z"
    },
    "hidden": true
   },
   "outputs": [
    {
     "data": {
      "text/html": [
       "<style>.container { width:90% !important; }</style>"
      ],
      "text/plain": [
       "<IPython.core.display.HTML object>"
      ]
     },
     "metadata": {},
     "output_type": "display_data"
    }
   ],
   "source": [
    "jupyter_settings()"
   ]
  },
  {
   "cell_type": "markdown",
   "id": "flush-article",
   "metadata": {
    "heading_collapsed": true,
    "hidden": true
   },
   "source": [
    "## Loading Data"
   ]
  },
  {
   "cell_type": "code",
   "execution_count": 4,
   "id": "simple-oxford",
   "metadata": {
    "ExecuteTime": {
     "end_time": "2021-07-03T17:04:43.320019Z",
     "start_time": "2021-07-03T17:04:43.267972Z"
    },
    "hidden": true
   },
   "outputs": [],
   "source": [
    "df_raw = pd.read_csv(r'../datasets/raw/kc_house_data.csv')"
   ]
  },
  {
   "cell_type": "markdown",
   "id": "collaborative-prior",
   "metadata": {
    "heading_collapsed": true
   },
   "source": [
    "# Data Description"
   ]
  },
  {
   "cell_type": "code",
   "execution_count": 5,
   "id": "considerable-ministry",
   "metadata": {
    "ExecuteTime": {
     "end_time": "2021-07-03T17:04:43.715884Z",
     "start_time": "2021-07-03T17:04:43.701872Z"
    },
    "hidden": true
   },
   "outputs": [],
   "source": [
    "df1=df_raw.copy()"
   ]
  },
  {
   "cell_type": "markdown",
   "id": "public-guide",
   "metadata": {
    "heading_collapsed": true,
    "hidden": true
   },
   "source": [
    "## Rename Columns"
   ]
  },
  {
   "cell_type": "code",
   "execution_count": 6,
   "id": "necessary-emperor",
   "metadata": {
    "ExecuteTime": {
     "end_time": "2021-07-03T17:04:44.158287Z",
     "start_time": "2021-07-03T17:04:44.139270Z"
    },
    "hidden": true
   },
   "outputs": [
    {
     "name": "stdout",
     "output_type": "stream",
     "text": [
      "Index(['id', 'date', 'price', 'bedrooms', 'bathrooms', 'sqft_living',\n",
      "       'sqft_lot', 'floors', 'waterfront', 'view', 'condition', 'grade',\n",
      "       'sqft_above', 'sqft_basement', 'yr_built', 'yr_renovated', 'zipcode',\n",
      "       'lat', 'long', 'sqft_living15', 'sqft_lot15'],\n",
      "      dtype='object')\n"
     ]
    },
    {
     "data": {
      "text/plain": [
       "Index(['id', 'date', 'buying_price', 'bedrooms', 'bathrooms', 'sqft_living',\n",
       "       'sqft_lot', 'floors', 'waterfront', 'view', 'condition', 'grade',\n",
       "       'sqft_above', 'sqft_basement', 'yr_built', 'yr_renovated', 'zipcode',\n",
       "       'lat', 'long', 'sqft_living15', 'sqft_lot15'],\n",
       "      dtype='object')"
      ]
     },
     "execution_count": 6,
     "metadata": {},
     "output_type": "execute_result"
    }
   ],
   "source": [
    "# checking columns names\n",
    "print(df1.columns)\n",
    "\n",
    "# renaming 'price' to 'buying_price'\n",
    "df1 = df1.rename(columns={\"price\": \"buying_price\"})\n",
    "\n",
    "df1.columns"
   ]
  },
  {
   "cell_type": "markdown",
   "id": "ordinary-poultry",
   "metadata": {
    "heading_collapsed": true,
    "hidden": true
   },
   "source": [
    "## Data Types"
   ]
  },
  {
   "cell_type": "code",
   "execution_count": 7,
   "id": "auburn-executive",
   "metadata": {
    "ExecuteTime": {
     "end_time": "2021-07-03T17:04:44.824893Z",
     "start_time": "2021-07-03T17:04:44.795867Z"
    },
    "hidden": true
   },
   "outputs": [
    {
     "name": "stdout",
     "output_type": "stream",
     "text": [
      "id                 int64\n",
      "date              object\n",
      "buying_price     float64\n",
      "bedrooms           int64\n",
      "bathrooms        float64\n",
      "sqft_living        int64\n",
      "sqft_lot           int64\n",
      "floors           float64\n",
      "waterfront         int64\n",
      "view               int64\n",
      "condition          int64\n",
      "grade              int64\n",
      "sqft_above         int64\n",
      "sqft_basement      int64\n",
      "yr_built           int64\n",
      "yr_renovated       int64\n",
      "zipcode            int64\n",
      "lat              float64\n",
      "long             float64\n",
      "sqft_living15      int64\n",
      "sqft_lot15         int64\n",
      "dtype: object\n"
     ]
    },
    {
     "data": {
      "text/html": [
       "<div>\n",
       "<style scoped>\n",
       "    .dataframe tbody tr th:only-of-type {\n",
       "        vertical-align: middle;\n",
       "    }\n",
       "\n",
       "    .dataframe tbody tr th {\n",
       "        vertical-align: top;\n",
       "    }\n",
       "\n",
       "    .dataframe thead th {\n",
       "        text-align: right;\n",
       "    }\n",
       "</style>\n",
       "<table border=\"1\" class=\"dataframe\">\n",
       "  <thead>\n",
       "    <tr style=\"text-align: right;\">\n",
       "      <th></th>\n",
       "      <th>id</th>\n",
       "      <th>date</th>\n",
       "      <th>buying_price</th>\n",
       "      <th>bedrooms</th>\n",
       "      <th>bathrooms</th>\n",
       "      <th>sqft_living</th>\n",
       "      <th>sqft_lot</th>\n",
       "      <th>floors</th>\n",
       "      <th>waterfront</th>\n",
       "      <th>view</th>\n",
       "      <th>condition</th>\n",
       "      <th>grade</th>\n",
       "      <th>sqft_above</th>\n",
       "      <th>sqft_basement</th>\n",
       "      <th>yr_built</th>\n",
       "      <th>yr_renovated</th>\n",
       "      <th>zipcode</th>\n",
       "      <th>lat</th>\n",
       "      <th>long</th>\n",
       "      <th>sqft_living15</th>\n",
       "      <th>sqft_lot15</th>\n",
       "    </tr>\n",
       "  </thead>\n",
       "  <tbody>\n",
       "    <tr>\n",
       "      <th>0</th>\n",
       "      <td>7129300520</td>\n",
       "      <td>20141013T000000</td>\n",
       "      <td>221,900.00</td>\n",
       "      <td>3</td>\n",
       "      <td>1.00</td>\n",
       "      <td>1180</td>\n",
       "      <td>5650</td>\n",
       "      <td>1.00</td>\n",
       "      <td>0</td>\n",
       "      <td>0</td>\n",
       "      <td>3</td>\n",
       "      <td>7</td>\n",
       "      <td>1180</td>\n",
       "      <td>0</td>\n",
       "      <td>1955</td>\n",
       "      <td>0</td>\n",
       "      <td>98178</td>\n",
       "      <td>47.51</td>\n",
       "      <td>-122.26</td>\n",
       "      <td>1340</td>\n",
       "      <td>5650</td>\n",
       "    </tr>\n",
       "    <tr>\n",
       "      <th>1</th>\n",
       "      <td>6414100192</td>\n",
       "      <td>20141209T000000</td>\n",
       "      <td>538,000.00</td>\n",
       "      <td>3</td>\n",
       "      <td>2.25</td>\n",
       "      <td>2570</td>\n",
       "      <td>7242</td>\n",
       "      <td>2.00</td>\n",
       "      <td>0</td>\n",
       "      <td>0</td>\n",
       "      <td>3</td>\n",
       "      <td>7</td>\n",
       "      <td>2170</td>\n",
       "      <td>400</td>\n",
       "      <td>1951</td>\n",
       "      <td>1991</td>\n",
       "      <td>98125</td>\n",
       "      <td>47.72</td>\n",
       "      <td>-122.32</td>\n",
       "      <td>1690</td>\n",
       "      <td>7639</td>\n",
       "    </tr>\n",
       "    <tr>\n",
       "      <th>2</th>\n",
       "      <td>5631500400</td>\n",
       "      <td>20150225T000000</td>\n",
       "      <td>180,000.00</td>\n",
       "      <td>2</td>\n",
       "      <td>1.00</td>\n",
       "      <td>770</td>\n",
       "      <td>10000</td>\n",
       "      <td>1.00</td>\n",
       "      <td>0</td>\n",
       "      <td>0</td>\n",
       "      <td>3</td>\n",
       "      <td>6</td>\n",
       "      <td>770</td>\n",
       "      <td>0</td>\n",
       "      <td>1933</td>\n",
       "      <td>0</td>\n",
       "      <td>98028</td>\n",
       "      <td>47.74</td>\n",
       "      <td>-122.23</td>\n",
       "      <td>2720</td>\n",
       "      <td>8062</td>\n",
       "    </tr>\n",
       "    <tr>\n",
       "      <th>3</th>\n",
       "      <td>2487200875</td>\n",
       "      <td>20141209T000000</td>\n",
       "      <td>604,000.00</td>\n",
       "      <td>4</td>\n",
       "      <td>3.00</td>\n",
       "      <td>1960</td>\n",
       "      <td>5000</td>\n",
       "      <td>1.00</td>\n",
       "      <td>0</td>\n",
       "      <td>0</td>\n",
       "      <td>5</td>\n",
       "      <td>7</td>\n",
       "      <td>1050</td>\n",
       "      <td>910</td>\n",
       "      <td>1965</td>\n",
       "      <td>0</td>\n",
       "      <td>98136</td>\n",
       "      <td>47.52</td>\n",
       "      <td>-122.39</td>\n",
       "      <td>1360</td>\n",
       "      <td>5000</td>\n",
       "    </tr>\n",
       "    <tr>\n",
       "      <th>4</th>\n",
       "      <td>1954400510</td>\n",
       "      <td>20150218T000000</td>\n",
       "      <td>510,000.00</td>\n",
       "      <td>3</td>\n",
       "      <td>2.00</td>\n",
       "      <td>1680</td>\n",
       "      <td>8080</td>\n",
       "      <td>1.00</td>\n",
       "      <td>0</td>\n",
       "      <td>0</td>\n",
       "      <td>3</td>\n",
       "      <td>8</td>\n",
       "      <td>1680</td>\n",
       "      <td>0</td>\n",
       "      <td>1987</td>\n",
       "      <td>0</td>\n",
       "      <td>98074</td>\n",
       "      <td>47.62</td>\n",
       "      <td>-122.05</td>\n",
       "      <td>1800</td>\n",
       "      <td>7503</td>\n",
       "    </tr>\n",
       "  </tbody>\n",
       "</table>\n",
       "</div>"
      ],
      "text/plain": [
       "           id             date  buying_price  bedrooms  bathrooms  sqft_living  sqft_lot  floors  waterfront  view  condition  grade  sqft_above  sqft_basement  yr_built  yr_renovated  zipcode   lat    long  sqft_living15  sqft_lot15\n",
       "0  7129300520  20141013T000000    221,900.00         3       1.00         1180      5650    1.00           0     0          3      7        1180              0      1955             0    98178 47.51 -122.26           1340        5650\n",
       "1  6414100192  20141209T000000    538,000.00         3       2.25         2570      7242    2.00           0     0          3      7        2170            400      1951          1991    98125 47.72 -122.32           1690        7639\n",
       "2  5631500400  20150225T000000    180,000.00         2       1.00          770     10000    1.00           0     0          3      6         770              0      1933             0    98028 47.74 -122.23           2720        8062\n",
       "3  2487200875  20141209T000000    604,000.00         4       3.00         1960      5000    1.00           0     0          5      7        1050            910      1965             0    98136 47.52 -122.39           1360        5000\n",
       "4  1954400510  20150218T000000    510,000.00         3       2.00         1680      8080    1.00           0     0          3      8        1680              0      1987             0    98074 47.62 -122.05           1800        7503"
      ]
     },
     "execution_count": 7,
     "metadata": {},
     "output_type": "execute_result"
    }
   ],
   "source": [
    "print(df1.dtypes)\n",
    "df1.head()"
   ]
  },
  {
   "cell_type": "markdown",
   "id": "paperback-compound",
   "metadata": {
    "ExecuteTime": {
     "end_time": "2021-05-17T15:46:25.849652Z",
     "start_time": "2021-05-17T15:46:25.840643Z"
    },
    "heading_collapsed": true,
    "hidden": true
   },
   "source": [
    "## Data Dimension"
   ]
  },
  {
   "cell_type": "code",
   "execution_count": 8,
   "id": "distant-money",
   "metadata": {
    "ExecuteTime": {
     "end_time": "2021-07-03T17:04:45.173424Z",
     "start_time": "2021-07-03T17:04:45.168419Z"
    },
    "hidden": true
   },
   "outputs": [
    {
     "name": "stdout",
     "output_type": "stream",
     "text": [
      "Number of rows: 21613\n",
      "Number of columns: 21\n"
     ]
    }
   ],
   "source": [
    "print('Number of rows: {}' .format (df1.shape[0]))\n",
    "print('Number of columns: {}' .format (df1.shape[1]))"
   ]
  },
  {
   "cell_type": "markdown",
   "id": "natural-quebec",
   "metadata": {
    "heading_collapsed": true,
    "hidden": true
   },
   "source": [
    "## Check NA"
   ]
  },
  {
   "cell_type": "code",
   "execution_count": 9,
   "id": "introductory-dylan",
   "metadata": {
    "ExecuteTime": {
     "end_time": "2021-07-03T17:04:45.633963Z",
     "start_time": "2021-07-03T17:04:45.613945Z"
    },
    "hidden": true
   },
   "outputs": [
    {
     "data": {
      "text/plain": [
       "id               0\n",
       "date             0\n",
       "buying_price     0\n",
       "bedrooms         0\n",
       "bathrooms        0\n",
       "sqft_living      0\n",
       "sqft_lot         0\n",
       "floors           0\n",
       "waterfront       0\n",
       "view             0\n",
       "condition        0\n",
       "grade            0\n",
       "sqft_above       0\n",
       "sqft_basement    0\n",
       "yr_built         0\n",
       "yr_renovated     0\n",
       "zipcode          0\n",
       "lat              0\n",
       "long             0\n",
       "sqft_living15    0\n",
       "sqft_lot15       0\n",
       "dtype: int64"
      ]
     },
     "execution_count": 9,
     "metadata": {},
     "output_type": "execute_result"
    }
   ],
   "source": [
    "df1.isna().sum()"
   ]
  },
  {
   "cell_type": "markdown",
   "id": "thousand-massage",
   "metadata": {
    "heading_collapsed": true,
    "hidden": true
   },
   "source": [
    "## Fill out NA"
   ]
  },
  {
   "cell_type": "code",
   "execution_count": null,
   "id": "failing-registration",
   "metadata": {
    "hidden": true
   },
   "outputs": [],
   "source": []
  },
  {
   "cell_type": "markdown",
   "id": "adapted-wheel",
   "metadata": {
    "heading_collapsed": true,
    "hidden": true
   },
   "source": [
    "## Change Variables Types"
   ]
  },
  {
   "cell_type": "code",
   "execution_count": 10,
   "id": "productive-private",
   "metadata": {
    "ExecuteTime": {
     "end_time": "2021-07-03T17:04:47.000206Z",
     "start_time": "2021-07-03T17:04:46.974182Z"
    },
    "hidden": true
   },
   "outputs": [
    {
     "name": "stdout",
     "output_type": "stream",
     "text": [
      "              date  yr_built  yr_renovated\n",
      "0  20141013T000000      1955             0\n",
      "1  20141209T000000      1951          1991\n",
      "2  20150225T000000      1933             0\n",
      "3  20141209T000000      1965             0\n",
      "4  20150218T000000      1987             0 \n",
      "\n",
      "date            object\n",
      "yr_built         int64\n",
      "yr_renovated     int64\n",
      "dtype: object\n",
      "\n",
      "date            datetime64[ns]\n",
      "yr_built                 int64\n",
      "yr_renovated             int64\n",
      "dtype: object\n"
     ]
    },
    {
     "data": {
      "text/html": [
       "<div>\n",
       "<style scoped>\n",
       "    .dataframe tbody tr th:only-of-type {\n",
       "        vertical-align: middle;\n",
       "    }\n",
       "\n",
       "    .dataframe tbody tr th {\n",
       "        vertical-align: top;\n",
       "    }\n",
       "\n",
       "    .dataframe thead th {\n",
       "        text-align: right;\n",
       "    }\n",
       "</style>\n",
       "<table border=\"1\" class=\"dataframe\">\n",
       "  <thead>\n",
       "    <tr style=\"text-align: right;\">\n",
       "      <th></th>\n",
       "      <th>date</th>\n",
       "      <th>yr_built</th>\n",
       "      <th>yr_renovated</th>\n",
       "    </tr>\n",
       "  </thead>\n",
       "  <tbody>\n",
       "    <tr>\n",
       "      <th>0</th>\n",
       "      <td>2014-10-13</td>\n",
       "      <td>1955</td>\n",
       "      <td>0</td>\n",
       "    </tr>\n",
       "    <tr>\n",
       "      <th>1</th>\n",
       "      <td>2014-12-09</td>\n",
       "      <td>1951</td>\n",
       "      <td>1991</td>\n",
       "    </tr>\n",
       "    <tr>\n",
       "      <th>2</th>\n",
       "      <td>2015-02-25</td>\n",
       "      <td>1933</td>\n",
       "      <td>0</td>\n",
       "    </tr>\n",
       "    <tr>\n",
       "      <th>3</th>\n",
       "      <td>2014-12-09</td>\n",
       "      <td>1965</td>\n",
       "      <td>0</td>\n",
       "    </tr>\n",
       "    <tr>\n",
       "      <th>4</th>\n",
       "      <td>2015-02-18</td>\n",
       "      <td>1987</td>\n",
       "      <td>0</td>\n",
       "    </tr>\n",
       "  </tbody>\n",
       "</table>\n",
       "</div>"
      ],
      "text/plain": [
       "        date  yr_built  yr_renovated\n",
       "0 2014-10-13      1955             0\n",
       "1 2014-12-09      1951          1991\n",
       "2 2015-02-25      1933             0\n",
       "3 2014-12-09      1965             0\n",
       "4 2015-02-18      1987             0"
      ]
     },
     "execution_count": 10,
     "metadata": {},
     "output_type": "execute_result"
    }
   ],
   "source": [
    "# changing 'date' type from OBJECT to DATE or INT\n",
    "\n",
    "# checking DATES types\n",
    "print(df1[['date','yr_built','yr_renovated']].head(),'\\n')\n",
    "print(df1[['date','yr_built','yr_renovated']].dtypes)\n",
    "\n",
    "# changing dtypes\n",
    "df1['date']         = pd.to_datetime(df1['date'],         format='%Y-%m-%d')\n",
    "# df1['yr_built']     = pd.to_datetime(df1['yr_built'],     format='%Y-%m-%d')\n",
    "# df1['yr_renovated'] = pd.to_datetime(df1['yr_renovated'], format='%Y-%m-%d')\n",
    "\n",
    "# checking DATES types\n",
    "print(\"\")\n",
    "print(df1[['date','yr_built','yr_renovated']].dtypes)\n",
    "df1[['date','yr_built','yr_renovated']].head()"
   ]
  },
  {
   "cell_type": "markdown",
   "id": "continuous-technician",
   "metadata": {
    "heading_collapsed": true,
    "hidden": true
   },
   "source": [
    "## Dropping Duplicates "
   ]
  },
  {
   "cell_type": "code",
   "execution_count": 11,
   "id": "sharing-response",
   "metadata": {
    "ExecuteTime": {
     "end_time": "2021-07-03T17:04:47.399569Z",
     "start_time": "2021-07-03T17:04:47.385556Z"
    },
    "hidden": true
   },
   "outputs": [
    {
     "name": "stdout",
     "output_type": "stream",
     "text": [
      "21613 number of rows\n",
      "21436 uniques ids\n",
      "177   number of duplicated ids\n"
     ]
    }
   ],
   "source": [
    "print(df1.shape[0], 'number of rows')\n",
    "print(df1['id'].unique().shape[0], 'uniques ids')\n",
    "print(df1.shape[0] - df1['id'].unique().shape[0], '  number of duplicated ids')"
   ]
  },
  {
   "cell_type": "code",
   "execution_count": 12,
   "id": "friendly-andrews",
   "metadata": {
    "ExecuteTime": {
     "end_time": "2021-07-03T17:04:47.620770Z",
     "start_time": "2021-07-03T17:04:47.593746Z"
    },
    "hidden": true
   },
   "outputs": [
    {
     "name": "stdout",
     "output_type": "stream",
     "text": [
      "new shape: (21436, 21)\n"
     ]
    }
   ],
   "source": [
    "# sorting dataframe by date\n",
    "df1 = df1.sort_values('date', ascending=True)\n",
    "\n",
    "# deleting ids that appears first\n",
    "df1 = df1.drop_duplicates(subset='id', keep='last')\n",
    "\n",
    "print('new shape:', df1.shape)"
   ]
  },
  {
   "cell_type": "markdown",
   "id": "disciplinary-evans",
   "metadata": {
    "heading_collapsed": true,
    "hidden": true
   },
   "source": [
    "## Descriptive Statistics"
   ]
  },
  {
   "cell_type": "code",
   "execution_count": 13,
   "id": "generous-curtis",
   "metadata": {
    "ExecuteTime": {
     "end_time": "2021-07-03T17:04:48.032145Z",
     "start_time": "2021-07-03T17:04:48.014128Z"
    },
    "hidden": true
   },
   "outputs": [],
   "source": [
    "num_df1 = df1.select_dtypes(include=['int64','float64'])\n",
    "cat_df1 = df1.select_dtypes(exclude=['int64','float64','datetime64[ns]'])"
   ]
  },
  {
   "cell_type": "markdown",
   "id": "coordinated-cargo",
   "metadata": {
    "ExecuteTime": {
     "end_time": "2021-05-17T16:04:47.487696Z",
     "start_time": "2021-05-17T16:04:47.477688Z"
    },
    "heading_collapsed": true,
    "hidden": true
   },
   "source": [
    "### Numerical Attributes"
   ]
  },
  {
   "cell_type": "code",
   "execution_count": 14,
   "id": "olympic-thanks",
   "metadata": {
    "ExecuteTime": {
     "end_time": "2021-07-03T17:04:48.461535Z",
     "start_time": "2021-07-03T17:04:48.453528Z"
    },
    "hidden": true
   },
   "outputs": [
    {
     "data": {
      "text/plain": [
       "(21436, 20)"
      ]
     },
     "execution_count": 14,
     "metadata": {},
     "output_type": "execute_result"
    }
   ],
   "source": [
    "num_df1.shape"
   ]
  },
  {
   "cell_type": "code",
   "execution_count": 15,
   "id": "biblical-memphis",
   "metadata": {
    "ExecuteTime": {
     "end_time": "2021-07-03T17:04:51.961719Z",
     "start_time": "2021-07-03T17:04:48.665721Z"
    },
    "hidden": true
   },
   "outputs": [
    {
     "data": {
      "text/html": [
       "<div>\n",
       "<style scoped>\n",
       "    .dataframe tbody tr th:only-of-type {\n",
       "        vertical-align: middle;\n",
       "    }\n",
       "\n",
       "    .dataframe tbody tr th {\n",
       "        vertical-align: top;\n",
       "    }\n",
       "\n",
       "    .dataframe thead th {\n",
       "        text-align: right;\n",
       "    }\n",
       "</style>\n",
       "<table border=\"1\" class=\"dataframe\">\n",
       "  <thead>\n",
       "    <tr style=\"text-align: right;\">\n",
       "      <th></th>\n",
       "      <th>attributes</th>\n",
       "      <th>min</th>\n",
       "      <th>max</th>\n",
       "      <th>range</th>\n",
       "      <th>mean</th>\n",
       "      <th>median</th>\n",
       "      <th>std</th>\n",
       "      <th>skew</th>\n",
       "      <th>kurtosis</th>\n",
       "    </tr>\n",
       "  </thead>\n",
       "  <tbody>\n",
       "    <tr>\n",
       "      <th>0</th>\n",
       "      <td>id</td>\n",
       "      <td>1,000,102.0</td>\n",
       "      <td>9,900,000,190.0</td>\n",
       "      <td>9,899,000,088.0</td>\n",
       "      <td>4,580,765,328.18</td>\n",
       "      <td>3,904,921,185.0</td>\n",
       "      <td>2,876,522,535.73</td>\n",
       "      <td>0.24</td>\n",
       "      <td>&lt;bound method NDFrame._add_numeric_operations....</td>\n",
       "    </tr>\n",
       "    <tr>\n",
       "      <th>1</th>\n",
       "      <td>buying_price</td>\n",
       "      <td>75,000.0</td>\n",
       "      <td>7,700,000.0</td>\n",
       "      <td>7,625,000.0</td>\n",
       "      <td>541,649.96</td>\n",
       "      <td>450,000.0</td>\n",
       "      <td>367,306.36</td>\n",
       "      <td>4.04</td>\n",
       "      <td>&lt;bound method NDFrame._add_numeric_operations....</td>\n",
       "    </tr>\n",
       "    <tr>\n",
       "      <th>2</th>\n",
       "      <td>bedrooms</td>\n",
       "      <td>0.0</td>\n",
       "      <td>33.0</td>\n",
       "      <td>33.0</td>\n",
       "      <td>3.37</td>\n",
       "      <td>3.0</td>\n",
       "      <td>0.93</td>\n",
       "      <td>1.99</td>\n",
       "      <td>&lt;bound method NDFrame._add_numeric_operations....</td>\n",
       "    </tr>\n",
       "    <tr>\n",
       "      <th>3</th>\n",
       "      <td>bathrooms</td>\n",
       "      <td>0.0</td>\n",
       "      <td>8.0</td>\n",
       "      <td>8.0</td>\n",
       "      <td>2.12</td>\n",
       "      <td>2.25</td>\n",
       "      <td>0.77</td>\n",
       "      <td>0.51</td>\n",
       "      <td>&lt;bound method NDFrame._add_numeric_operations....</td>\n",
       "    </tr>\n",
       "    <tr>\n",
       "      <th>4</th>\n",
       "      <td>sqft_living</td>\n",
       "      <td>290.0</td>\n",
       "      <td>13,540.0</td>\n",
       "      <td>13,250.0</td>\n",
       "      <td>2,082.7</td>\n",
       "      <td>1,920.0</td>\n",
       "      <td>919.13</td>\n",
       "      <td>1.47</td>\n",
       "      <td>&lt;bound method NDFrame._add_numeric_operations....</td>\n",
       "    </tr>\n",
       "    <tr>\n",
       "      <th>5</th>\n",
       "      <td>sqft_lot</td>\n",
       "      <td>520.0</td>\n",
       "      <td>1,651,359.0</td>\n",
       "      <td>1,650,839.0</td>\n",
       "      <td>15,135.64</td>\n",
       "      <td>7,614.0</td>\n",
       "      <td>41,537.65</td>\n",
       "      <td>13.04</td>\n",
       "      <td>&lt;bound method NDFrame._add_numeric_operations....</td>\n",
       "    </tr>\n",
       "    <tr>\n",
       "      <th>6</th>\n",
       "      <td>floors</td>\n",
       "      <td>1.0</td>\n",
       "      <td>3.5</td>\n",
       "      <td>2.5</td>\n",
       "      <td>1.5</td>\n",
       "      <td>1.5</td>\n",
       "      <td>0.54</td>\n",
       "      <td>0.61</td>\n",
       "      <td>&lt;bound method NDFrame._add_numeric_operations....</td>\n",
       "    </tr>\n",
       "    <tr>\n",
       "      <th>7</th>\n",
       "      <td>waterfront</td>\n",
       "      <td>0.0</td>\n",
       "      <td>1.0</td>\n",
       "      <td>1.0</td>\n",
       "      <td>0.01</td>\n",
       "      <td>0.0</td>\n",
       "      <td>0.09</td>\n",
       "      <td>11.34</td>\n",
       "      <td>&lt;bound method NDFrame._add_numeric_operations....</td>\n",
       "    </tr>\n",
       "    <tr>\n",
       "      <th>8</th>\n",
       "      <td>view</td>\n",
       "      <td>0.0</td>\n",
       "      <td>4.0</td>\n",
       "      <td>4.0</td>\n",
       "      <td>0.24</td>\n",
       "      <td>0.0</td>\n",
       "      <td>0.77</td>\n",
       "      <td>3.39</td>\n",
       "      <td>&lt;bound method NDFrame._add_numeric_operations....</td>\n",
       "    </tr>\n",
       "    <tr>\n",
       "      <th>9</th>\n",
       "      <td>condition</td>\n",
       "      <td>1.0</td>\n",
       "      <td>5.0</td>\n",
       "      <td>4.0</td>\n",
       "      <td>3.41</td>\n",
       "      <td>3.0</td>\n",
       "      <td>0.65</td>\n",
       "      <td>1.04</td>\n",
       "      <td>&lt;bound method NDFrame._add_numeric_operations....</td>\n",
       "    </tr>\n",
       "    <tr>\n",
       "      <th>10</th>\n",
       "      <td>grade</td>\n",
       "      <td>1.0</td>\n",
       "      <td>13.0</td>\n",
       "      <td>12.0</td>\n",
       "      <td>7.66</td>\n",
       "      <td>7.0</td>\n",
       "      <td>1.17</td>\n",
       "      <td>0.77</td>\n",
       "      <td>&lt;bound method NDFrame._add_numeric_operations....</td>\n",
       "    </tr>\n",
       "    <tr>\n",
       "      <th>11</th>\n",
       "      <td>sqft_above</td>\n",
       "      <td>290.0</td>\n",
       "      <td>9,410.0</td>\n",
       "      <td>9,120.0</td>\n",
       "      <td>1,790.96</td>\n",
       "      <td>1,560.0</td>\n",
       "      <td>829.01</td>\n",
       "      <td>1.44</td>\n",
       "      <td>&lt;bound method NDFrame._add_numeric_operations....</td>\n",
       "    </tr>\n",
       "    <tr>\n",
       "      <th>12</th>\n",
       "      <td>sqft_basement</td>\n",
       "      <td>0.0</td>\n",
       "      <td>4,820.0</td>\n",
       "      <td>4,820.0</td>\n",
       "      <td>291.74</td>\n",
       "      <td>0.0</td>\n",
       "      <td>442.77</td>\n",
       "      <td>1.58</td>\n",
       "      <td>&lt;bound method NDFrame._add_numeric_operations....</td>\n",
       "    </tr>\n",
       "    <tr>\n",
       "      <th>13</th>\n",
       "      <td>yr_built</td>\n",
       "      <td>1,900.0</td>\n",
       "      <td>2,015.0</td>\n",
       "      <td>115.0</td>\n",
       "      <td>1,971.1</td>\n",
       "      <td>1,975.0</td>\n",
       "      <td>29.38</td>\n",
       "      <td>-0.47</td>\n",
       "      <td>&lt;bound method NDFrame._add_numeric_operations....</td>\n",
       "    </tr>\n",
       "    <tr>\n",
       "      <th>14</th>\n",
       "      <td>yr_renovated</td>\n",
       "      <td>0.0</td>\n",
       "      <td>2,015.0</td>\n",
       "      <td>2,015.0</td>\n",
       "      <td>84.73</td>\n",
       "      <td>0.0</td>\n",
       "      <td>402.42</td>\n",
       "      <td>4.54</td>\n",
       "      <td>&lt;bound method NDFrame._add_numeric_operations....</td>\n",
       "    </tr>\n",
       "    <tr>\n",
       "      <th>15</th>\n",
       "      <td>zipcode</td>\n",
       "      <td>98,001.0</td>\n",
       "      <td>98,199.0</td>\n",
       "      <td>198.0</td>\n",
       "      <td>98,077.86</td>\n",
       "      <td>98,065.0</td>\n",
       "      <td>53.47</td>\n",
       "      <td>0.41</td>\n",
       "      <td>&lt;bound method NDFrame._add_numeric_operations....</td>\n",
       "    </tr>\n",
       "    <tr>\n",
       "      <th>16</th>\n",
       "      <td>lat</td>\n",
       "      <td>47.16</td>\n",
       "      <td>47.78</td>\n",
       "      <td>0.62</td>\n",
       "      <td>47.56</td>\n",
       "      <td>47.57</td>\n",
       "      <td>0.14</td>\n",
       "      <td>-0.49</td>\n",
       "      <td>&lt;bound method NDFrame._add_numeric_operations....</td>\n",
       "    </tr>\n",
       "    <tr>\n",
       "      <th>17</th>\n",
       "      <td>long</td>\n",
       "      <td>-122.52</td>\n",
       "      <td>-121.31</td>\n",
       "      <td>1.2</td>\n",
       "      <td>-122.21</td>\n",
       "      <td>-122.23</td>\n",
       "      <td>0.14</td>\n",
       "      <td>0.88</td>\n",
       "      <td>&lt;bound method NDFrame._add_numeric_operations....</td>\n",
       "    </tr>\n",
       "    <tr>\n",
       "      <th>18</th>\n",
       "      <td>sqft_living15</td>\n",
       "      <td>399.0</td>\n",
       "      <td>6,210.0</td>\n",
       "      <td>5,811.0</td>\n",
       "      <td>1,988.31</td>\n",
       "      <td>1,840.0</td>\n",
       "      <td>685.68</td>\n",
       "      <td>1.11</td>\n",
       "      <td>&lt;bound method NDFrame._add_numeric_operations....</td>\n",
       "    </tr>\n",
       "    <tr>\n",
       "      <th>19</th>\n",
       "      <td>sqft_lot15</td>\n",
       "      <td>651.0</td>\n",
       "      <td>871,200.0</td>\n",
       "      <td>870,549.0</td>\n",
       "      <td>12,785.96</td>\n",
       "      <td>7,620.0</td>\n",
       "      <td>27,374.83</td>\n",
       "      <td>9.5</td>\n",
       "      <td>&lt;bound method NDFrame._add_numeric_operations....</td>\n",
       "    </tr>\n",
       "  </tbody>\n",
       "</table>\n",
       "</div>"
      ],
      "text/plain": [
       "       attributes         min             max           range             mean          median              std  skew                                           kurtosis\n",
       "0              id 1,000,102.0 9,900,000,190.0 9,899,000,088.0 4,580,765,328.18 3,904,921,185.0 2,876,522,535.73  0.24  <bound method NDFrame._add_numeric_operations....\n",
       "1    buying_price    75,000.0     7,700,000.0     7,625,000.0       541,649.96       450,000.0       367,306.36  4.04  <bound method NDFrame._add_numeric_operations....\n",
       "2        bedrooms         0.0            33.0            33.0             3.37             3.0             0.93  1.99  <bound method NDFrame._add_numeric_operations....\n",
       "3       bathrooms         0.0             8.0             8.0             2.12            2.25             0.77  0.51  <bound method NDFrame._add_numeric_operations....\n",
       "4     sqft_living       290.0        13,540.0        13,250.0          2,082.7         1,920.0           919.13  1.47  <bound method NDFrame._add_numeric_operations....\n",
       "5        sqft_lot       520.0     1,651,359.0     1,650,839.0        15,135.64         7,614.0        41,537.65 13.04  <bound method NDFrame._add_numeric_operations....\n",
       "6          floors         1.0             3.5             2.5              1.5             1.5             0.54  0.61  <bound method NDFrame._add_numeric_operations....\n",
       "7      waterfront         0.0             1.0             1.0             0.01             0.0             0.09 11.34  <bound method NDFrame._add_numeric_operations....\n",
       "8            view         0.0             4.0             4.0             0.24             0.0             0.77  3.39  <bound method NDFrame._add_numeric_operations....\n",
       "9       condition         1.0             5.0             4.0             3.41             3.0             0.65  1.04  <bound method NDFrame._add_numeric_operations....\n",
       "10          grade         1.0            13.0            12.0             7.66             7.0             1.17  0.77  <bound method NDFrame._add_numeric_operations....\n",
       "11     sqft_above       290.0         9,410.0         9,120.0         1,790.96         1,560.0           829.01  1.44  <bound method NDFrame._add_numeric_operations....\n",
       "12  sqft_basement         0.0         4,820.0         4,820.0           291.74             0.0           442.77  1.58  <bound method NDFrame._add_numeric_operations....\n",
       "13       yr_built     1,900.0         2,015.0           115.0          1,971.1         1,975.0            29.38 -0.47  <bound method NDFrame._add_numeric_operations....\n",
       "14   yr_renovated         0.0         2,015.0         2,015.0            84.73             0.0           402.42  4.54  <bound method NDFrame._add_numeric_operations....\n",
       "15        zipcode    98,001.0        98,199.0           198.0        98,077.86        98,065.0            53.47  0.41  <bound method NDFrame._add_numeric_operations....\n",
       "16            lat       47.16           47.78            0.62            47.56           47.57             0.14 -0.49  <bound method NDFrame._add_numeric_operations....\n",
       "17           long     -122.52         -121.31             1.2          -122.21         -122.23             0.14  0.88  <bound method NDFrame._add_numeric_operations....\n",
       "18  sqft_living15       399.0         6,210.0         5,811.0         1,988.31         1,840.0           685.68  1.11  <bound method NDFrame._add_numeric_operations....\n",
       "19     sqft_lot15       651.0       871,200.0       870,549.0        12,785.96         7,620.0        27,374.83   9.5  <bound method NDFrame._add_numeric_operations...."
      ]
     },
     "execution_count": 15,
     "metadata": {},
     "output_type": "execute_result"
    }
   ],
   "source": [
    "# central tendendy - mean, median\n",
    "ct1 = pd.DataFrame(num_df1.apply(np.mean)).T\n",
    "ct2 = pd.DataFrame(num_df1.apply(np.median)).T\n",
    "\n",
    "# dispersion - std, min, max, range, skew, kurtosis\n",
    "d1 = pd.DataFrame(num_df1.apply(np.std)).T\n",
    "d2 = pd.DataFrame(num_df1.apply(min)).T\n",
    "d3 = pd.DataFrame(num_df1.apply(max)).T\n",
    "d4 = pd.DataFrame(num_df1.apply(lambda x: x.max() - x.min())).T\n",
    "d5 = pd.DataFrame(num_df1.apply(lambda x: x.skew())).T\n",
    "d6 = pd.DataFrame(num_df1.apply(lambda x: x.kurtosis)).T\n",
    "\n",
    "# concatenate \n",
    "m = pd.concat([d2,d3,d4,ct1,ct2,d1,d5,d6]).T.reset_index()\n",
    "m.columns = ['attributes','min','max','range','mean','median','std','skew','kurtosis']\n",
    "m"
   ]
  },
  {
   "cell_type": "markdown",
   "id": "nuclear-amsterdam",
   "metadata": {
    "heading_collapsed": true,
    "hidden": true
   },
   "source": [
    "### Categorical Attributes"
   ]
  },
  {
   "cell_type": "code",
   "execution_count": 16,
   "id": "narrative-railway",
   "metadata": {
    "ExecuteTime": {
     "end_time": "2021-07-03T17:04:51.977734Z",
     "start_time": "2021-07-03T17:04:51.962721Z"
    },
    "hidden": true
   },
   "outputs": [
    {
     "data": {
      "text/plain": [
       "(21436, 0)"
      ]
     },
     "execution_count": 16,
     "metadata": {},
     "output_type": "execute_result"
    }
   ],
   "source": [
    "cat_df1.shape # no attributes"
   ]
  },
  {
   "cell_type": "markdown",
   "id": "flush-phenomenon",
   "metadata": {
    "heading_collapsed": true
   },
   "source": [
    "# Variable Filtering "
   ]
  },
  {
   "cell_type": "code",
   "execution_count": 17,
   "id": "humanitarian-healing",
   "metadata": {
    "ExecuteTime": {
     "end_time": "2021-07-03T17:04:51.993749Z",
     "start_time": "2021-07-03T17:04:51.978735Z"
    },
    "hidden": true
   },
   "outputs": [],
   "source": [
    "df2=df1.copy()"
   ]
  },
  {
   "cell_type": "code",
   "execution_count": 18,
   "id": "quiet-secretariat",
   "metadata": {
    "ExecuteTime": {
     "end_time": "2021-07-03T17:04:52.009764Z",
     "start_time": "2021-07-03T17:04:51.994750Z"
    },
    "hidden": true
   },
   "outputs": [],
   "source": [
    "df2 = df2.drop (['view', 'sqft_living15','sqft_lot15'], axis=1)\n",
    "\n",
    "\n",
    "# view          \tAn index from 0 to 4 of how good the view of the property was\n",
    "\n",
    "# sqft_living15 \tThe square footage of interior housing living space for the nearest 15 neighbors\n",
    "# sqft_lot15    \tThe square footage of the land lots of the nearest 15 neighbors"
   ]
  },
  {
   "cell_type": "code",
   "execution_count": 19,
   "id": "acceptable-reward",
   "metadata": {
    "ExecuteTime": {
     "end_time": "2021-07-03T17:04:52.041792Z",
     "start_time": "2021-07-03T17:04:52.010765Z"
    },
    "hidden": true
   },
   "outputs": [
    {
     "name": "stdout",
     "output_type": "stream",
     "text": [
      "          sqft_living\n",
      "bedrooms             \n",
      "1              884.94\n",
      "2            1,240.54\n",
      "33           1,620.00\n",
      "0            1,707.85\n",
      "3            1,807.60\n",
      "4            2,556.00\n",
      "11           3,000.00\n",
      "5            3,054.82\n",
      "6            3,310.76\n",
      "10           3,706.67\n",
      "9            3,775.00\n",
      "8            3,800.00\n",
      "7            3,974.21\n",
      "            id\n",
      "bedrooms      \n",
      "0           13\n",
      "1          194\n",
      "2         2736\n",
      "3         9731\n",
      "4         6849\n",
      "5         1586\n",
      "6          265\n",
      "7           38\n",
      "8           13\n",
      "9            6\n",
      "10           3\n",
      "11           1\n",
      "33           1 \n",
      "\n"
     ]
    }
   ],
   "source": [
    "# checking properties 'sqft_living' by number of bedrooms\n",
    "print(df2[['bedrooms','sqft_living']].groupby(['bedrooms']).mean().sort_values('sqft_living', ascending=True))\n",
    "print(df2[['id','bedrooms']].groupby(['bedrooms']).count(),'\\n')\n",
    "\n",
    "df2 = df2[ (df2['bedrooms']!=0) & (df2['bedrooms']!=11) & (df2['bedrooms']!=33) ]"
   ]
  },
  {
   "cell_type": "markdown",
   "id": "quiet-disposal",
   "metadata": {
    "heading_collapsed": true
   },
   "source": [
    "# Feature Engineering"
   ]
  },
  {
   "cell_type": "code",
   "execution_count": 20,
   "id": "awful-tractor",
   "metadata": {
    "ExecuteTime": {
     "end_time": "2021-07-03T17:04:52.057807Z",
     "start_time": "2021-07-03T17:04:52.042794Z"
    },
    "hidden": true
   },
   "outputs": [],
   "source": [
    "df3 = df2.copy()"
   ]
  },
  {
   "cell_type": "markdown",
   "id": "unexpected-elements",
   "metadata": {
    "ExecuteTime": {
     "end_time": "2021-05-17T19:16:38.519692Z",
     "start_time": "2021-05-17T19:16:38.516690Z"
    },
    "heading_collapsed": true,
    "hidden": true
   },
   "source": [
    "## <font color ='red'>Mind Map Hypothesis"
   ]
  },
  {
   "cell_type": "code",
   "execution_count": null,
   "id": "solar-westminster",
   "metadata": {
    "hidden": true
   },
   "outputs": [],
   "source": []
  },
  {
   "cell_type": "markdown",
   "id": "periodic-bernard",
   "metadata": {
    "heading_collapsed": true,
    "hidden": true
   },
   "source": [
    "## Creating Hypothesis"
   ]
  },
  {
   "cell_type": "markdown",
   "id": "invisible-concrete",
   "metadata": {
    "hidden": true
   },
   "source": [
    "1. Properties that have water view are 50% more expensive.\n",
    "2. Properties with basements have higher grade.\n",
    "3. Properties with basements have bigger interior living space.\n",
    "4. Properties with basements are 15% more expensive.\n",
    "5. Properties built with basements decreased over the years.\n",
    "6. Properties with 1 to 2 bathrooms are 20% more expensive than those with up to 1 bathroom.\n",
    "7. Properties with 3 bedrooms are 25% more expensive than those which have 2 bedrooms.\n",
    "8.  Properties with 2 floors are 15% more expensive than those with 1 floor.\n",
    "9. Most properties (+50%) became available during summer/spring.\n",
    "10. Properties available during summer/spring are 20% more expensive.\n",
    "11. Most properties (+50%) are localized in a 15km radio from the lake.\n",
    "12. Most of properties (+50%) that should be bought are in a 15km radius from the lake.\n",
    "13. Properties selected to be bought that are localized in a 15km radius from lake correspond to more than 50% of expected profit.\n",
    "14. Properties have bigger interior living space along construction year timeline.\n",
    "15. Properties that were not renovated are 40% cheaper."
   ]
  },
  {
   "cell_type": "markdown",
   "id": "bulgarian-yesterday",
   "metadata": {
    "heading_collapsed": true,
    "hidden": true
   },
   "source": [
    "## <font color ='red'>Features Creation\n",
    "    get api data"
   ]
  },
  {
   "cell_type": "code",
   "execution_count": 21,
   "id": "worst-tutorial",
   "metadata": {
    "ExecuteTime": {
     "end_time": "2021-07-03T17:04:52.073822Z",
     "start_time": "2021-07-03T17:04:52.058808Z"
    },
    "code_folding": [],
    "hidden": true,
    "scrolled": true
   },
   "outputs": [],
   "source": [
    "# get data from API in separate dataframe\n",
    "\n",
    "# # query\n",
    "# df3['query'] = df3[['lat','long']].apply(lambda x: str(x['lat']) + ',' + str(x['long']), axis=1)\n",
    "# df_geodata = df3[['id', 'query']].copy()\n",
    "\n",
    "# # creating empty columns\n",
    "# df_geodata['place_id']      = \"NA\"\n",
    "# df_geodata['house_number']  = 'NA'\n",
    "# df_geodata['road']          = 'NA'\n",
    "# df_geodata['neighbourhood'] = 'NA'\n",
    "# df_geodata['city']          = 'NA'\n",
    "# df_geodata['county']        = 'NA'\n",
    "# df_geodata['state']         = 'NA'\n",
    "# df_geodata['postcode']      ='NA'\n",
    "\n",
    "\n",
    "# # auxiliar variable that helps localizing the adresses\n",
    "# geolocator = Nominatim (user_agent = 'api') \n",
    "\n",
    "# # loop for\n",
    "# for i in range (df_geodata.shape[0]):\n",
    "    \n",
    "#     print ('Loop: {} / {}'.format(i, df_geodata.shape[0]))\n",
    "    \n",
    "#     # api request\n",
    "#     response = geolocator.reverse(query) # standard variable for API responses // 'reverse' returns an address by location point\n",
    "    \n",
    "#     # populating data\n",
    "#     if 'place_id'in response.raw:\n",
    "#         df_geodata.loc[i, 'place_id']      = response.raw['place_id']\n",
    "#     if 'house_number'in response.raw['address']:\n",
    "#         df_geodata.loc[i, 'house_number']  = response.raw['address']['house_number']\n",
    "#     if 'road'in response.raw['address']:\n",
    "#         df_geodata.loc[i, 'road']          = response.raw['address']['road']\n",
    "#     if 'neighbourhood'in response.raw['address']:\n",
    "#         df_geodata.loc[i, 'neighbourhood'] = response.raw['address']['neighbourhood']\n",
    "#     if 'city'in response.raw['address']:\n",
    "#         df_geodata.loc[i, 'city']          = response.raw['address']['city']\n",
    "#     if 'county'in response.raw['address']:\n",
    "#         df_geodata.loc[i,'county']         = response.raw['address']['county']\n",
    "#     if 'state'in response.raw['address']:\n",
    "#         df_geodata.loc[i,'state']          = response.raw['address']['state']\n",
    "#     if 'postcode'in response.raw['address']:\n",
    "#         df_geodata.loc[i,'postcode']       = response.raw['address']['postcode']\n"
   ]
  },
  {
   "cell_type": "code",
   "execution_count": 22,
   "id": "international-diving",
   "metadata": {
    "ExecuteTime": {
     "end_time": "2021-07-03T17:04:52.245978Z",
     "start_time": "2021-07-03T17:04:52.081829Z"
    },
    "hidden": true
   },
   "outputs": [
    {
     "data": {
      "text/html": [
       "<div>\n",
       "<style scoped>\n",
       "    .dataframe tbody tr th:only-of-type {\n",
       "        vertical-align: middle;\n",
       "    }\n",
       "\n",
       "    .dataframe tbody tr th {\n",
       "        vertical-align: top;\n",
       "    }\n",
       "\n",
       "    .dataframe thead th {\n",
       "        text-align: right;\n",
       "    }\n",
       "</style>\n",
       "<table border=\"1\" class=\"dataframe\">\n",
       "  <thead>\n",
       "    <tr style=\"text-align: right;\">\n",
       "      <th></th>\n",
       "      <th>id</th>\n",
       "      <th>date</th>\n",
       "      <th>buying_price</th>\n",
       "      <th>bedrooms</th>\n",
       "      <th>bathrooms</th>\n",
       "      <th>sqft_living</th>\n",
       "      <th>sqft_lot</th>\n",
       "      <th>floors</th>\n",
       "      <th>waterfront</th>\n",
       "      <th>condition</th>\n",
       "      <th>grade</th>\n",
       "      <th>sqft_above</th>\n",
       "      <th>sqft_basement</th>\n",
       "      <th>yr_built</th>\n",
       "      <th>yr_renovated</th>\n",
       "      <th>zipcode</th>\n",
       "      <th>lat</th>\n",
       "      <th>long</th>\n",
       "      <th>query</th>\n",
       "      <th>road</th>\n",
       "      <th>house_number</th>\n",
       "      <th>neighbourhood</th>\n",
       "      <th>city</th>\n",
       "      <th>county</th>\n",
       "      <th>state</th>\n",
       "    </tr>\n",
       "  </thead>\n",
       "  <tbody>\n",
       "    <tr>\n",
       "      <th>0</th>\n",
       "      <td>5561000190</td>\n",
       "      <td>2014-05-02</td>\n",
       "      <td>437,500.00</td>\n",
       "      <td>3</td>\n",
       "      <td>2.25</td>\n",
       "      <td>1970</td>\n",
       "      <td>35100</td>\n",
       "      <td>2.00</td>\n",
       "      <td>0</td>\n",
       "      <td>4</td>\n",
       "      <td>9</td>\n",
       "      <td>1970</td>\n",
       "      <td>0</td>\n",
       "      <td>1977</td>\n",
       "      <td>0</td>\n",
       "      <td>98027</td>\n",
       "      <td>47.46</td>\n",
       "      <td>-121.99</td>\n",
       "      <td>47.4635,-121.991</td>\n",
       "      <td>Southeast 154th Street</td>\n",
       "      <td>26069</td>\n",
       "      <td>NaN</td>\n",
       "      <td>NaN</td>\n",
       "      <td>King County</td>\n",
       "      <td>Washington</td>\n",
       "    </tr>\n",
       "    <tr>\n",
       "      <th>1</th>\n",
       "      <td>472000620</td>\n",
       "      <td>2014-05-02</td>\n",
       "      <td>790,000.00</td>\n",
       "      <td>3</td>\n",
       "      <td>2.50</td>\n",
       "      <td>2600</td>\n",
       "      <td>4750</td>\n",
       "      <td>1.00</td>\n",
       "      <td>0</td>\n",
       "      <td>4</td>\n",
       "      <td>9</td>\n",
       "      <td>1700</td>\n",
       "      <td>900</td>\n",
       "      <td>1951</td>\n",
       "      <td>0</td>\n",
       "      <td>98117</td>\n",
       "      <td>47.68</td>\n",
       "      <td>-122.40</td>\n",
       "      <td>47.6833,-122.4</td>\n",
       "      <td>34th Avenue Northwest</td>\n",
       "      <td>7506</td>\n",
       "      <td>Sunset Hill</td>\n",
       "      <td>Seattle</td>\n",
       "      <td>King County</td>\n",
       "      <td>Washington</td>\n",
       "    </tr>\n",
       "    <tr>\n",
       "      <th>2</th>\n",
       "      <td>1024069009</td>\n",
       "      <td>2014-05-02</td>\n",
       "      <td>675,000.00</td>\n",
       "      <td>5</td>\n",
       "      <td>2.50</td>\n",
       "      <td>2820</td>\n",
       "      <td>67518</td>\n",
       "      <td>2.00</td>\n",
       "      <td>0</td>\n",
       "      <td>3</td>\n",
       "      <td>8</td>\n",
       "      <td>2820</td>\n",
       "      <td>0</td>\n",
       "      <td>1979</td>\n",
       "      <td>0</td>\n",
       "      <td>98029</td>\n",
       "      <td>47.58</td>\n",
       "      <td>-122.03</td>\n",
       "      <td>47.5794,-122.025</td>\n",
       "      <td>Southeast 32nd Way</td>\n",
       "      <td>23601</td>\n",
       "      <td>NaN</td>\n",
       "      <td>NaN</td>\n",
       "      <td>King County</td>\n",
       "      <td>Washington</td>\n",
       "    </tr>\n",
       "    <tr>\n",
       "      <th>3</th>\n",
       "      <td>7853361370</td>\n",
       "      <td>2014-05-02</td>\n",
       "      <td>555,000.00</td>\n",
       "      <td>4</td>\n",
       "      <td>2.50</td>\n",
       "      <td>3310</td>\n",
       "      <td>6500</td>\n",
       "      <td>2.00</td>\n",
       "      <td>0</td>\n",
       "      <td>3</td>\n",
       "      <td>8</td>\n",
       "      <td>3310</td>\n",
       "      <td>0</td>\n",
       "      <td>2012</td>\n",
       "      <td>0</td>\n",
       "      <td>98065</td>\n",
       "      <td>47.52</td>\n",
       "      <td>-121.87</td>\n",
       "      <td>47.515,-121.87</td>\n",
       "      <td>Southeast Terrace Street</td>\n",
       "      <td>35246</td>\n",
       "      <td>NaN</td>\n",
       "      <td>NaN</td>\n",
       "      <td>King County</td>\n",
       "      <td>Washington</td>\n",
       "    </tr>\n",
       "    <tr>\n",
       "      <th>4</th>\n",
       "      <td>5056500260</td>\n",
       "      <td>2014-05-02</td>\n",
       "      <td>440,000.00</td>\n",
       "      <td>4</td>\n",
       "      <td>2.25</td>\n",
       "      <td>2160</td>\n",
       "      <td>8119</td>\n",
       "      <td>1.00</td>\n",
       "      <td>0</td>\n",
       "      <td>3</td>\n",
       "      <td>8</td>\n",
       "      <td>1080</td>\n",
       "      <td>1080</td>\n",
       "      <td>1966</td>\n",
       "      <td>0</td>\n",
       "      <td>98006</td>\n",
       "      <td>47.54</td>\n",
       "      <td>-122.18</td>\n",
       "      <td>47.5443,-122.177</td>\n",
       "      <td>Southeast 65th Street</td>\n",
       "      <td>12201</td>\n",
       "      <td>NaN</td>\n",
       "      <td>Bellevue</td>\n",
       "      <td>King County</td>\n",
       "      <td>Washington</td>\n",
       "    </tr>\n",
       "  </tbody>\n",
       "</table>\n",
       "</div>"
      ],
      "text/plain": [
       "           id       date  buying_price  bedrooms  bathrooms  sqft_living  sqft_lot  floors  waterfront  condition  grade  sqft_above  sqft_basement  yr_built  yr_renovated  zipcode   lat    long             query                      road house_number neighbourhood      city       county       state\n",
       "0  5561000190 2014-05-02    437,500.00         3       2.25         1970     35100    2.00           0          4      9        1970              0      1977             0    98027 47.46 -121.99  47.4635,-121.991    Southeast 154th Street        26069           NaN       NaN  King County  Washington\n",
       "1   472000620 2014-05-02    790,000.00         3       2.50         2600      4750    1.00           0          4      9        1700            900      1951             0    98117 47.68 -122.40    47.6833,-122.4     34th Avenue Northwest         7506   Sunset Hill   Seattle  King County  Washington\n",
       "2  1024069009 2014-05-02    675,000.00         5       2.50         2820     67518    2.00           0          3      8        2820              0      1979             0    98029 47.58 -122.03  47.5794,-122.025        Southeast 32nd Way        23601           NaN       NaN  King County  Washington\n",
       "3  7853361370 2014-05-02    555,000.00         4       2.50         3310      6500    2.00           0          3      8        3310              0      2012             0    98065 47.52 -121.87    47.515,-121.87  Southeast Terrace Street        35246           NaN       NaN  King County  Washington\n",
       "4  5056500260 2014-05-02    440,000.00         4       2.25         2160      8119    1.00           0          3      8        1080           1080      1966             0    98006 47.54 -122.18  47.5443,-122.177     Southeast 65th Street        12201           NaN  Bellevue  King County  Washington"
      ]
     },
     "execution_count": 22,
     "metadata": {},
     "output_type": "execute_result"
    }
   ],
   "source": [
    "# getting geodata temporarily\n",
    "df_geodata = pd.read_csv('../datasets/interim/api_geodata.csv')\n",
    "\n",
    "# merging df_geodata with df3\n",
    "df3 = pd.merge(df3, df_geodata, how='left', on='id')\n",
    "df3.head()\n",
    "\n",
    "# saving df_geodata\n",
    "df_geodata.to_csv('../datasets/interim/api_geodata_realstate.csv')\n",
    "\n",
    "df3.head()"
   ]
  },
  {
   "cell_type": "code",
   "execution_count": 23,
   "id": "southwest-trouble",
   "metadata": {
    "ExecuteTime": {
     "end_time": "2021-07-03T17:04:52.704395Z",
     "start_time": "2021-07-03T17:04:52.278007Z"
    },
    "code_folding": [],
    "hidden": true
   },
   "outputs": [
    {
     "data": {
      "text/html": [
       "<div>\n",
       "<style scoped>\n",
       "    .dataframe tbody tr th:only-of-type {\n",
       "        vertical-align: middle;\n",
       "    }\n",
       "\n",
       "    .dataframe tbody tr th {\n",
       "        vertical-align: top;\n",
       "    }\n",
       "\n",
       "    .dataframe thead th {\n",
       "        text-align: right;\n",
       "    }\n",
       "</style>\n",
       "<table border=\"1\" class=\"dataframe\">\n",
       "  <thead>\n",
       "    <tr style=\"text-align: right;\">\n",
       "      <th></th>\n",
       "      <th>query</th>\n",
       "      <th>dist_fromlake</th>\n",
       "    </tr>\n",
       "  </thead>\n",
       "  <tbody>\n",
       "    <tr>\n",
       "      <th>9990</th>\n",
       "      <td>47.4786,-122.123</td>\n",
       "      <td>20.74</td>\n",
       "    </tr>\n",
       "    <tr>\n",
       "      <th>1822</th>\n",
       "      <td>47.3392,-122.131</td>\n",
       "      <td>34.90</td>\n",
       "    </tr>\n",
       "    <tr>\n",
       "      <th>6094</th>\n",
       "      <td>47.7457,-122.332</td>\n",
       "      <td>12.86</td>\n",
       "    </tr>\n",
       "    <tr>\n",
       "      <th>169</th>\n",
       "      <td>47.6426,-122.327</td>\n",
       "      <td>5.08</td>\n",
       "    </tr>\n",
       "    <tr>\n",
       "      <th>6523</th>\n",
       "      <td>47.3668,-122.031</td>\n",
       "      <td>34.97</td>\n",
       "    </tr>\n",
       "  </tbody>\n",
       "</table>\n",
       "</div>"
      ],
      "text/plain": [
       "                 query  dist_fromlake\n",
       "9990  47.4786,-122.123          20.74\n",
       "1822  47.3392,-122.131          34.90\n",
       "6094  47.7457,-122.332          12.86\n",
       "169   47.6426,-122.327           5.08\n",
       "6523  47.3668,-122.031          34.97"
      ]
     },
     "execution_count": 23,
     "metadata": {},
     "output_type": "execute_result"
    }
   ],
   "source": [
    "# radius from lake\n",
    "\n",
    "# lake infos\n",
    "lake_center = [{'lat':47.640883, 'long':-122.259250}]  \n",
    "lake_tuple = 47.640883, -122.259250 \n",
    "\n",
    "# distance from Lake\n",
    "df3['dist_fromlake'] = df3['query'].apply(lambda x: great_circle(lake_tuple, x).km)\n",
    "\n",
    "df3[['query','dist_fromlake']].sample(5) "
   ]
  },
  {
   "cell_type": "code",
   "execution_count": 24,
   "id": "formal-domain",
   "metadata": {
    "ExecuteTime": {
     "end_time": "2021-07-03T17:04:52.736425Z",
     "start_time": "2021-07-03T17:04:52.705396Z"
    },
    "code_folding": [],
    "hidden": true
   },
   "outputs": [
    {
     "data": {
      "text/html": [
       "<div>\n",
       "<style scoped>\n",
       "    .dataframe tbody tr th:only-of-type {\n",
       "        vertical-align: middle;\n",
       "    }\n",
       "\n",
       "    .dataframe tbody tr th {\n",
       "        vertical-align: top;\n",
       "    }\n",
       "\n",
       "    .dataframe thead th {\n",
       "        text-align: right;\n",
       "    }\n",
       "</style>\n",
       "<table border=\"1\" class=\"dataframe\">\n",
       "  <thead>\n",
       "    <tr style=\"text-align: right;\">\n",
       "      <th></th>\n",
       "      <th>id</th>\n",
       "      <th>buying_price</th>\n",
       "      <th>zipcode</th>\n",
       "      <th>mean_price_zipcode</th>\n",
       "    </tr>\n",
       "  </thead>\n",
       "  <tbody>\n",
       "    <tr>\n",
       "      <th>4691</th>\n",
       "      <td>629600030</td>\n",
       "      <td>630,000.00</td>\n",
       "      <td>98075</td>\n",
       "      <td>790,674.15</td>\n",
       "    </tr>\n",
       "    <tr>\n",
       "      <th>4623</th>\n",
       "      <td>3905030190</td>\n",
       "      <td>601,000.00</td>\n",
       "      <td>98029</td>\n",
       "      <td>612,678.53</td>\n",
       "    </tr>\n",
       "    <tr>\n",
       "      <th>1052</th>\n",
       "      <td>5458300685</td>\n",
       "      <td>479,000.00</td>\n",
       "      <td>98109</td>\n",
       "      <td>879,623.62</td>\n",
       "    </tr>\n",
       "    <tr>\n",
       "      <th>4839</th>\n",
       "      <td>3179100435</td>\n",
       "      <td>641,000.00</td>\n",
       "      <td>98105</td>\n",
       "      <td>862,825.23</td>\n",
       "    </tr>\n",
       "    <tr>\n",
       "      <th>18625</th>\n",
       "      <td>6638900115</td>\n",
       "      <td>296,000.00</td>\n",
       "      <td>98117</td>\n",
       "      <td>579,661.28</td>\n",
       "    </tr>\n",
       "  </tbody>\n",
       "</table>\n",
       "</div>"
      ],
      "text/plain": [
       "               id  buying_price  zipcode  mean_price_zipcode\n",
       "4691    629600030    630,000.00    98075          790,674.15\n",
       "4623   3905030190    601,000.00    98029          612,678.53\n",
       "1052   5458300685    479,000.00    98109          879,623.62\n",
       "4839   3179100435    641,000.00    98105          862,825.23\n",
       "18625  6638900115    296,000.00    98117          579,661.28"
      ]
     },
     "execution_count": 24,
     "metadata": {},
     "output_type": "execute_result"
    }
   ],
   "source": [
    "# mean buying price by zipcode\n",
    "a = df3[['buying_price','zipcode']].groupby('zipcode').mean().reset_index().rename(columns={'buying_price': 'mean_price_zipcode'})\n",
    "a.head()\n",
    "\n",
    "df3 = pd.merge(df3, a, on='zipcode', how='left')\n",
    "df3[['id', 'buying_price', 'zipcode', 'mean_price_zipcode']].sample(5)"
   ]
  },
  {
   "cell_type": "code",
   "execution_count": 25,
   "id": "technical-stranger",
   "metadata": {
    "ExecuteTime": {
     "end_time": "2021-07-03T17:04:53.045706Z",
     "start_time": "2021-07-03T17:04:52.737426Z"
    },
    "code_folding": [],
    "hidden": true
   },
   "outputs": [
    {
     "data": {
      "text/html": [
       "<div>\n",
       "<style scoped>\n",
       "    .dataframe tbody tr th:only-of-type {\n",
       "        vertical-align: middle;\n",
       "    }\n",
       "\n",
       "    .dataframe tbody tr th {\n",
       "        vertical-align: top;\n",
       "    }\n",
       "\n",
       "    .dataframe thead th {\n",
       "        text-align: right;\n",
       "    }\n",
       "</style>\n",
       "<table border=\"1\" class=\"dataframe\">\n",
       "  <thead>\n",
       "    <tr style=\"text-align: right;\">\n",
       "      <th></th>\n",
       "      <th>id</th>\n",
       "      <th>zipcode</th>\n",
       "      <th>buying_price</th>\n",
       "      <th>mean_price_zipcode</th>\n",
       "      <th>condition</th>\n",
       "      <th>decision</th>\n",
       "    </tr>\n",
       "  </thead>\n",
       "  <tbody>\n",
       "    <tr>\n",
       "      <th>9966</th>\n",
       "      <td>4364700990</td>\n",
       "      <td>98126</td>\n",
       "      <td>335,000.00</td>\n",
       "      <td>426,087.71</td>\n",
       "      <td>3</td>\n",
       "      <td>1</td>\n",
       "    </tr>\n",
       "    <tr>\n",
       "      <th>20994</th>\n",
       "      <td>4027701265</td>\n",
       "      <td>98028</td>\n",
       "      <td>480,000.00</td>\n",
       "      <td>463,071.91</td>\n",
       "      <td>3</td>\n",
       "      <td>0</td>\n",
       "    </tr>\n",
       "    <tr>\n",
       "      <th>434</th>\n",
       "      <td>9276200569</td>\n",
       "      <td>98116</td>\n",
       "      <td>769,900.00</td>\n",
       "      <td>619,414.47</td>\n",
       "      <td>3</td>\n",
       "      <td>0</td>\n",
       "    </tr>\n",
       "    <tr>\n",
       "      <th>14887</th>\n",
       "      <td>126039467</td>\n",
       "      <td>98177</td>\n",
       "      <td>700,000.00</td>\n",
       "      <td>676,773.63</td>\n",
       "      <td>3</td>\n",
       "      <td>0</td>\n",
       "    </tr>\n",
       "    <tr>\n",
       "      <th>19961</th>\n",
       "      <td>9834200885</td>\n",
       "      <td>98144</td>\n",
       "      <td>550,000.00</td>\n",
       "      <td>595,971.85</td>\n",
       "      <td>5</td>\n",
       "      <td>1</td>\n",
       "    </tr>\n",
       "  </tbody>\n",
       "</table>\n",
       "</div>"
      ],
      "text/plain": [
       "               id  zipcode  buying_price  mean_price_zipcode  condition  decision\n",
       "9966   4364700990    98126    335,000.00          426,087.71          3         1\n",
       "20994  4027701265    98028    480,000.00          463,071.91          3         0\n",
       "434    9276200569    98116    769,900.00          619,414.47          3         0\n",
       "14887   126039467    98177    700,000.00          676,773.63          3         0\n",
       "19961  9834200885    98144    550,000.00          595,971.85          5         1"
      ]
     },
     "execution_count": 25,
     "metadata": {},
     "output_type": "execute_result"
    }
   ],
   "source": [
    "# decision: to buy x not to buy\n",
    "\n",
    "df3['decision'] = df3[['buying_price', 'mean_price_zipcode', 'condition']].apply(lambda x: 0 if (x['buying_price'] > x['mean_price_zipcode']) \n",
    "                                                                                      else 1 if ((x['buying_price'] <= x['mean_price_zipcode']) & (x['condition']>=3))\n",
    "                                                                                      else 2, axis=1) \n",
    "                                                                        \n",
    "                                                             \n",
    "df3[['id', 'zipcode', 'buying_price', 'mean_price_zipcode', 'condition', 'decision']].sample(5)"
   ]
  },
  {
   "cell_type": "code",
   "execution_count": 26,
   "id": "democratic-maria",
   "metadata": {
    "ExecuteTime": {
     "end_time": "2021-07-03T17:04:53.380010Z",
     "start_time": "2021-07-03T17:04:53.045706Z"
    },
    "code_folding": [],
    "hidden": true
   },
   "outputs": [
    {
     "data": {
      "text/html": [
       "<div>\n",
       "<style scoped>\n",
       "    .dataframe tbody tr th:only-of-type {\n",
       "        vertical-align: middle;\n",
       "    }\n",
       "\n",
       "    .dataframe tbody tr th {\n",
       "        vertical-align: top;\n",
       "    }\n",
       "\n",
       "    .dataframe thead th {\n",
       "        text-align: right;\n",
       "    }\n",
       "</style>\n",
       "<table border=\"1\" class=\"dataframe\">\n",
       "  <thead>\n",
       "    <tr style=\"text-align: right;\">\n",
       "      <th></th>\n",
       "      <th>id</th>\n",
       "      <th>zipcode</th>\n",
       "      <th>buying_price</th>\n",
       "      <th>mean_price_zipcode</th>\n",
       "      <th>condition</th>\n",
       "      <th>decision</th>\n",
       "      <th>selling_price_suggestion</th>\n",
       "    </tr>\n",
       "  </thead>\n",
       "  <tbody>\n",
       "    <tr>\n",
       "      <th>4732</th>\n",
       "      <td>9429500146</td>\n",
       "      <td>98027</td>\n",
       "      <td>580,000.00</td>\n",
       "      <td>616,990.59</td>\n",
       "      <td>2</td>\n",
       "      <td>2</td>\n",
       "      <td>638,000.00</td>\n",
       "    </tr>\n",
       "    <tr>\n",
       "      <th>15222</th>\n",
       "      <td>9828701745</td>\n",
       "      <td>98112</td>\n",
       "      <td>480,000.00</td>\n",
       "      <td>1,095,889.68</td>\n",
       "      <td>2</td>\n",
       "      <td>2</td>\n",
       "      <td>528,000.00</td>\n",
       "    </tr>\n",
       "    <tr>\n",
       "      <th>17957</th>\n",
       "      <td>2023049361</td>\n",
       "      <td>98148</td>\n",
       "      <td>246,500.00</td>\n",
       "      <td>290,864.74</td>\n",
       "      <td>2</td>\n",
       "      <td>2</td>\n",
       "      <td>271,150.00</td>\n",
       "    </tr>\n",
       "    <tr>\n",
       "      <th>21394</th>\n",
       "      <td>293000180</td>\n",
       "      <td>98126</td>\n",
       "      <td>370,000.00</td>\n",
       "      <td>426,087.71</td>\n",
       "      <td>2</td>\n",
       "      <td>2</td>\n",
       "      <td>407,000.00</td>\n",
       "    </tr>\n",
       "    <tr>\n",
       "      <th>13118</th>\n",
       "      <td>5560000650</td>\n",
       "      <td>98023</td>\n",
       "      <td>135,000.00</td>\n",
       "      <td>287,736.99</td>\n",
       "      <td>2</td>\n",
       "      <td>2</td>\n",
       "      <td>148,500.00</td>\n",
       "    </tr>\n",
       "  </tbody>\n",
       "</table>\n",
       "</div>"
      ],
      "text/plain": [
       "               id  zipcode  buying_price  mean_price_zipcode  condition  decision  selling_price_suggestion\n",
       "4732   9429500146    98027    580,000.00          616,990.59          2         2                638,000.00\n",
       "15222  9828701745    98112    480,000.00        1,095,889.68          2         2                528,000.00\n",
       "17957  2023049361    98148    246,500.00          290,864.74          2         2                271,150.00\n",
       "21394   293000180    98126    370,000.00          426,087.71          2         2                407,000.00\n",
       "13118  5560000650    98023    135,000.00          287,736.99          2         2                148,500.00"
      ]
     },
     "execution_count": 26,
     "metadata": {},
     "output_type": "execute_result"
    }
   ],
   "source": [
    "# selling price suggestion\n",
    "\n",
    "df3['selling_price_suggestion'] = df3[['buying_price', 'mean_price_zipcode', 'condition']].apply(lambda x: 0 if (x['buying_price'] > x['mean_price_zipcode']) \n",
    "                                                                                                            else x['buying_price']*1.3 if ((x['buying_price'] <= x['mean_price_zipcode']) & (x['condition']>=3))\n",
    "                                                                                                            else x['buying_price']*1.1, axis=1) \n",
    "\n",
    "df3[df3['condition']==2][['id', 'zipcode', 'buying_price', 'mean_price_zipcode', 'condition', 'decision', 'selling_price_suggestion']].sample(5)"
   ]
  },
  {
   "cell_type": "code",
   "execution_count": 27,
   "id": "simplified-height",
   "metadata": {
    "ExecuteTime": {
     "end_time": "2021-07-03T17:04:53.618732Z",
     "start_time": "2021-07-03T17:04:53.381011Z"
    },
    "code_folding": [],
    "hidden": true
   },
   "outputs": [
    {
     "data": {
      "text/html": [
       "<div>\n",
       "<style scoped>\n",
       "    .dataframe tbody tr th:only-of-type {\n",
       "        vertical-align: middle;\n",
       "    }\n",
       "\n",
       "    .dataframe tbody tr th {\n",
       "        vertical-align: top;\n",
       "    }\n",
       "\n",
       "    .dataframe thead th {\n",
       "        text-align: right;\n",
       "    }\n",
       "</style>\n",
       "<table border=\"1\" class=\"dataframe\">\n",
       "  <thead>\n",
       "    <tr style=\"text-align: right;\">\n",
       "      <th></th>\n",
       "      <th>id</th>\n",
       "      <th>zipcode</th>\n",
       "      <th>buying_price</th>\n",
       "      <th>mean_price_zipcode</th>\n",
       "      <th>condition</th>\n",
       "      <th>decision</th>\n",
       "      <th>selling_price_suggestion</th>\n",
       "      <th>expected_profit</th>\n",
       "    </tr>\n",
       "  </thead>\n",
       "  <tbody>\n",
       "    <tr>\n",
       "      <th>18331</th>\n",
       "      <td>662440030</td>\n",
       "      <td>98038</td>\n",
       "      <td>435,000.00</td>\n",
       "      <td>367,481.98</td>\n",
       "      <td>3</td>\n",
       "      <td>0</td>\n",
       "      <td>0.00</td>\n",
       "      <td>0.00</td>\n",
       "    </tr>\n",
       "    <tr>\n",
       "      <th>18807</th>\n",
       "      <td>4047200850</td>\n",
       "      <td>98019</td>\n",
       "      <td>387,000.00</td>\n",
       "      <td>424,788.75</td>\n",
       "      <td>3</td>\n",
       "      <td>1</td>\n",
       "      <td>503,100.00</td>\n",
       "      <td>116,100.00</td>\n",
       "    </tr>\n",
       "    <tr>\n",
       "      <th>12899</th>\n",
       "      <td>7955050250</td>\n",
       "      <td>98034</td>\n",
       "      <td>442,500.00</td>\n",
       "      <td>522,712.31</td>\n",
       "      <td>4</td>\n",
       "      <td>1</td>\n",
       "      <td>575,250.00</td>\n",
       "      <td>132,750.00</td>\n",
       "    </tr>\n",
       "    <tr>\n",
       "      <th>16222</th>\n",
       "      <td>4222500020</td>\n",
       "      <td>98003</td>\n",
       "      <td>256,400.00</td>\n",
       "      <td>295,675.12</td>\n",
       "      <td>3</td>\n",
       "      <td>1</td>\n",
       "      <td>333,320.00</td>\n",
       "      <td>76,920.00</td>\n",
       "    </tr>\n",
       "    <tr>\n",
       "      <th>21359</th>\n",
       "      <td>2407900550</td>\n",
       "      <td>98059</td>\n",
       "      <td>448,000.00</td>\n",
       "      <td>494,240.46</td>\n",
       "      <td>3</td>\n",
       "      <td>1</td>\n",
       "      <td>582,400.00</td>\n",
       "      <td>134,400.00</td>\n",
       "    </tr>\n",
       "  </tbody>\n",
       "</table>\n",
       "</div>"
      ],
      "text/plain": [
       "               id  zipcode  buying_price  mean_price_zipcode  condition  decision  selling_price_suggestion  expected_profit\n",
       "18331   662440030    98038    435,000.00          367,481.98          3         0                      0.00             0.00\n",
       "18807  4047200850    98019    387,000.00          424,788.75          3         1                503,100.00       116,100.00\n",
       "12899  7955050250    98034    442,500.00          522,712.31          4         1                575,250.00       132,750.00\n",
       "16222  4222500020    98003    256,400.00          295,675.12          3         1                333,320.00        76,920.00\n",
       "21359  2407900550    98059    448,000.00          494,240.46          3         1                582,400.00       134,400.00"
      ]
     },
     "execution_count": 27,
     "metadata": {},
     "output_type": "execute_result"
    }
   ],
   "source": [
    "# expected profit\n",
    "\n",
    "df3['expected_profit'] = df3[['buying_price', 'selling_price_suggestion']].apply(lambda x: 0 if x['selling_price_suggestion']==0\n",
    "                                                                                        else (x['selling_price_suggestion'] - x['buying_price']), axis=1) \n",
    "\n",
    "df3[['id', 'zipcode', 'buying_price', 'mean_price_zipcode', 'condition', 'decision', 'selling_price_suggestion', 'expected_profit']].sample(5)"
   ]
  },
  {
   "cell_type": "code",
   "execution_count": 28,
   "id": "confident-converter",
   "metadata": {
    "ExecuteTime": {
     "end_time": "2021-07-03T17:05:01.342127Z",
     "start_time": "2021-07-03T17:04:53.619732Z"
    },
    "code_folding": [],
    "hidden": true
   },
   "outputs": [
    {
     "data": {
      "text/html": [
       "<div>\n",
       "<style scoped>\n",
       "    .dataframe tbody tr th:only-of-type {\n",
       "        vertical-align: middle;\n",
       "    }\n",
       "\n",
       "    .dataframe tbody tr th {\n",
       "        vertical-align: top;\n",
       "    }\n",
       "\n",
       "    .dataframe thead th {\n",
       "        text-align: right;\n",
       "    }\n",
       "</style>\n",
       "<table border=\"1\" class=\"dataframe\">\n",
       "  <thead>\n",
       "    <tr style=\"text-align: right;\">\n",
       "      <th></th>\n",
       "      <th>date</th>\n",
       "      <th>season</th>\n",
       "    </tr>\n",
       "  </thead>\n",
       "  <tbody>\n",
       "    <tr>\n",
       "      <th>0</th>\n",
       "      <td>2014-05-02</td>\n",
       "      <td>spring</td>\n",
       "    </tr>\n",
       "    <tr>\n",
       "      <th>1</th>\n",
       "      <td>2014-05-02</td>\n",
       "      <td>spring</td>\n",
       "    </tr>\n",
       "    <tr>\n",
       "      <th>2</th>\n",
       "      <td>2014-05-02</td>\n",
       "      <td>spring</td>\n",
       "    </tr>\n",
       "    <tr>\n",
       "      <th>3</th>\n",
       "      <td>2014-05-02</td>\n",
       "      <td>spring</td>\n",
       "    </tr>\n",
       "    <tr>\n",
       "      <th>4</th>\n",
       "      <td>2014-05-02</td>\n",
       "      <td>spring</td>\n",
       "    </tr>\n",
       "  </tbody>\n",
       "</table>\n",
       "</div>"
      ],
      "text/plain": [
       "        date  season\n",
       "0 2014-05-02  spring\n",
       "1 2014-05-02  spring\n",
       "2 2014-05-02  spring\n",
       "3 2014-05-02  spring\n",
       "4 2014-05-02  spring"
      ]
     },
     "execution_count": 28,
     "metadata": {},
     "output_type": "execute_result"
    }
   ],
   "source": [
    "# seasons of the year\n",
    "\n",
    "def season_from_date(date):\n",
    "    year = str(date.year)\n",
    "    seasons = {'spring': pd.date_range(start='21/03/'+year, end='20/06/'+year),\n",
    "               'summer': pd.date_range(start='21/06/'+year, end='22/09/'+year),\n",
    "               'autumn': pd.date_range(start='23/09/'+year, end='20/12/'+year)}\n",
    "    if date in seasons['spring']:\n",
    "        return 'spring'\n",
    "    if date in seasons['summer']:\n",
    "        return 'summer'\n",
    "    if date in seasons['autumn']:\n",
    "        return 'autumn'\n",
    "    else:\n",
    "        return 'winter'\n",
    "\n",
    "df3['season'] = df3['date'].map(season_from_date)\n",
    "df3[['date','season']].head()"
   ]
  },
  {
   "cell_type": "code",
   "execution_count": 29,
   "id": "failing-suggestion",
   "metadata": {
    "ExecuteTime": {
     "end_time": "2021-07-03T17:05:01.388169Z",
     "start_time": "2021-07-03T17:05:01.343128Z"
    },
    "hidden": true
   },
   "outputs": [
    {
     "data": {
      "text/html": [
       "<div>\n",
       "<style scoped>\n",
       "    .dataframe tbody tr th:only-of-type {\n",
       "        vertical-align: middle;\n",
       "    }\n",
       "\n",
       "    .dataframe tbody tr th {\n",
       "        vertical-align: top;\n",
       "    }\n",
       "\n",
       "    .dataframe thead th {\n",
       "        text-align: right;\n",
       "    }\n",
       "</style>\n",
       "<table border=\"1\" class=\"dataframe\">\n",
       "  <thead>\n",
       "    <tr style=\"text-align: right;\">\n",
       "      <th></th>\n",
       "      <th>id</th>\n",
       "      <th>buying_price</th>\n",
       "      <th>zipcode</th>\n",
       "      <th>mean_price_zipcode</th>\n",
       "      <th>avg_autumn</th>\n",
       "      <th>avg_spring</th>\n",
       "      <th>avg_summer</th>\n",
       "      <th>avg_winter</th>\n",
       "    </tr>\n",
       "  </thead>\n",
       "  <tbody>\n",
       "    <tr>\n",
       "      <th>9084</th>\n",
       "      <td>117000003</td>\n",
       "      <td>595,000.00</td>\n",
       "      <td>98116</td>\n",
       "      <td>619,414.47</td>\n",
       "      <td>604,196.44</td>\n",
       "      <td>633,032.53</td>\n",
       "      <td>603,016.51</td>\n",
       "      <td>647,132.39</td>\n",
       "    </tr>\n",
       "    <tr>\n",
       "      <th>19699</th>\n",
       "      <td>1565900390</td>\n",
       "      <td>272,000.00</td>\n",
       "      <td>98022</td>\n",
       "      <td>315,709.30</td>\n",
       "      <td>308,808.81</td>\n",
       "      <td>347,983.31</td>\n",
       "      <td>310,109.72</td>\n",
       "      <td>299,064.15</td>\n",
       "    </tr>\n",
       "    <tr>\n",
       "      <th>4425</th>\n",
       "      <td>9558040820</td>\n",
       "      <td>570,000.00</td>\n",
       "      <td>98058</td>\n",
       "      <td>354,282.65</td>\n",
       "      <td>344,612.87</td>\n",
       "      <td>345,035.54</td>\n",
       "      <td>378,516.77</td>\n",
       "      <td>348,997.67</td>\n",
       "    </tr>\n",
       "    <tr>\n",
       "      <th>4338</th>\n",
       "      <td>3342104046</td>\n",
       "      <td>1,570,000.00</td>\n",
       "      <td>98056</td>\n",
       "      <td>421,246.46</td>\n",
       "      <td>406,768.07</td>\n",
       "      <td>425,017.95</td>\n",
       "      <td>436,918.42</td>\n",
       "      <td>410,360.39</td>\n",
       "    </tr>\n",
       "    <tr>\n",
       "      <th>10278</th>\n",
       "      <td>3797700030</td>\n",
       "      <td>262,500.00</td>\n",
       "      <td>98031</td>\n",
       "      <td>300,981.06</td>\n",
       "      <td>308,998.49</td>\n",
       "      <td>305,085.42</td>\n",
       "      <td>291,153.90</td>\n",
       "      <td>298,603.70</td>\n",
       "    </tr>\n",
       "  </tbody>\n",
       "</table>\n",
       "</div>"
      ],
      "text/plain": [
       "               id  buying_price  zipcode  mean_price_zipcode  avg_autumn  avg_spring  avg_summer  avg_winter\n",
       "9084    117000003    595,000.00    98116          619,414.47  604,196.44  633,032.53  603,016.51  647,132.39\n",
       "19699  1565900390    272,000.00    98022          315,709.30  308,808.81  347,983.31  310,109.72  299,064.15\n",
       "4425   9558040820    570,000.00    98058          354,282.65  344,612.87  345,035.54  378,516.77  348,997.67\n",
       "4338   3342104046  1,570,000.00    98056          421,246.46  406,768.07  425,017.95  436,918.42  410,360.39\n",
       "10278  3797700030    262,500.00    98031          300,981.06  308,998.49  305,085.42  291,153.90  298,603.70"
      ]
     },
     "execution_count": 29,
     "metadata": {},
     "output_type": "execute_result"
    }
   ],
   "source": [
    "# mean buyimng price by zipcode and season\n",
    "\n",
    "# grouping by zipcode and mean price by season\n",
    "a = df3[['buying_price','zipcode','season']].groupby(['zipcode', 'season']).mean().reset_index()\n",
    "a.head(10)\n",
    "\n",
    "b = a.pivot(index='zipcode', columns='season', values='buying_price').reset_index()\n",
    "b = b.rename(columns={'autumn':'avg_autumn', 'spring':'avg_spring', 'summer':'avg_summer', 'winter':'avg_winter'})\n",
    "b.head()\n",
    "\n",
    "# merging with df3\n",
    "df3 = pd.merge(df3, b, on='zipcode', how='left')\n",
    "df3.head()\n",
    "\n",
    "# sample\n",
    "df3[['id', 'buying_price', 'zipcode', 'mean_price_zipcode', 'avg_autumn', 'avg_spring', 'avg_summer', 'avg_winter']].sample(5)"
   ]
  },
  {
   "cell_type": "code",
   "execution_count": 30,
   "id": "resident-albania",
   "metadata": {
    "ExecuteTime": {
     "end_time": "2021-07-03T17:05:25.695466Z",
     "start_time": "2021-07-03T17:05:01.389170Z"
    },
    "hidden": true
   },
   "outputs": [
    {
     "data": {
      "text/html": [
       "<div>\n",
       "<style scoped>\n",
       "    .dataframe tbody tr th:only-of-type {\n",
       "        vertical-align: middle;\n",
       "    }\n",
       "\n",
       "    .dataframe tbody tr th {\n",
       "        vertical-align: top;\n",
       "    }\n",
       "\n",
       "    .dataframe thead th {\n",
       "        text-align: right;\n",
       "    }\n",
       "</style>\n",
       "<table border=\"1\" class=\"dataframe\">\n",
       "  <thead>\n",
       "    <tr style=\"text-align: right;\">\n",
       "      <th></th>\n",
       "      <th>id</th>\n",
       "      <th>buying_price</th>\n",
       "      <th>zipcode</th>\n",
       "      <th>mean_price_zipcode</th>\n",
       "      <th>avg_autumn</th>\n",
       "      <th>avg_spring</th>\n",
       "      <th>avg_summer</th>\n",
       "      <th>avg_winter</th>\n",
       "      <th>season_to_sell</th>\n",
       "    </tr>\n",
       "  </thead>\n",
       "  <tbody>\n",
       "    <tr>\n",
       "      <th>0</th>\n",
       "      <td>5561000190</td>\n",
       "      <td>437,500.00</td>\n",
       "      <td>98027</td>\n",
       "      <td>616,990.59</td>\n",
       "      <td>631,497.71</td>\n",
       "      <td>613,420.82</td>\n",
       "      <td>608,904.43</td>\n",
       "      <td>623,785.14</td>\n",
       "      <td>autumn spring summer winter</td>\n",
       "    </tr>\n",
       "    <tr>\n",
       "      <th>1</th>\n",
       "      <td>472000620</td>\n",
       "      <td>790,000.00</td>\n",
       "      <td>98117</td>\n",
       "      <td>579,661.28</td>\n",
       "      <td>575,740.35</td>\n",
       "      <td>584,602.77</td>\n",
       "      <td>574,993.72</td>\n",
       "      <td>584,246.12</td>\n",
       "      <td></td>\n",
       "    </tr>\n",
       "    <tr>\n",
       "      <th>2</th>\n",
       "      <td>1024069009</td>\n",
       "      <td>675,000.00</td>\n",
       "      <td>98029</td>\n",
       "      <td>612,678.53</td>\n",
       "      <td>629,022.99</td>\n",
       "      <td>616,385.24</td>\n",
       "      <td>604,166.38</td>\n",
       "      <td>601,487.24</td>\n",
       "      <td></td>\n",
       "    </tr>\n",
       "    <tr>\n",
       "      <th>3</th>\n",
       "      <td>7853361370</td>\n",
       "      <td>555,000.00</td>\n",
       "      <td>98065</td>\n",
       "      <td>529,982.49</td>\n",
       "      <td>494,424.02</td>\n",
       "      <td>543,128.63</td>\n",
       "      <td>514,038.45</td>\n",
       "      <td>559,698.58</td>\n",
       "      <td>winter</td>\n",
       "    </tr>\n",
       "    <tr>\n",
       "      <th>4</th>\n",
       "      <td>5056500260</td>\n",
       "      <td>440,000.00</td>\n",
       "      <td>98006</td>\n",
       "      <td>860,973.78</td>\n",
       "      <td>866,143.48</td>\n",
       "      <td>898,040.11</td>\n",
       "      <td>816,379.06</td>\n",
       "      <td>875,792.12</td>\n",
       "      <td>autumn spring summer winter</td>\n",
       "    </tr>\n",
       "  </tbody>\n",
       "</table>\n",
       "</div>"
      ],
      "text/plain": [
       "           id  buying_price  zipcode  mean_price_zipcode  avg_autumn  avg_spring  avg_summer  avg_winter                season_to_sell\n",
       "0  5561000190    437,500.00    98027          616,990.59  631,497.71  613,420.82  608,904.43  623,785.14  autumn spring summer winter \n",
       "1   472000620    790,000.00    98117          579,661.28  575,740.35  584,602.77  574,993.72  584,246.12                              \n",
       "2  1024069009    675,000.00    98029          612,678.53  629,022.99  616,385.24  604,166.38  601,487.24                              \n",
       "3  7853361370    555,000.00    98065          529,982.49  494,424.02  543,128.63  514,038.45  559,698.58                       winter \n",
       "4  5056500260    440,000.00    98006          860,973.78  866,143.48  898,040.11  816,379.06  875,792.12  autumn spring summer winter "
      ]
     },
     "execution_count": 30,
     "metadata": {},
     "output_type": "execute_result"
    }
   ],
   "source": [
    "# best season to sell\n",
    "\n",
    "df3['season_to_sell'] = ''\n",
    "\n",
    "# defining best season to sell accorgding to avg price for each season\n",
    "for i in range (df3.shape[0]):\n",
    "    cols = ['avg_autumn', 'avg_spring', 'avg_summer', 'avg_winter']\n",
    "    if df3.loc[i, cols[0]] >= df3.loc[i,'buying_price']:\n",
    "        df3.loc[i, 'season_to_sell'] = df3.loc[i, 'season_to_sell'] + 'autumn '\n",
    "    if df3.loc[i, cols[1]] >= df3.loc[i,'buying_price']:\n",
    "        df3.loc[i, 'season_to_sell'] = df3.loc[i, 'season_to_sell'] + 'spring '\n",
    "    if df3.loc[i, cols[2]] >= df3.loc[i,'buying_price']:\n",
    "        df3.loc[i, 'season_to_sell'] = df3.loc[i, 'season_to_sell'] + 'summer '\n",
    "    if df3.loc[i, cols[3]] >= df3.loc[i,'buying_price']:\n",
    "        df3.loc[i, 'season_to_sell'] = df3.loc[i, 'season_to_sell'] + 'winter '\n",
    "        \n",
    "df3[['id', 'buying_price', 'zipcode', 'mean_price_zipcode', 'avg_autumn', 'avg_spring', 'avg_summer', 'avg_winter', 'season_to_sell']].head()"
   ]
  },
  {
   "cell_type": "markdown",
   "id": "wrong-walker",
   "metadata": {},
   "source": [
    "# <font color ='red'>EDA"
   ]
  },
  {
   "cell_type": "code",
   "execution_count": 47,
   "id": "casual-still",
   "metadata": {
    "ExecuteTime": {
     "end_time": "2021-07-03T17:13:33.805641Z",
     "start_time": "2021-07-03T17:13:33.791629Z"
    }
   },
   "outputs": [],
   "source": [
    "df4=df3.copy()"
   ]
  },
  {
   "cell_type": "code",
   "execution_count": 48,
   "id": "piano-niagara",
   "metadata": {
    "ExecuteTime": {
     "end_time": "2021-07-03T17:13:34.134941Z",
     "start_time": "2021-07-03T17:13:34.120928Z"
    }
   },
   "outputs": [],
   "source": [
    "num_df4 = df4.select_dtypes(include=['int64','float64'])\n",
    "cat_df4 = df4.select_dtypes(exclude=['int64','float64','datetime64[ns]'])"
   ]
  },
  {
   "cell_type": "markdown",
   "id": "paperback-halloween",
   "metadata": {
    "heading_collapsed": true
   },
   "source": [
    "## <font color ='red'>Univariate Analysis\n",
    "    "
   ]
  },
  {
   "cell_type": "markdown",
   "id": "otherwise-effectiveness",
   "metadata": {
    "heading_collapsed": true,
    "hidden": true
   },
   "source": [
    "### <font color ='red'> Response Variable (gráfico de sobreposto)"
   ]
  },
  {
   "cell_type": "code",
   "execution_count": 49,
   "id": "pointed-sailing",
   "metadata": {
    "ExecuteTime": {
     "end_time": "2021-07-03T17:13:34.882621Z",
     "start_time": "2021-07-03T17:13:34.861602Z"
    },
    "cell_style": "split",
    "hidden": true
   },
   "outputs": [
    {
     "data": {
      "text/html": [
       "<div>\n",
       "<style scoped>\n",
       "    .dataframe tbody tr th:only-of-type {\n",
       "        vertical-align: middle;\n",
       "    }\n",
       "\n",
       "    .dataframe tbody tr th {\n",
       "        vertical-align: top;\n",
       "    }\n",
       "\n",
       "    .dataframe thead th {\n",
       "        text-align: right;\n",
       "    }\n",
       "</style>\n",
       "<table border=\"1\" class=\"dataframe\">\n",
       "  <thead>\n",
       "    <tr style=\"text-align: right;\">\n",
       "      <th></th>\n",
       "      <th>id</th>\n",
       "      <th>expected_profit</th>\n",
       "      <th>expected_profit_binned</th>\n",
       "    </tr>\n",
       "  </thead>\n",
       "  <tbody>\n",
       "    <tr>\n",
       "      <th>0</th>\n",
       "      <td>5561000190</td>\n",
       "      <td>131,250.00</td>\n",
       "      <td>(130000, 135000]</td>\n",
       "    </tr>\n",
       "    <tr>\n",
       "      <th>4</th>\n",
       "      <td>5056500260</td>\n",
       "      <td>132,000.00</td>\n",
       "      <td>(130000, 135000]</td>\n",
       "    </tr>\n",
       "    <tr>\n",
       "      <th>5</th>\n",
       "      <td>3438501320</td>\n",
       "      <td>88,500.00</td>\n",
       "      <td>(85000, 90000]</td>\n",
       "    </tr>\n",
       "    <tr>\n",
       "      <th>6</th>\n",
       "      <td>1737320120</td>\n",
       "      <td>141,000.00</td>\n",
       "      <td>(140000, 145000]</td>\n",
       "    </tr>\n",
       "    <tr>\n",
       "      <th>7</th>\n",
       "      <td>7197300105</td>\n",
       "      <td>165,000.00</td>\n",
       "      <td>(160000, 165000]</td>\n",
       "    </tr>\n",
       "  </tbody>\n",
       "</table>\n",
       "</div>"
      ],
      "text/plain": [
       "           id  expected_profit expected_profit_binned\n",
       "0  5561000190       131,250.00       (130000, 135000]\n",
       "4  5056500260       132,000.00       (130000, 135000]\n",
       "5  3438501320        88,500.00         (85000, 90000]\n",
       "6  1737320120       141,000.00       (140000, 145000]\n",
       "7  7197300105       165,000.00       (160000, 165000]"
      ]
     },
     "execution_count": 49,
     "metadata": {},
     "output_type": "execute_result"
    }
   ],
   "source": [
    "aux1 = df4[df4['expected_profit']!=0][['id', 'expected_profit']].copy()\n",
    "\n",
    "bin_groups = list(np.arange(0,635000,5000)) # maximum profit = 630,000.00\n",
    "aux1['expected_profit_binned'] = pd.cut(aux1['expected_profit'], bins=bin_groups)\n",
    "\n",
    "aux1.head()"
   ]
  },
  {
   "cell_type": "code",
   "execution_count": 50,
   "id": "nominated-motor",
   "metadata": {
    "ExecuteTime": {
     "end_time": "2021-07-03T17:13:35.042767Z",
     "start_time": "2021-07-03T17:13:35.016743Z"
    },
    "cell_style": "split",
    "hidden": true
   },
   "outputs": [
    {
     "data": {
      "text/html": [
       "<div>\n",
       "<style scoped>\n",
       "    .dataframe tbody tr th:only-of-type {\n",
       "        vertical-align: middle;\n",
       "    }\n",
       "\n",
       "    .dataframe tbody tr th {\n",
       "        vertical-align: top;\n",
       "    }\n",
       "\n",
       "    .dataframe thead th {\n",
       "        text-align: right;\n",
       "    }\n",
       "</style>\n",
       "<table border=\"1\" class=\"dataframe\">\n",
       "  <thead>\n",
       "    <tr style=\"text-align: right;\">\n",
       "      <th></th>\n",
       "      <th>expected_profit_binned</th>\n",
       "      <th>properties</th>\n",
       "      <th>expected_profit</th>\n",
       "    </tr>\n",
       "  </thead>\n",
       "  <tbody>\n",
       "    <tr>\n",
       "      <th>0</th>\n",
       "      <td>(0, 5000]</td>\n",
       "      <td>0</td>\n",
       "      <td>0.00</td>\n",
       "    </tr>\n",
       "    <tr>\n",
       "      <th>1</th>\n",
       "      <td>(5000, 10000]</td>\n",
       "      <td>6</td>\n",
       "      <td>51,550.00</td>\n",
       "    </tr>\n",
       "    <tr>\n",
       "      <th>2</th>\n",
       "      <td>(10000, 15000]</td>\n",
       "      <td>14</td>\n",
       "      <td>176,185.00</td>\n",
       "    </tr>\n",
       "    <tr>\n",
       "      <th>3</th>\n",
       "      <td>(15000, 20000]</td>\n",
       "      <td>33</td>\n",
       "      <td>573,611.50</td>\n",
       "    </tr>\n",
       "    <tr>\n",
       "      <th>4</th>\n",
       "      <td>(20000, 25000]</td>\n",
       "      <td>31</td>\n",
       "      <td>701,805.50</td>\n",
       "    </tr>\n",
       "  </tbody>\n",
       "</table>\n",
       "</div>"
      ],
      "text/plain": [
       "  expected_profit_binned  properties  expected_profit\n",
       "0              (0, 5000]           0             0.00\n",
       "1          (5000, 10000]           6        51,550.00\n",
       "2         (10000, 15000]          14       176,185.00\n",
       "3         (15000, 20000]          33       573,611.50\n",
       "4         (20000, 25000]          31       701,805.50"
      ]
     },
     "execution_count": 50,
     "metadata": {},
     "output_type": "execute_result"
    }
   ],
   "source": [
    "# grouping in bins the number of properties ('id_') and sum of 'expected_profit'\n",
    "a1 = ( aux1.groupby('expected_profit_binned').agg(properties      = ('id', 'count'),\n",
    "                                                  expected_profit = ('expected_profit', 'sum')) ).reset_index()\n",
    "\n",
    "\n",
    "a1.head()"
   ]
  },
  {
   "cell_type": "code",
   "execution_count": 51,
   "id": "roman-environment",
   "metadata": {
    "ExecuteTime": {
     "end_time": "2021-07-03T17:13:35.199910Z",
     "start_time": "2021-07-03T17:13:35.189901Z"
    },
    "cell_style": "split",
    "hidden": true
   },
   "outputs": [
    {
     "data": {
      "text/html": [
       "<div>\n",
       "<style scoped>\n",
       "    .dataframe tbody tr th:only-of-type {\n",
       "        vertical-align: middle;\n",
       "    }\n",
       "\n",
       "    .dataframe tbody tr th {\n",
       "        vertical-align: top;\n",
       "    }\n",
       "\n",
       "    .dataframe thead th {\n",
       "        text-align: right;\n",
       "    }\n",
       "</style>\n",
       "<table border=\"1\" class=\"dataframe\">\n",
       "  <thead>\n",
       "    <tr style=\"text-align: right;\">\n",
       "      <th></th>\n",
       "      <th>expected_profit_binned</th>\n",
       "      <th>properties</th>\n",
       "      <th>expected_profit</th>\n",
       "    </tr>\n",
       "  </thead>\n",
       "  <tbody>\n",
       "    <tr>\n",
       "      <th>16</th>\n",
       "      <td>(80000, 85000]</td>\n",
       "      <td>661</td>\n",
       "      <td>54,504,310.70</td>\n",
       "    </tr>\n",
       "    <tr>\n",
       "      <th>17</th>\n",
       "      <td>(85000, 90000]</td>\n",
       "      <td>655</td>\n",
       "      <td>57,557,274.90</td>\n",
       "    </tr>\n",
       "    <tr>\n",
       "      <th>14</th>\n",
       "      <td>(70000, 75000]</td>\n",
       "      <td>651</td>\n",
       "      <td>47,469,928.50</td>\n",
       "    </tr>\n",
       "    <tr>\n",
       "      <th>20</th>\n",
       "      <td>(100000, 105000]</td>\n",
       "      <td>582</td>\n",
       "      <td>59,907,629.10</td>\n",
       "    </tr>\n",
       "    <tr>\n",
       "      <th>15</th>\n",
       "      <td>(75000, 80000]</td>\n",
       "      <td>554</td>\n",
       "      <td>43,031,773.50</td>\n",
       "    </tr>\n",
       "  </tbody>\n",
       "</table>\n",
       "</div>"
      ],
      "text/plain": [
       "   expected_profit_binned  properties  expected_profit\n",
       "16         (80000, 85000]         661    54,504,310.70\n",
       "17         (85000, 90000]         655    57,557,274.90\n",
       "14         (70000, 75000]         651    47,469,928.50\n",
       "20       (100000, 105000]         582    59,907,629.10\n",
       "15         (75000, 80000]         554    43,031,773.50"
      ]
     },
     "execution_count": 51,
     "metadata": {},
     "output_type": "execute_result"
    }
   ],
   "source": [
    "# sorting by number of 'id_'\n",
    "a1.sort_values('properties', ascending=False).head()"
   ]
  },
  {
   "cell_type": "code",
   "execution_count": 52,
   "id": "administrative-action",
   "metadata": {
    "ExecuteTime": {
     "end_time": "2021-07-03T17:13:35.360056Z",
     "start_time": "2021-07-03T17:13:35.354050Z"
    },
    "cell_style": "split",
    "hidden": true
   },
   "outputs": [
    {
     "data": {
      "text/html": [
       "<div>\n",
       "<style scoped>\n",
       "    .dataframe tbody tr th:only-of-type {\n",
       "        vertical-align: middle;\n",
       "    }\n",
       "\n",
       "    .dataframe tbody tr th {\n",
       "        vertical-align: top;\n",
       "    }\n",
       "\n",
       "    .dataframe thead th {\n",
       "        text-align: right;\n",
       "    }\n",
       "</style>\n",
       "<table border=\"1\" class=\"dataframe\">\n",
       "  <thead>\n",
       "    <tr style=\"text-align: right;\">\n",
       "      <th></th>\n",
       "      <th>expected_profit_binned</th>\n",
       "      <th>properties</th>\n",
       "      <th>expected_profit</th>\n",
       "    </tr>\n",
       "  </thead>\n",
       "  <tbody>\n",
       "    <tr>\n",
       "      <th>26</th>\n",
       "      <td>(130000, 135000]</td>\n",
       "      <td>550</td>\n",
       "      <td>73,056,579.90</td>\n",
       "    </tr>\n",
       "    <tr>\n",
       "      <th>32</th>\n",
       "      <td>(160000, 165000]</td>\n",
       "      <td>418</td>\n",
       "      <td>68,165,804.10</td>\n",
       "    </tr>\n",
       "    <tr>\n",
       "      <th>29</th>\n",
       "      <td>(145000, 150000]</td>\n",
       "      <td>434</td>\n",
       "      <td>64,245,276.60</td>\n",
       "    </tr>\n",
       "    <tr>\n",
       "      <th>23</th>\n",
       "      <td>(115000, 120000]</td>\n",
       "      <td>536</td>\n",
       "      <td>63,248,474.10</td>\n",
       "    </tr>\n",
       "    <tr>\n",
       "      <th>20</th>\n",
       "      <td>(100000, 105000]</td>\n",
       "      <td>582</td>\n",
       "      <td>59,907,629.10</td>\n",
       "    </tr>\n",
       "  </tbody>\n",
       "</table>\n",
       "</div>"
      ],
      "text/plain": [
       "   expected_profit_binned  properties  expected_profit\n",
       "26       (130000, 135000]         550    73,056,579.90\n",
       "32       (160000, 165000]         418    68,165,804.10\n",
       "29       (145000, 150000]         434    64,245,276.60\n",
       "23       (115000, 120000]         536    63,248,474.10\n",
       "20       (100000, 105000]         582    59,907,629.10"
      ]
     },
     "execution_count": 52,
     "metadata": {},
     "output_type": "execute_result"
    }
   ],
   "source": [
    "# sorting by 'expected_profit'\n",
    "a1.sort_values('expected_profit', ascending=False).head()"
   ]
  },
  {
   "cell_type": "code",
   "execution_count": 53,
   "id": "established-pasta",
   "metadata": {
    "ExecuteTime": {
     "end_time": "2021-07-03T17:13:41.273058Z",
     "start_time": "2021-07-03T17:13:35.549227Z"
    },
    "cell_style": "split",
    "hidden": true
   },
   "outputs": [
    {
     "data": {
      "image/png": "[encoded data removed]",
      "text/plain": [
       "<Figure size 1440x1080 with 1 Axes>"
      ]
     },
     "metadata": {},
     "output_type": "display_data"
    }
   ],
   "source": [
    "# id_distribution\n",
    "sns.barplot(data=a1, x='expected_profit_binned', y='properties');\n",
    "plt.xticks(rotation=90);"
   ]
  },
  {
   "cell_type": "code",
   "execution_count": 54,
   "id": "royal-involvement",
   "metadata": {
    "ExecuteTime": {
     "end_time": "2021-07-03T17:13:46.809748Z",
     "start_time": "2021-07-03T17:13:41.274059Z"
    },
    "cell_style": "split",
    "hidden": true
   },
   "outputs": [
    {
     "data": {
      "image/png": "[encoded data removed]",
      "text/plain": [
       "<Figure size 1440x1080 with 1 Axes>"
      ]
     },
     "metadata": {},
     "output_type": "display_data"
    }
   ],
   "source": [
    "# profit_distribution\n",
    "sns.barplot(data=a1, x='expected_profit_binned', y='expected_profit');\n",
    "plt.xticks(rotation=90);"
   ]
  },
  {
   "cell_type": "markdown",
   "id": "mental-rehabilitation",
   "metadata": {
    "ExecuteTime": {
     "end_time": "2021-07-03T02:10:30.180449Z",
     "start_time": "2021-07-03T02:10:30.167438Z"
    },
    "hidden": true
   },
   "source": [
    "<font color = 'red '> # ======== comparision tests"
   ]
  },
  {
   "cell_type": "code",
   "execution_count": 55,
   "id": "greenhouse-export",
   "metadata": {
    "ExecuteTime": {
     "end_time": "2021-07-03T17:13:46.825763Z",
     "start_time": "2021-07-03T17:13:46.810749Z"
    },
    "hidden": true
   },
   "outputs": [
    {
     "ename": "SyntaxError",
     "evalue": "invalid syntax (<ipython-input-55-f06ecebac482>, line 1)",
     "output_type": "error",
     "traceback": [
      "\u001b[1;36m  File \u001b[1;32m\"<ipython-input-55-f06ecebac482>\"\u001b[1;36m, line \u001b[1;32m1\u001b[0m\n\u001b[1;33m    https://seaborn.pydata.org/generated/seaborn.lineplot.html\u001b[0m\n\u001b[1;37m          ^\u001b[0m\n\u001b[1;31mSyntaxError\u001b[0m\u001b[1;31m:\u001b[0m invalid syntax\n"
     ]
    }
   ],
   "source": [
    "https://seaborn.pydata.org/generated/seaborn.lineplot.html"
   ]
  },
  {
   "cell_type": "code",
   "execution_count": null,
   "id": "indirect-ladder",
   "metadata": {
    "ExecuteTime": {
     "end_time": "2021-07-03T17:13:46.826763Z",
     "start_time": "2021-07-03T17:13:36.345Z"
    },
    "hidden": true
   },
   "outputs": [],
   "source": [
    "https://seaborn.pydata.org/tutorial/axis_grids.html"
   ]
  },
  {
   "cell_type": "code",
   "execution_count": null,
   "id": "unauthorized-toilet",
   "metadata": {
    "ExecuteTime": {
     "end_time": "2021-07-03T17:13:46.827765Z",
     "start_time": "2021-07-03T17:13:36.595Z"
    },
    "hidden": true
   },
   "outputs": [],
   "source": [
    "plt.bar(range(len(df2)), df2.Range2.values, tick_label=df2.Range2.index.values)"
   ]
  },
  {
   "cell_type": "code",
   "execution_count": null,
   "id": "bigger-honor",
   "metadata": {
    "ExecuteTime": {
     "end_time": "2021-07-03T17:13:46.828767Z",
     "start_time": "2021-07-03T17:13:36.748Z"
    },
    "hidden": true
   },
   "outputs": [],
   "source": [
    "plt.bar(range(len(a1)), a1['properties'] , tick_label= a1['expected_profit_binned'].index.values)\n",
    "plt.xticks(rotation=90);"
   ]
  },
  {
   "cell_type": "code",
   "execution_count": null,
   "id": "rocky-atlanta",
   "metadata": {
    "ExecuteTime": {
     "end_time": "2021-07-03T17:13:46.829766Z",
     "start_time": "2021-07-03T17:13:36.916Z"
    },
    "hidden": true
   },
   "outputs": [],
   "source": [
    "sns.distplot(a1['expected_profit_binned'].values, a1['properties'])"
   ]
  },
  {
   "cell_type": "code",
   "execution_count": null,
   "id": "exempt-slovakia",
   "metadata": {
    "ExecuteTime": {
     "end_time": "2021-07-03T17:13:46.830767Z",
     "start_time": "2021-07-03T17:13:37.108Z"
    },
    "code_folding": [],
    "hidden": true
   },
   "outputs": [],
   "source": [
    "# comparision plot\n",
    "comparision, ax1 = plt.subplots()\n",
    "\n",
    "ax1.set_xlabel('expected profit binned')\n",
    "ax1.set_ylabel('number of properties')\n",
    "ax1.displot(a1['expected_profit_binned'], a1['properties'])\n",
    "ax1.tick_params(axis='y')\n",
    "\n",
    "ax2 = ax1.twinx()  # instantiate a second axes that shares the same x-axis\n",
    "\n",
    "ax2.set_ylabel('expected profit')  # we already handled the x-label with ax1\n",
    "ax2.histplot(a1['expected_profit_binned'], a1['expected_profit'])\n",
    "ax2.tick_params(axis='y')\n",
    "\n",
    "comparision.tight_layout()  # otherwise the right y-label is slightly clipped\n",
    "plt.show()"
   ]
  },
  {
   "cell_type": "code",
   "execution_count": null,
   "id": "electronic-robin",
   "metadata": {
    "ExecuteTime": {
     "end_time": "2021-07-03T17:13:46.830767Z",
     "start_time": "2021-07-03T17:13:37.309Z"
    },
    "cell_style": "split",
    "hidden": true,
    "scrolled": true
   },
   "outputs": [],
   "source": [
    "# filtering data for better plot visualization\n",
    "\n",
    "aux2 = df4[df4['expected_profit']!=0][['id', 'expected_profit']].copy()\n",
    "\n",
    "bin_groups = list(np.arange(0,305000,5000)) # maximum profit = 630,000.00\n",
    "aux2['expected_profit_binned'] = pd.cut(aux2['expected_profit'], bins=bin_groups)\n",
    "\n",
    "aux2.head()"
   ]
  },
  {
   "cell_type": "code",
   "execution_count": null,
   "id": "oriental-pearl",
   "metadata": {
    "ExecuteTime": {
     "end_time": "2021-07-03T17:13:46.831768Z",
     "start_time": "2021-07-03T17:13:37.515Z"
    },
    "cell_style": "split",
    "hidden": true
   },
   "outputs": [],
   "source": [
    "a2 = ( aux2.groupby('expected_profit_binned').agg(properties      = ('id', 'count'),\n",
    "                                                  expected_profit = ('expected_profit', 'sum')) ).reset_index()\n",
    "\n",
    "\n",
    "\n",
    "\n",
    "\n",
    "a2.head()"
   ]
  },
  {
   "cell_type": "code",
   "execution_count": null,
   "id": "unlikely-snapshot",
   "metadata": {
    "ExecuteTime": {
     "end_time": "2021-07-03T17:13:46.832769Z",
     "start_time": "2021-07-03T17:13:37.758Z"
    },
    "cell_style": "split",
    "hidden": true
   },
   "outputs": [],
   "source": [
    "a2.sort_values('properties', ascending=False).head()"
   ]
  },
  {
   "cell_type": "code",
   "execution_count": null,
   "id": "stainless-boundary",
   "metadata": {
    "ExecuteTime": {
     "end_time": "2021-07-03T17:13:46.832769Z",
     "start_time": "2021-07-03T17:13:37.940Z"
    },
    "cell_style": "split",
    "hidden": true
   },
   "outputs": [],
   "source": [
    "a2.sort_values('expected_profit', ascending=False).head()"
   ]
  },
  {
   "cell_type": "code",
   "execution_count": null,
   "id": "circular-province",
   "metadata": {
    "ExecuteTime": {
     "end_time": "2021-07-03T17:13:46.833770Z",
     "start_time": "2021-07-03T17:13:38.195Z"
    },
    "cell_style": "split",
    "hidden": true
   },
   "outputs": [],
   "source": [
    "# id_distribution\n",
    "sns.barplot(data=a2, x='expected_profit_binned', y='properties');\n",
    "plt.xticks(rotation=90);"
   ]
  },
  {
   "cell_type": "code",
   "execution_count": null,
   "id": "eight-international",
   "metadata": {
    "ExecuteTime": {
     "end_time": "2021-07-03T17:13:46.834771Z",
     "start_time": "2021-07-03T17:13:38.527Z"
    },
    "cell_style": "split",
    "hidden": true
   },
   "outputs": [],
   "source": [
    "# profit_distribution\n",
    "sns.barplot(data=a2, x='expected_profit_binned', y='expected_profit');\n",
    "plt.xticks(rotation=90);"
   ]
  },
  {
   "cell_type": "markdown",
   "id": "unable-vietnam",
   "metadata": {
    "heading_collapsed": true,
    "hidden": true
   },
   "source": [
    "### Numerical Variables"
   ]
  },
  {
   "cell_type": "code",
   "execution_count": null,
   "id": "exceptional-aquarium",
   "metadata": {
    "ExecuteTime": {
     "end_time": "2021-07-03T17:13:46.834771Z",
     "start_time": "2021-07-03T17:13:40.018Z"
    },
    "hidden": true
   },
   "outputs": [],
   "source": [
    "num_df4.hist(bins=20);\n",
    "sns.set_theme(style ='darkgrid', font_scale=1)"
   ]
  },
  {
   "cell_type": "markdown",
   "id": "gorgeous-vocabulary",
   "metadata": {
    "heading_collapsed": true,
    "hidden": true
   },
   "source": [
    "### Categorical Variables"
   ]
  },
  {
   "cell_type": "code",
   "execution_count": 62,
   "id": "built-blocking",
   "metadata": {
    "ExecuteTime": {
     "end_time": "2021-07-03T17:13:57.649774Z",
     "start_time": "2021-07-03T17:13:57.628754Z"
    },
    "hidden": true
   },
   "outputs": [
    {
     "name": "stdout",
     "output_type": "stream",
     "text": [
      "query             object\n",
      "road              object\n",
      "house_number      object\n",
      "neighbourhood     object\n",
      "city              object\n",
      "county            object\n",
      "state             object\n",
      "season            object\n",
      "season_to_sell    object\n",
      "dtype: object\n"
     ]
    },
    {
     "data": {
      "text/html": [
       "<div>\n",
       "<style scoped>\n",
       "    .dataframe tbody tr th:only-of-type {\n",
       "        vertical-align: middle;\n",
       "    }\n",
       "\n",
       "    .dataframe tbody tr th {\n",
       "        vertical-align: top;\n",
       "    }\n",
       "\n",
       "    .dataframe thead th {\n",
       "        text-align: right;\n",
       "    }\n",
       "</style>\n",
       "<table border=\"1\" class=\"dataframe\">\n",
       "  <thead>\n",
       "    <tr style=\"text-align: right;\">\n",
       "      <th></th>\n",
       "      <th>query</th>\n",
       "      <th>road</th>\n",
       "      <th>house_number</th>\n",
       "      <th>neighbourhood</th>\n",
       "      <th>city</th>\n",
       "      <th>county</th>\n",
       "      <th>state</th>\n",
       "      <th>season</th>\n",
       "      <th>season_to_sell</th>\n",
       "    </tr>\n",
       "  </thead>\n",
       "  <tbody>\n",
       "    <tr>\n",
       "      <th>0</th>\n",
       "      <td>47.4635,-121.991</td>\n",
       "      <td>Southeast 154th Street</td>\n",
       "      <td>26069</td>\n",
       "      <td>NaN</td>\n",
       "      <td>NaN</td>\n",
       "      <td>King County</td>\n",
       "      <td>Washington</td>\n",
       "      <td>spring</td>\n",
       "      <td>autumn spring summer winter</td>\n",
       "    </tr>\n",
       "    <tr>\n",
       "      <th>1</th>\n",
       "      <td>47.6833,-122.4</td>\n",
       "      <td>34th Avenue Northwest</td>\n",
       "      <td>7506</td>\n",
       "      <td>Sunset Hill</td>\n",
       "      <td>Seattle</td>\n",
       "      <td>King County</td>\n",
       "      <td>Washington</td>\n",
       "      <td>spring</td>\n",
       "      <td></td>\n",
       "    </tr>\n",
       "    <tr>\n",
       "      <th>2</th>\n",
       "      <td>47.5794,-122.025</td>\n",
       "      <td>Southeast 32nd Way</td>\n",
       "      <td>23601</td>\n",
       "      <td>NaN</td>\n",
       "      <td>NaN</td>\n",
       "      <td>King County</td>\n",
       "      <td>Washington</td>\n",
       "      <td>spring</td>\n",
       "      <td></td>\n",
       "    </tr>\n",
       "    <tr>\n",
       "      <th>3</th>\n",
       "      <td>47.515,-121.87</td>\n",
       "      <td>Southeast Terrace Street</td>\n",
       "      <td>35246</td>\n",
       "      <td>NaN</td>\n",
       "      <td>NaN</td>\n",
       "      <td>King County</td>\n",
       "      <td>Washington</td>\n",
       "      <td>spring</td>\n",
       "      <td>winter</td>\n",
       "    </tr>\n",
       "    <tr>\n",
       "      <th>4</th>\n",
       "      <td>47.5443,-122.177</td>\n",
       "      <td>Southeast 65th Street</td>\n",
       "      <td>12201</td>\n",
       "      <td>NaN</td>\n",
       "      <td>Bellevue</td>\n",
       "      <td>King County</td>\n",
       "      <td>Washington</td>\n",
       "      <td>spring</td>\n",
       "      <td>autumn spring summer winter</td>\n",
       "    </tr>\n",
       "  </tbody>\n",
       "</table>\n",
       "</div>"
      ],
      "text/plain": [
       "              query                      road house_number neighbourhood      city       county       state  season                season_to_sell\n",
       "0  47.4635,-121.991    Southeast 154th Street        26069           NaN       NaN  King County  Washington  spring  autumn spring summer winter \n",
       "1    47.6833,-122.4     34th Avenue Northwest         7506   Sunset Hill   Seattle  King County  Washington  spring                              \n",
       "2  47.5794,-122.025        Southeast 32nd Way        23601           NaN       NaN  King County  Washington  spring                              \n",
       "3    47.515,-121.87  Southeast Terrace Street        35246           NaN       NaN  King County  Washington  spring                       winter \n",
       "4  47.5443,-122.177     Southeast 65th Street        12201           NaN  Bellevue  King County  Washington  spring  autumn spring summer winter "
      ]
     },
     "execution_count": 62,
     "metadata": {},
     "output_type": "execute_result"
    }
   ],
   "source": [
    "df41 = df4.copy()\n",
    "print(cat_df4.dtypes)\n",
    "cat_df4.head()"
   ]
  },
  {
   "cell_type": "code",
   "execution_count": 63,
   "id": "permanent-effect",
   "metadata": {
    "ExecuteTime": {
     "end_time": "2021-07-03T17:13:58.413469Z",
     "start_time": "2021-07-03T17:13:58.397454Z"
    },
    "hidden": true
   },
   "outputs": [
    {
     "data": {
      "text/plain": [
       "query                 0\n",
       "road                219\n",
       "house_number       1264\n",
       "neighbourhood     14381\n",
       "city              12557\n",
       "county                0\n",
       "state                 0\n",
       "season                0\n",
       "season_to_sell        0\n",
       "dtype: int64"
      ]
     },
     "execution_count": 63,
     "metadata": {},
     "output_type": "execute_result"
    }
   ],
   "source": [
    "cat_df4.isna().sum()"
   ]
  },
  {
   "cell_type": "code",
   "execution_count": 64,
   "id": "fatty-prophet",
   "metadata": {
    "ExecuteTime": {
     "end_time": "2021-07-03T17:13:58.667700Z",
     "start_time": "2021-07-03T17:13:58.655689Z"
    },
    "hidden": true
   },
   "outputs": [
    {
     "data": {
      "text/html": [
       "<div>\n",
       "<style scoped>\n",
       "    .dataframe tbody tr th:only-of-type {\n",
       "        vertical-align: middle;\n",
       "    }\n",
       "\n",
       "    .dataframe tbody tr th {\n",
       "        vertical-align: top;\n",
       "    }\n",
       "\n",
       "    .dataframe thead th {\n",
       "        text-align: right;\n",
       "    }\n",
       "</style>\n",
       "<table border=\"1\" class=\"dataframe\">\n",
       "  <thead>\n",
       "    <tr style=\"text-align: right;\">\n",
       "      <th></th>\n",
       "      <th>id</th>\n",
       "      <th>zipcode</th>\n",
       "      <th>road</th>\n",
       "      <th>house_number</th>\n",
       "      <th>neighbourhood</th>\n",
       "      <th>city</th>\n",
       "      <th>county</th>\n",
       "      <th>state</th>\n",
       "    </tr>\n",
       "  </thead>\n",
       "  <tbody>\n",
       "    <tr>\n",
       "      <th>0</th>\n",
       "      <td>5561000190</td>\n",
       "      <td>98027</td>\n",
       "      <td>Southeast 154th Street</td>\n",
       "      <td>26069</td>\n",
       "      <td>NaN</td>\n",
       "      <td>NaN</td>\n",
       "      <td>King County</td>\n",
       "      <td>Washington</td>\n",
       "    </tr>\n",
       "    <tr>\n",
       "      <th>1</th>\n",
       "      <td>472000620</td>\n",
       "      <td>98117</td>\n",
       "      <td>34th Avenue Northwest</td>\n",
       "      <td>7506</td>\n",
       "      <td>Sunset Hill</td>\n",
       "      <td>Seattle</td>\n",
       "      <td>King County</td>\n",
       "      <td>Washington</td>\n",
       "    </tr>\n",
       "    <tr>\n",
       "      <th>2</th>\n",
       "      <td>1024069009</td>\n",
       "      <td>98029</td>\n",
       "      <td>Southeast 32nd Way</td>\n",
       "      <td>23601</td>\n",
       "      <td>NaN</td>\n",
       "      <td>NaN</td>\n",
       "      <td>King County</td>\n",
       "      <td>Washington</td>\n",
       "    </tr>\n",
       "    <tr>\n",
       "      <th>3</th>\n",
       "      <td>7853361370</td>\n",
       "      <td>98065</td>\n",
       "      <td>Southeast Terrace Street</td>\n",
       "      <td>35246</td>\n",
       "      <td>NaN</td>\n",
       "      <td>NaN</td>\n",
       "      <td>King County</td>\n",
       "      <td>Washington</td>\n",
       "    </tr>\n",
       "    <tr>\n",
       "      <th>4</th>\n",
       "      <td>5056500260</td>\n",
       "      <td>98006</td>\n",
       "      <td>Southeast 65th Street</td>\n",
       "      <td>12201</td>\n",
       "      <td>NaN</td>\n",
       "      <td>Bellevue</td>\n",
       "      <td>King County</td>\n",
       "      <td>Washington</td>\n",
       "    </tr>\n",
       "  </tbody>\n",
       "</table>\n",
       "</div>"
      ],
      "text/plain": [
       "           id  zipcode                      road house_number neighbourhood      city       county       state\n",
       "0  5561000190    98027    Southeast 154th Street        26069           NaN       NaN  King County  Washington\n",
       "1   472000620    98117     34th Avenue Northwest         7506   Sunset Hill   Seattle  King County  Washington\n",
       "2  1024069009    98029        Southeast 32nd Way        23601           NaN       NaN  King County  Washington\n",
       "3  7853361370    98065  Southeast Terrace Street        35246           NaN       NaN  King County  Washington\n",
       "4  5056500260    98006     Southeast 65th Street        12201           NaN  Bellevue  King County  Washington"
      ]
     },
     "execution_count": 64,
     "metadata": {},
     "output_type": "execute_result"
    }
   ],
   "source": [
    "address = df41[['id', 'zipcode', 'road', 'house_number', 'neighbourhood', 'city', 'county', 'state']].copy()\n",
    "address.head()"
   ]
  },
  {
   "cell_type": "markdown",
   "id": "actual-annex",
   "metadata": {
    "heading_collapsed": true,
    "hidden": true
   },
   "source": [
    "#### State"
   ]
  },
  {
   "cell_type": "code",
   "execution_count": 65,
   "id": "arctic-franklin",
   "metadata": {
    "ExecuteTime": {
     "end_time": "2021-07-03T17:13:59.128624Z",
     "start_time": "2021-07-03T17:13:59.111609Z"
    },
    "hidden": true
   },
   "outputs": [
    {
     "name": "stdout",
     "output_type": "stream",
     "text": [
      "unique: ['Washington']\n",
      "NA: 0\n"
     ]
    }
   ],
   "source": [
    "print('unique:', df41['state'].unique())\n",
    "print('NA:', df41['state'].isna().sum())"
   ]
  },
  {
   "cell_type": "markdown",
   "id": "minimal-gothic",
   "metadata": {
    "heading_collapsed": true,
    "hidden": true
   },
   "source": [
    "#### County"
   ]
  },
  {
   "cell_type": "code",
   "execution_count": 66,
   "id": "czech-saver",
   "metadata": {
    "ExecuteTime": {
     "end_time": "2021-07-03T17:13:59.591044Z",
     "start_time": "2021-07-03T17:13:59.523984Z"
    },
    "hidden": true
   },
   "outputs": [
    {
     "name": "stdout",
     "output_type": "stream",
     "text": [
      "unique: ['King County' 'Snohomish County' 'Pierce County']\n",
      "NA: 0\n"
     ]
    }
   ],
   "source": [
    "address = df41[['id', 'zipcode', 'road', 'house_number', 'neighbourhood', 'city', 'county', 'state']].copy()\n",
    "\n",
    "print('unique:', df41['county'].unique())\n",
    "print('NA:', df41['county'].isna().sum())"
   ]
  },
  {
   "cell_type": "code",
   "execution_count": 67,
   "id": "aerial-sigma",
   "metadata": {
    "ExecuteTime": {
     "end_time": "2021-07-03T17:13:59.718160Z",
     "start_time": "2021-07-03T17:13:59.702146Z"
    },
    "cell_style": "center",
    "hidden": true
   },
   "outputs": [
    {
     "data": {
      "text/html": [
       "<div>\n",
       "<style scoped>\n",
       "    .dataframe tbody tr th:only-of-type {\n",
       "        vertical-align: middle;\n",
       "    }\n",
       "\n",
       "    .dataframe tbody tr th {\n",
       "        vertical-align: top;\n",
       "    }\n",
       "\n",
       "    .dataframe thead th {\n",
       "        text-align: right;\n",
       "    }\n",
       "</style>\n",
       "<table border=\"1\" class=\"dataframe\">\n",
       "  <thead>\n",
       "    <tr style=\"text-align: right;\">\n",
       "      <th></th>\n",
       "      <th>county</th>\n",
       "      <th>id</th>\n",
       "    </tr>\n",
       "  </thead>\n",
       "  <tbody>\n",
       "    <tr>\n",
       "      <th>0</th>\n",
       "      <td>King County</td>\n",
       "      <td>21581</td>\n",
       "    </tr>\n",
       "    <tr>\n",
       "      <th>1</th>\n",
       "      <td>Pierce County</td>\n",
       "      <td>15</td>\n",
       "    </tr>\n",
       "    <tr>\n",
       "      <th>2</th>\n",
       "      <td>Snohomish County</td>\n",
       "      <td>2</td>\n",
       "    </tr>\n",
       "  </tbody>\n",
       "</table>\n",
       "</div>"
      ],
      "text/plain": [
       "             county     id\n",
       "0       King County  21581\n",
       "1     Pierce County     15\n",
       "2  Snohomish County      2"
      ]
     },
     "execution_count": 67,
     "metadata": {},
     "output_type": "execute_result"
    }
   ],
   "source": [
    "df41[['id', 'county']].groupby('county').count().sort_values('id', ascending=False).reset_index()"
   ]
  },
  {
   "cell_type": "markdown",
   "id": "orange-group",
   "metadata": {
    "cell_style": "center",
    "hidden": true
   },
   "source": [
    "✔️ The city of Seattle belongs to the **multi-counties**: King County and Snohomish County. https://wa.postcodebase.com/city/SEATTLE <br>\n",
    "❓ Pierce County might be an error"
   ]
  },
  {
   "cell_type": "markdown",
   "id": "cheap-macro",
   "metadata": {
    "hidden": true
   },
   "source": [
    " "
   ]
  },
  {
   "cell_type": "markdown",
   "id": "existing-potter",
   "metadata": {
    "heading_collapsed": true,
    "hidden": true
   },
   "source": [
    "##### **Investigating 'Pierce County'**"
   ]
  },
  {
   "cell_type": "code",
   "execution_count": 68,
   "id": "private-credits",
   "metadata": {
    "ExecuteTime": {
     "end_time": "2021-07-03T17:14:00.526896Z",
     "start_time": "2021-07-03T17:14:00.517888Z"
    },
    "hidden": true
   },
   "outputs": [
    {
     "data": {
      "text/html": [
       "<div>\n",
       "<style scoped>\n",
       "    .dataframe tbody tr th:only-of-type {\n",
       "        vertical-align: middle;\n",
       "    }\n",
       "\n",
       "    .dataframe tbody tr th {\n",
       "        vertical-align: top;\n",
       "    }\n",
       "\n",
       "    .dataframe thead th {\n",
       "        text-align: right;\n",
       "    }\n",
       "</style>\n",
       "<table border=\"1\" class=\"dataframe\">\n",
       "  <thead>\n",
       "    <tr style=\"text-align: right;\">\n",
       "      <th></th>\n",
       "      <th>id</th>\n",
       "      <th>zipcode</th>\n",
       "      <th>road</th>\n",
       "      <th>house_number</th>\n",
       "      <th>neighbourhood</th>\n",
       "      <th>city</th>\n",
       "      <th>county</th>\n",
       "      <th>state</th>\n",
       "    </tr>\n",
       "  </thead>\n",
       "  <tbody>\n",
       "    <tr>\n",
       "      <th>2181</th>\n",
       "      <td>3275300040</td>\n",
       "      <td>98003</td>\n",
       "      <td>17th Avenue</td>\n",
       "      <td>99</td>\n",
       "      <td>NaN</td>\n",
       "      <td>NaN</td>\n",
       "      <td>Pierce County</td>\n",
       "      <td>Washington</td>\n",
       "    </tr>\n",
       "    <tr>\n",
       "      <th>6714</th>\n",
       "      <td>7153400010</td>\n",
       "      <td>98003</td>\n",
       "      <td>Alder Street</td>\n",
       "      <td>2286</td>\n",
       "      <td>NaN</td>\n",
       "      <td>NaN</td>\n",
       "      <td>Pierce County</td>\n",
       "      <td>Washington</td>\n",
       "    </tr>\n",
       "    <tr>\n",
       "      <th>6953</th>\n",
       "      <td>3275330120</td>\n",
       "      <td>98003</td>\n",
       "      <td>19th Avenue</td>\n",
       "      <td>63</td>\n",
       "      <td>NaN</td>\n",
       "      <td>NaN</td>\n",
       "      <td>Pierce County</td>\n",
       "      <td>Washington</td>\n",
       "    </tr>\n",
       "    <tr>\n",
       "      <th>9107</th>\n",
       "      <td>5409800120</td>\n",
       "      <td>98003</td>\n",
       "      <td>23rd Avenue South</td>\n",
       "      <td>77</td>\n",
       "      <td>NaN</td>\n",
       "      <td>NaN</td>\n",
       "      <td>Pierce County</td>\n",
       "      <td>Washington</td>\n",
       "    </tr>\n",
       "    <tr>\n",
       "      <th>12660</th>\n",
       "      <td>3275300440</td>\n",
       "      <td>98003</td>\n",
       "      <td>17th Avenue</td>\n",
       "      <td>77</td>\n",
       "      <td>NaN</td>\n",
       "      <td>NaN</td>\n",
       "      <td>Pierce County</td>\n",
       "      <td>Washington</td>\n",
       "    </tr>\n",
       "    <tr>\n",
       "      <th>12841</th>\n",
       "      <td>3275300050</td>\n",
       "      <td>98003</td>\n",
       "      <td>17th Avenue</td>\n",
       "      <td>95</td>\n",
       "      <td>NaN</td>\n",
       "      <td>NaN</td>\n",
       "      <td>Pierce County</td>\n",
       "      <td>Washington</td>\n",
       "    </tr>\n",
       "    <tr>\n",
       "      <th>15020</th>\n",
       "      <td>5409800110</td>\n",
       "      <td>98003</td>\n",
       "      <td>23rd Avenue South</td>\n",
       "      <td>77</td>\n",
       "      <td>NaN</td>\n",
       "      <td>NaN</td>\n",
       "      <td>Pierce County</td>\n",
       "      <td>Washington</td>\n",
       "    </tr>\n",
       "    <tr>\n",
       "      <th>16075</th>\n",
       "      <td>5409800140</td>\n",
       "      <td>98003</td>\n",
       "      <td>23rd Avenue South</td>\n",
       "      <td>81</td>\n",
       "      <td>NaN</td>\n",
       "      <td>NaN</td>\n",
       "      <td>Pierce County</td>\n",
       "      <td>Washington</td>\n",
       "    </tr>\n",
       "    <tr>\n",
       "      <th>3395</th>\n",
       "      <td>9413400165</td>\n",
       "      <td>98022</td>\n",
       "      <td>Lumpy Lane East</td>\n",
       "      <td>52435</td>\n",
       "      <td>NaN</td>\n",
       "      <td>NaN</td>\n",
       "      <td>Pierce County</td>\n",
       "      <td>Washington</td>\n",
       "    </tr>\n",
       "    <tr>\n",
       "      <th>12704</th>\n",
       "      <td>3518000180</td>\n",
       "      <td>98023</td>\n",
       "      <td>58th Avenue Northeast</td>\n",
       "      <td>35017</td>\n",
       "      <td>Northeast Tacoma</td>\n",
       "      <td>NaN</td>\n",
       "      <td>Pierce County</td>\n",
       "      <td>Washington</td>\n",
       "    </tr>\n",
       "    <tr>\n",
       "      <th>16306</th>\n",
       "      <td>2944500710</td>\n",
       "      <td>98023</td>\n",
       "      <td>27th Avenue Southwest</td>\n",
       "      <td>34331</td>\n",
       "      <td>Northeast Tacoma</td>\n",
       "      <td>NaN</td>\n",
       "      <td>Pierce County</td>\n",
       "      <td>Washington</td>\n",
       "    </tr>\n",
       "    <tr>\n",
       "      <th>5325</th>\n",
       "      <td>4137020360</td>\n",
       "      <td>98092</td>\n",
       "      <td>Lakeland Hills Way Southeast</td>\n",
       "      <td>5629</td>\n",
       "      <td>NaN</td>\n",
       "      <td>NaN</td>\n",
       "      <td>Pierce County</td>\n",
       "      <td>Washington</td>\n",
       "    </tr>\n",
       "    <tr>\n",
       "      <th>10882</th>\n",
       "      <td>4137040250</td>\n",
       "      <td>98092</td>\n",
       "      <td>57th Drive Southeast</td>\n",
       "      <td>1156</td>\n",
       "      <td>NaN</td>\n",
       "      <td>NaN</td>\n",
       "      <td>Pierce County</td>\n",
       "      <td>Washington</td>\n",
       "    </tr>\n",
       "    <tr>\n",
       "      <th>11291</th>\n",
       "      <td>4136930190</td>\n",
       "      <td>98092</td>\n",
       "      <td>Elizabeth Avenue Southeast</td>\n",
       "      <td>5625</td>\n",
       "      <td>NaN</td>\n",
       "      <td>NaN</td>\n",
       "      <td>Pierce County</td>\n",
       "      <td>Washington</td>\n",
       "    </tr>\n",
       "    <tr>\n",
       "      <th>18982</th>\n",
       "      <td>4137040060</td>\n",
       "      <td>98092</td>\n",
       "      <td>57th Place Southeast</td>\n",
       "      <td>1120</td>\n",
       "      <td>NaN</td>\n",
       "      <td>NaN</td>\n",
       "      <td>Pierce County</td>\n",
       "      <td>Washington</td>\n",
       "    </tr>\n",
       "  </tbody>\n",
       "</table>\n",
       "</div>"
      ],
      "text/plain": [
       "               id  zipcode                          road house_number     neighbourhood city         county       state\n",
       "2181   3275300040    98003                   17th Avenue           99               NaN  NaN  Pierce County  Washington\n",
       "6714   7153400010    98003                  Alder Street         2286               NaN  NaN  Pierce County  Washington\n",
       "6953   3275330120    98003                   19th Avenue           63               NaN  NaN  Pierce County  Washington\n",
       "9107   5409800120    98003             23rd Avenue South           77               NaN  NaN  Pierce County  Washington\n",
       "12660  3275300440    98003                   17th Avenue           77               NaN  NaN  Pierce County  Washington\n",
       "12841  3275300050    98003                   17th Avenue           95               NaN  NaN  Pierce County  Washington\n",
       "15020  5409800110    98003             23rd Avenue South           77               NaN  NaN  Pierce County  Washington\n",
       "16075  5409800140    98003             23rd Avenue South           81               NaN  NaN  Pierce County  Washington\n",
       "3395   9413400165    98022               Lumpy Lane East        52435               NaN  NaN  Pierce County  Washington\n",
       "12704  3518000180    98023         58th Avenue Northeast        35017  Northeast Tacoma  NaN  Pierce County  Washington\n",
       "16306  2944500710    98023         27th Avenue Southwest        34331  Northeast Tacoma  NaN  Pierce County  Washington\n",
       "5325   4137020360    98092  Lakeland Hills Way Southeast         5629               NaN  NaN  Pierce County  Washington\n",
       "10882  4137040250    98092          57th Drive Southeast         1156               NaN  NaN  Pierce County  Washington\n",
       "11291  4136930190    98092    Elizabeth Avenue Southeast         5625               NaN  NaN  Pierce County  Washington\n",
       "18982  4137040060    98092          57th Place Southeast         1120               NaN  NaN  Pierce County  Washington"
      ]
     },
     "execution_count": 68,
     "metadata": {},
     "output_type": "execute_result"
    }
   ],
   "source": [
    "a = address[address['county']=='Pierce County'].sort_values('zipcode', ascending=True)\n",
    "a"
   ]
  },
  {
   "cell_type": "code",
   "execution_count": 69,
   "id": "advisory-photography",
   "metadata": {
    "ExecuteTime": {
     "end_time": "2021-07-03T17:14:00.718070Z",
     "start_time": "2021-07-03T17:14:00.712065Z"
    },
    "hidden": true
   },
   "outputs": [
    {
     "data": {
      "text/plain": [
       "array([98003, 98022, 98023, 98092], dtype=int64)"
      ]
     },
     "execution_count": 69,
     "metadata": {},
     "output_type": "execute_result"
    }
   ],
   "source": [
    "# checking 'zipcode' for 'Pierce County'\n",
    "a['zipcode'].sort_values(ascending=True).unique()"
   ]
  },
  {
   "cell_type": "markdown",
   "id": "painful-wings",
   "metadata": {
    "hidden": true
   },
   "source": [
    "✔️ **98003**\n",
    "Federal Way. County King County  https://wa.postcodebase.com/zipcode5/98003\n",
    "\n",
    "✔️ **98022**\n",
    "Zipcode 98022 is across counties/cities. City ENUMCLAW. Counties King County and Pierce County https://wa.postcodebase.com/zipcode5/98022\n",
    "\n",
    "✔️ **98023**\n",
    "Federal Way.  County King County https://wa.postcodebase.com/zipcode5/98023\n",
    "\n",
    "✔️ **98092**\n",
    "Zipcode 98092 is across counties/cities. City AUBURN. Counties King County and Pierce County https://wa.postcodebase.com/zipcode5/98092"
   ]
  },
  {
   "cell_type": "markdown",
   "id": "cathedral-testing",
   "metadata": {
    "hidden": true
   },
   "source": [
    " "
   ]
  },
  {
   "cell_type": "markdown",
   "id": "protecting-newfoundland",
   "metadata": {
    "ExecuteTime": {
     "end_time": "2021-06-15T20:04:11.395534Z",
     "start_time": "2021-06-15T20:04:11.384525Z"
    },
    "heading_collapsed": true,
    "hidden": true
   },
   "source": [
    "#### City"
   ]
  },
  {
   "cell_type": "code",
   "execution_count": 70,
   "id": "chemical-python",
   "metadata": {
    "ExecuteTime": {
     "end_time": "2021-07-03T17:14:01.527122Z",
     "start_time": "2021-07-03T17:14:01.518114Z"
    },
    "hidden": true
   },
   "outputs": [
    {
     "name": "stdout",
     "output_type": "stream",
     "text": [
      "unique: [nan 'Seattle' 'Bellevue' 'Shoreline' 'Kent' 'King County']\n",
      "NA: 12557\n"
     ]
    }
   ],
   "source": [
    "address = df41[['id', 'zipcode', 'road', 'house_number', 'neighbourhood', 'city', 'county', 'state']].copy()\n",
    "\n",
    "print('unique:', df41['city'].unique())\n",
    "print('NA:', df41['city'].isna().sum())"
   ]
  },
  {
   "cell_type": "code",
   "execution_count": 71,
   "id": "respiratory-undergraduate",
   "metadata": {
    "ExecuteTime": {
     "end_time": "2021-07-03T17:14:01.733309Z",
     "start_time": "2021-07-03T17:14:01.712290Z"
    },
    "hidden": true
   },
   "outputs": [
    {
     "data": {
      "text/html": [
       "<div>\n",
       "<style scoped>\n",
       "    .dataframe tbody tr th:only-of-type {\n",
       "        vertical-align: middle;\n",
       "    }\n",
       "\n",
       "    .dataframe tbody tr th {\n",
       "        vertical-align: top;\n",
       "    }\n",
       "\n",
       "    .dataframe thead th {\n",
       "        text-align: right;\n",
       "    }\n",
       "</style>\n",
       "<table border=\"1\" class=\"dataframe\">\n",
       "  <thead>\n",
       "    <tr style=\"text-align: right;\">\n",
       "      <th></th>\n",
       "      <th>city</th>\n",
       "      <th>id</th>\n",
       "    </tr>\n",
       "  </thead>\n",
       "  <tbody>\n",
       "    <tr>\n",
       "      <th>0</th>\n",
       "      <td>Seattle</td>\n",
       "      <td>7079</td>\n",
       "    </tr>\n",
       "    <tr>\n",
       "      <th>1</th>\n",
       "      <td>Bellevue</td>\n",
       "      <td>1325</td>\n",
       "    </tr>\n",
       "    <tr>\n",
       "      <th>2</th>\n",
       "      <td>Shoreline</td>\n",
       "      <td>630</td>\n",
       "    </tr>\n",
       "    <tr>\n",
       "      <th>3</th>\n",
       "      <td>Kent</td>\n",
       "      <td>5</td>\n",
       "    </tr>\n",
       "    <tr>\n",
       "      <th>4</th>\n",
       "      <td>King County</td>\n",
       "      <td>2</td>\n",
       "    </tr>\n",
       "  </tbody>\n",
       "</table>\n",
       "</div>"
      ],
      "text/plain": [
       "          city    id\n",
       "0      Seattle  7079\n",
       "1     Bellevue  1325\n",
       "2    Shoreline   630\n",
       "3         Kent     5\n",
       "4  King County     2"
      ]
     },
     "execution_count": 71,
     "metadata": {},
     "output_type": "execute_result"
    }
   ],
   "source": [
    "df41[['id', 'city']].groupby('city').count().sort_values('id', ascending=False).reset_index()"
   ]
  },
  {
   "cell_type": "markdown",
   "id": "immediate-accordance",
   "metadata": {
    "hidden": true
   },
   "source": [
    "✔️ Seattle, Bellevue, Shoreline and Kent **belong** to King County https://kingcounty.gov/depts/health/codes/cities.aspx <br>\n",
    "❌ King County is an error"
   ]
  },
  {
   "cell_type": "markdown",
   "id": "about-affairs",
   "metadata": {
    "hidden": true,
    "hide_input": false
   },
   "source": [
    " "
   ]
  },
  {
   "cell_type": "markdown",
   "id": "ranking-saying",
   "metadata": {
    "heading_collapsed": true,
    "hidden": true
   },
   "source": [
    "##### Investigating 'King County' as 'city'"
   ]
  },
  {
   "cell_type": "code",
   "execution_count": 72,
   "id": "advance-arabic",
   "metadata": {
    "ExecuteTime": {
     "end_time": "2021-07-03T17:14:02.589088Z",
     "start_time": "2021-07-03T17:14:02.573074Z"
    },
    "hidden": true
   },
   "outputs": [
    {
     "data": {
      "text/html": [
       "<div>\n",
       "<style scoped>\n",
       "    .dataframe tbody tr th:only-of-type {\n",
       "        vertical-align: middle;\n",
       "    }\n",
       "\n",
       "    .dataframe tbody tr th {\n",
       "        vertical-align: top;\n",
       "    }\n",
       "\n",
       "    .dataframe thead th {\n",
       "        text-align: right;\n",
       "    }\n",
       "</style>\n",
       "<table border=\"1\" class=\"dataframe\">\n",
       "  <thead>\n",
       "    <tr style=\"text-align: right;\">\n",
       "      <th></th>\n",
       "      <th>id</th>\n",
       "      <th>zipcode</th>\n",
       "      <th>road</th>\n",
       "      <th>house_number</th>\n",
       "      <th>neighbourhood</th>\n",
       "      <th>city</th>\n",
       "      <th>county</th>\n",
       "      <th>state</th>\n",
       "    </tr>\n",
       "  </thead>\n",
       "  <tbody>\n",
       "    <tr>\n",
       "      <th>11553</th>\n",
       "      <td>8075400570</td>\n",
       "      <td>98032</td>\n",
       "      <td>South 239th Street</td>\n",
       "      <td>3704</td>\n",
       "      <td>Midway</td>\n",
       "      <td>King County</td>\n",
       "      <td>King County</td>\n",
       "      <td>Washington</td>\n",
       "    </tr>\n",
       "    <tr>\n",
       "      <th>14475</th>\n",
       "      <td>8075400100</td>\n",
       "      <td>98032</td>\n",
       "      <td>41st Avenue South</td>\n",
       "      <td>23654</td>\n",
       "      <td>NaN</td>\n",
       "      <td>King County</td>\n",
       "      <td>King County</td>\n",
       "      <td>Washington</td>\n",
       "    </tr>\n",
       "  </tbody>\n",
       "</table>\n",
       "</div>"
      ],
      "text/plain": [
       "               id  zipcode                road house_number neighbourhood         city       county       state\n",
       "11553  8075400570    98032  South 239th Street         3704        Midway  King County  King County  Washington\n",
       "14475  8075400100    98032   41st Avenue South        23654           NaN  King County  King County  Washington"
      ]
     },
     "execution_count": 72,
     "metadata": {},
     "output_type": "execute_result"
    }
   ],
   "source": [
    "address[address['city']=='King County']"
   ]
  },
  {
   "cell_type": "markdown",
   "id": "boring-moore",
   "metadata": {
    "ExecuteTime": {
     "end_time": "2021-06-16T14:29:53.751259Z",
     "start_time": "2021-06-16T14:29:53.748256Z"
    },
    "hidden": true
   },
   "source": [
    "💡 Zipcode 98032 belongs **only** to Kent city https://wa.postcodebase.com/zipcode5/98032"
   ]
  },
  {
   "cell_type": "markdown",
   "id": "ongoing-brazilian",
   "metadata": {
    "hidden": true
   },
   "source": [
    " "
   ]
  },
  {
   "cell_type": "markdown",
   "id": "three-victor",
   "metadata": {
    "heading_collapsed": true,
    "hidden": true
   },
   "source": [
    "##### **Inputing 'Kent' as city to 98032 'zipcode'**"
   ]
  },
  {
   "cell_type": "code",
   "execution_count": 73,
   "id": "unlikely-juvenile",
   "metadata": {
    "ExecuteTime": {
     "end_time": "2021-07-03T17:14:03.398825Z",
     "start_time": "2021-07-03T17:14:03.392819Z"
    },
    "hidden": true
   },
   "outputs": [
    {
     "data": {
      "text/plain": [
       "array([nan, 'Kent', 'King County'], dtype=object)"
      ]
     },
     "execution_count": 73,
     "metadata": {},
     "output_type": "execute_result"
    }
   ],
   "source": [
    "# checking unique values for '98032' for 'city'\n",
    "df41[df41['zipcode']==98032]['city'].unique()"
   ]
  },
  {
   "cell_type": "code",
   "execution_count": 74,
   "id": "electronic-atlas",
   "metadata": {
    "ExecuteTime": {
     "end_time": "2021-07-03T17:14:03.971345Z",
     "start_time": "2021-07-03T17:14:03.956332Z"
    },
    "hidden": true
   },
   "outputs": [
    {
     "data": {
      "text/html": [
       "<div>\n",
       "<style scoped>\n",
       "    .dataframe tbody tr th:only-of-type {\n",
       "        vertical-align: middle;\n",
       "    }\n",
       "\n",
       "    .dataframe tbody tr th {\n",
       "        vertical-align: top;\n",
       "    }\n",
       "\n",
       "    .dataframe thead th {\n",
       "        text-align: right;\n",
       "    }\n",
       "</style>\n",
       "<table border=\"1\" class=\"dataframe\">\n",
       "  <thead>\n",
       "    <tr style=\"text-align: right;\">\n",
       "      <th></th>\n",
       "      <th>city</th>\n",
       "      <th>zipcode</th>\n",
       "    </tr>\n",
       "  </thead>\n",
       "  <tbody>\n",
       "    <tr>\n",
       "      <th>0</th>\n",
       "      <td>Kent</td>\n",
       "      <td>3</td>\n",
       "    </tr>\n",
       "    <tr>\n",
       "      <th>1</th>\n",
       "      <td>King County</td>\n",
       "      <td>2</td>\n",
       "    </tr>\n",
       "  </tbody>\n",
       "</table>\n",
       "</div>"
      ],
      "text/plain": [
       "          city  zipcode\n",
       "0         Kent        3\n",
       "1  King County        2"
      ]
     },
     "execution_count": 74,
     "metadata": {},
     "output_type": "execute_result"
    }
   ],
   "source": [
    "# checking how many properties for '98032' are 'Kent' and 'King County' for 'city'\n",
    "df41[df41['zipcode']==98032][['zipcode', 'city']].groupby('city').count().reset_index()"
   ]
  },
  {
   "cell_type": "code",
   "execution_count": 75,
   "id": "potential-anchor",
   "metadata": {
    "ExecuteTime": {
     "end_time": "2021-07-03T17:14:04.194549Z",
     "start_time": "2021-07-03T17:14:04.189545Z"
    },
    "hidden": true,
    "scrolled": true
   },
   "outputs": [
    {
     "data": {
      "text/plain": [
       "120"
      ]
     },
     "execution_count": 75,
     "metadata": {},
     "output_type": "execute_result"
    }
   ],
   "source": [
    "# checking how many properties for '98032' are 'NaN' for 'city'\n",
    "df41[df41['zipcode']==98032][['city']].isna().sum()[0]"
   ]
  },
  {
   "cell_type": "code",
   "execution_count": 76,
   "id": "conservative-nurse",
   "metadata": {
    "ExecuteTime": {
     "end_time": "2021-07-03T17:14:04.667979Z",
     "start_time": "2021-07-03T17:14:04.393730Z"
    },
    "hidden": true
   },
   "outputs": [
    {
     "data": {
      "text/html": [
       "<div>\n",
       "<style scoped>\n",
       "    .dataframe tbody tr th:only-of-type {\n",
       "        vertical-align: middle;\n",
       "    }\n",
       "\n",
       "    .dataframe tbody tr th {\n",
       "        vertical-align: top;\n",
       "    }\n",
       "\n",
       "    .dataframe thead th {\n",
       "        text-align: right;\n",
       "    }\n",
       "</style>\n",
       "<table border=\"1\" class=\"dataframe\">\n",
       "  <thead>\n",
       "    <tr style=\"text-align: right;\">\n",
       "      <th></th>\n",
       "      <th>city</th>\n",
       "      <th>zipcode</th>\n",
       "    </tr>\n",
       "  </thead>\n",
       "  <tbody>\n",
       "    <tr>\n",
       "      <th>0</th>\n",
       "      <td>Kent</td>\n",
       "      <td>125</td>\n",
       "    </tr>\n",
       "  </tbody>\n",
       "</table>\n",
       "</div>"
      ],
      "text/plain": [
       "   city  zipcode\n",
       "0  Kent      125"
      ]
     },
     "execution_count": 76,
     "metadata": {},
     "output_type": "execute_result"
    }
   ],
   "source": [
    "# replacing 'city' values with 'Kent' for '98032' zipcode\n",
    "df41['city'] = df41.apply(lambda x: 'Kent' if x['zipcode']==98032 else x['city'], axis=1)\n",
    "\n",
    "df41[df41['zipcode']==98032][['zipcode', 'city']].groupby('city').count().reset_index()"
   ]
  },
  {
   "cell_type": "markdown",
   "id": "known-reunion",
   "metadata": {
    "heading_collapsed": true,
    "hidden": true
   },
   "source": [
    "##### Investigating 'city' NA"
   ]
  },
  {
   "cell_type": "code",
   "execution_count": 77,
   "id": "respiratory-shareware",
   "metadata": {
    "ExecuteTime": {
     "end_time": "2021-07-03T17:14:05.492730Z",
     "start_time": "2021-07-03T17:14:05.470710Z"
    },
    "hidden": true
   },
   "outputs": [
    {
     "name": "stdout",
     "output_type": "stream",
     "text": [
      "NA: 12437\n"
     ]
    }
   ],
   "source": [
    "address = df41[['id', 'zipcode', 'road', 'house_number', 'neighbourhood', 'city', 'county', 'state']].copy()\n",
    "\n",
    "print('NA:', df41['city'].isna().sum()) # city NA"
   ]
  },
  {
   "cell_type": "code",
   "execution_count": 78,
   "id": "muslim-tuner",
   "metadata": {
    "ExecuteTime": {
     "end_time": "2021-07-03T17:14:05.683904Z",
     "start_time": "2021-07-03T17:14:05.671893Z"
    },
    "hidden": true
   },
   "outputs": [
    {
     "data": {
      "text/html": [
       "<div>\n",
       "<style scoped>\n",
       "    .dataframe tbody tr th:only-of-type {\n",
       "        vertical-align: middle;\n",
       "    }\n",
       "\n",
       "    .dataframe tbody tr th {\n",
       "        vertical-align: top;\n",
       "    }\n",
       "\n",
       "    .dataframe thead th {\n",
       "        text-align: right;\n",
       "    }\n",
       "</style>\n",
       "<table border=\"1\" class=\"dataframe\">\n",
       "  <thead>\n",
       "    <tr style=\"text-align: right;\">\n",
       "      <th></th>\n",
       "      <th>id</th>\n",
       "      <th>zipcode</th>\n",
       "      <th>road</th>\n",
       "      <th>house_number</th>\n",
       "      <th>neighbourhood</th>\n",
       "      <th>city</th>\n",
       "      <th>county</th>\n",
       "      <th>state</th>\n",
       "    </tr>\n",
       "  </thead>\n",
       "  <tbody>\n",
       "    <tr>\n",
       "      <th>0</th>\n",
       "      <td>5561000190</td>\n",
       "      <td>98027</td>\n",
       "      <td>Southeast 154th Street</td>\n",
       "      <td>26069</td>\n",
       "      <td>NaN</td>\n",
       "      <td>NaN</td>\n",
       "      <td>King County</td>\n",
       "      <td>Washington</td>\n",
       "    </tr>\n",
       "    <tr>\n",
       "      <th>2</th>\n",
       "      <td>1024069009</td>\n",
       "      <td>98029</td>\n",
       "      <td>Southeast 32nd Way</td>\n",
       "      <td>23601</td>\n",
       "      <td>NaN</td>\n",
       "      <td>NaN</td>\n",
       "      <td>King County</td>\n",
       "      <td>Washington</td>\n",
       "    </tr>\n",
       "    <tr>\n",
       "      <th>3</th>\n",
       "      <td>7853361370</td>\n",
       "      <td>98065</td>\n",
       "      <td>Southeast Terrace Street</td>\n",
       "      <td>35246</td>\n",
       "      <td>NaN</td>\n",
       "      <td>NaN</td>\n",
       "      <td>King County</td>\n",
       "      <td>Washington</td>\n",
       "    </tr>\n",
       "    <tr>\n",
       "      <th>6</th>\n",
       "      <td>1737320120</td>\n",
       "      <td>98011</td>\n",
       "      <td>Northeast 195th Street</td>\n",
       "      <td>8915</td>\n",
       "      <td>NaN</td>\n",
       "      <td>NaN</td>\n",
       "      <td>King County</td>\n",
       "      <td>Washington</td>\n",
       "    </tr>\n",
       "    <tr>\n",
       "      <th>7</th>\n",
       "      <td>7197300105</td>\n",
       "      <td>98052</td>\n",
       "      <td>170th Avenue Northeast</td>\n",
       "      <td>9105</td>\n",
       "      <td>NaN</td>\n",
       "      <td>NaN</td>\n",
       "      <td>King County</td>\n",
       "      <td>Washington</td>\n",
       "    </tr>\n",
       "  </tbody>\n",
       "</table>\n",
       "</div>"
      ],
      "text/plain": [
       "           id  zipcode                      road house_number neighbourhood city       county       state\n",
       "0  5561000190    98027    Southeast 154th Street        26069           NaN  NaN  King County  Washington\n",
       "2  1024069009    98029        Southeast 32nd Way        23601           NaN  NaN  King County  Washington\n",
       "3  7853361370    98065  Southeast Terrace Street        35246           NaN  NaN  King County  Washington\n",
       "6  1737320120    98011    Northeast 195th Street         8915           NaN  NaN  King County  Washington\n",
       "7  7197300105    98052    170th Avenue Northeast         9105           NaN  NaN  King County  Washington"
      ]
     },
     "execution_count": 78,
     "metadata": {},
     "output_type": "execute_result"
    }
   ],
   "source": [
    "address[address['city'].isna()].head()"
   ]
  },
  {
   "cell_type": "code",
   "execution_count": 79,
   "id": "failing-student",
   "metadata": {
    "ExecuteTime": {
     "end_time": "2021-07-03T17:14:05.922120Z",
     "start_time": "2021-07-03T17:14:05.901102Z"
    },
    "hidden": true
   },
   "outputs": [
    {
     "name": "stdout",
     "output_type": "stream",
     "text": [
      "9111 both city and neighbourhood are NA\n",
      "3326 city NA and neighbourhood filled\n"
     ]
    }
   ],
   "source": [
    "# counting how many 'city' and 'neighourhood' are 'NA'\n",
    "print(address[(address['city'].isna()) & (address['neighbourhood'].isna())].shape[0], 'both city and neighbourhood are NA')\n",
    "print(address[(address['city'].isna()) & (~address['neighbourhood'].isna())].shape[0], 'city NA and neighbourhood filled')"
   ]
  },
  {
   "cell_type": "code",
   "execution_count": 80,
   "id": "intelligent-appeal",
   "metadata": {
    "ExecuteTime": {
     "end_time": "2021-07-03T17:14:06.113294Z",
     "start_time": "2021-07-03T17:14:06.092275Z"
    },
    "hidden": true
   },
   "outputs": [
    {
     "name": "stdout",
     "output_type": "stream",
     "text": [
      "number of zipcodes with NA 'city': 51\n"
     ]
    },
    {
     "data": {
      "text/html": [
       "<div>\n",
       "<style scoped>\n",
       "    .dataframe tbody tr th:only-of-type {\n",
       "        vertical-align: middle;\n",
       "    }\n",
       "\n",
       "    .dataframe tbody tr th {\n",
       "        vertical-align: top;\n",
       "    }\n",
       "\n",
       "    .dataframe thead th {\n",
       "        text-align: right;\n",
       "    }\n",
       "</style>\n",
       "<table border=\"1\" class=\"dataframe\">\n",
       "  <thead>\n",
       "    <tr style=\"text-align: right;\">\n",
       "      <th></th>\n",
       "      <th>zipcode</th>\n",
       "      <th>city</th>\n",
       "    </tr>\n",
       "  </thead>\n",
       "  <tbody>\n",
       "    <tr>\n",
       "      <th>50</th>\n",
       "      <td>98198</td>\n",
       "      <td>0</td>\n",
       "    </tr>\n",
       "    <tr>\n",
       "      <th>11</th>\n",
       "      <td>98022</td>\n",
       "      <td>0</td>\n",
       "    </tr>\n",
       "    <tr>\n",
       "      <th>29</th>\n",
       "      <td>98056</td>\n",
       "      <td>0</td>\n",
       "    </tr>\n",
       "    <tr>\n",
       "      <th>2</th>\n",
       "      <td>98003</td>\n",
       "      <td>0</td>\n",
       "    </tr>\n",
       "    <tr>\n",
       "      <th>15</th>\n",
       "      <td>98028</td>\n",
       "      <td>0</td>\n",
       "    </tr>\n",
       "  </tbody>\n",
       "</table>\n",
       "</div>"
      ],
      "text/plain": [
       "    zipcode  city\n",
       "50    98198     0\n",
       "11    98022     0\n",
       "29    98056     0\n",
       "2     98003     0\n",
       "15    98028     0"
      ]
     },
     "execution_count": 80,
     "metadata": {},
     "output_type": "execute_result"
    }
   ],
   "source": [
    "# counting how many 'zipcode's to NA 'city'\n",
    "print(\"number of zipcodes with NA 'city':\", address[address['city'].isna()][['zipcode', 'city']].groupby('zipcode').count().reset_index().shape[0])\n",
    "address[address['city'].isna()][['zipcode', 'city']].groupby('zipcode').count().reset_index().sample(5)"
   ]
  },
  {
   "cell_type": "markdown",
   "id": "wireless-cooking",
   "metadata": {
    "heading_collapsed": true,
    "hidden": true
   },
   "source": [
    "#### Filling other 'NA' from address (if relevant, do it later)"
   ]
  },
  {
   "cell_type": "code",
   "execution_count": 81,
   "id": "cutting-realtor",
   "metadata": {
    "ExecuteTime": {
     "end_time": "2021-07-03T17:14:06.526671Z",
     "start_time": "2021-07-03T17:14:06.507653Z"
    },
    "hidden": true
   },
   "outputs": [
    {
     "data": {
      "text/plain": [
       "query                 0\n",
       "road                219\n",
       "house_number       1264\n",
       "neighbourhood     14381\n",
       "city              12437\n",
       "county                0\n",
       "state                 0\n",
       "season                0\n",
       "season_to_sell        0\n",
       "dtype: int64"
      ]
     },
     "execution_count": 81,
     "metadata": {},
     "output_type": "execute_result"
    }
   ],
   "source": [
    "address = df41[['id', 'zipcode', 'road', 'house_number', 'neighbourhood', 'city', 'county', 'state']].copy()\n",
    "\n",
    "cat_df4 = df41.select_dtypes(exclude=['int64','float64','datetime64[ns]'])\n",
    "cat_df4.isna().sum()"
   ]
  },
  {
   "cell_type": "code",
   "execution_count": 82,
   "id": "major-magic",
   "metadata": {
    "ExecuteTime": {
     "end_time": "2021-07-03T17:14:07.046143Z",
     "start_time": "2021-07-03T17:14:07.034132Z"
    },
    "hidden": true
   },
   "outputs": [],
   "source": [
    "# filling NAs\n",
    "\n",
    "# == before\n",
    "# road               219\n",
    "# house_number      1264\n",
    "# neighbourhood    14381\n",
    "# city             12557\n",
    "\n",
    "# == after\n",
    "# road               219\n",
    "# house_number      1264\n",
    "# neighbourhood    14381\n",
    "# city             12437"
   ]
  },
  {
   "cell_type": "code",
   "execution_count": 83,
   "id": "ecological-parking",
   "metadata": {
    "ExecuteTime": {
     "end_time": "2021-07-03T17:14:07.266344Z",
     "start_time": "2021-07-03T17:14:07.246325Z"
    },
    "hidden": true
   },
   "outputs": [
    {
     "data": {
      "text/html": [
       "<div>\n",
       "<style scoped>\n",
       "    .dataframe tbody tr th:only-of-type {\n",
       "        vertical-align: middle;\n",
       "    }\n",
       "\n",
       "    .dataframe tbody tr th {\n",
       "        vertical-align: top;\n",
       "    }\n",
       "\n",
       "    .dataframe thead th {\n",
       "        text-align: right;\n",
       "    }\n",
       "</style>\n",
       "<table border=\"1\" class=\"dataframe\">\n",
       "  <thead>\n",
       "    <tr style=\"text-align: right;\">\n",
       "      <th></th>\n",
       "      <th>id</th>\n",
       "      <th>zipcode</th>\n",
       "      <th>road</th>\n",
       "      <th>house_number</th>\n",
       "      <th>neighbourhood</th>\n",
       "      <th>city</th>\n",
       "      <th>county</th>\n",
       "      <th>state</th>\n",
       "    </tr>\n",
       "  </thead>\n",
       "  <tbody>\n",
       "    <tr>\n",
       "      <th>0</th>\n",
       "      <td>5561000190</td>\n",
       "      <td>98027</td>\n",
       "      <td>Southeast 154th Street</td>\n",
       "      <td>26069</td>\n",
       "      <td>NaN</td>\n",
       "      <td>NaN</td>\n",
       "      <td>King County</td>\n",
       "      <td>Washington</td>\n",
       "    </tr>\n",
       "    <tr>\n",
       "      <th>1</th>\n",
       "      <td>472000620</td>\n",
       "      <td>98117</td>\n",
       "      <td>34th Avenue Northwest</td>\n",
       "      <td>7506</td>\n",
       "      <td>Sunset Hill</td>\n",
       "      <td>Seattle</td>\n",
       "      <td>King County</td>\n",
       "      <td>Washington</td>\n",
       "    </tr>\n",
       "    <tr>\n",
       "      <th>2</th>\n",
       "      <td>1024069009</td>\n",
       "      <td>98029</td>\n",
       "      <td>Southeast 32nd Way</td>\n",
       "      <td>23601</td>\n",
       "      <td>NaN</td>\n",
       "      <td>NaN</td>\n",
       "      <td>King County</td>\n",
       "      <td>Washington</td>\n",
       "    </tr>\n",
       "    <tr>\n",
       "      <th>3</th>\n",
       "      <td>7853361370</td>\n",
       "      <td>98065</td>\n",
       "      <td>Southeast Terrace Street</td>\n",
       "      <td>35246</td>\n",
       "      <td>NaN</td>\n",
       "      <td>NaN</td>\n",
       "      <td>King County</td>\n",
       "      <td>Washington</td>\n",
       "    </tr>\n",
       "    <tr>\n",
       "      <th>4</th>\n",
       "      <td>5056500260</td>\n",
       "      <td>98006</td>\n",
       "      <td>Southeast 65th Street</td>\n",
       "      <td>12201</td>\n",
       "      <td>NaN</td>\n",
       "      <td>Bellevue</td>\n",
       "      <td>King County</td>\n",
       "      <td>Washington</td>\n",
       "    </tr>\n",
       "  </tbody>\n",
       "</table>\n",
       "</div>"
      ],
      "text/plain": [
       "           id  zipcode                      road house_number neighbourhood      city       county       state\n",
       "0  5561000190    98027    Southeast 154th Street        26069           NaN       NaN  King County  Washington\n",
       "1   472000620    98117     34th Avenue Northwest         7506   Sunset Hill   Seattle  King County  Washington\n",
       "2  1024069009    98029        Southeast 32nd Way        23601           NaN       NaN  King County  Washington\n",
       "3  7853361370    98065  Southeast Terrace Street        35246           NaN       NaN  King County  Washington\n",
       "4  5056500260    98006     Southeast 65th Street        12201           NaN  Bellevue  King County  Washington"
      ]
     },
     "execution_count": 83,
     "metadata": {},
     "output_type": "execute_result"
    }
   ],
   "source": [
    "address.head()"
   ]
  },
  {
   "cell_type": "markdown",
   "id": "surrounded-asbestos",
   "metadata": {},
   "source": [
    "## <font color='red'> Bivariate Analysis"
   ]
  },
  {
   "cell_type": "code",
   "execution_count": 84,
   "id": "preceding-daniel",
   "metadata": {
    "ExecuteTime": {
     "end_time": "2021-07-03T17:14:07.649692Z",
     "start_time": "2021-07-03T17:14:07.634679Z"
    }
   },
   "outputs": [],
   "source": [
    "df42=df41.copy()"
   ]
  },
  {
   "cell_type": "markdown",
   "id": "bearing-earthquake",
   "metadata": {},
   "source": [
    "1. Properties that have water view are 50% more expensive.\n",
    "2. Properties with basements have higher grade.\n",
    "3. Properties with basements have bigger interior living space.\n",
    "4. Properties with basements are 15% more expensive.\n",
    "5. Properties built with basements decreased over the years.\n",
    "6. Properties with 1 to 2 bathrooms are 20% more expensive than those with up to 1 bathroom.\n",
    "7. Properties with 3 bedrooms are 25% more expensive than those which have 2 bedrooms.\n",
    "8.  Properties with 2 floors are 15% more expensive than those with 1 floor.\n",
    "9. Most properties (+50%) became available during summer/spring.\n",
    "10. Properties available during summer/spring are 20% more expensive.\n",
    "11. Most properties (+50%) are localized in a 15km radius from the lake.\n",
    "12. Most of properties (+50%) that should be bought are in a 15km radius from the lake.\n",
    "13. Properties selected to be bought that are localized in a 15km radius from lake correspond to more than 50% of expected profit.\n",
    "14. Properties have bigger interior living space along construction year timeline.\n",
    "15. Properties that were not renovated are 40% cheaper."
   ]
  },
  {
   "cell_type": "code",
   "execution_count": 127,
   "id": "indie-trick",
   "metadata": {
    "ExecuteTime": {
     "end_time": "2021-07-03T19:30:00.164997Z",
     "start_time": "2021-07-03T19:30:00.157990Z"
    },
    "code_folding": [],
    "hide_input": false,
    "scrolled": false
   },
   "outputs": [
    {
     "name": "stdout",
     "output_type": "stream",
     "text": [
      " Hypothesis    Result    Relevance   Conclusion\n",
      "------------  --------  -----------  -------------------------------------------------------------------------------------------------\n",
      "    H01        False       High      Properties that have water view are more than 200% more expensive.\n",
      "    H02         True        Low      Properties with basements have a slightly lower grade.\n",
      "    H03         True        Low      Properties with basement have bigger interior living space on average.\n",
      "    H04        False       High      Properties with basement are 27.84 % more expensive.\n",
      "    H05         True       High      Properties built with basements decreased after the 80s.\n",
      "    H06        False       High      Properties with 1 to 2 bathrooms are 67.55 % more expensive than those with up to 1 bathroom.\n",
      "    H07        False        Low      Properties with 3 bedrooms are 16.10% more expensive than those which have 2 bedrooms.\n",
      "    H08        False        Low      Properties with 2 floors are 29.25 % more expensive than those with 1 floor.\n",
      "    H09         True       High      Almost 60% of the properties became available during summer/spring.\n",
      "    H10        False        Low      Properties available during summer/spring are 4,5% more expensive.\n",
      "    H11         True       High      50% of the properties are localized in a 15km radius from the lake.\n",
      "    H12         True       High      50% of properties that should be bought are in a 15km radius from the lake.\n",
      "    H13         True       High      Properties selected to be bought in a 15km radius from lake correspond to 60% of expected profit.\n",
      "    H14         True       High      Properties have bigger interior living space along construction year timeline.\n",
      "    H15         True       High      Properties that were not renovated are 43.17% cheaper.\n"
     ]
    }
   ],
   "source": [
    "# hypothesis overview\n",
    "tab = [ ['Hypothesis', 'Result', 'Relevance', 'Conclusion'],\n",
    "        ['H01','False','High'  , 'Properties that have water view are more than 200% more expensive.'],\n",
    "        ['H02','True' ,'Low'   , 'Properties with basements have a slightly lower grade.'],\n",
    "        ['H03','True' ,'Low'   , 'Properties with basement have bigger interior living space on average.'],\n",
    "        ['H04','False','High'  , 'Properties with basement are 27.84 % more expensive.'],\n",
    "        ['H05','True' ,'High'  , 'Properties built with basements decreased after the 80s.'],\n",
    "        ['H06','False','High'  , 'Properties with 1 to 2 bathrooms are 67.55 % more expensive than those with up to 1 bathroom.'],\n",
    "        ['H07','False','Low'   , 'Properties with 3 bedrooms are 16.10% more expensive than those which have 2 bedrooms.'],\n",
    "        ['H08','False','Low'   , 'Properties with 2 floors are 29.25 % more expensive than those with 1 floor.'],\n",
    "        ['H09','True' ,'High'  , 'Almost 60% of the properties became available during summer/spring.'],\n",
    "        ['H10','False','Low'   , 'Properties available during summer/spring are 4,5% more expensive.'],\n",
    "        ['H11','True' ,'High'  , '50% of the properties are localized in a 15km radius from the lake.'],\n",
    "        ['H12','True' ,'High'  , '50% of properties that should be bought are in a 15km radius from the lake.'],\n",
    "        ['H13','True' ,'High'  , 'Properties selected to be bought in a 15km radius from lake correspond to 60% of expected profit.'],\n",
    "        ['H14','True' ,'High'  , 'Properties have bigger interior living space along construction year timeline.'],\n",
    "        ['H15','True' ,'High'  , 'Properties that were not renovated are 43.17% cheaper.'],\n",
    "        \n",
    "      ]\n",
    "\n",
    "print(tabulate(tab, headers='firstrow', colalign=['center','center','center','left']))"
   ]
  },
  {
   "cell_type": "markdown",
   "id": "noted-knowing",
   "metadata": {
    "heading_collapsed": true
   },
   "source": [
    "### Properties that have water view are 50% more expensive.\n",
    "**False:** Properties that have water view are more than 200% more expensive."
   ]
  },
  {
   "cell_type": "code",
   "execution_count": 86,
   "id": "prescribed-uzbekistan",
   "metadata": {
    "ExecuteTime": {
     "end_time": "2021-07-03T17:14:13.469793Z",
     "start_time": "2021-07-03T17:14:13.457781Z"
    },
    "hidden": true
   },
   "outputs": [
    {
     "name": "stdout",
     "output_type": "stream",
     "text": [
      "   waterfront  buying_price\n",
      "0           0    532,755.38\n",
      "1           1  1,661,876.02\n",
      "\n",
      "Properties that have water view are 211.94 % more expensive\n"
     ]
    }
   ],
   "source": [
    "a = df42[['waterfront', 'buying_price']].groupby('waterfront').mean().reset_index()\n",
    "print(a)\n",
    "\n",
    "hasnot_waterfront = a.iloc[0,1]\n",
    "has_waterfront = a.iloc[1,1]\n",
    "\n",
    "percentage = abs( ((has_waterfront - hasnot_waterfront) / hasnot_waterfront)*100 )\n",
    "print('\\nProperties that have water view are', '{:,.2f}'.format(percentage),'% more expensive')"
   ]
  },
  {
   "cell_type": "markdown",
   "id": "prerequisite-therapist",
   "metadata": {
    "heading_collapsed": true
   },
   "source": [
    "### Properties with basements have higher grade.\n",
    "**True:** Properties with basements have a *slightly* lower grade."
   ]
  },
  {
   "cell_type": "code",
   "execution_count": 87,
   "id": "pretty-legislature",
   "metadata": {
    "ExecuteTime": {
     "end_time": "2021-07-03T17:14:13.958236Z",
     "start_time": "2021-07-03T17:14:13.784078Z"
    },
    "cell_style": "split",
    "code_folding": [],
    "hidden": true
   },
   "outputs": [
    {
     "data": {
      "image/png": "[encoded data removed]",
      "text/plain": [
       "<Figure size 1440x1080 with 1 Axes>"
      ]
     },
     "metadata": {},
     "output_type": "display_data"
    }
   ],
   "source": [
    "# properties with basement\n",
    "\n",
    "a = df42[df42['sqft_basement']!=0][['id', 'grade', 'sqft_basement']].copy()\n",
    "#print(a.head(), '\\n')\n",
    "#print(a.shape)\n",
    "\n",
    "has_basement = a[['id','grade']].groupby('grade').count().reset_index()\n",
    "plt.bar(has_basement['grade'], has_basement['id'])\n",
    "plt.rcParams['figure.figsize'] = (10,8)"
   ]
  },
  {
   "cell_type": "code",
   "execution_count": 88,
   "id": "minimal-creature",
   "metadata": {
    "ExecuteTime": {
     "end_time": "2021-07-03T17:14:14.118382Z",
     "start_time": "2021-07-03T17:14:13.982258Z"
    },
    "cell_style": "split",
    "code_folding": [],
    "hidden": true
   },
   "outputs": [
    {
     "data": {
      "image/png": "[encoded data removed]",
      "text/plain": [
       "<Figure size 720x576 with 1 Axes>"
      ]
     },
     "metadata": {},
     "output_type": "display_data"
    }
   ],
   "source": [
    "# properties without basement\n",
    "\n",
    "a = df42[df42['sqft_basement']==0][['id', 'grade', 'sqft_basement']].copy()\n",
    "#print(a.head(), '\\n')\n",
    "#print(a.shape)\n",
    "\n",
    "hasnot_basement = a[['id','grade']].groupby('grade').count().reset_index()\n",
    "plt.bar(hasnot_basement['grade'], hasnot_basement['id'])\n",
    "plt.rcParams['figure.figsize'] = (10,8)"
   ]
  },
  {
   "cell_type": "code",
   "execution_count": 89,
   "id": "whole-national",
   "metadata": {
    "ExecuteTime": {
     "end_time": "2021-07-03T17:14:14.165425Z",
     "start_time": "2021-07-03T17:14:14.159420Z"
    },
    "code_folding": [],
    "hidden": true
   },
   "outputs": [
    {
     "name": "stdout",
     "output_type": "stream",
     "text": [
      "Weighted average grade for properties with basement: 7.73\n",
      "Weighted average grade for properties without basement: 7.61\n",
      "\n",
      "Small difference, not relevant.\n"
     ]
    }
   ],
   "source": [
    "# weighted average grade\n",
    "w_avg_has = np.average(np.array(has_basement['grade']), weights=np.array(has_basement['id']))\n",
    "print('Weighted average grade for properties with basement: {:,.2f}'.format(w_avg_has))\n",
    "\n",
    "w_avg_hasnot = np.average(np.array(hasnot_basement['grade']), weights=np.array(hasnot_basement['id']))\n",
    "print('Weighted average grade for properties without basement: {:,.2f}'.format(w_avg_hasnot))\n",
    "\n",
    "print('\\nSmall difference, not relevant.')"
   ]
  },
  {
   "cell_type": "markdown",
   "id": "institutional-triumph",
   "metadata": {
    "heading_collapsed": true
   },
   "source": [
    "### Properties with basements have bigger interior living space.\n",
    "**True:** Properties with basement have bigger interior living space on average."
   ]
  },
  {
   "cell_type": "code",
   "execution_count": 90,
   "id": "federal-peninsula",
   "metadata": {
    "ExecuteTime": {
     "end_time": "2021-07-03T17:14:14.531759Z",
     "start_time": "2021-07-03T17:14:14.520748Z"
    },
    "cell_style": "split",
    "hidden": true
   },
   "outputs": [
    {
     "data": {
      "text/plain": [
       "sqft_living   2,313.47\n",
       "dtype: float64"
      ]
     },
     "execution_count": 90,
     "metadata": {},
     "output_type": "execute_result"
    }
   ],
   "source": [
    "has_basement = df42[df42['sqft_basement']!=0][['sqft_living']].mean()\n",
    "has_basement"
   ]
  },
  {
   "cell_type": "code",
   "execution_count": 91,
   "id": "proprietary-ceramic",
   "metadata": {
    "ExecuteTime": {
     "end_time": "2021-07-03T17:14:14.723934Z",
     "start_time": "2021-07-03T17:14:14.703915Z"
    },
    "cell_style": "split",
    "hidden": true
   },
   "outputs": [
    {
     "data": {
      "text/plain": [
       "sqft_living   1,929.10\n",
       "dtype: float64"
      ]
     },
     "execution_count": 91,
     "metadata": {},
     "output_type": "execute_result"
    }
   ],
   "source": [
    "hasnot_basement = df42[df42['sqft_basement']==0][['sqft_living']].mean()\n",
    "hasnot_basement"
   ]
  },
  {
   "cell_type": "markdown",
   "id": "pointed-desire",
   "metadata": {
    "heading_collapsed": true
   },
   "source": [
    "### Properties with basements are 15% more expensive.\n",
    "**False:** Properties with basement are 27.84 % more expensive."
   ]
  },
  {
   "cell_type": "code",
   "execution_count": 92,
   "id": "guided-cradle",
   "metadata": {
    "ExecuteTime": {
     "end_time": "2021-07-03T17:14:15.135308Z",
     "start_time": "2021-07-03T17:14:15.107282Z"
    },
    "cell_style": "center",
    "hidden": true
   },
   "outputs": [
    {
     "name": "stdout",
     "output_type": "stream",
     "text": [
      "Average price of properties with basement: 623,736.19\n",
      "Average price of properties without basement: 487,920.05\n",
      "Properties with basement are 27.84 % more expensive.\n"
     ]
    }
   ],
   "source": [
    "has_basement = df42[df42['sqft_basement']!=0][['buying_price']].mean()[0]\n",
    "print('Average price of properties with basement: {:,.2f}'.format(has_basement))\n",
    "\n",
    "hasnot_basement = df42[df42['sqft_basement']==0][['buying_price']].mean()[0]\n",
    "print('Average price of properties without basement: {:,.2f}'.format(hasnot_basement))\n",
    "\n",
    "percentage = abs( ((has_basement - hasnot_basement) / hasnot_basement)*100 )\n",
    "print('Properties with basement are', '{:,.2f}'.format(percentage),'% more expensive.')"
   ]
  },
  {
   "cell_type": "markdown",
   "id": "agreed-leather",
   "metadata": {
    "heading_collapsed": true
   },
   "source": [
    "### Properties built with basements decreased over the years.\n",
    "**True:** Properties built with basements decreased after the 80s."
   ]
  },
  {
   "cell_type": "code",
   "execution_count": 93,
   "id": "coated-notification",
   "metadata": {
    "ExecuteTime": {
     "end_time": "2021-07-03T17:14:15.518657Z",
     "start_time": "2021-07-03T17:14:15.503643Z"
    },
    "cell_style": "split",
    "hidden": true,
    "scrolled": false
   },
   "outputs": [
    {
     "data": {
      "text/html": [
       "<div>\n",
       "<style scoped>\n",
       "    .dataframe tbody tr th:only-of-type {\n",
       "        vertical-align: middle;\n",
       "    }\n",
       "\n",
       "    .dataframe tbody tr th {\n",
       "        vertical-align: top;\n",
       "    }\n",
       "\n",
       "    .dataframe thead th {\n",
       "        text-align: right;\n",
       "    }\n",
       "</style>\n",
       "<table border=\"1\" class=\"dataframe\">\n",
       "  <thead>\n",
       "    <tr style=\"text-align: right;\">\n",
       "      <th></th>\n",
       "      <th>yr_built</th>\n",
       "      <th>id</th>\n",
       "    </tr>\n",
       "  </thead>\n",
       "  <tbody>\n",
       "    <tr>\n",
       "      <th>0</th>\n",
       "      <td>1900</td>\n",
       "      <td>87</td>\n",
       "    </tr>\n",
       "    <tr>\n",
       "      <th>1</th>\n",
       "      <td>1901</td>\n",
       "      <td>29</td>\n",
       "    </tr>\n",
       "    <tr>\n",
       "      <th>2</th>\n",
       "      <td>1902</td>\n",
       "      <td>27</td>\n",
       "    </tr>\n",
       "    <tr>\n",
       "      <th>3</th>\n",
       "      <td>1903</td>\n",
       "      <td>46</td>\n",
       "    </tr>\n",
       "    <tr>\n",
       "      <th>4</th>\n",
       "      <td>1904</td>\n",
       "      <td>45</td>\n",
       "    </tr>\n",
       "  </tbody>\n",
       "</table>\n",
       "</div>"
      ],
      "text/plain": [
       "   yr_built  id\n",
       "0      1900  87\n",
       "1      1901  29\n",
       "2      1902  27\n",
       "3      1903  46\n",
       "4      1904  45"
      ]
     },
     "execution_count": 93,
     "metadata": {},
     "output_type": "execute_result"
    }
   ],
   "source": [
    "p = df42[['id', 'yr_built']].groupby('yr_built').count().reset_index() \n",
    "p.head() # number of properties"
   ]
  },
  {
   "cell_type": "code",
   "execution_count": 94,
   "id": "handy-agent",
   "metadata": {
    "ExecuteTime": {
     "end_time": "2021-07-03T17:14:15.691814Z",
     "start_time": "2021-07-03T17:14:15.678802Z"
    },
    "cell_style": "split",
    "hidden": true
   },
   "outputs": [
    {
     "data": {
      "text/html": [
       "<div>\n",
       "<style scoped>\n",
       "    .dataframe tbody tr th:only-of-type {\n",
       "        vertical-align: middle;\n",
       "    }\n",
       "\n",
       "    .dataframe tbody tr th {\n",
       "        vertical-align: top;\n",
       "    }\n",
       "\n",
       "    .dataframe thead th {\n",
       "        text-align: right;\n",
       "    }\n",
       "</style>\n",
       "<table border=\"1\" class=\"dataframe\">\n",
       "  <thead>\n",
       "    <tr style=\"text-align: right;\">\n",
       "      <th></th>\n",
       "      <th>yr_built</th>\n",
       "      <th>sqft_basement</th>\n",
       "    </tr>\n",
       "  </thead>\n",
       "  <tbody>\n",
       "    <tr>\n",
       "      <th>0</th>\n",
       "      <td>1900</td>\n",
       "      <td>29</td>\n",
       "    </tr>\n",
       "    <tr>\n",
       "      <th>1</th>\n",
       "      <td>1901</td>\n",
       "      <td>11</td>\n",
       "    </tr>\n",
       "    <tr>\n",
       "      <th>2</th>\n",
       "      <td>1902</td>\n",
       "      <td>5</td>\n",
       "    </tr>\n",
       "    <tr>\n",
       "      <th>3</th>\n",
       "      <td>1903</td>\n",
       "      <td>10</td>\n",
       "    </tr>\n",
       "    <tr>\n",
       "      <th>4</th>\n",
       "      <td>1904</td>\n",
       "      <td>21</td>\n",
       "    </tr>\n",
       "  </tbody>\n",
       "</table>\n",
       "</div>"
      ],
      "text/plain": [
       "   yr_built  sqft_basement\n",
       "0      1900             29\n",
       "1      1901             11\n",
       "2      1902              5\n",
       "3      1903             10\n",
       "4      1904             21"
      ]
     },
     "execution_count": 94,
     "metadata": {},
     "output_type": "execute_result"
    }
   ],
   "source": [
    "b = df42[df42['sqft_basement']!=0][['sqft_basement','yr_built']].groupby('yr_built').count().reset_index()\n",
    "b.head() # properties with basement"
   ]
  },
  {
   "cell_type": "code",
   "execution_count": 95,
   "id": "planned-boxing",
   "metadata": {
    "ExecuteTime": {
     "end_time": "2021-07-03T17:14:15.882988Z",
     "start_time": "2021-07-03T17:14:15.873980Z"
    },
    "hidden": true
   },
   "outputs": [
    {
     "data": {
      "text/html": [
       "<div>\n",
       "<style scoped>\n",
       "    .dataframe tbody tr th:only-of-type {\n",
       "        vertical-align: middle;\n",
       "    }\n",
       "\n",
       "    .dataframe tbody tr th {\n",
       "        vertical-align: top;\n",
       "    }\n",
       "\n",
       "    .dataframe thead th {\n",
       "        text-align: right;\n",
       "    }\n",
       "</style>\n",
       "<table border=\"1\" class=\"dataframe\">\n",
       "  <thead>\n",
       "    <tr style=\"text-align: right;\">\n",
       "      <th></th>\n",
       "      <th>yr_built</th>\n",
       "      <th>properties</th>\n",
       "      <th>has_b</th>\n",
       "      <th>hasnot_b</th>\n",
       "    </tr>\n",
       "  </thead>\n",
       "  <tbody>\n",
       "    <tr>\n",
       "      <th>114</th>\n",
       "      <td>2014</td>\n",
       "      <td>559</td>\n",
       "      <td>149</td>\n",
       "      <td>410</td>\n",
       "    </tr>\n",
       "  </tbody>\n",
       "</table>\n",
       "</div>"
      ],
      "text/plain": [
       "     yr_built  properties  has_b  hasnot_b\n",
       "114      2014         559    149       410"
      ]
     },
     "execution_count": 95,
     "metadata": {},
     "output_type": "execute_result"
    }
   ],
   "source": [
    "comparision = pd.merge(p, b, on='yr_built', how='left').rename(columns={'id': 'properties', 'sqft_basement': 'has_b'})\n",
    "comparision['hasnot_b'] = comparision['properties'] - comparision['has_b']\n",
    "comparision.sample()"
   ]
  },
  {
   "cell_type": "code",
   "execution_count": 96,
   "id": "industrial-visiting",
   "metadata": {
    "ExecuteTime": {
     "end_time": "2021-07-03T17:14:16.250322Z",
     "start_time": "2021-07-03T17:14:16.063152Z"
    },
    "hidden": true
   },
   "outputs": [
    {
     "data": {
      "image/png": "[encoded data removed]",
      "text/plain": [
       "<Figure size 720x576 with 1 Axes>"
      ]
     },
     "metadata": {},
     "output_type": "display_data"
    }
   ],
   "source": [
    "plt.plot(comparision['yr_built'], comparision['has_b'], color='blue', marker='x', label='has basement')\n",
    "plt.plot(comparision['yr_built'], comparision['hasnot_b'], color='orange', label='has not basement')\n",
    "plt.legend()\n",
    "plt.show()"
   ]
  },
  {
   "cell_type": "markdown",
   "id": "alternate-syracuse",
   "metadata": {
    "heading_collapsed": true
   },
   "source": [
    "### Properties with 1 to 2 bathrooms are 20% more expensive than those with up to 1 bathroom.\n",
    "**False:** Properties with 1 to 2 bathrooms are 67.55 % more expensive than those with up to 1 bathroom."
   ]
  },
  {
   "cell_type": "code",
   "execution_count": 97,
   "id": "durable-reference",
   "metadata": {
    "ExecuteTime": {
     "end_time": "2021-07-03T17:14:16.474526Z",
     "start_time": "2021-07-03T17:14:16.450504Z"
    },
    "hidden": true,
    "scrolled": false
   },
   "outputs": [
    {
     "name": "stdout",
     "output_type": "stream",
     "text": [
      "Average price of properties with up to 1 bathroom: 290,641.99\n",
      "Average price of properties with 1 to 2 bathroom: 486,960.05\n",
      "Properties with 1 to 2 bathrooms are 67.55 % more expensive.\n"
     ]
    }
   ],
   "source": [
    "a = df42[['id', 'bathrooms', 'buying_price']].copy()\n",
    "a.head()\n",
    "\n",
    "b = (a.groupby('bathrooms').agg(properties = ('id', 'count'),\n",
    "                                avg_price  = ('buying_price', 'mean'))).reset_index()\n",
    "\n",
    "b1 = b[b['bathrooms']<=1] # up to 1 bathroom\n",
    "b1_mean = b1['avg_price'].mean()\n",
    "print('Average price of properties with up to 1 bathroom: {:,.2f}'.format(b1_mean))\n",
    "\n",
    "b2 = b[(b['bathrooms']>1) & (b['bathrooms']<=2)] # 1 to 2 bathrooms\n",
    "b2_mean = b2['avg_price'].mean()\n",
    "print('Average price of properties with 1 to 2 bathroom: {:,.2f}'.format(b2_mean))\n",
    "\n",
    "percentage = abs( ((b2_mean - b1_mean) / b1_mean)*100 )\n",
    "print('Properties with 1 to 2 bathrooms are', '{:,.2f}'.format(percentage),'% more expensive.')"
   ]
  },
  {
   "cell_type": "markdown",
   "id": "known-experience",
   "metadata": {
    "heading_collapsed": true
   },
   "source": [
    "### Properties with 3 bedrooms are  25% more expensive than those which have 2 bedrooms.\n",
    "**False:** Properties with 3 bedrooms are 16.10% more expensive than those which have 2 bedrooms."
   ]
  },
  {
   "cell_type": "code",
   "execution_count": 98,
   "id": "southern-evanescence",
   "metadata": {
    "ExecuteTime": {
     "end_time": "2021-07-03T17:14:16.869886Z",
     "start_time": "2021-07-03T17:14:16.847866Z"
    },
    "hidden": true
   },
   "outputs": [
    {
     "name": "stdout",
     "output_type": "stream",
     "text": [
      "Average price of properties with 2 bedrooms: 402666.2144927536\n",
      "Average price of properties with 3 bedrooms: 467491.715492671\n",
      "Properties with 3 bedrooms are  16.10 % more expensive than those which have 2 bedrooms.\n"
     ]
    }
   ],
   "source": [
    "a = df42[['id', 'bedrooms', 'buying_price']].copy()\n",
    "a.head()\n",
    "\n",
    "b = (a.groupby('bedrooms').agg(properties = ('id', 'count'),\n",
    "                               avg_price  = ('buying_price', 'mean'))).reset_index()\n",
    "\n",
    "b2 = b.iloc[1,2]\n",
    "b3 = b.iloc[2,2]\n",
    "\n",
    "print('Average price of properties with 2 bedrooms:', b2)\n",
    "print('Average price of properties with 3 bedrooms:', b3)\n",
    "\n",
    "percentage = abs( ((b3 - b2) / b2)*100 )\n",
    "print('Properties with 3 bedrooms are ', '{:,.2f}'.format(percentage),'% more expensive than those which have 2 bedrooms.')"
   ]
  },
  {
   "cell_type": "markdown",
   "id": "color-qatar",
   "metadata": {
    "heading_collapsed": true
   },
   "source": [
    "### Properties with 2 floors are 15% more expensive than those with 1 floor. \n",
    "**False:** Properties with 2 floors are 29.25 % more expensive than those with 1 floor."
   ]
  },
  {
   "cell_type": "code",
   "execution_count": 99,
   "id": "interstate-consortium",
   "metadata": {
    "ExecuteTime": {
     "end_time": "2021-07-03T17:14:17.251233Z",
     "start_time": "2021-07-03T17:14:17.226210Z"
    },
    "hidden": true
   },
   "outputs": [
    {
     "name": "stdout",
     "output_type": "stream",
     "text": [
      "Average price of properties with less than 2 floors: 502,454.56\n",
      "Average price of properties with 2 floors: 649,419.53\n",
      "Properties with 2 floors are 29.25 % more expensive than those with 1 floor.\n"
     ]
    }
   ],
   "source": [
    "a = df42[['id', 'floors', 'buying_price']].copy()\n",
    "a.head()\n",
    "\n",
    "b = (a.groupby('floors').agg(properties = ('id', 'count'),\n",
    "                             avg_price  = ('buying_price', 'mean'))).reset_index()\n",
    "b.head()\n",
    "\n",
    "f1 = b[b['floors']<2] # less than 2 floors\n",
    "f1_mean = f1['avg_price'].mean()\n",
    "print('Average price of properties with less than 2 floors: {:,.2f}'.format(f1_mean))\n",
    "\n",
    "f2= b[b['floors']==2] # with 2 floors\n",
    "f2_mean = f2['avg_price'].mean()\n",
    "print('Average price of properties with 2 floors: {:,.2f}'.format(f2_mean))\n",
    "\n",
    "percentage = abs( ((f2_mean - f1_mean) / f1_mean)*100 )\n",
    "print('Properties with 2 floors are {:,.2f}'.format(percentage),'% more expensive than those with 1 floor.')"
   ]
  },
  {
   "cell_type": "markdown",
   "id": "religious-object",
   "metadata": {
    "heading_collapsed": true
   },
   "source": [
    "### Most properties (+50%) became available during summer/spring.\n",
    "**True:** Almost 60% of the properties became available during summer/spring."
   ]
  },
  {
   "cell_type": "code",
   "execution_count": 100,
   "id": "rational-barcelona",
   "metadata": {
    "ExecuteTime": {
     "end_time": "2021-07-03T17:14:17.804736Z",
     "start_time": "2021-07-03T17:14:17.616566Z"
    },
    "hidden": true
   },
   "outputs": [
    {
     "data": {
      "text/html": [
       "<div>\n",
       "<style scoped>\n",
       "    .dataframe tbody tr th:only-of-type {\n",
       "        vertical-align: middle;\n",
       "    }\n",
       "\n",
       "    .dataframe tbody tr th {\n",
       "        vertical-align: top;\n",
       "    }\n",
       "\n",
       "    .dataframe thead th {\n",
       "        text-align: right;\n",
       "    }\n",
       "</style>\n",
       "<table border=\"1\" class=\"dataframe\">\n",
       "  <thead>\n",
       "    <tr style=\"text-align: right;\">\n",
       "      <th></th>\n",
       "      <th>SS_AW</th>\n",
       "      <th>id</th>\n",
       "      <th>cumultive_%</th>\n",
       "    </tr>\n",
       "  </thead>\n",
       "  <tbody>\n",
       "    <tr>\n",
       "      <th>0</th>\n",
       "      <td>SS</td>\n",
       "      <td>12916</td>\n",
       "      <td>59.80</td>\n",
       "    </tr>\n",
       "    <tr>\n",
       "      <th>1</th>\n",
       "      <td>AW</td>\n",
       "      <td>8682</td>\n",
       "      <td>100.00</td>\n",
       "    </tr>\n",
       "  </tbody>\n",
       "</table>\n",
       "</div>"
      ],
      "text/plain": [
       "  SS_AW     id  cumultive_%\n",
       "0    SS  12916        59.80\n",
       "1    AW   8682       100.00"
      ]
     },
     "execution_count": 100,
     "metadata": {},
     "output_type": "execute_result"
    }
   ],
   "source": [
    "a = df42[['season', 'id']].copy()\n",
    "\n",
    "a['SS_AW'] = a.apply(lambda x: 'SS' if x['season']=='summer' \n",
    "                          else 'SS' if x['season']=='spring' \n",
    "                          else 'AW', axis=1)\n",
    "\n",
    "\n",
    "b = a[['SS_AW', 'id']].groupby('SS_AW').count().sort_values('id', ascending=False).reset_index()\n",
    "b['cumultive_%'] = b['id'].cumsum()/b['id'].sum()*100\n",
    "b.head()"
   ]
  },
  {
   "cell_type": "markdown",
   "id": "wanted-cylinder",
   "metadata": {
    "heading_collapsed": true
   },
   "source": [
    "### Properties available during summer/spring are 20% more expensive.\n",
    "**False:** Properties available during summer/spring are 4,5% more expensive."
   ]
  },
  {
   "cell_type": "code",
   "execution_count": 101,
   "id": "boring-crossing",
   "metadata": {
    "ExecuteTime": {
     "end_time": "2021-07-03T17:14:18.185082Z",
     "start_time": "2021-07-03T17:14:18.010924Z"
    },
    "hidden": true
   },
   "outputs": [
    {
     "name": "stdout",
     "output_type": "stream",
     "text": [
      "Properties with available during Summer/Spring are 4.50 % more expensive.\n"
     ]
    },
    {
     "data": {
      "text/html": [
       "<div>\n",
       "<style scoped>\n",
       "    .dataframe tbody tr th:only-of-type {\n",
       "        vertical-align: middle;\n",
       "    }\n",
       "\n",
       "    .dataframe tbody tr th {\n",
       "        vertical-align: top;\n",
       "    }\n",
       "\n",
       "    .dataframe thead th {\n",
       "        text-align: right;\n",
       "    }\n",
       "</style>\n",
       "<table border=\"1\" class=\"dataframe\">\n",
       "  <thead>\n",
       "    <tr style=\"text-align: right;\">\n",
       "      <th></th>\n",
       "      <th>SS_AW</th>\n",
       "      <th>properties</th>\n",
       "      <th>price_min</th>\n",
       "      <th>price_max</th>\n",
       "      <th>price_median</th>\n",
       "      <th>price_mean</th>\n",
       "    </tr>\n",
       "  </thead>\n",
       "  <tbody>\n",
       "    <tr>\n",
       "      <th>0</th>\n",
       "      <td>SS</td>\n",
       "      <td>12916</td>\n",
       "      <td>78,000.00</td>\n",
       "      <td>7,062,500.00</td>\n",
       "      <td>462,604.00</td>\n",
       "      <td>550,812.02</td>\n",
       "    </tr>\n",
       "    <tr>\n",
       "      <th>1</th>\n",
       "      <td>AW</td>\n",
       "      <td>8682</td>\n",
       "      <td>75,000.00</td>\n",
       "      <td>7,700,000.00</td>\n",
       "      <td>437,609.00</td>\n",
       "      <td>527,091.59</td>\n",
       "    </tr>\n",
       "  </tbody>\n",
       "</table>\n",
       "</div>"
      ],
      "text/plain": [
       "  SS_AW  properties  price_min    price_max  price_median  price_mean\n",
       "0    SS       12916  78,000.00 7,062,500.00    462,604.00  550,812.02\n",
       "1    AW        8682  75,000.00 7,700,000.00    437,609.00  527,091.59"
      ]
     },
     "execution_count": 101,
     "metadata": {},
     "output_type": "execute_result"
    }
   ],
   "source": [
    "a = df42[['id', 'season', 'buying_price']].copy()\n",
    "\n",
    "a['SS_AW'] = a.apply(lambda x: 'SS' if x['season']=='summer' \n",
    "                          else 'SS' if x['season']=='spring' \n",
    "                          else 'AW', axis=1)\n",
    "\n",
    "b = (a.groupby('SS_AW').agg(properties   = ('id', 'count'),\n",
    "                            price_min    = ('buying_price', 'min'),\n",
    "                            price_max    = ('buying_price', 'max'),\n",
    "                            price_median = ('buying_price', 'median'),\n",
    "                            price_mean   = ('buying_price', 'mean')) ).sort_values('price_mean', ascending=False).reset_index()\n",
    "\n",
    "SS_mean = b.iloc[0,5]\n",
    "AW_mean = b.iloc[1,5]\n",
    "\n",
    "percentage = abs( ((SS_mean - AW_mean) / AW_mean)*100 )\n",
    "print('Properties with available during Summer/Spring are', '{:,.2f}'.format(percentage),'% more expensive.')\n",
    "\n",
    "b.head()"
   ]
  },
  {
   "cell_type": "markdown",
   "id": "pharmaceutical-wings",
   "metadata": {
    "heading_collapsed": true
   },
   "source": [
    "### Most properties (+50%) are localized in a 15km radius from the lake.\n",
    "**True:** 50% of the properties are localized in a 15km radius from the lake."
   ]
  },
  {
   "cell_type": "code",
   "execution_count": 102,
   "id": "written-fireplace",
   "metadata": {
    "ExecuteTime": {
     "end_time": "2021-07-03T17:14:18.439314Z",
     "start_time": "2021-07-03T17:14:18.410288Z"
    },
    "hidden": true
   },
   "outputs": [
    {
     "data": {
      "text/html": [
       "<div>\n",
       "<style scoped>\n",
       "    .dataframe tbody tr th:only-of-type {\n",
       "        vertical-align: middle;\n",
       "    }\n",
       "\n",
       "    .dataframe tbody tr th {\n",
       "        vertical-align: top;\n",
       "    }\n",
       "\n",
       "    .dataframe thead th {\n",
       "        text-align: right;\n",
       "    }\n",
       "</style>\n",
       "<table border=\"1\" class=\"dataframe\">\n",
       "  <thead>\n",
       "    <tr style=\"text-align: right;\">\n",
       "      <th></th>\n",
       "      <th>dist_fromlake_binned</th>\n",
       "      <th>id</th>\n",
       "      <th>cumultive_%</th>\n",
       "    </tr>\n",
       "  </thead>\n",
       "  <tbody>\n",
       "    <tr>\n",
       "      <th>0</th>\n",
       "      <td>(0, 15]</td>\n",
       "      <td>10979</td>\n",
       "      <td>50.83</td>\n",
       "    </tr>\n",
       "    <tr>\n",
       "      <th>1</th>\n",
       "      <td>(15, 30]</td>\n",
       "      <td>6658</td>\n",
       "      <td>81.66</td>\n",
       "    </tr>\n",
       "    <tr>\n",
       "      <th>2</th>\n",
       "      <td>(30, 45]</td>\n",
       "      <td>3692</td>\n",
       "      <td>98.75</td>\n",
       "    </tr>\n",
       "    <tr>\n",
       "      <th>3</th>\n",
       "      <td>(45, 60]</td>\n",
       "      <td>252</td>\n",
       "      <td>99.92</td>\n",
       "    </tr>\n",
       "    <tr>\n",
       "      <th>4</th>\n",
       "      <td>(60, 75]</td>\n",
       "      <td>17</td>\n",
       "      <td>100.00</td>\n",
       "    </tr>\n",
       "  </tbody>\n",
       "</table>\n",
       "</div>"
      ],
      "text/plain": [
       "  dist_fromlake_binned     id  cumultive_%\n",
       "0              (0, 15]  10979        50.83\n",
       "1             (15, 30]   6658        81.66\n",
       "2             (30, 45]   3692        98.75\n",
       "3             (45, 60]    252        99.92\n",
       "4             (60, 75]     17       100.00"
      ]
     },
     "execution_count": 102,
     "metadata": {},
     "output_type": "execute_result"
    }
   ],
   "source": [
    "a = df4[['id', 'dist_fromlake']].copy()\n",
    "\n",
    "bin_groups = list(np.arange(0,90,15)) # maximum dist =~ 71\n",
    "a['dist_fromlake_binned'] = pd.cut(a['dist_fromlake'], bins=bin_groups)\n",
    "\n",
    "b = a[['dist_fromlake_binned', 'id']].groupby('dist_fromlake_binned').count().sort_values('id', ascending=False).reset_index()\n",
    "\n",
    "b['cumultive_%'] = b['id'].cumsum()/b['id'].sum()*100\n",
    "\n",
    "b.head()"
   ]
  },
  {
   "cell_type": "markdown",
   "id": "fuzzy-illustration",
   "metadata": {
    "heading_collapsed": true
   },
   "source": [
    "### Most of properties (+50%) that should be bought are in a 15km radius from the lake.\n",
    "**True:** 50% of properties that should be bought are in a 15km radius from the lake."
   ]
  },
  {
   "cell_type": "code",
   "execution_count": 103,
   "id": "daily-baker",
   "metadata": {
    "ExecuteTime": {
     "end_time": "2021-07-03T17:14:18.820661Z",
     "start_time": "2021-07-03T17:14:18.800643Z"
    },
    "hidden": true
   },
   "outputs": [
    {
     "data": {
      "text/html": [
       "<div>\n",
       "<style scoped>\n",
       "    .dataframe tbody tr th:only-of-type {\n",
       "        vertical-align: middle;\n",
       "    }\n",
       "\n",
       "    .dataframe tbody tr th {\n",
       "        vertical-align: top;\n",
       "    }\n",
       "\n",
       "    .dataframe thead th {\n",
       "        text-align: right;\n",
       "    }\n",
       "</style>\n",
       "<table border=\"1\" class=\"dataframe\">\n",
       "  <thead>\n",
       "    <tr style=\"text-align: right;\">\n",
       "      <th></th>\n",
       "      <th>dist_fromlake_binned</th>\n",
       "      <th>decision</th>\n",
       "      <th>cumultive_%</th>\n",
       "    </tr>\n",
       "  </thead>\n",
       "  <tbody>\n",
       "    <tr>\n",
       "      <th>0</th>\n",
       "      <td>(0, 15]</td>\n",
       "      <td>6678</td>\n",
       "      <td>50.74</td>\n",
       "    </tr>\n",
       "    <tr>\n",
       "      <th>1</th>\n",
       "      <td>(15, 30]</td>\n",
       "      <td>4107</td>\n",
       "      <td>81.95</td>\n",
       "    </tr>\n",
       "    <tr>\n",
       "      <th>2</th>\n",
       "      <td>(30, 45]</td>\n",
       "      <td>2205</td>\n",
       "      <td>98.71</td>\n",
       "    </tr>\n",
       "    <tr>\n",
       "      <th>3</th>\n",
       "      <td>(45, 60]</td>\n",
       "      <td>155</td>\n",
       "      <td>99.89</td>\n",
       "    </tr>\n",
       "    <tr>\n",
       "      <th>4</th>\n",
       "      <td>(60, 75]</td>\n",
       "      <td>15</td>\n",
       "      <td>100.00</td>\n",
       "    </tr>\n",
       "  </tbody>\n",
       "</table>\n",
       "</div>"
      ],
      "text/plain": [
       "  dist_fromlake_binned  decision  cumultive_%\n",
       "0              (0, 15]      6678        50.74\n",
       "1             (15, 30]      4107        81.95\n",
       "2             (30, 45]      2205        98.71\n",
       "3             (45, 60]       155        99.89\n",
       "4             (60, 75]        15       100.00"
      ]
     },
     "execution_count": 103,
     "metadata": {},
     "output_type": "execute_result"
    }
   ],
   "source": [
    "a = df4[df4['decision']!=0][['id', 'dist_fromlake', 'decision']].copy()\n",
    "\n",
    "bin_groups = list(np.arange(0,90,15)) # maximum dist =~ 71 km\n",
    "a['dist_fromlake_binned'] = pd.cut(a['dist_fromlake'], bins=bin_groups)\n",
    "a.head()\n",
    "\n",
    "b = a[['dist_fromlake_binned', 'decision']].groupby('dist_fromlake_binned').count().sort_values('decision', ascending=False).reset_index()\n",
    "\n",
    "b['cumultive_%']=b['decision'].cumsum()/b['decision'].sum()*100\n",
    "\n",
    "b.head()"
   ]
  },
  {
   "cell_type": "markdown",
   "id": "dressed-fifth",
   "metadata": {
    "heading_collapsed": true
   },
   "source": [
    "### <font color = 'red'> Grafico 80% property zone Properties selected to be bought that are localized in a 15km radius from lake correspond to more than 50% of expected profit.\n",
    "**True:** Properties selected to be bought in a 15km radius from lake correspond to 60% of expected profit."
   ]
  },
  {
   "cell_type": "code",
   "execution_count": 104,
   "id": "elder-mouse",
   "metadata": {
    "ExecuteTime": {
     "end_time": "2021-07-03T17:14:19.228032Z",
     "start_time": "2021-07-03T17:14:19.195001Z"
    },
    "hidden": true
   },
   "outputs": [
    {
     "data": {
      "text/html": [
       "<div>\n",
       "<style scoped>\n",
       "    .dataframe tbody tr th:only-of-type {\n",
       "        vertical-align: middle;\n",
       "    }\n",
       "\n",
       "    .dataframe tbody tr th {\n",
       "        vertical-align: top;\n",
       "    }\n",
       "\n",
       "    .dataframe thead th {\n",
       "        text-align: right;\n",
       "    }\n",
       "</style>\n",
       "<table border=\"1\" class=\"dataframe\">\n",
       "  <thead>\n",
       "    <tr style=\"text-align: right;\">\n",
       "      <th></th>\n",
       "      <th>dist_fromlake_binned</th>\n",
       "      <th>profit_min</th>\n",
       "      <th>profit_max</th>\n",
       "      <th>profit_median</th>\n",
       "      <th>profit_mean</th>\n",
       "      <th>profit_sum</th>\n",
       "      <th>cumulative_%</th>\n",
       "      <th>max_dist</th>\n",
       "    </tr>\n",
       "  </thead>\n",
       "  <tbody>\n",
       "    <tr>\n",
       "      <th>0</th>\n",
       "      <td>(0, 15]</td>\n",
       "      <td>12,500.00</td>\n",
       "      <td>630,000.00</td>\n",
       "      <td>136,500.00</td>\n",
       "      <td>146,257.18</td>\n",
       "      <td>976,705,428.10</td>\n",
       "      <td>60.46</td>\n",
       "      <td>15</td>\n",
       "    </tr>\n",
       "    <tr>\n",
       "      <th>1</th>\n",
       "      <td>(15, 30]</td>\n",
       "      <td>7,800.00</td>\n",
       "      <td>240,000.00</td>\n",
       "      <td>100,050.00</td>\n",
       "      <td>109,632.28</td>\n",
       "      <td>450,259,765.10</td>\n",
       "      <td>88.34</td>\n",
       "      <td>30</td>\n",
       "    </tr>\n",
       "    <tr>\n",
       "      <th>2</th>\n",
       "      <td>(30, 45]</td>\n",
       "      <td>12,000.00</td>\n",
       "      <td>184,950.00</td>\n",
       "      <td>77,550.00</td>\n",
       "      <td>79,719.72</td>\n",
       "      <td>175,781,992.60</td>\n",
       "      <td>99.22</td>\n",
       "      <td>45</td>\n",
       "    </tr>\n",
       "    <tr>\n",
       "      <th>3</th>\n",
       "      <td>(45, 60]</td>\n",
       "      <td>22,500.00</td>\n",
       "      <td>132,000.00</td>\n",
       "      <td>74,100.00</td>\n",
       "      <td>75,140.72</td>\n",
       "      <td>11,646,811.50</td>\n",
       "      <td>99.94</td>\n",
       "      <td>60</td>\n",
       "    </tr>\n",
       "    <tr>\n",
       "      <th>4</th>\n",
       "      <td>(60, 75]</td>\n",
       "      <td>40,200.00</td>\n",
       "      <td>124,500.00</td>\n",
       "      <td>50,100.00</td>\n",
       "      <td>66,540.00</td>\n",
       "      <td>998,100.00</td>\n",
       "      <td>100.00</td>\n",
       "      <td>75</td>\n",
       "    </tr>\n",
       "  </tbody>\n",
       "</table>\n",
       "</div>"
      ],
      "text/plain": [
       "  dist_fromlake_binned  profit_min  profit_max  profit_median  profit_mean     profit_sum  cumulative_%  max_dist\n",
       "0              (0, 15]   12,500.00  630,000.00     136,500.00   146,257.18 976,705,428.10         60.46        15\n",
       "1             (15, 30]    7,800.00  240,000.00     100,050.00   109,632.28 450,259,765.10         88.34        30\n",
       "2             (30, 45]   12,000.00  184,950.00      77,550.00    79,719.72 175,781,992.60         99.22        45\n",
       "3             (45, 60]   22,500.00  132,000.00      74,100.00    75,140.72  11,646,811.50         99.94        60\n",
       "4             (60, 75]   40,200.00  124,500.00      50,100.00    66,540.00     998,100.00        100.00        75"
      ]
     },
     "execution_count": 104,
     "metadata": {},
     "output_type": "execute_result"
    }
   ],
   "source": [
    "a = df4[df4['expected_profit']!=0][['id', 'dist_fromlake', 'expected_profit']].copy()\n",
    "\n",
    "bin_groups = list(np.arange(0,90,15)) # maximum dist =~ 71\n",
    "a['dist_fromlake_binned'] = pd.cut(a['dist_fromlake'], bins=bin_groups)\n",
    "a.head()\n",
    "\n",
    "b = ( a[['dist_fromlake_binned', 'expected_profit']].groupby('dist_fromlake_binned')\n",
    "                                                    .agg(profit_min    = ('expected_profit', 'min'),\n",
    "                                                         profit_max    = ('expected_profit', 'max'),\n",
    "                                                         profit_median = ('expected_profit', 'median'),\n",
    "                                                         profit_mean   = ('expected_profit', 'mean'),\n",
    "                                                         profit_sum    = ('expected_profit', 'sum'),) ).reset_index()\n",
    "\n",
    "b['cumulative_%']=b['profit_sum'].cumsum()/b['profit_sum'].sum()*100\n",
    "\n",
    "b['max_dist'] = [15, 30, 45, 60, 75]\n",
    "\n",
    "b.head()"
   ]
  },
  {
   "cell_type": "code",
   "execution_count": 105,
   "id": "experimental-milwaukee",
   "metadata": {
    "ExecuteTime": {
     "end_time": "2021-07-03T17:14:19.593868Z",
     "start_time": "2021-07-03T17:14:19.375165Z"
    },
    "hidden": true
   },
   "outputs": [
    {
     "data": {
      "text/plain": [
       "(0.0, 110.0)"
      ]
     },
     "execution_count": 105,
     "metadata": {},
     "output_type": "execute_result"
    },
    {
     "data": {
      "image/png": "[encoded data removed]",
      "text/plain": [
       "<Figure size 720x576 with 2 Axes>"
      ]
     },
     "metadata": {},
     "output_type": "display_data"
    }
   ],
   "source": [
    "# 80% property zone\n",
    "\n",
    "\n",
    "fig, axes = plt.subplots()\n",
    "ax1 = b.plot(use_index=True, x='max_dist', y='profit_sum',  kind='bar', ax=axes)\n",
    "ax2 = b.plot(use_index=True, x='max_dist', y='cumulative_%', marker='D', color=\"C1\", kind='line', ax=axes, secondary_y=True)\n",
    "ax2.set_ylim([0,110])\n",
    "\n",
    "# fig, axes = plt.subplots()\n",
    "# ax1 = a.plot(use_index=True, x='neighbourhood', y='id',  kind='bar', ax=axes)\n",
    "# ax2 = a.plot(use_index=True, x='neighbourhood', y='cum_percentage', marker='D', color=\"C1\", kind='line', ax=axes, secondary_y=True)\n",
    "# ax2.set_ylim([0,110])"
   ]
  },
  {
   "cell_type": "markdown",
   "id": "quiet-colombia",
   "metadata": {
    "heading_collapsed": true
   },
   "source": [
    "### Properties have bigger interior living space along construction year timeline.\n",
    "**True:** Properties have bigger interior living space along construction year timeline."
   ]
  },
  {
   "cell_type": "code",
   "execution_count": 106,
   "id": "impressed-edgar",
   "metadata": {
    "ExecuteTime": {
     "end_time": "2021-07-03T17:14:19.909155Z",
     "start_time": "2021-07-03T17:14:19.744005Z"
    },
    "hidden": true
   },
   "outputs": [
    {
     "data": {
      "image/png": "[encoded data removed]",
      "text/plain": [
       "<Figure size 720x576 with 1 Axes>"
      ]
     },
     "metadata": {},
     "output_type": "display_data"
    }
   ],
   "source": [
    "a = df42[['sqft_living', 'yr_built']].copy()\n",
    "\n",
    "b = a.groupby('yr_built').mean().reset_index()\n",
    "\n",
    "plt.plot(b['yr_built'], b['sqft_living'])\n",
    "plt.show()"
   ]
  },
  {
   "cell_type": "markdown",
   "id": "amino-bunch",
   "metadata": {
    "heading_collapsed": true
   },
   "source": [
    "### Properties that were not renovated are 40% cheaper.\n",
    "**True:** Properties that were not renovated are 43.17% cheaper."
   ]
  },
  {
   "cell_type": "code",
   "execution_count": 107,
   "id": "lovely-blackjack",
   "metadata": {
    "ExecuteTime": {
     "end_time": "2021-07-03T17:14:20.293505Z",
     "start_time": "2021-07-03T17:14:20.119347Z"
    },
    "hidden": true
   },
   "outputs": [
    {
     "name": "stdout",
     "output_type": "stream",
     "text": [
      "Average price of properties that were not renovated: 531,576.85\n",
      "Average price of properties that were renovated: 761,040.56\n",
      "Properties that were not renovated are 43.17 % cheaper.\n"
     ]
    }
   ],
   "source": [
    "a = df42[['buying_price', 'yr_renovated']].copy()\n",
    "\n",
    "a['was_renovated'] = a.apply(lambda x: 0 if x['yr_renovated']==0 else 1, axis=1)\n",
    "\n",
    "b = a[['was_renovated', 'buying_price']].groupby('was_renovated').mean().reset_index()\n",
    "\n",
    "wasnot_renovated = b.iloc[0,1]\n",
    "was_renovated = b.iloc[1,1]\n",
    "\n",
    "print('Average price of properties that were not renovated: {:,.2f}'.format(wasnot_renovated))\n",
    "print('Average price of properties that were renovated: {:,.2f}'.format(was_renovated))\n",
    "\n",
    "percentage = abs( ((was_renovated - wasnot_renovated) / wasnot_renovated)*100 )\n",
    "print('Properties that were not renovated are {:,.2f}'.format(percentage),'% cheaper.')"
   ]
  },
  {
   "cell_type": "markdown",
   "id": "norwegian-tradition",
   "metadata": {
    "heading_collapsed": true
   },
   "source": [
    "### <font color = 'red'> Delete - Other hypothesis"
   ]
  },
  {
   "cell_type": "code",
   "execution_count": 108,
   "id": "geological-above",
   "metadata": {
    "ExecuteTime": {
     "end_time": "2021-07-03T17:14:21.279558Z",
     "start_time": "2021-07-03T17:14:21.267532Z"
    },
    "hidden": true
   },
   "outputs": [],
   "source": [
    "##  =========== Properties that were built in the last 5 years are cheaper than properties that were renovated in the last 5 years.\n",
    "\n",
    "# print('Dates properties became available')\n",
    "# print('min', df42['date'].min(), '\\nmax', df42['date'].max())\n",
    "\n",
    "# ##\n",
    "\n",
    "# print('Maximum \"yr_renovated\":', df42['yr_renovated'].max(), '\\nMinus 5 years\":', df42['yr_renovated'].max() - 5)\n",
    "# print('\\nMaximum \"yr_built\":', df42['yr_built'].max(), '\\nMinus 5 years\":', df42['yr_built'].max() - 5)\n",
    "\n",
    "# ## \n",
    "\n",
    "# renovated = df42[   (df42['yr_renovated'] >= df42['yr_renovated'].max() - 5) \n",
    "#                   & (df42['yr_renovated'] <  df42['yr_renovated'].max())     ][['id','yr_renovated', 'price']]\n",
    "\n",
    "# built = df42[   (df42['yr_built'] >= df42['yr_built'].max() - 5)\n",
    "#               & (df42['yr_built'] <  df42['yr_built'].max())     ][['id','yr_built', 'price']]\n",
    "\n",
    "# ## \n",
    "\n",
    "# a = ( renovated.groupby('yr_renovated').agg(properties_r = ('id', 'count'),\n",
    "#                                             mean_price_r = ('price', 'mean')).reset_index().rename(columns={'yr_renovated':'year'}) )\n",
    "\n",
    "# a\n",
    "\n",
    "# ## \n",
    "\n",
    "# b = ( built.groupby('yr_built').agg(properties_b = ('id', 'count'),\n",
    "#                                     mean_price_b = ('price', 'mean')).reset_index().rename(columns={'yr_built':'year'}) )\n",
    "\n",
    "# b\n",
    "\n",
    "# ## \n",
    "\n",
    "# c = pd.merge(a, b, on='year', how='left')\n",
    "# c\n",
    "\n",
    "# c['price_diff'] = c['mean_price_r'] - c['mean_price_b']\n",
    "# c\n",
    "\n",
    "# ##\n",
    "\n",
    "# plot(c['year'], c['mean_price_r'])\n",
    "# plot(c['year'], c['mean_price_b'])\n",
    "# plot.show()\n",
    "\n",
    "# ## ==== timeline\n",
    "\n",
    "# a = ( df42[df42['yr_renovated']!=0].groupby('yr_renovated').agg(properties_r = ('id', 'count'),\n",
    "#                                        mean_price_r = ('price', 'mean')).reset_index().rename(columns={'yr_renovated':'year'}) )\n",
    "\n",
    "# b = ( df42.groupby('yr_built').agg(properties_b = ('id', 'count'),\n",
    "#                                    mean_price_b = ('price', 'mean')).reset_index().rename(columns={'yr_built':'year'}) )\n",
    "\n",
    "# c = pd.merge(a, b, on='year', how='left')\n",
    "# c\n",
    "\n",
    "# plot(c['year'], c['mean_price_r'], color='green')\n",
    "# plot(c['year'], c['mean_price_b'])\n",
    "# plot.show()"
   ]
  },
  {
   "cell_type": "markdown",
   "id": "nervous-intermediate",
   "metadata": {
    "heading_collapsed": true
   },
   "source": [
    "## Multivariate Analysis"
   ]
  },
  {
   "cell_type": "code",
   "execution_count": 110,
   "id": "handy-genetics",
   "metadata": {
    "ExecuteTime": {
     "end_time": "2021-07-03T17:21:15.239862Z",
     "start_time": "2021-07-03T17:21:15.221846Z"
    },
    "hidden": true
   },
   "outputs": [],
   "source": [
    "df43=df42.copy()"
   ]
  },
  {
   "cell_type": "markdown",
   "id": "hungry-homeless",
   "metadata": {
    "heading_collapsed": true,
    "hidden": true
   },
   "source": [
    "### Numerical Attributes"
   ]
  },
  {
   "cell_type": "code",
   "execution_count": 123,
   "id": "daily-apparel",
   "metadata": {
    "ExecuteTime": {
     "end_time": "2021-07-03T17:28:51.465356Z",
     "start_time": "2021-07-03T17:28:49.093197Z"
    },
    "cell_style": "center",
    "hidden": true
   },
   "outputs": [
    {
     "data": {
      "image/png": "[encoded data removed]",
      "text/plain": [
       "<Figure size 1296x1296 with 2 Axes>"
      ]
     },
     "metadata": {},
     "output_type": "display_data"
    }
   ],
   "source": [
    "correlation = num_df4.corr(method='pearson')\n",
    "\n",
    "corr_mask = np.triu(correlation)\n",
    "\n",
    "plt.figure(figsize=(18,18))\n",
    "sns.heatmap(correlation, \n",
    "            cmap='YlOrRd', \n",
    "            annot=True, \n",
    "            annot_kws={'fontsize':'small'},\n",
    "            fmt='.1g',\n",
    "            linewidths=0.8, \n",
    "            square=True, \n",
    "            mask=corr_mask);"
   ]
  },
  {
   "cell_type": "raw",
   "id": "perfect-moral",
   "metadata": {
    "ExecuteTime": {
     "end_time": "2021-07-03T17:05:43.001325Z",
     "start_time": "2021-07-03T17:05:42.986312Z"
    },
    "cell_style": "center",
    "hidden": true
   },
   "source": [
    "price\n",
    "0.52 bathrooms\n",
    "0.70 sqft_living\n",
    "0.67 grade\n",
    "0.61 sqft_above\n",
    "0.64 mean_price_zipcode\n",
    "\n",
    "Sqft_living\n",
    "0.70 price\n",
    "0.59 bedrooms\n",
    "0.76 bathrooms\n",
    "0.76 grade\n",
    "0.88 grade\n",
    "-0.57 decision\n",
    "\n",
    "grade\n",
    "0.60 price\n",
    "0.69 bathrooms\n",
    "0.88 sqft_living\n",
    "0.52 floors\n",
    "0.76 grade\n",
    "\n",
    "decision\n",
    "- 0.57 sqft_living\n",
    "- 0.52 sqft_above\n",
    "\n",
    "dist_fromlake\n",
    "- 0.8 zipcode"
   ]
  },
  {
   "cell_type": "code",
   "execution_count": 124,
   "id": "informed-japanese",
   "metadata": {
    "ExecuteTime": {
     "end_time": "2021-07-03T17:29:01.652452Z",
     "start_time": "2021-07-03T17:29:01.625427Z"
    },
    "cell_style": "center",
    "hidden": true,
    "scrolled": false
   },
   "outputs": [
    {
     "data": {
      "text/html": [
       "<div>\n",
       "<style scoped>\n",
       "    .dataframe tbody tr th:only-of-type {\n",
       "        vertical-align: middle;\n",
       "    }\n",
       "\n",
       "    .dataframe tbody tr th {\n",
       "        vertical-align: top;\n",
       "    }\n",
       "\n",
       "    .dataframe thead th {\n",
       "        text-align: right;\n",
       "    }\n",
       "</style>\n",
       "<table border=\"1\" class=\"dataframe\">\n",
       "  <thead>\n",
       "    <tr style=\"text-align: right;\">\n",
       "      <th></th>\n",
       "      <th>id</th>\n",
       "      <th>buying_price</th>\n",
       "      <th>bedrooms</th>\n",
       "      <th>bathrooms</th>\n",
       "      <th>sqft_living</th>\n",
       "      <th>sqft_lot</th>\n",
       "      <th>floors</th>\n",
       "      <th>waterfront</th>\n",
       "      <th>condition</th>\n",
       "      <th>grade</th>\n",
       "      <th>sqft_above</th>\n",
       "      <th>sqft_basement</th>\n",
       "      <th>yr_built</th>\n",
       "      <th>yr_renovated</th>\n",
       "      <th>zipcode</th>\n",
       "      <th>lat</th>\n",
       "      <th>long</th>\n",
       "      <th>dist_fromlake</th>\n",
       "      <th>mean_price_zipcode</th>\n",
       "      <th>decision</th>\n",
       "      <th>selling_price_suggestion</th>\n",
       "      <th>expected_profit</th>\n",
       "      <th>avg_autumn</th>\n",
       "      <th>avg_spring</th>\n",
       "      <th>avg_summer</th>\n",
       "      <th>avg_winter</th>\n",
       "    </tr>\n",
       "  </thead>\n",
       "  <tbody>\n",
       "    <tr>\n",
       "      <th>id</th>\n",
       "      <td></td>\n",
       "      <td></td>\n",
       "      <td></td>\n",
       "      <td></td>\n",
       "      <td></td>\n",
       "      <td></td>\n",
       "      <td></td>\n",
       "      <td></td>\n",
       "      <td></td>\n",
       "      <td></td>\n",
       "      <td></td>\n",
       "      <td></td>\n",
       "      <td></td>\n",
       "      <td></td>\n",
       "      <td></td>\n",
       "      <td></td>\n",
       "      <td></td>\n",
       "      <td></td>\n",
       "      <td></td>\n",
       "      <td></td>\n",
       "      <td></td>\n",
       "      <td></td>\n",
       "      <td></td>\n",
       "      <td></td>\n",
       "      <td></td>\n",
       "      <td></td>\n",
       "    </tr>\n",
       "    <tr>\n",
       "      <th>buying_price</th>\n",
       "      <td></td>\n",
       "      <td></td>\n",
       "      <td></td>\n",
       "      <td>0.52</td>\n",
       "      <td>0.7</td>\n",
       "      <td></td>\n",
       "      <td></td>\n",
       "      <td></td>\n",
       "      <td></td>\n",
       "      <td>0.67</td>\n",
       "      <td>0.6</td>\n",
       "      <td></td>\n",
       "      <td></td>\n",
       "      <td></td>\n",
       "      <td></td>\n",
       "      <td></td>\n",
       "      <td></td>\n",
       "      <td></td>\n",
       "      <td>0.64</td>\n",
       "      <td></td>\n",
       "      <td></td>\n",
       "      <td></td>\n",
       "      <td>0.63</td>\n",
       "      <td>0.63</td>\n",
       "      <td>0.63</td>\n",
       "      <td>0.63</td>\n",
       "    </tr>\n",
       "    <tr>\n",
       "      <th>bedrooms</th>\n",
       "      <td></td>\n",
       "      <td></td>\n",
       "      <td></td>\n",
       "      <td>0.53</td>\n",
       "      <td>0.59</td>\n",
       "      <td></td>\n",
       "      <td></td>\n",
       "      <td></td>\n",
       "      <td></td>\n",
       "      <td></td>\n",
       "      <td></td>\n",
       "      <td></td>\n",
       "      <td></td>\n",
       "      <td></td>\n",
       "      <td></td>\n",
       "      <td></td>\n",
       "      <td></td>\n",
       "      <td></td>\n",
       "      <td></td>\n",
       "      <td></td>\n",
       "      <td></td>\n",
       "      <td></td>\n",
       "      <td></td>\n",
       "      <td></td>\n",
       "      <td></td>\n",
       "      <td></td>\n",
       "    </tr>\n",
       "    <tr>\n",
       "      <th>bathrooms</th>\n",
       "      <td></td>\n",
       "      <td>0.52</td>\n",
       "      <td>0.53</td>\n",
       "      <td></td>\n",
       "      <td>0.76</td>\n",
       "      <td></td>\n",
       "      <td>0.5</td>\n",
       "      <td></td>\n",
       "      <td></td>\n",
       "      <td>0.67</td>\n",
       "      <td>0.69</td>\n",
       "      <td></td>\n",
       "      <td>0.51</td>\n",
       "      <td></td>\n",
       "      <td></td>\n",
       "      <td></td>\n",
       "      <td></td>\n",
       "      <td></td>\n",
       "      <td></td>\n",
       "      <td></td>\n",
       "      <td></td>\n",
       "      <td></td>\n",
       "      <td></td>\n",
       "      <td></td>\n",
       "      <td></td>\n",
       "      <td></td>\n",
       "    </tr>\n",
       "    <tr>\n",
       "      <th>sqft_living</th>\n",
       "      <td></td>\n",
       "      <td>0.7</td>\n",
       "      <td>0.59</td>\n",
       "      <td>0.76</td>\n",
       "      <td></td>\n",
       "      <td></td>\n",
       "      <td></td>\n",
       "      <td></td>\n",
       "      <td></td>\n",
       "      <td>0.76</td>\n",
       "      <td>0.88</td>\n",
       "      <td></td>\n",
       "      <td></td>\n",
       "      <td></td>\n",
       "      <td></td>\n",
       "      <td></td>\n",
       "      <td></td>\n",
       "      <td></td>\n",
       "      <td></td>\n",
       "      <td>-0.57</td>\n",
       "      <td></td>\n",
       "      <td></td>\n",
       "      <td></td>\n",
       "      <td></td>\n",
       "      <td></td>\n",
       "      <td></td>\n",
       "    </tr>\n",
       "    <tr>\n",
       "      <th>sqft_lot</th>\n",
       "      <td></td>\n",
       "      <td></td>\n",
       "      <td></td>\n",
       "      <td></td>\n",
       "      <td></td>\n",
       "      <td></td>\n",
       "      <td></td>\n",
       "      <td></td>\n",
       "      <td></td>\n",
       "      <td></td>\n",
       "      <td></td>\n",
       "      <td></td>\n",
       "      <td></td>\n",
       "      <td></td>\n",
       "      <td></td>\n",
       "      <td></td>\n",
       "      <td></td>\n",
       "      <td></td>\n",
       "      <td></td>\n",
       "      <td></td>\n",
       "      <td></td>\n",
       "      <td></td>\n",
       "      <td></td>\n",
       "      <td></td>\n",
       "      <td></td>\n",
       "      <td></td>\n",
       "    </tr>\n",
       "    <tr>\n",
       "      <th>floors</th>\n",
       "      <td></td>\n",
       "      <td></td>\n",
       "      <td></td>\n",
       "      <td>0.5</td>\n",
       "      <td></td>\n",
       "      <td></td>\n",
       "      <td></td>\n",
       "      <td></td>\n",
       "      <td></td>\n",
       "      <td></td>\n",
       "      <td>0.52</td>\n",
       "      <td></td>\n",
       "      <td></td>\n",
       "      <td></td>\n",
       "      <td></td>\n",
       "      <td></td>\n",
       "      <td></td>\n",
       "      <td></td>\n",
       "      <td></td>\n",
       "      <td></td>\n",
       "      <td></td>\n",
       "      <td></td>\n",
       "      <td></td>\n",
       "      <td></td>\n",
       "      <td></td>\n",
       "      <td></td>\n",
       "    </tr>\n",
       "    <tr>\n",
       "      <th>waterfront</th>\n",
       "      <td></td>\n",
       "      <td></td>\n",
       "      <td></td>\n",
       "      <td></td>\n",
       "      <td></td>\n",
       "      <td></td>\n",
       "      <td></td>\n",
       "      <td></td>\n",
       "      <td></td>\n",
       "      <td></td>\n",
       "      <td></td>\n",
       "      <td></td>\n",
       "      <td></td>\n",
       "      <td></td>\n",
       "      <td></td>\n",
       "      <td></td>\n",
       "      <td></td>\n",
       "      <td></td>\n",
       "      <td></td>\n",
       "      <td></td>\n",
       "      <td></td>\n",
       "      <td></td>\n",
       "      <td></td>\n",
       "      <td></td>\n",
       "      <td></td>\n",
       "      <td></td>\n",
       "    </tr>\n",
       "    <tr>\n",
       "      <th>condition</th>\n",
       "      <td></td>\n",
       "      <td></td>\n",
       "      <td></td>\n",
       "      <td></td>\n",
       "      <td></td>\n",
       "      <td></td>\n",
       "      <td></td>\n",
       "      <td></td>\n",
       "      <td></td>\n",
       "      <td></td>\n",
       "      <td></td>\n",
       "      <td></td>\n",
       "      <td></td>\n",
       "      <td></td>\n",
       "      <td></td>\n",
       "      <td></td>\n",
       "      <td></td>\n",
       "      <td></td>\n",
       "      <td></td>\n",
       "      <td></td>\n",
       "      <td></td>\n",
       "      <td></td>\n",
       "      <td></td>\n",
       "      <td></td>\n",
       "      <td></td>\n",
       "      <td></td>\n",
       "    </tr>\n",
       "    <tr>\n",
       "      <th>grade</th>\n",
       "      <td></td>\n",
       "      <td>0.67</td>\n",
       "      <td></td>\n",
       "      <td>0.67</td>\n",
       "      <td>0.76</td>\n",
       "      <td></td>\n",
       "      <td></td>\n",
       "      <td></td>\n",
       "      <td></td>\n",
       "      <td></td>\n",
       "      <td>0.76</td>\n",
       "      <td></td>\n",
       "      <td></td>\n",
       "      <td></td>\n",
       "      <td></td>\n",
       "      <td></td>\n",
       "      <td></td>\n",
       "      <td></td>\n",
       "      <td></td>\n",
       "      <td></td>\n",
       "      <td></td>\n",
       "      <td></td>\n",
       "      <td></td>\n",
       "      <td></td>\n",
       "      <td></td>\n",
       "      <td></td>\n",
       "    </tr>\n",
       "    <tr>\n",
       "      <th>sqft_above</th>\n",
       "      <td></td>\n",
       "      <td>0.6</td>\n",
       "      <td></td>\n",
       "      <td>0.69</td>\n",
       "      <td>0.88</td>\n",
       "      <td></td>\n",
       "      <td>0.52</td>\n",
       "      <td></td>\n",
       "      <td></td>\n",
       "      <td>0.76</td>\n",
       "      <td></td>\n",
       "      <td></td>\n",
       "      <td></td>\n",
       "      <td></td>\n",
       "      <td></td>\n",
       "      <td></td>\n",
       "      <td></td>\n",
       "      <td></td>\n",
       "      <td></td>\n",
       "      <td>-0.52</td>\n",
       "      <td></td>\n",
       "      <td></td>\n",
       "      <td></td>\n",
       "      <td></td>\n",
       "      <td></td>\n",
       "      <td></td>\n",
       "    </tr>\n",
       "    <tr>\n",
       "      <th>sqft_basement</th>\n",
       "      <td></td>\n",
       "      <td></td>\n",
       "      <td></td>\n",
       "      <td></td>\n",
       "      <td></td>\n",
       "      <td></td>\n",
       "      <td></td>\n",
       "      <td></td>\n",
       "      <td></td>\n",
       "      <td></td>\n",
       "      <td></td>\n",
       "      <td></td>\n",
       "      <td></td>\n",
       "      <td></td>\n",
       "      <td></td>\n",
       "      <td></td>\n",
       "      <td></td>\n",
       "      <td></td>\n",
       "      <td></td>\n",
       "      <td></td>\n",
       "      <td></td>\n",
       "      <td></td>\n",
       "      <td></td>\n",
       "      <td></td>\n",
       "      <td></td>\n",
       "      <td></td>\n",
       "    </tr>\n",
       "    <tr>\n",
       "      <th>yr_built</th>\n",
       "      <td></td>\n",
       "      <td></td>\n",
       "      <td></td>\n",
       "      <td>0.51</td>\n",
       "      <td></td>\n",
       "      <td></td>\n",
       "      <td></td>\n",
       "      <td></td>\n",
       "      <td></td>\n",
       "      <td></td>\n",
       "      <td></td>\n",
       "      <td></td>\n",
       "      <td></td>\n",
       "      <td></td>\n",
       "      <td></td>\n",
       "      <td></td>\n",
       "      <td></td>\n",
       "      <td></td>\n",
       "      <td></td>\n",
       "      <td></td>\n",
       "      <td></td>\n",
       "      <td></td>\n",
       "      <td></td>\n",
       "      <td></td>\n",
       "      <td></td>\n",
       "      <td></td>\n",
       "    </tr>\n",
       "    <tr>\n",
       "      <th>yr_renovated</th>\n",
       "      <td></td>\n",
       "      <td></td>\n",
       "      <td></td>\n",
       "      <td></td>\n",
       "      <td></td>\n",
       "      <td></td>\n",
       "      <td></td>\n",
       "      <td></td>\n",
       "      <td></td>\n",
       "      <td></td>\n",
       "      <td></td>\n",
       "      <td></td>\n",
       "      <td></td>\n",
       "      <td></td>\n",
       "      <td></td>\n",
       "      <td></td>\n",
       "      <td></td>\n",
       "      <td></td>\n",
       "      <td></td>\n",
       "      <td></td>\n",
       "      <td></td>\n",
       "      <td></td>\n",
       "      <td></td>\n",
       "      <td></td>\n",
       "      <td></td>\n",
       "      <td></td>\n",
       "    </tr>\n",
       "    <tr>\n",
       "      <th>zipcode</th>\n",
       "      <td></td>\n",
       "      <td></td>\n",
       "      <td></td>\n",
       "      <td></td>\n",
       "      <td></td>\n",
       "      <td></td>\n",
       "      <td></td>\n",
       "      <td></td>\n",
       "      <td></td>\n",
       "      <td></td>\n",
       "      <td></td>\n",
       "      <td></td>\n",
       "      <td></td>\n",
       "      <td></td>\n",
       "      <td></td>\n",
       "      <td></td>\n",
       "      <td>-0.56</td>\n",
       "      <td></td>\n",
       "      <td></td>\n",
       "      <td></td>\n",
       "      <td></td>\n",
       "      <td></td>\n",
       "      <td></td>\n",
       "      <td></td>\n",
       "      <td></td>\n",
       "      <td></td>\n",
       "    </tr>\n",
       "    <tr>\n",
       "      <th>lat</th>\n",
       "      <td></td>\n",
       "      <td></td>\n",
       "      <td></td>\n",
       "      <td></td>\n",
       "      <td></td>\n",
       "      <td></td>\n",
       "      <td></td>\n",
       "      <td></td>\n",
       "      <td></td>\n",
       "      <td></td>\n",
       "      <td></td>\n",
       "      <td></td>\n",
       "      <td></td>\n",
       "      <td></td>\n",
       "      <td></td>\n",
       "      <td></td>\n",
       "      <td></td>\n",
       "      <td>-0.8</td>\n",
       "      <td></td>\n",
       "      <td></td>\n",
       "      <td></td>\n",
       "      <td></td>\n",
       "      <td></td>\n",
       "      <td></td>\n",
       "      <td></td>\n",
       "      <td></td>\n",
       "    </tr>\n",
       "    <tr>\n",
       "      <th>long</th>\n",
       "      <td></td>\n",
       "      <td></td>\n",
       "      <td></td>\n",
       "      <td></td>\n",
       "      <td></td>\n",
       "      <td></td>\n",
       "      <td></td>\n",
       "      <td></td>\n",
       "      <td></td>\n",
       "      <td></td>\n",
       "      <td></td>\n",
       "      <td></td>\n",
       "      <td></td>\n",
       "      <td></td>\n",
       "      <td>-0.56</td>\n",
       "      <td></td>\n",
       "      <td></td>\n",
       "      <td></td>\n",
       "      <td></td>\n",
       "      <td></td>\n",
       "      <td></td>\n",
       "      <td></td>\n",
       "      <td></td>\n",
       "      <td></td>\n",
       "      <td></td>\n",
       "      <td></td>\n",
       "    </tr>\n",
       "    <tr>\n",
       "      <th>dist_fromlake</th>\n",
       "      <td></td>\n",
       "      <td></td>\n",
       "      <td></td>\n",
       "      <td></td>\n",
       "      <td></td>\n",
       "      <td></td>\n",
       "      <td></td>\n",
       "      <td></td>\n",
       "      <td></td>\n",
       "      <td></td>\n",
       "      <td></td>\n",
       "      <td></td>\n",
       "      <td></td>\n",
       "      <td></td>\n",
       "      <td></td>\n",
       "      <td>-0.8</td>\n",
       "      <td></td>\n",
       "      <td></td>\n",
       "      <td>-0.58</td>\n",
       "      <td></td>\n",
       "      <td></td>\n",
       "      <td></td>\n",
       "      <td>-0.58</td>\n",
       "      <td>-0.57</td>\n",
       "      <td>-0.56</td>\n",
       "      <td>-0.58</td>\n",
       "    </tr>\n",
       "    <tr>\n",
       "      <th>mean_price_zipcode</th>\n",
       "      <td></td>\n",
       "      <td>0.64</td>\n",
       "      <td></td>\n",
       "      <td></td>\n",
       "      <td></td>\n",
       "      <td></td>\n",
       "      <td></td>\n",
       "      <td></td>\n",
       "      <td></td>\n",
       "      <td></td>\n",
       "      <td></td>\n",
       "      <td></td>\n",
       "      <td></td>\n",
       "      <td></td>\n",
       "      <td></td>\n",
       "      <td></td>\n",
       "      <td></td>\n",
       "      <td>-0.58</td>\n",
       "      <td></td>\n",
       "      <td></td>\n",
       "      <td></td>\n",
       "      <td></td>\n",
       "      <td>0.99</td>\n",
       "      <td>0.99</td>\n",
       "      <td>0.99</td>\n",
       "      <td>0.98</td>\n",
       "    </tr>\n",
       "    <tr>\n",
       "      <th>decision</th>\n",
       "      <td></td>\n",
       "      <td></td>\n",
       "      <td></td>\n",
       "      <td></td>\n",
       "      <td>-0.57</td>\n",
       "      <td></td>\n",
       "      <td></td>\n",
       "      <td></td>\n",
       "      <td></td>\n",
       "      <td></td>\n",
       "      <td>-0.52</td>\n",
       "      <td></td>\n",
       "      <td></td>\n",
       "      <td></td>\n",
       "      <td></td>\n",
       "      <td></td>\n",
       "      <td></td>\n",
       "      <td></td>\n",
       "      <td></td>\n",
       "      <td></td>\n",
       "      <td>0.79</td>\n",
       "      <td>0.78</td>\n",
       "      <td></td>\n",
       "      <td></td>\n",
       "      <td></td>\n",
       "      <td></td>\n",
       "    </tr>\n",
       "    <tr>\n",
       "      <th>selling_price_suggestion</th>\n",
       "      <td></td>\n",
       "      <td></td>\n",
       "      <td></td>\n",
       "      <td></td>\n",
       "      <td></td>\n",
       "      <td></td>\n",
       "      <td></td>\n",
       "      <td></td>\n",
       "      <td></td>\n",
       "      <td></td>\n",
       "      <td></td>\n",
       "      <td></td>\n",
       "      <td></td>\n",
       "      <td></td>\n",
       "      <td></td>\n",
       "      <td></td>\n",
       "      <td></td>\n",
       "      <td></td>\n",
       "      <td></td>\n",
       "      <td>0.79</td>\n",
       "      <td></td>\n",
       "      <td>1.0</td>\n",
       "      <td></td>\n",
       "      <td></td>\n",
       "      <td></td>\n",
       "      <td></td>\n",
       "    </tr>\n",
       "    <tr>\n",
       "      <th>expected_profit</th>\n",
       "      <td></td>\n",
       "      <td></td>\n",
       "      <td></td>\n",
       "      <td></td>\n",
       "      <td></td>\n",
       "      <td></td>\n",
       "      <td></td>\n",
       "      <td></td>\n",
       "      <td></td>\n",
       "      <td></td>\n",
       "      <td></td>\n",
       "      <td></td>\n",
       "      <td></td>\n",
       "      <td></td>\n",
       "      <td></td>\n",
       "      <td></td>\n",
       "      <td></td>\n",
       "      <td></td>\n",
       "      <td></td>\n",
       "      <td>0.78</td>\n",
       "      <td>1.0</td>\n",
       "      <td></td>\n",
       "      <td></td>\n",
       "      <td></td>\n",
       "      <td></td>\n",
       "      <td></td>\n",
       "    </tr>\n",
       "    <tr>\n",
       "      <th>avg_autumn</th>\n",
       "      <td></td>\n",
       "      <td>0.63</td>\n",
       "      <td></td>\n",
       "      <td></td>\n",
       "      <td></td>\n",
       "      <td></td>\n",
       "      <td></td>\n",
       "      <td></td>\n",
       "      <td></td>\n",
       "      <td></td>\n",
       "      <td></td>\n",
       "      <td></td>\n",
       "      <td></td>\n",
       "      <td></td>\n",
       "      <td></td>\n",
       "      <td></td>\n",
       "      <td></td>\n",
       "      <td>-0.58</td>\n",
       "      <td>0.99</td>\n",
       "      <td></td>\n",
       "      <td></td>\n",
       "      <td></td>\n",
       "      <td></td>\n",
       "      <td>0.97</td>\n",
       "      <td>0.98</td>\n",
       "      <td>0.97</td>\n",
       "    </tr>\n",
       "    <tr>\n",
       "      <th>avg_spring</th>\n",
       "      <td></td>\n",
       "      <td>0.63</td>\n",
       "      <td></td>\n",
       "      <td></td>\n",
       "      <td></td>\n",
       "      <td></td>\n",
       "      <td></td>\n",
       "      <td></td>\n",
       "      <td></td>\n",
       "      <td></td>\n",
       "      <td></td>\n",
       "      <td></td>\n",
       "      <td></td>\n",
       "      <td></td>\n",
       "      <td></td>\n",
       "      <td></td>\n",
       "      <td></td>\n",
       "      <td>-0.57</td>\n",
       "      <td>0.99</td>\n",
       "      <td></td>\n",
       "      <td></td>\n",
       "      <td></td>\n",
       "      <td>0.97</td>\n",
       "      <td></td>\n",
       "      <td>0.98</td>\n",
       "      <td>0.98</td>\n",
       "    </tr>\n",
       "    <tr>\n",
       "      <th>avg_summer</th>\n",
       "      <td></td>\n",
       "      <td>0.63</td>\n",
       "      <td></td>\n",
       "      <td></td>\n",
       "      <td></td>\n",
       "      <td></td>\n",
       "      <td></td>\n",
       "      <td></td>\n",
       "      <td></td>\n",
       "      <td></td>\n",
       "      <td></td>\n",
       "      <td></td>\n",
       "      <td></td>\n",
       "      <td></td>\n",
       "      <td></td>\n",
       "      <td></td>\n",
       "      <td></td>\n",
       "      <td>-0.56</td>\n",
       "      <td>0.99</td>\n",
       "      <td></td>\n",
       "      <td></td>\n",
       "      <td></td>\n",
       "      <td>0.98</td>\n",
       "      <td>0.98</td>\n",
       "      <td></td>\n",
       "      <td>0.96</td>\n",
       "    </tr>\n",
       "    <tr>\n",
       "      <th>avg_winter</th>\n",
       "      <td></td>\n",
       "      <td>0.63</td>\n",
       "      <td></td>\n",
       "      <td></td>\n",
       "      <td></td>\n",
       "      <td></td>\n",
       "      <td></td>\n",
       "      <td></td>\n",
       "      <td></td>\n",
       "      <td></td>\n",
       "      <td></td>\n",
       "      <td></td>\n",
       "      <td></td>\n",
       "      <td></td>\n",
       "      <td></td>\n",
       "      <td></td>\n",
       "      <td></td>\n",
       "      <td>-0.58</td>\n",
       "      <td>0.98</td>\n",
       "      <td></td>\n",
       "      <td></td>\n",
       "      <td></td>\n",
       "      <td>0.97</td>\n",
       "      <td>0.98</td>\n",
       "      <td>0.96</td>\n",
       "      <td></td>\n",
       "    </tr>\n",
       "  </tbody>\n",
       "</table>\n",
       "</div>"
      ],
      "text/plain": [
       "                         id buying_price bedrooms bathrooms sqft_living sqft_lot floors waterfront condition grade sqft_above sqft_basement yr_built yr_renovated zipcode  lat  long dist_fromlake mean_price_zipcode decision selling_price_suggestion expected_profit avg_autumn avg_spring avg_summer avg_winter\n",
       "id                                                                                                                                                                                                                                                                                                                 \n",
       "buying_price                                           0.52         0.7                                       0.67        0.6                                                                                    0.64                                                         0.63       0.63       0.63       0.63\n",
       "bedrooms                                               0.53        0.59                                                                                                                                                                                                                                            \n",
       "bathrooms                           0.52     0.53                  0.76             0.5                       0.67       0.69                   0.51                                                                                                                                                               \n",
       "sqft_living                          0.7     0.59      0.76                                                   0.76       0.88                                                                                            -0.57                                                                                     \n",
       "sqft_lot                                                                                                                                                                                                                                                                                                           \n",
       "floors                                                  0.5                                                              0.52                                                                                                                                                                                      \n",
       "waterfront                                                                                                                                                                                                                                                                                                         \n",
       "condition                                                                                                                                                                                                                                                                                                          \n",
       "grade                               0.67               0.67        0.76                                                  0.76                                                                                                                                                                                      \n",
       "sqft_above                           0.6               0.69        0.88            0.52                       0.76                                                                                                       -0.52                                                                                     \n",
       "sqft_basement                                                                                                                                                                                                                                                                                                      \n",
       "yr_built                                               0.51                                                                                                                                                                                                                                                        \n",
       "yr_renovated                                                                                                                                                                                                                                                                                                       \n",
       "zipcode                                                                                                                                                                        -0.56                                                                                                                               \n",
       "lat                                                                                                                                                                                           -0.8                                                                                                                 \n",
       "long                                                                                                                                                                -0.56                                                                                                                                          \n",
       "dist_fromlake                                                                                                                                                             -0.8                                  -0.58                                                        -0.58      -0.57      -0.56      -0.58\n",
       "mean_price_zipcode                  0.64                                                                                                                                                     -0.58                                                                            0.99       0.99       0.99       0.98\n",
       "decision                                                          -0.57                                                 -0.52                                                                                                                      0.79            0.78                                            \n",
       "selling_price_suggestion                                                                                                                                                                                                  0.79                                      1.0                                            \n",
       "expected_profit                                                                                                                                                                                                           0.78                      1.0                                                            \n",
       "avg_autumn                          0.63                                                                                                                                                     -0.58               0.99                                                                    0.97       0.98       0.97\n",
       "avg_spring                          0.63                                                                                                                                                     -0.57               0.99                                                         0.97                  0.98       0.98\n",
       "avg_summer                          0.63                                                                                                                                                     -0.56               0.99                                                         0.98       0.98                  0.96\n",
       "avg_winter                          0.63                                                                                                                                                     -0.58               0.98                                                         0.97       0.98       0.96           "
      ]
     },
     "execution_count": 124,
     "metadata": {},
     "output_type": "execute_result"
    }
   ],
   "source": [
    "correlation.where( ((correlation <= -0.5) | (correlation >=0.5 )) & (correlation != 1) , other='')"
   ]
  },
  {
   "cell_type": "markdown",
   "id": "embedded-taylor",
   "metadata": {
    "heading_collapsed": true,
    "hidden": true
   },
   "source": [
    "### Categorical Attributes"
   ]
  },
  {
   "cell_type": "code",
   "execution_count": 126,
   "id": "champion-surgeon",
   "metadata": {
    "ExecuteTime": {
     "end_time": "2021-07-03T17:30:03.652439Z",
     "start_time": "2021-07-03T17:30:03.639427Z"
    },
    "hidden": true
   },
   "outputs": [
    {
     "name": "stdout",
     "output_type": "stream",
     "text": [
      "(21598, 9)\n"
     ]
    },
    {
     "data": {
      "text/html": [
       "<div>\n",
       "<style scoped>\n",
       "    .dataframe tbody tr th:only-of-type {\n",
       "        vertical-align: middle;\n",
       "    }\n",
       "\n",
       "    .dataframe tbody tr th {\n",
       "        vertical-align: top;\n",
       "    }\n",
       "\n",
       "    .dataframe thead th {\n",
       "        text-align: right;\n",
       "    }\n",
       "</style>\n",
       "<table border=\"1\" class=\"dataframe\">\n",
       "  <thead>\n",
       "    <tr style=\"text-align: right;\">\n",
       "      <th></th>\n",
       "      <th>query</th>\n",
       "      <th>road</th>\n",
       "      <th>house_number</th>\n",
       "      <th>neighbourhood</th>\n",
       "      <th>city</th>\n",
       "      <th>county</th>\n",
       "      <th>state</th>\n",
       "      <th>season</th>\n",
       "      <th>season_to_sell</th>\n",
       "    </tr>\n",
       "  </thead>\n",
       "  <tbody>\n",
       "    <tr>\n",
       "      <th>0</th>\n",
       "      <td>47.4635,-121.991</td>\n",
       "      <td>Southeast 154th Street</td>\n",
       "      <td>26069</td>\n",
       "      <td>NaN</td>\n",
       "      <td>NaN</td>\n",
       "      <td>King County</td>\n",
       "      <td>Washington</td>\n",
       "      <td>spring</td>\n",
       "      <td>autumn spring summer winter</td>\n",
       "    </tr>\n",
       "    <tr>\n",
       "      <th>1</th>\n",
       "      <td>47.6833,-122.4</td>\n",
       "      <td>34th Avenue Northwest</td>\n",
       "      <td>7506</td>\n",
       "      <td>Sunset Hill</td>\n",
       "      <td>Seattle</td>\n",
       "      <td>King County</td>\n",
       "      <td>Washington</td>\n",
       "      <td>spring</td>\n",
       "      <td></td>\n",
       "    </tr>\n",
       "    <tr>\n",
       "      <th>2</th>\n",
       "      <td>47.5794,-122.025</td>\n",
       "      <td>Southeast 32nd Way</td>\n",
       "      <td>23601</td>\n",
       "      <td>NaN</td>\n",
       "      <td>NaN</td>\n",
       "      <td>King County</td>\n",
       "      <td>Washington</td>\n",
       "      <td>spring</td>\n",
       "      <td></td>\n",
       "    </tr>\n",
       "    <tr>\n",
       "      <th>3</th>\n",
       "      <td>47.515,-121.87</td>\n",
       "      <td>Southeast Terrace Street</td>\n",
       "      <td>35246</td>\n",
       "      <td>NaN</td>\n",
       "      <td>NaN</td>\n",
       "      <td>King County</td>\n",
       "      <td>Washington</td>\n",
       "      <td>spring</td>\n",
       "      <td>winter</td>\n",
       "    </tr>\n",
       "    <tr>\n",
       "      <th>4</th>\n",
       "      <td>47.5443,-122.177</td>\n",
       "      <td>Southeast 65th Street</td>\n",
       "      <td>12201</td>\n",
       "      <td>NaN</td>\n",
       "      <td>Bellevue</td>\n",
       "      <td>King County</td>\n",
       "      <td>Washington</td>\n",
       "      <td>spring</td>\n",
       "      <td>autumn spring summer winter</td>\n",
       "    </tr>\n",
       "  </tbody>\n",
       "</table>\n",
       "</div>"
      ],
      "text/plain": [
       "              query                      road house_number neighbourhood      city       county       state  season                season_to_sell\n",
       "0  47.4635,-121.991    Southeast 154th Street        26069           NaN       NaN  King County  Washington  spring  autumn spring summer winter \n",
       "1    47.6833,-122.4     34th Avenue Northwest         7506   Sunset Hill   Seattle  King County  Washington  spring                              \n",
       "2  47.5794,-122.025        Southeast 32nd Way        23601           NaN       NaN  King County  Washington  spring                              \n",
       "3    47.515,-121.87  Southeast Terrace Street        35246           NaN       NaN  King County  Washington  spring                       winter \n",
       "4  47.5443,-122.177     Southeast 65th Street        12201           NaN  Bellevue  King County  Washington  spring  autumn spring summer winter "
      ]
     },
     "execution_count": 126,
     "metadata": {},
     "output_type": "execute_result"
    }
   ],
   "source": [
    "print(cat_df4.shape)\n",
    "cat_df4.head()"
   ]
  },
  {
   "cell_type": "markdown",
   "id": "fuzzy-bonus",
   "metadata": {
    "heading_collapsed": true
   },
   "source": [
    "# <font color ='red'>Conclusion and Visualization"
   ]
  },
  {
   "cell_type": "code",
   "execution_count": 296,
   "id": "twelve-invention",
   "metadata": {
    "ExecuteTime": {
     "end_time": "2021-06-18T19:23:55.690292Z",
     "start_time": "2021-06-18T19:23:55.671275Z"
    },
    "hidden": true
   },
   "outputs": [],
   "source": [
    "df5=df43.copy()"
   ]
  },
  {
   "cell_type": "code",
   "execution_count": null,
   "id": "practical-lotus",
   "metadata": {
    "hidden": true
   },
   "outputs": [],
   "source": [
    "# Mainly Insights"
   ]
  },
  {
   "cell_type": "code",
   "execution_count": null,
   "id": "widespread-bullet",
   "metadata": {
    "hidden": true
   },
   "outputs": [],
   "source": [
    "# Decision Dataframe Overview"
   ]
  },
  {
   "cell_type": "code",
   "execution_count": 229,
   "id": "southwest-sherman",
   "metadata": {
    "ExecuteTime": {
     "end_time": "2021-06-15T15:44:24.316859Z",
     "start_time": "2021-06-15T15:44:24.301846Z"
    },
    "hidden": true
   },
   "outputs": [],
   "source": [
    "# Expected Profit Overview"
   ]
  }
 ],
 "metadata": {
  "kernelspec": {
   "display_name": "Python 3",
   "language": "python",
   "name": "python3"
  },
  "language_info": {
   "codemirror_mode": {
    "name": "ipython",
    "version": 3
   },
   "file_extension": ".py",
   "mimetype": "text/x-python",
   "name": "python",
   "nbconvert_exporter": "python",
   "pygments_lexer": "ipython3",
   "version": "3.9.1"
  },
  "toc": {
   "base_numbering": "0",
   "nav_menu": {
    "height": "194px",
    "width": "168px"
   },
   "number_sections": true,
   "sideBar": false,
   "skip_h1_title": false,
   "title_cell": "Table of Contents",
   "title_sidebar": "Contents",
   "toc_cell": false,
   "toc_position": {
    "height": "358.073px",
    "left": "1543.97px",
    "top": "110.052px",
    "width": "402.674px"
   },
   "toc_section_display": false,
   "toc_window_display": true
  }
 },
 "nbformat": 4,
 "nbformat_minor": 5
}
